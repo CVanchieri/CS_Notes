{
  "nbformat": 4,
  "nbformat_minor": 0,
  "metadata": {
    "colab": {
      "name": "SKlearn_Single_Multi_LinearRegression_Notes.ipynb",
      "provenance": [],
      "collapsed_sections": [
        "MCbiZ7J-V55T"
      ]
    },
    "kernelspec": {
      "name": "python3",
      "display_name": "Python 3"
    }
  },
  "cells": [
    {
      "cell_type": "markdown",
      "metadata": {
        "id": "CFM5sl2ef0Cg"
      },
      "source": [
        "## Linear Regression\n"
      ]
    },
    {
      "cell_type": "markdown",
      "metadata": {
        "id": "pHYXNoDvORIF"
      },
      "source": [
        "### Regression\n",
        "#### Regression searches for relationships among variables, you need regression to answer whether and how some phenomenon influences the other or how several variables are related, uses the relationship between the variables x and y to find the best way to draw a line through the data points.\n",
        "\n",
        "#### Pros \n",
        " - very simple to work with \n",
        " - easy to interpret results\n",
        "\n",
        "#### Cons\n",
        " - numerical values only, categorical will not work "
      ]
    },
    {
      "cell_type": "markdown",
      "metadata": {
        "id": "OhRHMqRaQfiG"
      },
      "source": [
        "### Model Set Up\n",
        "\n",
        "#### Steps\n",
        " - load the data\n",
        " - inspect, clean, organize data\n",
        " - check for, handle outliers \n",
        " - encode data if necessary \n",
        " - set features and target \n",
        " - train, test split the data \n",
        " - scale the data if necessary \n",
        " - build the model, fit on the data, run the model\n",
        " - run metrics, analyze, view results, adjust parameters, repeat until satisfied... \n"
      ]
    },
    {
      "cell_type": "markdown",
      "metadata": {
        "id": "3hmqr8qAMLuE"
      },
      "source": [
        "### Regression Models"
      ]
    },
    {
      "cell_type": "markdown",
      "metadata": {
        "id": "a9Z_XK3rO7H6"
      },
      "source": [
        "#### Single-linear Rergression\n",
        " - a straight-line fit to data\n",
        " - simple or single-variate linear regression is the simplest case of linear regression with a single independent variable, 𝐱 = 𝑥\n",
        " - y = ax+b, where a is commonly known as the slope, and b is commonly known as the intercept\n",
        "\n",
        "#### Multi-Linear Regression\n",
        " - a straight-line fit to data\n",
        " - multiple or multivariate linear regression icd s a case of linear regression with two or more independent variables\n"
      ]
    },
    {
      "cell_type": "markdown",
      "metadata": {
        "id": "VUXplGBBRmeD"
      },
      "source": [
        "### Models"
      ]
    },
    {
      "cell_type": "markdown",
      "metadata": {
        "id": "MCbiZ7J-V55T"
      },
      "source": [
        "#### Import + Inspect "
      ]
    },
    {
      "cell_type": "code",
      "metadata": {
        "colab": {
          "base_uri": "https://localhost:8080/",
          "height": 237
        },
        "id": "ThIRPgzSjP1T",
        "outputId": "117693af-e5d1-429a-9695-80864e1cba7e"
      },
      "source": [
        "### imports ###\n",
        "import pandas as pd\n",
        "import numpy as np\n",
        "import sklearn\n",
        "df = pd.read_csv('https://raw.githubusercontent.com/CVanchieri/CS_Notes/main/LRM_Notes/medical_insurance.csv') # read in the file \n",
        "print('data frame shape:', df.shape) \n",
        "df.head() "
      ],
      "execution_count": 70,
      "outputs": [
        {
          "output_type": "stream",
          "text": [
            "data frame shape: (1338, 7)\n"
          ],
          "name": "stdout"
        },
        {
          "output_type": "execute_result",
          "data": {
            "text/html": [
              "<div>\n",
              "<style scoped>\n",
              "    .dataframe tbody tr th:only-of-type {\n",
              "        vertical-align: middle;\n",
              "    }\n",
              "\n",
              "    .dataframe tbody tr th {\n",
              "        vertical-align: top;\n",
              "    }\n",
              "\n",
              "    .dataframe thead th {\n",
              "        text-align: right;\n",
              "    }\n",
              "</style>\n",
              "<table border=\"1\" class=\"dataframe\">\n",
              "  <thead>\n",
              "    <tr style=\"text-align: right;\">\n",
              "      <th></th>\n",
              "      <th>age</th>\n",
              "      <th>sex</th>\n",
              "      <th>bmi</th>\n",
              "      <th>children</th>\n",
              "      <th>smoker</th>\n",
              "      <th>region</th>\n",
              "      <th>charges</th>\n",
              "    </tr>\n",
              "  </thead>\n",
              "  <tbody>\n",
              "    <tr>\n",
              "      <th>0</th>\n",
              "      <td>19</td>\n",
              "      <td>female</td>\n",
              "      <td>27.900</td>\n",
              "      <td>0</td>\n",
              "      <td>yes</td>\n",
              "      <td>southwest</td>\n",
              "      <td>16884.92400</td>\n",
              "    </tr>\n",
              "    <tr>\n",
              "      <th>1</th>\n",
              "      <td>18</td>\n",
              "      <td>male</td>\n",
              "      <td>33.770</td>\n",
              "      <td>1</td>\n",
              "      <td>no</td>\n",
              "      <td>southeast</td>\n",
              "      <td>1725.55230</td>\n",
              "    </tr>\n",
              "    <tr>\n",
              "      <th>2</th>\n",
              "      <td>28</td>\n",
              "      <td>male</td>\n",
              "      <td>33.000</td>\n",
              "      <td>3</td>\n",
              "      <td>no</td>\n",
              "      <td>southeast</td>\n",
              "      <td>4449.46200</td>\n",
              "    </tr>\n",
              "    <tr>\n",
              "      <th>3</th>\n",
              "      <td>33</td>\n",
              "      <td>male</td>\n",
              "      <td>22.705</td>\n",
              "      <td>0</td>\n",
              "      <td>no</td>\n",
              "      <td>northwest</td>\n",
              "      <td>21984.47061</td>\n",
              "    </tr>\n",
              "    <tr>\n",
              "      <th>4</th>\n",
              "      <td>32</td>\n",
              "      <td>male</td>\n",
              "      <td>28.880</td>\n",
              "      <td>0</td>\n",
              "      <td>no</td>\n",
              "      <td>northwest</td>\n",
              "      <td>3866.85520</td>\n",
              "    </tr>\n",
              "  </tbody>\n",
              "</table>\n",
              "</div>"
            ],
            "text/plain": [
              "   age     sex     bmi  children smoker     region      charges\n",
              "0   19  female  27.900         0    yes  southwest  16884.92400\n",
              "1   18    male  33.770         1     no  southeast   1725.55230\n",
              "2   28    male  33.000         3     no  southeast   4449.46200\n",
              "3   33    male  22.705         0     no  northwest  21984.47061\n",
              "4   32    male  28.880         0     no  northwest   3866.85520"
            ]
          },
          "metadata": {
            "tags": []
          },
          "execution_count": 70
        }
      ]
    },
    {
      "cell_type": "code",
      "metadata": {
        "id": "2Z4k1D0uekFE",
        "colab": {
          "base_uri": "https://localhost:8080/",
          "height": 772
        },
        "outputId": "d2d0f123-2514-4586-d9b9-03d25db07e0e"
      },
      "source": [
        "### inspecting the data ###\n",
        "print('--- INSPECTING THE DATA --- ')\n",
        "print('--- columns --- ')\n",
        "print(df.columns) \n",
        "print('--- types --- ')\n",
        "print(df.dtypes) \n",
        "print('--- NA counts --- ')\n",
        "print(df.isna().sum()) \n",
        "print('--- object descriptions --- ')\n",
        "print(df.describe(include=object))\n",
        "print('--- numericals descriptions --- ')\n",
        "df.describe()"
      ],
      "execution_count": 71,
      "outputs": [
        {
          "output_type": "stream",
          "text": [
            "--- INSPECTING THE DATA --- \n",
            "--- columns --- \n",
            "Index(['age', 'sex', 'bmi', 'children', 'smoker', 'region', 'charges'], dtype='object')\n",
            "--- types --- \n",
            "age           int64\n",
            "sex          object\n",
            "bmi         float64\n",
            "children      int64\n",
            "smoker       object\n",
            "region       object\n",
            "charges     float64\n",
            "dtype: object\n",
            "--- NA counts --- \n",
            "age         0\n",
            "sex         0\n",
            "bmi         0\n",
            "children    0\n",
            "smoker      0\n",
            "region      0\n",
            "charges     0\n",
            "dtype: int64\n",
            "--- object descriptions --- \n",
            "         sex smoker     region\n",
            "count   1338   1338       1338\n",
            "unique     2      2          4\n",
            "top     male     no  southeast\n",
            "freq     676   1064        364\n",
            "--- numericals descriptions --- \n"
          ],
          "name": "stdout"
        },
        {
          "output_type": "execute_result",
          "data": {
            "text/html": [
              "<div>\n",
              "<style scoped>\n",
              "    .dataframe tbody tr th:only-of-type {\n",
              "        vertical-align: middle;\n",
              "    }\n",
              "\n",
              "    .dataframe tbody tr th {\n",
              "        vertical-align: top;\n",
              "    }\n",
              "\n",
              "    .dataframe thead th {\n",
              "        text-align: right;\n",
              "    }\n",
              "</style>\n",
              "<table border=\"1\" class=\"dataframe\">\n",
              "  <thead>\n",
              "    <tr style=\"text-align: right;\">\n",
              "      <th></th>\n",
              "      <th>age</th>\n",
              "      <th>bmi</th>\n",
              "      <th>children</th>\n",
              "      <th>charges</th>\n",
              "    </tr>\n",
              "  </thead>\n",
              "  <tbody>\n",
              "    <tr>\n",
              "      <th>count</th>\n",
              "      <td>1338.000000</td>\n",
              "      <td>1338.000000</td>\n",
              "      <td>1338.000000</td>\n",
              "      <td>1338.000000</td>\n",
              "    </tr>\n",
              "    <tr>\n",
              "      <th>mean</th>\n",
              "      <td>39.207025</td>\n",
              "      <td>30.663397</td>\n",
              "      <td>1.094918</td>\n",
              "      <td>13270.422265</td>\n",
              "    </tr>\n",
              "    <tr>\n",
              "      <th>std</th>\n",
              "      <td>14.049960</td>\n",
              "      <td>6.098187</td>\n",
              "      <td>1.205493</td>\n",
              "      <td>12110.011237</td>\n",
              "    </tr>\n",
              "    <tr>\n",
              "      <th>min</th>\n",
              "      <td>18.000000</td>\n",
              "      <td>15.960000</td>\n",
              "      <td>0.000000</td>\n",
              "      <td>1121.873900</td>\n",
              "    </tr>\n",
              "    <tr>\n",
              "      <th>25%</th>\n",
              "      <td>27.000000</td>\n",
              "      <td>26.296250</td>\n",
              "      <td>0.000000</td>\n",
              "      <td>4740.287150</td>\n",
              "    </tr>\n",
              "    <tr>\n",
              "      <th>50%</th>\n",
              "      <td>39.000000</td>\n",
              "      <td>30.400000</td>\n",
              "      <td>1.000000</td>\n",
              "      <td>9382.033000</td>\n",
              "    </tr>\n",
              "    <tr>\n",
              "      <th>75%</th>\n",
              "      <td>51.000000</td>\n",
              "      <td>34.693750</td>\n",
              "      <td>2.000000</td>\n",
              "      <td>16639.912515</td>\n",
              "    </tr>\n",
              "    <tr>\n",
              "      <th>max</th>\n",
              "      <td>64.000000</td>\n",
              "      <td>53.130000</td>\n",
              "      <td>5.000000</td>\n",
              "      <td>63770.428010</td>\n",
              "    </tr>\n",
              "  </tbody>\n",
              "</table>\n",
              "</div>"
            ],
            "text/plain": [
              "               age          bmi     children       charges\n",
              "count  1338.000000  1338.000000  1338.000000   1338.000000\n",
              "mean     39.207025    30.663397     1.094918  13270.422265\n",
              "std      14.049960     6.098187     1.205493  12110.011237\n",
              "min      18.000000    15.960000     0.000000   1121.873900\n",
              "25%      27.000000    26.296250     0.000000   4740.287150\n",
              "50%      39.000000    30.400000     1.000000   9382.033000\n",
              "75%      51.000000    34.693750     2.000000  16639.912515\n",
              "max      64.000000    53.130000     5.000000  63770.428010"
            ]
          },
          "metadata": {
            "tags": []
          },
          "execution_count": 71
        }
      ]
    },
    {
      "cell_type": "code",
      "metadata": {
        "colab": {
          "base_uri": "https://localhost:8080/",
          "height": 207
        },
        "id": "c_GOvh2rVjBm",
        "outputId": "86b654ee-7c26-4e26-a430-a294426e2871"
      },
      "source": [
        "### view basic feature correlations ###\n",
        "print('--- feature correlations ---')\n",
        "df.corr()"
      ],
      "execution_count": 72,
      "outputs": [
        {
          "output_type": "stream",
          "text": [
            "--- feature correlations ---\n"
          ],
          "name": "stdout"
        },
        {
          "output_type": "execute_result",
          "data": {
            "text/html": [
              "<div>\n",
              "<style scoped>\n",
              "    .dataframe tbody tr th:only-of-type {\n",
              "        vertical-align: middle;\n",
              "    }\n",
              "\n",
              "    .dataframe tbody tr th {\n",
              "        vertical-align: top;\n",
              "    }\n",
              "\n",
              "    .dataframe thead th {\n",
              "        text-align: right;\n",
              "    }\n",
              "</style>\n",
              "<table border=\"1\" class=\"dataframe\">\n",
              "  <thead>\n",
              "    <tr style=\"text-align: right;\">\n",
              "      <th></th>\n",
              "      <th>age</th>\n",
              "      <th>bmi</th>\n",
              "      <th>children</th>\n",
              "      <th>charges</th>\n",
              "    </tr>\n",
              "  </thead>\n",
              "  <tbody>\n",
              "    <tr>\n",
              "      <th>age</th>\n",
              "      <td>1.000000</td>\n",
              "      <td>0.109272</td>\n",
              "      <td>0.042469</td>\n",
              "      <td>0.299008</td>\n",
              "    </tr>\n",
              "    <tr>\n",
              "      <th>bmi</th>\n",
              "      <td>0.109272</td>\n",
              "      <td>1.000000</td>\n",
              "      <td>0.012759</td>\n",
              "      <td>0.198341</td>\n",
              "    </tr>\n",
              "    <tr>\n",
              "      <th>children</th>\n",
              "      <td>0.042469</td>\n",
              "      <td>0.012759</td>\n",
              "      <td>1.000000</td>\n",
              "      <td>0.067998</td>\n",
              "    </tr>\n",
              "    <tr>\n",
              "      <th>charges</th>\n",
              "      <td>0.299008</td>\n",
              "      <td>0.198341</td>\n",
              "      <td>0.067998</td>\n",
              "      <td>1.000000</td>\n",
              "    </tr>\n",
              "  </tbody>\n",
              "</table>\n",
              "</div>"
            ],
            "text/plain": [
              "               age       bmi  children   charges\n",
              "age       1.000000  0.109272  0.042469  0.299008\n",
              "bmi       0.109272  1.000000  0.012759  0.198341\n",
              "children  0.042469  0.012759  1.000000  0.067998\n",
              "charges   0.299008  0.198341  0.067998  1.000000"
            ]
          },
          "metadata": {
            "tags": []
          },
          "execution_count": 72
        }
      ]
    },
    {
      "cell_type": "code",
      "metadata": {
        "colab": {
          "base_uri": "https://localhost:8080/",
          "height": 85
        },
        "id": "1RHqwUrdVjKI",
        "outputId": "7821fed1-094a-42c5-9683-9d86604a9cdf"
      },
      "source": [
        "### view basic feature correlations in a heatmap ###\n",
        "import seaborn as sns \n",
        "import matplotlib.pyplot as plt \n",
        "f, ax = plt.subplots(1, 1, figsize = (10, 7))\n",
        "print('--- feature correlations heatmap ---')\n",
        "sns.heatmap(df.corr() , cmap = 'Wistia' , annot = True)"
      ],
      "execution_count": 73,
      "outputs": [
        {
          "output_type": "stream",
          "text": [
            "--- feature correlations heatmap ---\n"
          ],
          "name": "stdout"
        },
        {
          "output_type": "execute_result",
          "data": {
            "text/plain": [
              "<matplotlib.axes._subplots.AxesSubplot at 0x7fd48109dc18>"
            ]
          },
          "metadata": {
            "tags": []
          },
          "execution_count": 73
        },
        {
          "output_type": "display_data",
          "data": {
            "image/png": "[encoded data removed]",
            "text/plain": [
              "<Figure size 720x504 with 2 Axes>"
            ]
          },
          "metadata": {
            "tags": [],
            "needs_background": "light"
          }
        }
      ]
    },
    {
      "cell_type": "code",
      "metadata": {
        "id": "u3zWlAMjVjYC",
        "colab": {
          "base_uri": "https://localhost:8080/",
          "height": 151
        },
        "outputId": "a3dd2705-f94b-4f48-f6ce-35bf1313538e"
      },
      "source": [
        "### view scatter plots for each feature vs. target ###\n",
        "import matplotlib.pyplot as plt \n",
        "target_ = 'charges' # set the target\n",
        "features_ = df.iloc[:, 0:6] # set the features\n",
        "print('--- scatter plots ---')\n",
        "for feature in features_:\n",
        "    figure = plt.figure\n",
        "    f, ax = plt.subplots(1, 1, figsize = (10, 7))\n",
        "    ax = plt.gca()\n",
        "    ax.scatter(df[target_], df[feature])\n",
        "    ax.set_xlabel(target_)\n",
        "    ax.set_ylabel(feature)\n",
        "    ax.set_title(f'''{target_} vs {feature}''')\n",
        "    plt.show()"
      ],
      "execution_count": 74,
      "outputs": [
        {
          "output_type": "stream",
          "text": [
            "--- scatter plots ---\n"
          ],
          "name": "stdout"
        },
        {
          "output_type": "display_data",
          "data": {
            "image/png": "[encoded data removed]",
            "text/plain": [
              "<Figure size 720x504 with 1 Axes>"
            ]
          },
          "metadata": {
            "tags": [],
            "needs_background": "light"
          }
        },
        {
          "output_type": "display_data",
          "data": {
            "image/png": "[encoded data removed]",
            "text/plain": [
              "<Figure size 720x504 with 1 Axes>"
            ]
          },
          "metadata": {
            "tags": [],
            "needs_background": "light"
          }
        },
        {
          "output_type": "display_data",
          "data": {
            "image/png": "[encoded data removed]",
            "text/plain": [
              "<Figure size 720x504 with 1 Axes>"
            ]
          },
          "metadata": {
            "tags": [],
            "needs_background": "light"
          }
        },
        {
          "output_type": "display_data",
          "data": {
            "image/png": "[encoded data removed]",
            "text/plain": [
              "<Figure size 720x504 with 1 Axes>"
            ]
          },
          "metadata": {
            "tags": [],
            "needs_background": "light"
          }
        },
        {
          "output_type": "display_data",
          "data": {
            "image/png": "[encoded data removed]",
            "text/plain": [
              "<Figure size 720x504 with 1 Axes>"
            ]
          },
          "metadata": {
            "tags": [],
            "needs_background": "light"
          }
        },
        {
          "output_type": "display_data",
          "data": {
            "image/png": "[encoded data removed]",
            "text/plain": [
              "<Figure size 720x504 with 1 Axes>"
            ]
          },
          "metadata": {
            "tags": [],
            "needs_background": "light"
          }
        }
      ]
    },
    {
      "cell_type": "markdown",
      "metadata": {
        "id": "t6711cfuimwK"
      },
      "source": [
        "#### Encode + Clean + Organize \n",
        "\n",
        "\n",
        "\n"
      ]
    },
    {
      "cell_type": "code",
      "metadata": {
        "colab": {
          "base_uri": "https://localhost:8080/",
          "height": 217
        },
        "id": "-q4TXoROik9V",
        "outputId": "1e366241-8eed-4b8b-abe6-053305815bc8"
      },
      "source": [
        "### use label encoder on the data frame ###\n",
        "# encoding for 'sex', 'smoker', 'region'\n",
        "from sklearn.preprocessing import LabelEncoder\n",
        "le = LabelEncoder()\n",
        "df[['sex', 'smoker', 'region']] = df[['sex', 'smoker', 'region']].apply(le.fit_transform) \n",
        "print('data frame shape:', df.shape)\n",
        "df.head() "
      ],
      "execution_count": 75,
      "outputs": [
        {
          "output_type": "stream",
          "text": [
            "data frame shape: (1338, 7)\n"
          ],
          "name": "stdout"
        },
        {
          "output_type": "execute_result",
          "data": {
            "text/html": [
              "<div>\n",
              "<style scoped>\n",
              "    .dataframe tbody tr th:only-of-type {\n",
              "        vertical-align: middle;\n",
              "    }\n",
              "\n",
              "    .dataframe tbody tr th {\n",
              "        vertical-align: top;\n",
              "    }\n",
              "\n",
              "    .dataframe thead th {\n",
              "        text-align: right;\n",
              "    }\n",
              "</style>\n",
              "<table border=\"1\" class=\"dataframe\">\n",
              "  <thead>\n",
              "    <tr style=\"text-align: right;\">\n",
              "      <th></th>\n",
              "      <th>age</th>\n",
              "      <th>sex</th>\n",
              "      <th>bmi</th>\n",
              "      <th>children</th>\n",
              "      <th>smoker</th>\n",
              "      <th>region</th>\n",
              "      <th>charges</th>\n",
              "    </tr>\n",
              "  </thead>\n",
              "  <tbody>\n",
              "    <tr>\n",
              "      <th>0</th>\n",
              "      <td>19</td>\n",
              "      <td>0</td>\n",
              "      <td>27.900</td>\n",
              "      <td>0</td>\n",
              "      <td>1</td>\n",
              "      <td>3</td>\n",
              "      <td>16884.92400</td>\n",
              "    </tr>\n",
              "    <tr>\n",
              "      <th>1</th>\n",
              "      <td>18</td>\n",
              "      <td>1</td>\n",
              "      <td>33.770</td>\n",
              "      <td>1</td>\n",
              "      <td>0</td>\n",
              "      <td>2</td>\n",
              "      <td>1725.55230</td>\n",
              "    </tr>\n",
              "    <tr>\n",
              "      <th>2</th>\n",
              "      <td>28</td>\n",
              "      <td>1</td>\n",
              "      <td>33.000</td>\n",
              "      <td>3</td>\n",
              "      <td>0</td>\n",
              "      <td>2</td>\n",
              "      <td>4449.46200</td>\n",
              "    </tr>\n",
              "    <tr>\n",
              "      <th>3</th>\n",
              "      <td>33</td>\n",
              "      <td>1</td>\n",
              "      <td>22.705</td>\n",
              "      <td>0</td>\n",
              "      <td>0</td>\n",
              "      <td>1</td>\n",
              "      <td>21984.47061</td>\n",
              "    </tr>\n",
              "    <tr>\n",
              "      <th>4</th>\n",
              "      <td>32</td>\n",
              "      <td>1</td>\n",
              "      <td>28.880</td>\n",
              "      <td>0</td>\n",
              "      <td>0</td>\n",
              "      <td>1</td>\n",
              "      <td>3866.85520</td>\n",
              "    </tr>\n",
              "  </tbody>\n",
              "</table>\n",
              "</div>"
            ],
            "text/plain": [
              "   age  sex     bmi  children  smoker  region      charges\n",
              "0   19    0  27.900         0       1       3  16884.92400\n",
              "1   18    1  33.770         1       0       2   1725.55230\n",
              "2   28    1  33.000         3       0       2   4449.46200\n",
              "3   33    1  22.705         0       0       1  21984.47061\n",
              "4   32    1  28.880         0       0       1   3866.85520"
            ]
          },
          "metadata": {
            "tags": []
          },
          "execution_count": 75
        }
      ]
    },
    {
      "cell_type": "code",
      "metadata": {
        "colab": {
          "base_uri": "https://localhost:8080/",
          "height": 1000
        },
        "id": "N7-C-WNio8b9",
        "outputId": "f6621173-e01d-43c1-9f93-1531fb3a1d8a"
      },
      "source": [
        "### check for outliers in the data ### \n",
        "import matplotlib.pyplot as plt\n",
        "# view each feature in a boxplot \n",
        "for column in df:\n",
        "    plt.figure() # plot figure \n",
        "    f, ax = plt.subplots(1, 1, figsize = (10, 7))\n",
        "    df.boxplot([column]) # set data"
      ],
      "execution_count": 76,
      "outputs": [
        {
          "output_type": "display_data",
          "data": {
            "text/plain": [
              "<Figure size 432x288 with 0 Axes>"
            ]
          },
          "metadata": {
            "tags": []
          }
        },
        {
          "output_type": "display_data",
          "data": {
            "image/png": "[encoded data removed]",
            "text/plain": [
              "<Figure size 720x504 with 1 Axes>"
            ]
          },
          "metadata": {
            "tags": [],
            "needs_background": "light"
          }
        },
        {
          "output_type": "display_data",
          "data": {
            "text/plain": [
              "<Figure size 432x288 with 0 Axes>"
            ]
          },
          "metadata": {
            "tags": []
          }
        },
        {
          "output_type": "display_data",
          "data": {
            "image/png": "[encoded data removed]",
            "text/plain": [
              "<Figure size 720x504 with 1 Axes>"
            ]
          },
          "metadata": {
            "tags": [],
            "needs_background": "light"
          }
        },
        {
          "output_type": "display_data",
          "data": {
            "text/plain": [
              "<Figure size 432x288 with 0 Axes>"
            ]
          },
          "metadata": {
            "tags": []
          }
        },
        {
          "output_type": "display_data",
          "data": {
            "image/png": "[encoded data removed]",
            "text/plain": [
              "<Figure size 720x504 with 1 Axes>"
            ]
          },
          "metadata": {
            "tags": [],
            "needs_background": "light"
          }
        },
        {
          "output_type": "display_data",
          "data": {
            "text/plain": [
              "<Figure size 432x288 with 0 Axes>"
            ]
          },
          "metadata": {
            "tags": []
          }
        },
        {
          "output_type": "display_data",
          "data": {
            "image/png": "[encoded data removed]",
            "text/plain": [
              "<Figure size 720x504 with 1 Axes>"
            ]
          },
          "metadata": {
            "tags": [],
            "needs_background": "light"
          }
        },
        {
          "output_type": "display_data",
          "data": {
            "text/plain": [
              "<Figure size 432x288 with 0 Axes>"
            ]
          },
          "metadata": {
            "tags": []
          }
        },
        {
          "output_type": "display_data",
          "data": {
            "image/png": "[encoded data removed]",
            "text/plain": [
              "<Figure size 720x504 with 1 Axes>"
            ]
          },
          "metadata": {
            "tags": [],
            "needs_background": "light"
          }
        },
        {
          "output_type": "display_data",
          "data": {
            "text/plain": [
              "<Figure size 432x288 with 0 Axes>"
            ]
          },
          "metadata": {
            "tags": []
          }
        },
        {
          "output_type": "display_data",
          "data": {
            "image/png": "[encoded data removed]",
            "text/plain": [
              "<Figure size 720x504 with 1 Axes>"
            ]
          },
          "metadata": {
            "tags": [],
            "needs_background": "light"
          }
        },
        {
          "output_type": "display_data",
          "data": {
            "text/plain": [
              "<Figure size 432x288 with 0 Axes>"
            ]
          },
          "metadata": {
            "tags": []
          }
        },
        {
          "output_type": "display_data",
          "data": {
            "image/png": "[encoded data removed]",
            "text/plain": [
              "<Figure size 720x504 with 1 Axes>"
            ]
          },
          "metadata": {
            "tags": [],
            "needs_background": "light"
          }
        }
      ]
    },
    {
      "cell_type": "code",
      "metadata": {
        "id": "1l_5nceolQS6"
      },
      "source": [
        "### function to find outliers in the data ###\n",
        "def outlier_zscore(data):\n",
        "    global outliers,zscore\n",
        "    outliers = [] \n",
        "    zscore = [] \n",
        "    threshold = 3.5 # set threshold \n",
        "    mean = np.mean(data)\n",
        "    std = np.std(data)\n",
        "    for i in data:\n",
        "        z_score = (i - mean)/std # calculate the z_score\n",
        "        zscore.append(z_score) # append the score to the zscore\n",
        "        if np.abs(z_score) > threshold: \n",
        "            outliers.append(i) # append z_score the outliers\n",
        "    print(outliers)\n",
        "    return len(outliers), outliers"
      ],
      "execution_count": 77,
      "outputs": []
    },
    {
      "cell_type": "code",
      "metadata": {
        "colab": {
          "base_uri": "https://localhost:8080/"
        },
        "id": "vO4qw9tXl4Km",
        "outputId": "e715e5b3-c1da-41bf-f5e0-ef05f6d5a0e8"
      },
      "source": [
        "### run each feature 'wanted' through the function ### \n",
        "print('--- possible outliers --- ')\n",
        "age_outliers_number, age_outliers = outlier_zscore(df.age)\n",
        "sex_outliers_number, sex_outliers = outlier_zscore(df.sex)\n",
        "bmi_outliers_number, bmi_outliers = outlier_zscore(df.bmi)\n",
        "children_outliers_number, children_outliers = outlier_zscore(df.children)\n",
        "smoker_outliers_number, smoker_outliers = outlier_zscore(df.smoker)\n",
        "region_outliers_number, region_outliers = outlier_zscore(df.region)\n",
        "charges_outliers_number, charges_outliers = outlier_zscore(df.charges)\n"
      ],
      "execution_count": 78,
      "outputs": [
        {
          "output_type": "stream",
          "text": [
            "--- possible outliers --- \n",
            "[]\n",
            "[]\n",
            "[52.58, 53.13]\n",
            "[]\n",
            "[]\n",
            "[]\n",
            "[63770.42801, 58571.074479999996, 60021.39897, 62592.87309]\n"
          ],
          "name": "stdout"
        }
      ]
    },
    {
      "cell_type": "code",
      "metadata": {
        "colab": {
          "base_uri": "https://localhost:8080/"
        },
        "id": "u31ZFVCvnxTv",
        "outputId": "f7ea25a2-9532-41df-bd7b-c016730121fe"
      },
      "source": [
        "### removal of outliers per feature ###\n",
        "for num, i in enumerate(df['bmi']): \n",
        "    if i in bmi_outliers:\n",
        "        df['bmi'][num] = 48.5 # choose replacement score\n",
        "for num, i in enumerate(df['charges']): \n",
        "    if i in charges_outliers:\n",
        "        df['charges'][num] = 55000.00 # choose replacement score"
      ],
      "execution_count": 79,
      "outputs": [
        {
          "output_type": "stream",
          "text": [
            "/usr/local/lib/python3.6/dist-packages/ipykernel_launcher.py:4: SettingWithCopyWarning: \n",
            "A value is trying to be set on a copy of a slice from a DataFrame\n",
            "\n",
            "See the caveats in the documentation: https://pandas.pydata.org/pandas-docs/stable/user_guide/indexing.html#returning-a-view-versus-a-copy\n",
            "  after removing the cwd from sys.path.\n",
            "/usr/local/lib/python3.6/dist-packages/ipykernel_launcher.py:7: SettingWithCopyWarning: \n",
            "A value is trying to be set on a copy of a slice from a DataFrame\n",
            "\n",
            "See the caveats in the documentation: https://pandas.pydata.org/pandas-docs/stable/user_guide/indexing.html#returning-a-view-versus-a-copy\n",
            "  import sys\n"
          ],
          "name": "stderr"
        }
      ]
    },
    {
      "cell_type": "markdown",
      "metadata": {
        "id": "f4ZFa5SPH9ma"
      },
      "source": [
        "#### Single Linear Regression Model\n",
        " - GridSearch CV \n",
        " - RandomizedSearch CV"
      ]
    },
    {
      "cell_type": "code",
      "metadata": {
        "id": "tHU9jdAwIhln"
      },
      "source": [
        "### copy the data frame ### \n",
        "df1 = df.copy()"
      ],
      "execution_count": 80,
      "outputs": []
    },
    {
      "cell_type": "code",
      "metadata": {
        "colab": {
          "base_uri": "https://localhost:8080/"
        },
        "id": "jgCwFpVm7vL2",
        "outputId": "5a541d0c-1d7a-4b70-c04e-84616de92e07"
      },
      "source": [
        "### split the data into features & target sets ###\n",
        "# for single regression select the 1 feature \n",
        "X = df1.iloc[:, 0:1].values # set the features\n",
        "y = df1.iloc[:, 6].values # set the target \n",
        "print('--- data shapes --- ')\n",
        "print('X shape:', X.shape) \n",
        "print('y shape:', y.shape) "
      ],
      "execution_count": 81,
      "outputs": [
        {
          "output_type": "stream",
          "text": [
            "--- data shapes --- \n",
            "X shape: (1338, 1)\n",
            "y shape: (1338,)\n"
          ],
          "name": "stdout"
        }
      ]
    },
    {
      "cell_type": "code",
      "metadata": {
        "id": "Gumvm__d7vbU"
      },
      "source": [
        "### set the train test split parameters ###\n",
        "from sklearn.model_selection import train_test_split\n",
        "X_train, X_test, y_train, y_test = train_test_split(X, y, test_size=0.2, random_state=0) # split 80/20 "
      ],
      "execution_count": 82,
      "outputs": []
    },
    {
      "cell_type": "code",
      "metadata": {
        "id": "Wn_05okBf86f"
      },
      "source": [
        "### feature scaling ### \n",
        "from sklearn.preprocessing import StandardScaler\n",
        "sc = StandardScaler() # initiate the scalar   \n",
        "X_train = sc.fit_transform(X_train) # fit transform the data with scalar\n",
        "X_test = sc.transform(X_test) # fit transform the data with scalar"
      ],
      "execution_count": 83,
      "outputs": []
    },
    {
      "cell_type": "code",
      "metadata": {
        "colab": {
          "base_uri": "https://localhost:8080/"
        },
        "id": "lETj7_pP7vjc",
        "outputId": "f9682ed6-80fe-4035-8d4b-cbe997100328"
      },
      "source": [
        "### single linear regression model ###\n",
        "from sklearn.linear_model import LinearRegression\n",
        "from sklearn import metrics\n",
        "model = LinearRegression()\n",
        "print('--- model runtime --- ')\n",
        "%time model.fit(X_train, y_train) \n",
        "y_pred = model.predict(X_test)\n",
        "#### create data frame of predictions and results ### \n",
        "y_pred_df = pd.DataFrame(y_pred, columns=[\"Predicted_Values\" ])\n",
        "y_test_df = pd.DataFrame(np.array(y_test), columns=[\"Real_Values\"]) \n",
        "df_final = pd.concat([y_test_df , y_pred_df] , axis=1) \n",
        "print('--- real values vs predicted values ---')\n",
        "print(df_final.head())\n",
        "### get the model metrics ###\n",
        "print('--- model metrics ---') \n",
        "print('mean absolute error:', metrics.mean_absolute_error(y_test, y_pred)) # mae \n",
        "print('mean squared error:', metrics.mean_squared_error(y_test, y_pred)) # mse \n",
        "print('root mean squared error:', np.sqrt(metrics.mean_squared_error(y_test, y_pred))) # rmse\n",
        "print('intercept:', model.intercept_) # get the intercept\n",
        "print('coefficients:', model.coef_) # get the coefficients\n",
        "score = metrics.r2_score(y_test , y_pred) # get the r2 score \n",
        "print(\"r2 score : {}\".format(score)) # show the r2 score\n",
        "print('model score:', model.score(X_train, y_train)) # show the model score \n",
        "print(\"model accuracy: {}%\".format(score * 100)) # show the model accuracy"
      ],
      "execution_count": 84,
      "outputs": [
        {
          "output_type": "stream",
          "text": [
            "--- model runtime --- \n",
            "CPU times: user 1.39 ms, sys: 0 ns, total: 1.39 ms\n",
            "Wall time: 1.5 ms\n",
            "--- real values vs predicted values ---\n",
            "   Real_Values  Predicted_Values\n",
            "0   9724.53000      16241.987393\n",
            "1   8547.69130      15055.114571\n",
            "2  45702.02235      15292.489135\n",
            "3  12950.07120      18378.358474\n",
            "4   9644.25250      16004.612829\n",
            "--- model metrics ---\n",
            "mean absolute error: 9137.500519465078\n",
            "mean squared error: 139224992.0109984\n",
            "root mean squared error: 11799.364051125738\n",
            "intercept: 13177.8589022243\n",
            "coefficients: [3342.62283416]\n",
            "r2 score : 0.12508625038717558\n",
            "model score: 0.07909921415370014\n",
            "model accuracy: 12.508625038717557%\n"
          ],
          "name": "stdout"
        }
      ]
    },
    {
      "cell_type": "code",
      "metadata": {
        "colab": {
          "base_uri": "https://localhost:8080/",
          "height": 560
        },
        "id": "BLcxwXjn7vr4",
        "outputId": "a75c6ff3-b799-43fa-a3e0-60edd9eb6bf2"
      },
      "source": [
        "### visualize the model prediction accuracy ###\n",
        "import seaborn as sns\n",
        "import matplotlib.pyplot as plt\n",
        "### configure the plot ###\n",
        "print('--- distplot accuracy --- ')\n",
        "f, ax = plt.subplots(1, 1, figsize = (10, 7))\n",
        "ax1 = sns.distplot(y_test, hist=False, color=\"b\", label=\"Actual Values\")\n",
        "sns.distplot(y_pred, hist=False, color=\"r\", label=\"Predicted Values\" , axlabel='Charges', ax=ax1)\n",
        "plt.legend()"
      ],
      "execution_count": 85,
      "outputs": [
        {
          "output_type": "stream",
          "text": [
            "--- distplot accuracy --- \n"
          ],
          "name": "stdout"
        },
        {
          "output_type": "stream",
          "text": [
            "/usr/local/lib/python3.6/dist-packages/seaborn/distributions.py:2557: FutureWarning: `distplot` is a deprecated function and will be removed in a future version. Please adapt your code to use either `displot` (a figure-level function with similar flexibility) or `kdeplot` (an axes-level function for kernel density plots).\n",
            "  warnings.warn(msg, FutureWarning)\n",
            "/usr/local/lib/python3.6/dist-packages/seaborn/distributions.py:2557: FutureWarning: `distplot` is a deprecated function and will be removed in a future version. Please adapt your code to use either `displot` (a figure-level function with similar flexibility) or `kdeplot` (an axes-level function for kernel density plots).\n",
            "  warnings.warn(msg, FutureWarning)\n"
          ],
          "name": "stderr"
        },
        {
          "output_type": "execute_result",
          "data": {
            "text/plain": [
              "<matplotlib.legend.Legend at 0x7fd47e1a6710>"
            ]
          },
          "metadata": {
            "tags": []
          },
          "execution_count": 85
        },
        {
          "output_type": "display_data",
          "data": {
            "image/png": "[encoded data removed]",
            "text/plain": [
              "<Figure size 720x504 with 1 Axes>"
            ]
          },
          "metadata": {
            "tags": [],
            "needs_background": "light"
          }
        }
      ]
    },
    {
      "cell_type": "markdown",
      "metadata": {
        "id": "QMAu--J3scax"
      },
      "source": [
        "##### GridSearch CV"
      ]
    },
    {
      "cell_type": "code",
      "metadata": {
        "id": "7QDt3qQmI2mt"
      },
      "source": [
        "### copy the data frame ###\n",
        "df2 = df.copy()"
      ],
      "execution_count": 86,
      "outputs": []
    },
    {
      "cell_type": "code",
      "metadata": {
        "colab": {
          "base_uri": "https://localhost:8080/"
        },
        "id": "2RQLWy2CZSZx",
        "outputId": "885520c1-1b7a-47e8-aca8-ec311a6eb19d"
      },
      "source": [
        "### split the data into features & target sets ###\n",
        "# for single regression select 1 feature\n",
        "X = df2.iloc[:, 0:1].values # set the features\n",
        "y = df2.iloc[:, 6].values # set the target \n",
        "print('--- data shapes --- ')\n",
        "print('X shape:', X.shape) \n",
        "print('y shape:', y.shape) "
      ],
      "execution_count": 87,
      "outputs": [
        {
          "output_type": "stream",
          "text": [
            "--- data shapes --- \n",
            "X shape: (1338, 1)\n",
            "y shape: (1338,)\n"
          ],
          "name": "stdout"
        }
      ]
    },
    {
      "cell_type": "code",
      "metadata": {
        "id": "ywOKL4HOZWDV"
      },
      "source": [
        "### set the train test split parameters ###\n",
        "from sklearn.model_selection import train_test_split\n",
        "X_train, X_test, y_train, y_test = train_test_split(X, y, test_size=0.2, random_state=0) # split 80/20 "
      ],
      "execution_count": 88,
      "outputs": []
    },
    {
      "cell_type": "code",
      "metadata": {
        "id": "NK9pIt72ZZoD"
      },
      "source": [
        "### feature scaling ### \n",
        "from sklearn.preprocessing import StandardScaler\n",
        "sc = StandardScaler() # initiate the scalar   \n",
        "X_train = sc.fit_transform(X_train) # fit transform the data with scalar\n",
        "X_test = sc.transform(X_test) # fit transform the data with scalar"
      ],
      "execution_count": 89,
      "outputs": []
    },
    {
      "cell_type": "code",
      "metadata": {
        "colab": {
          "base_uri": "https://localhost:8080/"
        },
        "id": "rMctEC3bsfRQ",
        "outputId": "feb8c96a-7e80-4ec9-80a9-b7f271d74aa5"
      },
      "source": [
        "### linear regression + grid search CV model ###\n",
        "from sklearn.linear_model import LinearRegression\n",
        "from sklearn.model_selection import GridSearchCV\n",
        "model1 = LinearRegression()\n",
        "param_grid = {  # create the param grid \n",
        "            'copy_X': [True, False], \n",
        "            'fit_intercept': [True, False], \n",
        "            'n_jobs' : [2, 10, 20], \n",
        "            'normalize' : [True, False], \n",
        "              }\n",
        "CV_rfc = GridSearchCV(estimator=model1, param_grid=param_grid, cv=3) \n",
        "print('--- model runtime --- ')\n",
        "%time CV_rfc.fit(X_train, y_train)\n",
        "CV_rfc.best_params_"
      ],
      "execution_count": 90,
      "outputs": [
        {
          "output_type": "stream",
          "text": [
            "--- model runtime --- \n",
            "CPU times: user 116 ms, sys: 752 µs, total: 117 ms\n",
            "Wall time: 121 ms\n"
          ],
          "name": "stdout"
        },
        {
          "output_type": "execute_result",
          "data": {
            "text/plain": [
              "{'copy_X': True, 'fit_intercept': True, 'n_jobs': 2, 'normalize': False}"
            ]
          },
          "metadata": {
            "tags": []
          },
          "execution_count": 90
        }
      ]
    },
    {
      "cell_type": "code",
      "metadata": {
        "colab": {
          "base_uri": "https://localhost:8080/"
        },
        "id": "3u5kY6DOsfpO",
        "outputId": "4a661b8f-2cd0-4fdf-9598-548aef878dc3"
      },
      "source": [
        "### linear regression model + grid best params ###\n",
        "from sklearn.linear_model import LinearRegression\n",
        "from sklearn import metrics\n",
        "model1 = LinearRegression(\n",
        "                          copy_X= True,\n",
        "                          fit_intercept= True,\n",
        "                          n_jobs= 2,\n",
        "                          normalize= False\n",
        "                          )\n",
        "print('--- model runtime --- ')\n",
        "%time model1.fit(X_train, y_train)\n",
        "y_pred = model1.predict(X_test)\n",
        "#### create data frame of predictions and results ### \n",
        "y_pred_df = pd.DataFrame(y_pred, columns=[\"Predicted_Values\" ]) \n",
        "y_test_df = pd.DataFrame(np.array(y_test), columns=[\"Real_Values\"]) \n",
        "df_final = pd.concat([y_test_df , y_pred_df] , axis=1) \n",
        "print('--- real values vs predicted values ---') \n",
        "print(df_final.head())\n",
        "### get the model metrics ###\n",
        "print('--- model metrics ---') \n",
        "print('mean absolute error:', metrics.mean_absolute_error(y_test, y_pred)) # mae \n",
        "print('mean squared error:', metrics.mean_squared_error(y_test, y_pred)) # mse \n",
        "print('root mean squared error:', np.sqrt(metrics.mean_squared_error(y_test, y_pred))) # rmse\n",
        "print('intercept:', model1.intercept_) # get the intercept\n",
        "print('coefficients:', model1.coef_) # get the coefficients\n",
        "score = metrics.r2_score(y_test , y_pred) # get the r2 score \n",
        "print(\"r2 score : {}\".format(score)) # show the r2 score\n",
        "print('model score:', model1.score(X_train, y_train)) # show the model score \n",
        "print(\"model accuracy: {}%\".format(score * 100)) # show the model accuracy"
      ],
      "execution_count": 91,
      "outputs": [
        {
          "output_type": "stream",
          "text": [
            "--- model runtime --- \n",
            "CPU times: user 565 µs, sys: 56 µs, total: 621 µs\n",
            "Wall time: 628 µs\n",
            "--- real values vs predicted values ---\n",
            "   Real_Values  Predicted_Values\n",
            "0   9724.53000      16241.987393\n",
            "1   8547.69130      15055.114571\n",
            "2  45702.02235      15292.489135\n",
            "3  12950.07120      18378.358474\n",
            "4   9644.25250      16004.612829\n",
            "--- model metrics ---\n",
            "mean absolute error: 9137.500519465078\n",
            "mean squared error: 139224992.0109984\n",
            "root mean squared error: 11799.364051125738\n",
            "intercept: 13177.8589022243\n",
            "coefficients: [3342.62283416]\n",
            "r2 score : 0.12508625038717558\n",
            "model score: 0.07909921415370014\n",
            "model accuracy: 12.508625038717557%\n"
          ],
          "name": "stdout"
        }
      ]
    },
    {
      "cell_type": "code",
      "metadata": {
        "colab": {
          "base_uri": "https://localhost:8080/",
          "height": 560
        },
        "id": "CyxgLiDksfvu",
        "outputId": "53732981-b37d-4e5d-f9f1-d27ed1f9eabe"
      },
      "source": [
        "### visualize the model prediction accuracy ###\n",
        "import seaborn as sns\n",
        "import matplotlib.pyplot as plt\n",
        "### configure the plot ###\n",
        "print('--- distplot accuracy --- ')\n",
        "f, ax = plt.subplots(1, 1, figsize = (10, 7))\n",
        "ax1 = sns.distplot(y_test, hist=False, color=\"b\", label=\"Actual Values\")\n",
        "sns.distplot(y_pred, hist=False, color=\"r\", label=\"Predicted Values\" , axlabel='Charges', ax=ax1)\n",
        "plt.legend()"
      ],
      "execution_count": 92,
      "outputs": [
        {
          "output_type": "stream",
          "text": [
            "--- distplot accuracy --- \n"
          ],
          "name": "stdout"
        },
        {
          "output_type": "stream",
          "text": [
            "/usr/local/lib/python3.6/dist-packages/seaborn/distributions.py:2557: FutureWarning: `distplot` is a deprecated function and will be removed in a future version. Please adapt your code to use either `displot` (a figure-level function with similar flexibility) or `kdeplot` (an axes-level function for kernel density plots).\n",
            "  warnings.warn(msg, FutureWarning)\n",
            "/usr/local/lib/python3.6/dist-packages/seaborn/distributions.py:2557: FutureWarning: `distplot` is a deprecated function and will be removed in a future version. Please adapt your code to use either `displot` (a figure-level function with similar flexibility) or `kdeplot` (an axes-level function for kernel density plots).\n",
            "  warnings.warn(msg, FutureWarning)\n"
          ],
          "name": "stderr"
        },
        {
          "output_type": "execute_result",
          "data": {
            "text/plain": [
              "<matplotlib.legend.Legend at 0x7fd47e0f9f98>"
            ]
          },
          "metadata": {
            "tags": []
          },
          "execution_count": 92
        },
        {
          "output_type": "display_data",
          "data": {
            "image/png": "[encoded data removed]",
            "text/plain": [
              "<Figure size 720x504 with 1 Axes>"
            ]
          },
          "metadata": {
            "tags": [],
            "needs_background": "light"
          }
        }
      ]
    },
    {
      "cell_type": "markdown",
      "metadata": {
        "id": "6W0-iZB1s_UW"
      },
      "source": [
        "##### RandomizedSearch CV"
      ]
    },
    {
      "cell_type": "code",
      "metadata": {
        "id": "Lf1wIn9aJ7wJ"
      },
      "source": [
        "### copy the data frame ###\n",
        "df3 = df.copy()"
      ],
      "execution_count": 93,
      "outputs": []
    },
    {
      "cell_type": "code",
      "metadata": {
        "colab": {
          "base_uri": "https://localhost:8080/"
        },
        "id": "r2IbzOu1gi9Z",
        "outputId": "46f50680-c6e7-4322-ceb1-692c6edb72f3"
      },
      "source": [
        "### split the data into features & target sets ###\n",
        "# for single regression select the 1 feature\n",
        "X = df3.iloc[:, 0:1].values # set the features\n",
        "y = df3.iloc[:, 6].values # set the target \n",
        "print('--- data shapes --- ')\n",
        "print('X shape:', X.shape)\n",
        "print('y shape:', y.shape)"
      ],
      "execution_count": 94,
      "outputs": [
        {
          "output_type": "stream",
          "text": [
            "--- data shapes --- \n",
            "X shape: (1338, 1)\n",
            "y shape: (1338,)\n"
          ],
          "name": "stdout"
        }
      ]
    },
    {
      "cell_type": "code",
      "metadata": {
        "id": "iQLxyUBYgmCi"
      },
      "source": [
        "### set the train test split parameters ###\n",
        "from sklearn.model_selection import train_test_split\n",
        "X_train, X_test, y_train, y_test = train_test_split(X, y, test_size=0.2, random_state=0) # split 80/20"
      ],
      "execution_count": 95,
      "outputs": []
    },
    {
      "cell_type": "code",
      "metadata": {
        "id": "Rmh8xhYqgmTV"
      },
      "source": [
        "### feature scaling ### \n",
        "from sklearn.preprocessing import StandardScaler\n",
        "sc = StandardScaler() # initiate the scalar   \n",
        "X_train = sc.fit_transform(X_train) # fit transform the data with scalar\n",
        "X_test = sc.transform(X_test) # fit transform the data with scalar"
      ],
      "execution_count": 96,
      "outputs": []
    },
    {
      "cell_type": "code",
      "metadata": {
        "colab": {
          "base_uri": "https://localhost:8080/"
        },
        "id": "b3MW7liwsf1N",
        "outputId": "4afa690e-ffe4-42fc-b5d8-4bc24b77af89"
      },
      "source": [
        "### linear regression + randomized search CV model ###\n",
        "from sklearn.linear_model import LinearRegression\n",
        "from sklearn.model_selection import RandomizedSearchCV\n",
        "model2 = LinearRegression()\n",
        "param_grid = {  # create the param grid \n",
        "            'copy_X': [True, False], \n",
        "            'fit_intercept': [True, False], \n",
        "            'n_jobs' : [2, 20], \n",
        "            'normalize' : [True, False], \n",
        "              }\n",
        "CV_rfc = RandomizedSearchCV(model2, param_grid, cv=3) \n",
        "print('--- model runtime --- ')\n",
        "%time CV_rfc.fit(X_train, y_train)\n",
        "print('--- best params --- ')\n",
        "CV_rfc.best_params_"
      ],
      "execution_count": 97,
      "outputs": [
        {
          "output_type": "stream",
          "text": [
            "--- model runtime --- \n",
            "CPU times: user 47 ms, sys: 1.98 ms, total: 49 ms\n",
            "Wall time: 53.3 ms\n",
            "--- best params --- \n"
          ],
          "name": "stdout"
        },
        {
          "output_type": "execute_result",
          "data": {
            "text/plain": [
              "{'copy_X': True, 'fit_intercept': True, 'n_jobs': 20, 'normalize': False}"
            ]
          },
          "metadata": {
            "tags": []
          },
          "execution_count": 97
        }
      ]
    },
    {
      "cell_type": "code",
      "metadata": {
        "colab": {
          "base_uri": "https://localhost:8080/"
        },
        "id": "-u_ov44Tsf8f",
        "outputId": "30496d4d-a0eb-4cec-b4e7-e457f1a0e0ac"
      },
      "source": [
        "### linear regression model + randomized best params ###\n",
        "from sklearn.linear_model import LinearRegression\n",
        "from sklearn import metrics\n",
        "model2 = LinearRegression(\n",
        "                          copy_X = True,\n",
        "                          fit_intercept = True,\n",
        "                          n_jobs = 20,\n",
        "                          normalize = False\n",
        "                          )\n",
        "print('--- model runtime --- ')\n",
        "%time model2.fit(X_train, y_train) \n",
        "y_pred = model2.predict(X_test)\n",
        "#### create data frame of predictions and results ### \n",
        "y_pred_df = pd.DataFrame(y_pred, columns = [\"Predicted_Values\" ]) \n",
        "y_test_df = pd.DataFrame(np.array(y_test), columns = [\"Real_Values\"]) \n",
        "df_final = pd.concat([y_test_df , y_pred_df] , axis = 1) \n",
        "print('--- real values vs predicted values ---') \n",
        "print(df_final.head())\n",
        "### get the model metrics ###\n",
        "print('--- model metrics ---') \n",
        "print('mean absolute error:', metrics.mean_absolute_error(y_test, y_pred)) # mae \n",
        "print('mean squared error:', metrics.mean_squared_error(y_test, y_pred)) # mse \n",
        "print('root mean squared error:', np.sqrt(metrics.mean_squared_error(y_test, y_pred))) # rmse\n",
        "print('intercept:', model2.intercept_) # get the intercept\n",
        "print('coefficients:', model2.coef_) # get the coefficients\n",
        "score = metrics.r2_score(y_test , y_pred) # get the r2 score \n",
        "print(\"r2 score : {}\".format(score)) # show the r2 score\n",
        "print('model score:', model2.score(X_train, y_train)) # show the model score \n",
        "print(\"model accuracy: {}%\".format(score * 100)) # show the model accuracy"
      ],
      "execution_count": 98,
      "outputs": [
        {
          "output_type": "stream",
          "text": [
            "--- model runtime --- \n",
            "CPU times: user 1.26 ms, sys: 25 µs, total: 1.29 ms\n",
            "Wall time: 1.16 ms\n",
            "--- real values vs predicted values ---\n",
            "   Real_Values  Predicted_Values\n",
            "0   9724.53000      16241.987393\n",
            "1   8547.69130      15055.114571\n",
            "2  45702.02235      15292.489135\n",
            "3  12950.07120      18378.358474\n",
            "4   9644.25250      16004.612829\n",
            "--- model metrics ---\n",
            "mean absolute error: 9137.500519465078\n",
            "mean squared error: 139224992.0109984\n",
            "root mean squared error: 11799.364051125738\n",
            "intercept: 13177.8589022243\n",
            "coefficients: [3342.62283416]\n",
            "r2 score : 0.12508625038717558\n",
            "model score: 0.07909921415370014\n",
            "model accuracy: 12.508625038717557%\n"
          ],
          "name": "stdout"
        }
      ]
    },
    {
      "cell_type": "code",
      "metadata": {
        "id": "vZFHW26OsgEA",
        "colab": {
          "base_uri": "https://localhost:8080/",
          "height": 560
        },
        "outputId": "a133cd06-a85f-4fc9-9acd-d2ea91c887ce"
      },
      "source": [
        "### visualize the model prediction accuracy ###\n",
        "import seaborn as sns\n",
        "import matplotlib.pyplot as plt\n",
        "### configure the plot ###\n",
        "print('--- distplot accuracy --- ')\n",
        "f, ax = plt.subplots(1, 1, figsize = (10, 7))\n",
        "ax1 = sns.distplot(y_test, hist=False, color=\"b\", label=\"Actual Values\")\n",
        "sns.distplot(y_pred, hist=False, color=\"r\", label=\"Predicted Values\" , axlabel='Charges', ax=ax1)\n",
        "plt.legend()"
      ],
      "execution_count": 99,
      "outputs": [
        {
          "output_type": "stream",
          "text": [
            "--- distplot accuracy --- \n"
          ],
          "name": "stdout"
        },
        {
          "output_type": "stream",
          "text": [
            "/usr/local/lib/python3.6/dist-packages/seaborn/distributions.py:2557: FutureWarning: `distplot` is a deprecated function and will be removed in a future version. Please adapt your code to use either `displot` (a figure-level function with similar flexibility) or `kdeplot` (an axes-level function for kernel density plots).\n",
            "  warnings.warn(msg, FutureWarning)\n",
            "/usr/local/lib/python3.6/dist-packages/seaborn/distributions.py:2557: FutureWarning: `distplot` is a deprecated function and will be removed in a future version. Please adapt your code to use either `displot` (a figure-level function with similar flexibility) or `kdeplot` (an axes-level function for kernel density plots).\n",
            "  warnings.warn(msg, FutureWarning)\n"
          ],
          "name": "stderr"
        },
        {
          "output_type": "execute_result",
          "data": {
            "text/plain": [
              "<matplotlib.legend.Legend at 0x7fd47e077588>"
            ]
          },
          "metadata": {
            "tags": []
          },
          "execution_count": 99
        },
        {
          "output_type": "display_data",
          "data": {
            "image/png": "[encoded data removed]",
            "text/plain": [
              "<Figure size 720x504 with 1 Axes>"
            ]
          },
          "metadata": {
            "tags": [],
            "needs_background": "light"
          }
        }
      ]
    },
    {
      "cell_type": "markdown",
      "metadata": {
        "id": "EaGw20nIVO2A"
      },
      "source": [
        "#### Multi Linear Regression\n",
        " - GridSearchCV\n",
        " - RandomizedSearch CV"
      ]
    },
    {
      "cell_type": "code",
      "metadata": {
        "id": "X2frwLGKLAjb"
      },
      "source": [
        "### copy the data frame ###\n",
        "df4 = df.copy()"
      ],
      "execution_count": 100,
      "outputs": []
    },
    {
      "cell_type": "code",
      "metadata": {
        "colab": {
          "base_uri": "https://localhost:8080/"
        },
        "id": "zkLcjkiDGVTx",
        "outputId": "53143b37-c9dc-4d7d-fd39-b8342361c8ba"
      },
      "source": [
        "### split the data into features & target sets ###\n",
        "# for multi regression select all the features wanted\n",
        "X = df4.iloc[:, 0:6].values # set the features\n",
        "y = df4.iloc[:, 6].values # set the target \n",
        "print('--- data shapes --- ')\n",
        "print('X shape:', X.shape) \n",
        "print('y shape:', y.shape) "
      ],
      "execution_count": 101,
      "outputs": [
        {
          "output_type": "stream",
          "text": [
            "--- data shapes --- \n",
            "X shape: (1338, 6)\n",
            "y shape: (1338,)\n"
          ],
          "name": "stdout"
        }
      ]
    },
    {
      "cell_type": "code",
      "metadata": {
        "id": "c0G4cj3Bk1-7"
      },
      "source": [
        "### set the train test split parameters ###\n",
        "from sklearn.model_selection import train_test_split\n",
        "X_train, X_test, y_train, y_test = train_test_split(X, y, test_size=0.2, random_state=0) # split 80/20 "
      ],
      "execution_count": 102,
      "outputs": []
    },
    {
      "cell_type": "code",
      "metadata": {
        "id": "Otgx0dX6bdc1"
      },
      "source": [
        "### feature scaling ### \n",
        "from sklearn.preprocessing import StandardScaler\n",
        "sc = StandardScaler() # initiate the scalar   \n",
        "X_train = sc.fit_transform(X_train) # fit transform the data with scalar\n",
        "X_test = sc.transform(X_test) # fit transform the data with scalar"
      ],
      "execution_count": 103,
      "outputs": []
    },
    {
      "cell_type": "code",
      "metadata": {
        "colab": {
          "base_uri": "https://localhost:8080/"
        },
        "id": "Ev3_XbnvyPYe",
        "outputId": "1cbf31c3-78ec-46ea-92f3-59b82f2cbf3d"
      },
      "source": [
        "### multi linear regression model ###\n",
        "from sklearn.linear_model import LinearRegression\n",
        "from sklearn import metrics\n",
        "model3 = LinearRegression() \n",
        "print('--- model runtime --- ')\n",
        "%time model3.fit(X_train, y_train)\n",
        "y_pred = model3.predict(X_test)\n",
        "#### create data frame of predictions and results ### \n",
        "y_pred_df = pd.DataFrame(y_pred, columns=[\"Predicted_Values\" ]) \n",
        "y_test_df = pd.DataFrame(np.array(y_test), columns=[\"Real_Values\"]) \n",
        "df_final = pd.concat([y_test_df , y_pred_df] , axis=1)\n",
        "print('--- real values vs predicted values ---') \n",
        "print(df_final.head())\n",
        "### get the model metrics ###\n",
        "print('--- model metrics ---') \n",
        "print('mean absolute error:', metrics.mean_absolute_error(y_test, y_pred)) # mae \n",
        "print('mean squared error:', metrics.mean_squared_error(y_test, y_pred)) # mse \n",
        "print('root mean squared error:', np.sqrt(metrics.mean_squared_error(y_test, y_pred))) # rmse\n",
        "print('intercept:', model3.intercept_) # get the intercept\n",
        "print('coefficients:', model3.coef_) # get the coefficients\n",
        "score = metrics.r2_score(y_test , y_pred) # get the r2 score \n",
        "print(\"r2 score : {}\".format(score)) # show the r2 score\n",
        "print('model score:', model3.score(X_train, y_train)) # show the model score \n",
        "print(\"model accuracy: {}%\".format(score * 100)) # show the model accuracy"
      ],
      "execution_count": 104,
      "outputs": [
        {
          "output_type": "stream",
          "text": [
            "--- model runtime --- \n",
            "CPU times: user 2.06 ms, sys: 5 µs, total: 2.07 ms\n",
            "Wall time: 1.77 ms\n",
            "--- real values vs predicted values ---\n",
            "   Real_Values  Predicted_Values\n",
            "0   9724.53000      11013.367321\n",
            "1   8547.69130       9780.829372\n",
            "2  45702.02235      37847.999767\n",
            "3  12950.07120      16068.361818\n",
            "4   9644.25250       6948.154879\n",
            "--- model metrics ---\n",
            "mean absolute error: 3932.580632691409\n",
            "mean squared error: 31915676.739050288\n",
            "root mean squared error: 5649.396139327661\n",
            "intercept: 13177.85890222429\n",
            "coefficients: [ 3.55870086e+03 -7.53290936e+00  2.00136161e+03  5.44274944e+02\n",
            "  9.46322980e+03 -3.16031360e+02]\n",
            "r2 score : 0.7994364086227607\n",
            "model score: 0.7401587155026317\n",
            "model accuracy: 79.94364086227607%\n"
          ],
          "name": "stdout"
        }
      ]
    },
    {
      "cell_type": "code",
      "metadata": {
        "colab": {
          "base_uri": "https://localhost:8080/",
          "height": 570
        },
        "id": "NOMVuikON_o_",
        "outputId": "b69b5292-957b-4785-db54-993fa1252b79"
      },
      "source": [
        "### visualize the model prediction accuracy ###\n",
        "import seaborn as sns\n",
        "import matplotlib.pyplot as plt\n",
        "### configure the plot ###\n",
        "print('--- distplot accuracy --- ')\n",
        "f, ax = plt.subplots(1, 1, figsize = (10, 7))\n",
        "ax1 = sns.distplot(y_test, hist=False, color=\"b\", label=\"Actual Values\")\n",
        "sns.distplot(y_pred, hist=False, color=\"r\", label=\"Predicted Values\" , axlabel='Charges', ax=ax1)\n",
        "plt.legend()"
      ],
      "execution_count": 105,
      "outputs": [
        {
          "output_type": "stream",
          "text": [
            "--- distplot accuracy --- \n"
          ],
          "name": "stdout"
        },
        {
          "output_type": "stream",
          "text": [
            "/usr/local/lib/python3.6/dist-packages/seaborn/distributions.py:2557: FutureWarning: `distplot` is a deprecated function and will be removed in a future version. Please adapt your code to use either `displot` (a figure-level function with similar flexibility) or `kdeplot` (an axes-level function for kernel density plots).\n",
            "  warnings.warn(msg, FutureWarning)\n",
            "/usr/local/lib/python3.6/dist-packages/seaborn/distributions.py:2557: FutureWarning: `distplot` is a deprecated function and will be removed in a future version. Please adapt your code to use either `displot` (a figure-level function with similar flexibility) or `kdeplot` (an axes-level function for kernel density plots).\n",
            "  warnings.warn(msg, FutureWarning)\n"
          ],
          "name": "stderr"
        },
        {
          "output_type": "execute_result",
          "data": {
            "text/plain": [
              "<matplotlib.legend.Legend at 0x7fd47dfffa20>"
            ]
          },
          "metadata": {
            "tags": []
          },
          "execution_count": 105
        },
        {
          "output_type": "display_data",
          "data": {
            "image/png": "[encoded data removed]",
            "text/plain": [
              "<Figure size 720x504 with 1 Axes>"
            ]
          },
          "metadata": {
            "tags": [],
            "needs_background": "light"
          }
        }
      ]
    },
    {
      "cell_type": "markdown",
      "metadata": {
        "id": "RfPNqAr5uNeG"
      },
      "source": [
        "##### GridSearch CV"
      ]
    },
    {
      "cell_type": "code",
      "metadata": {
        "id": "fBOaexZBLZLw"
      },
      "source": [
        "### copy the data frame ###\n",
        "df5 = df.copy()"
      ],
      "execution_count": 106,
      "outputs": []
    },
    {
      "cell_type": "code",
      "metadata": {
        "colab": {
          "base_uri": "https://localhost:8080/"
        },
        "id": "FUwGCwxYfhuL",
        "outputId": "2873d08d-558c-4533-ad56-e72b2773de9c"
      },
      "source": [
        "### split the data into features & target sets ###\n",
        "# for multi regression select all the features wanted\n",
        "X = df5.iloc[:, 0:6].values # set the features\n",
        "y = df5.iloc[:, 6].values # set the target \n",
        "print('--- data shapes --- ')\n",
        "print('X shape:', X.shape)\n",
        "print('y shape:', y.shape) "
      ],
      "execution_count": 107,
      "outputs": [
        {
          "output_type": "stream",
          "text": [
            "--- data shapes --- \n",
            "X shape: (1338, 6)\n",
            "y shape: (1338,)\n"
          ],
          "name": "stdout"
        }
      ]
    },
    {
      "cell_type": "code",
      "metadata": {
        "id": "NyuJr3b7hDkp"
      },
      "source": [
        "### set the train test split parameters ###\n",
        "from sklearn.model_selection import train_test_split\n",
        "X_train, X_test, y_train, y_test = train_test_split(X, y, test_size=0.2, random_state=0) # split 80/20"
      ],
      "execution_count": 108,
      "outputs": []
    },
    {
      "cell_type": "code",
      "metadata": {
        "id": "z_x-CAWGhDxf"
      },
      "source": [
        "### feature scaling ### \n",
        "from sklearn.preprocessing import StandardScaler\n",
        "sc = StandardScaler() # initiate the scalar   \n",
        "X_train = sc.fit_transform(X_train) # fit transform the data with scalar\n",
        "X_test = sc.transform(X_test) # fit transform the data with scalar"
      ],
      "execution_count": 109,
      "outputs": []
    },
    {
      "cell_type": "code",
      "metadata": {
        "colab": {
          "base_uri": "https://localhost:8080/"
        },
        "id": "TTnp-OEvuQXn",
        "outputId": "9a491be8-fbc7-44f3-e0c2-32987911f130"
      },
      "source": [
        "### linear regression + grid search CV model ###\n",
        "from sklearn.linear_model import LinearRegression\n",
        "from sklearn.model_selection import GridSearchCV\n",
        "model4 = LinearRegression()\n",
        "param_grid = {  # create the param grid \n",
        "            'copy_X': [True, False], \n",
        "            'fit_intercept': [True, False], \n",
        "            'n_jobs' : [2, 10, 20], \n",
        "            'normalize' : [True, False], \n",
        "              }\n",
        "CV_rfc = GridSearchCV(estimator=model4, param_grid=param_grid, cv=3) \n",
        "print('--- model runtime --- ')\n",
        "%time CV_rfc.fit(X_train, y_train)\n",
        "print('--- best params --- ')\n",
        "CV_rfc.best_params_"
      ],
      "execution_count": 110,
      "outputs": [
        {
          "output_type": "stream",
          "text": [
            "--- model runtime --- \n",
            "CPU times: user 114 ms, sys: 785 µs, total: 115 ms\n",
            "Wall time: 121 ms\n",
            "--- best params --- \n"
          ],
          "name": "stdout"
        },
        {
          "output_type": "execute_result",
          "data": {
            "text/plain": [
              "{'copy_X': True, 'fit_intercept': True, 'n_jobs': 2, 'normalize': True}"
            ]
          },
          "metadata": {
            "tags": []
          },
          "execution_count": 110
        }
      ]
    },
    {
      "cell_type": "code",
      "metadata": {
        "colab": {
          "base_uri": "https://localhost:8080/"
        },
        "id": "Ni8wc19BuQf3",
        "outputId": "3ac10462-b879-4bb0-966c-baf49d837e93"
      },
      "source": [
        "### linear regression model + grid best params ###\n",
        "from sklearn.linear_model import LinearRegression\n",
        "from sklearn import metrics\n",
        "model4 = LinearRegression(\n",
        "                          copy_X= True,\n",
        "                          fit_intercept= True,\n",
        "                          n_jobs= 2,\n",
        "                          normalize= True\n",
        "                          )\n",
        "print('--- model runtime --- ')\n",
        "%time model4.fit(X_train, y_train) \n",
        "y_pred = model4.predict(X_test) \n",
        "#### create data frame of predictions and results ### \n",
        "y_pred_df = pd.DataFrame(y_pred, columns=[\"Predicted_Values\" ]) \n",
        "y_test_df = pd.DataFrame(np.array(y_test), columns=[\"Real_Values\"]) \n",
        "df_final = pd.concat([y_test_df , y_pred_df] , axis=1) \n",
        "print('--- real values vs predicted values ---') \n",
        "print(df_final.head())\n",
        "### get the model metrics ###\n",
        "print('--- model metrics ---') \n",
        "print('mean absolute error:', metrics.mean_absolute_error(y_test, y_pred)) # mae \n",
        "print('mean squared error:', metrics.mean_squared_error(y_test, y_pred)) # mse \n",
        "print('root mean squared error:', np.sqrt(metrics.mean_squared_error(y_test, y_pred))) # rmse\n",
        "print('intercept:', model4.intercept_) # get the intercept\n",
        "print('coefficients:', model4.coef_) # get the coefficients\n",
        "score = metrics.r2_score(y_test , y_pred) # get the r2 score \n",
        "print(\"r2 score : {}\".format(score)) # show the r2 score\n",
        "print('model score:', model4.score(X_train, y_train)) # show the model score \n",
        "print(\"model accuracy: {}%\".format(score * 100)) # show the model accuracy"
      ],
      "execution_count": 111,
      "outputs": [
        {
          "output_type": "stream",
          "text": [
            "--- model runtime --- \n",
            "CPU times: user 1.84 ms, sys: 0 ns, total: 1.84 ms\n",
            "Wall time: 1.59 ms\n",
            "--- real values vs predicted values ---\n",
            "   Real_Values  Predicted_Values\n",
            "0   9724.53000      11013.367321\n",
            "1   8547.69130       9780.829372\n",
            "2  45702.02235      37847.999767\n",
            "3  12950.07120      16068.361818\n",
            "4   9644.25250       6948.154879\n",
            "--- model metrics ---\n",
            "mean absolute error: 3932.580632691409\n",
            "mean squared error: 31915676.739050288\n",
            "root mean squared error: 5649.396139327661\n",
            "intercept: 13177.85890222429\n",
            "coefficients: [ 3.55870086e+03 -7.53290936e+00  2.00136161e+03  5.44274944e+02\n",
            "  9.46322980e+03 -3.16031360e+02]\n",
            "r2 score : 0.7994364086227607\n",
            "model score: 0.7401587155026317\n",
            "model accuracy: 79.94364086227607%\n"
          ],
          "name": "stdout"
        }
      ]
    },
    {
      "cell_type": "code",
      "metadata": {
        "colab": {
          "base_uri": "https://localhost:8080/",
          "height": 570
        },
        "id": "nMsZgfLxuQ6K",
        "outputId": "f15582cc-91a8-4362-89c5-9b69bbcc920c"
      },
      "source": [
        "### visualize the model prediction accuracy ###\n",
        "import seaborn as sns\n",
        "import matplotlib.pyplot as plt\n",
        "### configure the plot ###\n",
        "print('--- distplot accuracy --- ')\n",
        "f, ax = plt.subplots(1, 1, figsize = (10, 7))\n",
        "ax1 = sns.distplot(y_test, hist=False, color=\"b\", label=\"Actual Values\")\n",
        "sns.distplot(y_pred, hist=False, color=\"r\", label=\"Predicted Values\" , axlabel='Charges', ax=ax1)\n",
        "plt.legend()"
      ],
      "execution_count": 112,
      "outputs": [
        {
          "output_type": "stream",
          "text": [
            "--- distplot accuracy --- \n"
          ],
          "name": "stdout"
        },
        {
          "output_type": "stream",
          "text": [
            "/usr/local/lib/python3.6/dist-packages/seaborn/distributions.py:2557: FutureWarning: `distplot` is a deprecated function and will be removed in a future version. Please adapt your code to use either `displot` (a figure-level function with similar flexibility) or `kdeplot` (an axes-level function for kernel density plots).\n",
            "  warnings.warn(msg, FutureWarning)\n",
            "/usr/local/lib/python3.6/dist-packages/seaborn/distributions.py:2557: FutureWarning: `distplot` is a deprecated function and will be removed in a future version. Please adapt your code to use either `displot` (a figure-level function with similar flexibility) or `kdeplot` (an axes-level function for kernel density plots).\n",
            "  warnings.warn(msg, FutureWarning)\n"
          ],
          "name": "stderr"
        },
        {
          "output_type": "execute_result",
          "data": {
            "text/plain": [
              "<matplotlib.legend.Legend at 0x7fd47df84d30>"
            ]
          },
          "metadata": {
            "tags": []
          },
          "execution_count": 112
        },
        {
          "output_type": "display_data",
          "data": {
            "image/png": "[encoded data removed]",
            "text/plain": [
              "<Figure size 720x504 with 1 Axes>"
            ]
          },
          "metadata": {
            "tags": [],
            "needs_background": "light"
          }
        }
      ]
    },
    {
      "cell_type": "markdown",
      "metadata": {
        "id": "nIamD3TUuRsG"
      },
      "source": [
        "##### RandomizedSearch CV"
      ]
    },
    {
      "cell_type": "code",
      "metadata": {
        "id": "Ua3yx5N0L7MM"
      },
      "source": [
        "### copy the data frame ###\n",
        "df6 = df.copy()"
      ],
      "execution_count": 130,
      "outputs": []
    },
    {
      "cell_type": "code",
      "metadata": {
        "colab": {
          "base_uri": "https://localhost:8080/"
        },
        "id": "4l7tHGTTfjoA",
        "outputId": "57d5cd1f-0e7f-46b5-9cd3-b32abc0d7623"
      },
      "source": [
        "### split the data into features & target sets ###\n",
        "# for multi regression select all the features wanted\n",
        "X = df6.iloc[:, 0:6].values # set the features\n",
        "y = df6.iloc[:, 6].values # set the target \n",
        "print('--- data shapes --- ')\n",
        "print('X shape:', X.shape) \n",
        "print('y shape:', y.shape) "
      ],
      "execution_count": 131,
      "outputs": [
        {
          "output_type": "stream",
          "text": [
            "--- data shapes --- \n",
            "X shape: (1338, 6)\n",
            "y shape: (1338,)\n"
          ],
          "name": "stdout"
        }
      ]
    },
    {
      "cell_type": "code",
      "metadata": {
        "id": "ns0ap-p8hReJ"
      },
      "source": [
        "### set the train test split parameters ###\n",
        "from sklearn.model_selection import train_test_split\n",
        "X_train, X_test, y_train, y_test = train_test_split(X, y, test_size=0.2, random_state=0) # split 80/20 "
      ],
      "execution_count": 132,
      "outputs": []
    },
    {
      "cell_type": "code",
      "metadata": {
        "id": "jgxv-AnPhRoc"
      },
      "source": [
        "### feature scaling ### \n",
        "from sklearn.preprocessing import StandardScaler\n",
        "sc = StandardScaler() # initiate the scalar   \n",
        "X_train = sc.fit_transform(X_train) # fit transform the data with scalar\n",
        "X_test = sc.transform(X_test) # fit transform the data with scalar"
      ],
      "execution_count": 133,
      "outputs": []
    },
    {
      "cell_type": "code",
      "metadata": {
        "colab": {
          "base_uri": "https://localhost:8080/"
        },
        "id": "ST1S3ZWsuURz",
        "outputId": "fb1bf19b-11cc-4a3f-f077-1107f547ac1d"
      },
      "source": [
        "### linear regression + randomized search CV model ###\n",
        "from sklearn.linear_model import LinearRegression\n",
        "from sklearn.model_selection import RandomizedSearchCV\n",
        "model5 = LinearRegression()\n",
        "param_grid = {  # create the param grid \n",
        "            'copy_X': [True, False], \n",
        "            'fit_intercept': [True, False],\n",
        "            'n_jobs' : [2, 20], \n",
        "            'normalize' : [True, False], \n",
        "              }\n",
        "CV_rfc = RandomizedSearchCV(model5, param_grid, cv=3) \n",
        "print('--- model runtime --- ')\n",
        "%time CV_rfc.fit(X_train, y_train)\n",
        "print('--- best params --- ')\n",
        "CV_rfc.best_params_"
      ],
      "execution_count": 128,
      "outputs": [
        {
          "output_type": "stream",
          "text": [
            "--- model runtime --- \n",
            "CPU times: user 43.1 ms, sys: 0 ns, total: 43.1 ms\n",
            "Wall time: 43.2 ms\n",
            "--- best params --- \n"
          ],
          "name": "stdout"
        },
        {
          "output_type": "execute_result",
          "data": {
            "text/plain": [
              "{'copy_X': True, 'fit_intercept': True, 'n_jobs': 20, 'normalize': False}"
            ]
          },
          "metadata": {
            "tags": []
          },
          "execution_count": 128
        }
      ]
    },
    {
      "cell_type": "code",
      "metadata": {
        "colab": {
          "base_uri": "https://localhost:8080/"
        },
        "id": "HfrDnajruUYR",
        "outputId": "6d251744-dbf4-4a72-e735-5535b3d10ae2"
      },
      "source": [
        "### linear regression model + randomized best params ###\n",
        "from sklearn.linear_model import LinearRegression\n",
        "from sklearn import metrics\n",
        "model5 = LinearRegression(\n",
        "                          copy_X= True,\n",
        "                          fit_intercept= True,\n",
        "                          n_jobs= 20,\n",
        "                          normalize= False\n",
        "                          )\n",
        "print('--- model runtime --- ')\n",
        "%time model5.fit(X_train, y_train)\n",
        "y_pred = model5.predict(X_test) \n",
        "#### create data frame of predictions and results ### \n",
        "y_pred_df = pd.DataFrame(y_pred, columns=[\"Predicted_Values\" ]) \n",
        "y_test_df = pd.DataFrame(np.array(y_test), columns=[\"Real_Values\"]) \n",
        "df_final = pd.concat([y_test_df , y_pred_df] , axis=1) \n",
        "print('--- real values vs predicted values ---')\n",
        "print(df_final.head())\n",
        "### get the model metrics ###\n",
        "print('--- model metrics ---')\n",
        "print('mean absolute error:', metrics.mean_absolute_error(y_test, y_pred)) # mae \n",
        "print('mean squared error:', metrics.mean_squared_error(y_test, y_pred)) # mse \n",
        "print('root mean squared error:', np.sqrt(metrics.mean_squared_error(y_test, y_pred))) # rmse\n",
        "print('intercept:', model5.intercept_) # get the intercept\n",
        "print('coefficients:', model5.coef_) # get the coefficients\n",
        "score = metrics.r2_score(y_test , y_pred) # get the r2 score \n",
        "print(\"r2 score : {}\".format(score)) # show the r2 score\n",
        "print('model score:', model5.score(X_train, y_train)) # show the model score \n",
        "print(\"model accuracy: {}%\".format(score * 100)) # show the model accuracy"
      ],
      "execution_count": 134,
      "outputs": [
        {
          "output_type": "stream",
          "text": [
            "--- model runtime --- \n",
            "CPU times: user 1.51 ms, sys: 46 µs, total: 1.56 ms\n",
            "Wall time: 1.32 ms\n",
            "--- real values vs predicted values ---\n",
            "   Real_Values  Predicted_Values\n",
            "0   9724.53000      11013.367321\n",
            "1   8547.69130       9780.829372\n",
            "2  45702.02235      37847.999767\n",
            "3  12950.07120      16068.361818\n",
            "4   9644.25250       6948.154879\n",
            "--- model metrics ---\n",
            "mean absolute error: 3932.580632691409\n",
            "mean squared error: 31915676.739050288\n",
            "root mean squared error: 5649.396139327661\n",
            "intercept: 13177.85890222429\n",
            "coefficients: [ 3.55870086e+03 -7.53290936e+00  2.00136161e+03  5.44274944e+02\n",
            "  9.46322980e+03 -3.16031360e+02]\n",
            "r2 score : 0.7994364086227607\n",
            "model score: 0.7401587155026317\n",
            "model accuracy: 79.94364086227607%\n"
          ],
          "name": "stdout"
        }
      ]
    },
    {
      "cell_type": "code",
      "metadata": {
        "colab": {
          "base_uri": "https://localhost:8080/",
          "height": 570
        },
        "id": "coKd7uBCuRFC",
        "outputId": "dfb080b9-53cc-47db-83f0-6725a558ae2e"
      },
      "source": [
        "### visualize the model prediction accuracy ###\n",
        "import seaborn as sns\n",
        "import matplotlib.pyplot as plt\n",
        "### configure the plot ###\n",
        "print('--- distplot accuracy --- ')\n",
        "f, ax = plt.subplots(1, 1, figsize = (10, 7))\n",
        "ax1 = sns.distplot(y_test, hist=False, color=\"b\", label=\"Actual Values\")\n",
        "sns.distplot(y_pred, hist=False, color=\"r\", label=\"Predicted Values\" , axlabel='Charges', ax=ax1)\n",
        "plt.legend()"
      ],
      "execution_count": 135,
      "outputs": [
        {
          "output_type": "stream",
          "text": [
            "--- distplot accuracy --- \n"
          ],
          "name": "stdout"
        },
        {
          "output_type": "stream",
          "text": [
            "/usr/local/lib/python3.6/dist-packages/seaborn/distributions.py:2557: FutureWarning: `distplot` is a deprecated function and will be removed in a future version. Please adapt your code to use either `displot` (a figure-level function with similar flexibility) or `kdeplot` (an axes-level function for kernel density plots).\n",
            "  warnings.warn(msg, FutureWarning)\n",
            "/usr/local/lib/python3.6/dist-packages/seaborn/distributions.py:2557: FutureWarning: `distplot` is a deprecated function and will be removed in a future version. Please adapt your code to use either `displot` (a figure-level function with similar flexibility) or `kdeplot` (an axes-level function for kernel density plots).\n",
            "  warnings.warn(msg, FutureWarning)\n"
          ],
          "name": "stderr"
        },
        {
          "output_type": "execute_result",
          "data": {
            "text/plain": [
              "<matplotlib.legend.Legend at 0x7fd47deb8fd0>"
            ]
          },
          "metadata": {
            "tags": []
          },
          "execution_count": 135
        },
        {
          "output_type": "display_data",
          "data": {
            "image/png": "[encoded data removed]",
            "text/plain": [
              "<Figure size 720x504 with 1 Axes>"
            ]
          },
          "metadata": {
            "tags": [],
            "needs_background": "light"
          }
        }
      ]
    }
  ]
}