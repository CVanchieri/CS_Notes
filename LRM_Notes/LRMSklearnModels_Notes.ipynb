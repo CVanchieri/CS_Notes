{
  "nbformat": 4,
  "nbformat_minor": 0,
  "metadata": {
    "colab": {
      "name": "LRMSklearnModels_Notes.ipynb",
      "provenance": [],
      "collapsed_sections": []
    },
    "kernelspec": {
      "name": "python3",
      "display_name": "Python 3"
    }
  },
  "cells": [
    {
      "cell_type": "markdown",
      "metadata": {
        "id": "CFM5sl2ef0Cg"
      },
      "source": [
        "## Scikit-Learn Regression Models\n"
      ]
    },
    {
      "cell_type": "markdown",
      "metadata": {
        "id": "pHYXNoDvORIF"
      },
      "source": [
        "### Regression searches for relationships among variables, you need regression to answer whether and how some phenomenon influences the other or how several variables are related, uses the relationship between the variables x and y to find the best way to draw a line through the data points.\n",
        "\n",
        "#### Pros \n",
        " - very simple to work with \n",
        " - easy to interpret results\n",
        "\n",
        "#### Cons\n",
        " - numerical values only, categorical will not work "
      ]
    },
    {
      "cell_type": "markdown",
      "metadata": {
        "id": "OhRHMqRaQfiG"
      },
      "source": [
        "### Model Set Up\n",
        "\n",
        "#### Steps\n",
        " - load the data\n",
        " - inspect, clean, organize data\n",
        " - check for, handle outliers \n",
        " - encode data if necessary \n",
        " - set features and target \n",
        " - train, test split the data \n",
        " - scale the data if necessary \n",
        " - build the model, fit on the data, run the model\n",
        " - run metrics, analyze, view results, adjust parameters, repeat until satisfied... \n"
      ]
    },
    {
      "cell_type": "markdown",
      "metadata": {
        "id": "3hmqr8qAMLuE"
      },
      "source": [
        "### Regression Models"
      ]
    },
    {
      "cell_type": "markdown",
      "metadata": {
        "id": "a9Z_XK3rO7H6"
      },
      "source": [
        "#### Single-linear Rergression\n",
        " - a straight-line fit to data\n",
        " - simple or single-variate linear regression is the simplest case of linear regression with a single independent variable, 𝐱 = 𝑥\n",
        " - y = ax+b, where a is commonly known as the slope, and b is commonly known as the intercept\n",
        "\n",
        "#### Multi-Linear Regression\n",
        " - a straight-line fit to data\n",
        " - multiple or multivariate linear regression icd s a case of linear regression with two or more independent variables\n",
        "\n",
        "#### Polynomial-Linear Regression\n",
        " - a curved-line fit to data\n",
        " - a generalized case of linear regression \n",
        " - assume the polynomial dependence between the output and inputs and, consequently, the polynomial estimated regression function\n",
        "\n",
        "#### Ridge Regression\n",
        " - \n",
        " - \n",
        " - \n",
        "\n",
        "#### Lasso Regression\n",
        " - \n",
        " - \n",
        " - \n",
        "\n",
        "#### ElasticNet Regression\n",
        " - \n",
        " - \n",
        " - \n",
        "\n"
      ]
    },
    {
      "cell_type": "markdown",
      "metadata": {
        "id": "VUXplGBBRmeD"
      },
      "source": [
        "### Models Examples"
      ]
    },
    {
      "cell_type": "markdown",
      "metadata": {
        "id": "MCbiZ7J-V55T"
      },
      "source": [
        "#### Import + Inspect the Data"
      ]
    },
    {
      "cell_type": "code",
      "metadata": {
        "colab": {
          "base_uri": "https://localhost:8080/",
          "height": 221
        },
        "id": "ThIRPgzSjP1T",
        "outputId": "45c8f095-4f38-4b7c-83f6-fc9893785505"
      },
      "source": [
        "### imports ###\n",
        "import pandas as pd\n",
        "import numpy as np\n",
        "import sklearn\n",
        "df = pd.read_csv('https://raw.githubusercontent.com/CVanchieri/CS_Notes/main/LRM_Notes/medical_insurance.csv') # read in the file \n",
        "print('data frame shape:', df.shape) # show the data frame shape \n",
        "df.head() # show the data frame "
      ],
      "execution_count": 4,
      "outputs": [
        {
          "output_type": "stream",
          "text": [
            "data frame shape: (1338, 7)\n"
          ],
          "name": "stdout"
        },
        {
          "output_type": "execute_result",
          "data": {
            "text/html": [
              "<div>\n",
              "<style scoped>\n",
              "    .dataframe tbody tr th:only-of-type {\n",
              "        vertical-align: middle;\n",
              "    }\n",
              "\n",
              "    .dataframe tbody tr th {\n",
              "        vertical-align: top;\n",
              "    }\n",
              "\n",
              "    .dataframe thead th {\n",
              "        text-align: right;\n",
              "    }\n",
              "</style>\n",
              "<table border=\"1\" class=\"dataframe\">\n",
              "  <thead>\n",
              "    <tr style=\"text-align: right;\">\n",
              "      <th></th>\n",
              "      <th>age</th>\n",
              "      <th>sex</th>\n",
              "      <th>bmi</th>\n",
              "      <th>children</th>\n",
              "      <th>smoker</th>\n",
              "      <th>region</th>\n",
              "      <th>charges</th>\n",
              "    </tr>\n",
              "  </thead>\n",
              "  <tbody>\n",
              "    <tr>\n",
              "      <th>0</th>\n",
              "      <td>19</td>\n",
              "      <td>female</td>\n",
              "      <td>27.900</td>\n",
              "      <td>0</td>\n",
              "      <td>yes</td>\n",
              "      <td>southwest</td>\n",
              "      <td>16884.92400</td>\n",
              "    </tr>\n",
              "    <tr>\n",
              "      <th>1</th>\n",
              "      <td>18</td>\n",
              "      <td>male</td>\n",
              "      <td>33.770</td>\n",
              "      <td>1</td>\n",
              "      <td>no</td>\n",
              "      <td>southeast</td>\n",
              "      <td>1725.55230</td>\n",
              "    </tr>\n",
              "    <tr>\n",
              "      <th>2</th>\n",
              "      <td>28</td>\n",
              "      <td>male</td>\n",
              "      <td>33.000</td>\n",
              "      <td>3</td>\n",
              "      <td>no</td>\n",
              "      <td>southeast</td>\n",
              "      <td>4449.46200</td>\n",
              "    </tr>\n",
              "    <tr>\n",
              "      <th>3</th>\n",
              "      <td>33</td>\n",
              "      <td>male</td>\n",
              "      <td>22.705</td>\n",
              "      <td>0</td>\n",
              "      <td>no</td>\n",
              "      <td>northwest</td>\n",
              "      <td>21984.47061</td>\n",
              "    </tr>\n",
              "    <tr>\n",
              "      <th>4</th>\n",
              "      <td>32</td>\n",
              "      <td>male</td>\n",
              "      <td>28.880</td>\n",
              "      <td>0</td>\n",
              "      <td>no</td>\n",
              "      <td>northwest</td>\n",
              "      <td>3866.85520</td>\n",
              "    </tr>\n",
              "  </tbody>\n",
              "</table>\n",
              "</div>"
            ],
            "text/plain": [
              "   age     sex     bmi  children smoker     region      charges\n",
              "0   19  female  27.900         0    yes  southwest  16884.92400\n",
              "1   18    male  33.770         1     no  southeast   1725.55230\n",
              "2   28    male  33.000         3     no  southeast   4449.46200\n",
              "3   33    male  22.705         0     no  northwest  21984.47061\n",
              "4   32    male  28.880         0     no  northwest   3866.85520"
            ]
          },
          "metadata": {
            "tags": []
          },
          "execution_count": 4
        }
      ]
    },
    {
      "cell_type": "code",
      "metadata": {
        "id": "2Z4k1D0uekFE",
        "colab": {
          "base_uri": "https://localhost:8080/"
        },
        "outputId": "0377ea7d-d908-4445-b2da-aa7a211dc133"
      },
      "source": [
        "### inspecting the data ###\n",
        "print('--- INSPECTING THE DATA --- ')\n",
        "print('--- columns --- ')\n",
        "print(df.columns) # show the data columns \n",
        "print('--- types --- ')\n",
        "print(df.dtypes) # show the data types \n",
        "print('--- numericals descriptions --- ')\n",
        "print(df.describe()) # show descriptions of numerical data\n",
        "print('--- object descriptions --- ')\n",
        "print(df.describe(include=object)) # show descriptions of object data\n",
        "print('--- NA counts --- ')\n",
        "print(df.isna().sum()) # show any Nan's in the data"
      ],
      "execution_count": 5,
      "outputs": [
        {
          "output_type": "stream",
          "text": [
            "--- INSPECTING THE DATA --- \n",
            "--- columns --- \n",
            "Index(['age', 'sex', 'bmi', 'children', 'smoker', 'region', 'charges'], dtype='object')\n",
            "--- types --- \n",
            "age           int64\n",
            "sex          object\n",
            "bmi         float64\n",
            "children      int64\n",
            "smoker       object\n",
            "region       object\n",
            "charges     float64\n",
            "dtype: object\n",
            "--- numericals descriptions --- \n",
            "               age          bmi     children       charges\n",
            "count  1338.000000  1338.000000  1338.000000   1338.000000\n",
            "mean     39.207025    30.663397     1.094918  13270.422265\n",
            "std      14.049960     6.098187     1.205493  12110.011237\n",
            "min      18.000000    15.960000     0.000000   1121.873900\n",
            "25%      27.000000    26.296250     0.000000   4740.287150\n",
            "50%      39.000000    30.400000     1.000000   9382.033000\n",
            "75%      51.000000    34.693750     2.000000  16639.912515\n",
            "max      64.000000    53.130000     5.000000  63770.428010\n",
            "--- object descriptions --- \n",
            "         sex smoker     region\n",
            "count   1338   1338       1338\n",
            "unique     2      2          4\n",
            "top     male     no  southeast\n",
            "freq     676   1064        364\n",
            "--- NA counts --- \n",
            "age         0\n",
            "sex         0\n",
            "bmi         0\n",
            "children    0\n",
            "smoker      0\n",
            "region      0\n",
            "charges     0\n",
            "dtype: int64\n"
          ],
          "name": "stdout"
        }
      ]
    },
    {
      "cell_type": "markdown",
      "metadata": {
        "id": "M6s10WHgWAcd"
      },
      "source": [
        "#### View Feature Correlations "
      ]
    },
    {
      "cell_type": "code",
      "metadata": {
        "colab": {
          "base_uri": "https://localhost:8080/",
          "height": 190
        },
        "id": "c_GOvh2rVjBm",
        "outputId": "e73fcc64-81fa-42cd-c940-b152fb9bcb8d"
      },
      "source": [
        "### view basic feature correlations ###\n",
        "print('--- feature correlations ---')\n",
        "df.corr()"
      ],
      "execution_count": 6,
      "outputs": [
        {
          "output_type": "stream",
          "text": [
            "--- feature correlations ---\n"
          ],
          "name": "stdout"
        },
        {
          "output_type": "execute_result",
          "data": {
            "text/html": [
              "<div>\n",
              "<style scoped>\n",
              "    .dataframe tbody tr th:only-of-type {\n",
              "        vertical-align: middle;\n",
              "    }\n",
              "\n",
              "    .dataframe tbody tr th {\n",
              "        vertical-align: top;\n",
              "    }\n",
              "\n",
              "    .dataframe thead th {\n",
              "        text-align: right;\n",
              "    }\n",
              "</style>\n",
              "<table border=\"1\" class=\"dataframe\">\n",
              "  <thead>\n",
              "    <tr style=\"text-align: right;\">\n",
              "      <th></th>\n",
              "      <th>age</th>\n",
              "      <th>bmi</th>\n",
              "      <th>children</th>\n",
              "      <th>charges</th>\n",
              "    </tr>\n",
              "  </thead>\n",
              "  <tbody>\n",
              "    <tr>\n",
              "      <th>age</th>\n",
              "      <td>1.000000</td>\n",
              "      <td>0.109272</td>\n",
              "      <td>0.042469</td>\n",
              "      <td>0.299008</td>\n",
              "    </tr>\n",
              "    <tr>\n",
              "      <th>bmi</th>\n",
              "      <td>0.109272</td>\n",
              "      <td>1.000000</td>\n",
              "      <td>0.012759</td>\n",
              "      <td>0.198341</td>\n",
              "    </tr>\n",
              "    <tr>\n",
              "      <th>children</th>\n",
              "      <td>0.042469</td>\n",
              "      <td>0.012759</td>\n",
              "      <td>1.000000</td>\n",
              "      <td>0.067998</td>\n",
              "    </tr>\n",
              "    <tr>\n",
              "      <th>charges</th>\n",
              "      <td>0.299008</td>\n",
              "      <td>0.198341</td>\n",
              "      <td>0.067998</td>\n",
              "      <td>1.000000</td>\n",
              "    </tr>\n",
              "  </tbody>\n",
              "</table>\n",
              "</div>"
            ],
            "text/plain": [
              "               age       bmi  children   charges\n",
              "age       1.000000  0.109272  0.042469  0.299008\n",
              "bmi       0.109272  1.000000  0.012759  0.198341\n",
              "children  0.042469  0.012759  1.000000  0.067998\n",
              "charges   0.299008  0.198341  0.067998  1.000000"
            ]
          },
          "metadata": {
            "tags": []
          },
          "execution_count": 6
        }
      ]
    },
    {
      "cell_type": "code",
      "metadata": {
        "colab": {
          "base_uri": "https://localhost:8080/",
          "height": 303
        },
        "id": "1RHqwUrdVjKI",
        "outputId": "f1fe4f8e-bcd3-43f1-97b9-08c01afb8412"
      },
      "source": [
        "### view basic feature correlations in a heatmap ###\n",
        "import seaborn as sns \n",
        "print('--- feature correlations heatmap ---')\n",
        "sns.heatmap(df.corr() , cmap = 'Wistia' , annot = True)"
      ],
      "execution_count": 7,
      "outputs": [
        {
          "output_type": "stream",
          "text": [
            "--- feature correlations heatmap ---\n"
          ],
          "name": "stdout"
        },
        {
          "output_type": "execute_result",
          "data": {
            "text/plain": [
              "<matplotlib.axes._subplots.AxesSubplot at 0x7f5722d8aba8>"
            ]
          },
          "metadata": {
            "tags": []
          },
          "execution_count": 7
        },
        {
          "output_type": "display_data",
          "data": {
            "image/png": "[encoded data removed]",
            "text/plain": [
              "<Figure size 432x288 with 2 Axes>"
            ]
          },
          "metadata": {
            "tags": [],
            "needs_background": "light"
          }
        }
      ]
    },
    {
      "cell_type": "code",
      "metadata": {
        "id": "u3zWlAMjVjYC",
        "colab": {
          "base_uri": "https://localhost:8080/",
          "height": 1000
        },
        "outputId": "a9411086-8499-4af2-8973-54eb96724654"
      },
      "source": [
        "### view scatter plots for each feature vs. target ###\n",
        "import matplotlib.pyplot as plt \n",
        "target_ = 'charges' # set the target\n",
        "features_ = df.iloc[:, 0:6] # set the features\n",
        "print('--- scatter plots ---')\n",
        "for feature in features_:\n",
        "    figure = plt.figure\n",
        "    ax = plt.gca()\n",
        "    ax.scatter(df[target_], df[feature])\n",
        "    ax.set_xlabel(target_)\n",
        "    ax.set_ylabel(feature)\n",
        "    ax.set_title(f'''{target_} vs {feature}''')\n",
        "    plt.show()"
      ],
      "execution_count": 8,
      "outputs": [
        {
          "output_type": "stream",
          "text": [
            "--- scatter plots ---\n"
          ],
          "name": "stdout"
        },
        {
          "output_type": "display_data",
          "data": {
            "image/png": "[encoded data removed]",
            "text/plain": [
              "<Figure size 432x288 with 1 Axes>"
            ]
          },
          "metadata": {
            "tags": [],
            "needs_background": "light"
          }
        },
        {
          "output_type": "display_data",
          "data": {
            "image/png": "[encoded data removed]",
            "text/plain": [
              "<Figure size 432x288 with 1 Axes>"
            ]
          },
          "metadata": {
            "tags": [],
            "needs_background": "light"
          }
        },
        {
          "output_type": "display_data",
          "data": {
            "image/png": "[encoded data removed]",
            "text/plain": [
              "<Figure size 432x288 with 1 Axes>"
            ]
          },
          "metadata": {
            "tags": [],
            "needs_background": "light"
          }
        },
        {
          "output_type": "display_data",
          "data": {
            "image/png": "[encoded data removed]",
            "text/plain": [
              "<Figure size 432x288 with 1 Axes>"
            ]
          },
          "metadata": {
            "tags": [],
            "needs_background": "light"
          }
        },
        {
          "output_type": "display_data",
          "data": {
            "image/png": "[encoded data removed]",
            "text/plain": [
              "<Figure size 432x288 with 1 Axes>"
            ]
          },
          "metadata": {
            "tags": [],
            "needs_background": "light"
          }
        },
        {
          "output_type": "display_data",
          "data": {
            "image/png": "[encoded data removed]",
            "text/plain": [
              "<Figure size 432x288 with 1 Axes>"
            ]
          },
          "metadata": {
            "tags": [],
            "needs_background": "light"
          }
        }
      ]
    },
    {
      "cell_type": "markdown",
      "metadata": {
        "id": "t6711cfuimwK"
      },
      "source": [
        "#### Encode + Clean + Organize the Data\n"
      ]
    },
    {
      "cell_type": "code",
      "metadata": {
        "colab": {
          "base_uri": "https://localhost:8080/",
          "height": 221
        },
        "id": "-q4TXoROik9V",
        "outputId": "66a2f652-3194-4019-c3b8-ead07b72c96c"
      },
      "source": [
        "### use labelencoder on the data frame ###\n",
        "# encoding for 'sex' & 'region'\n",
        "from sklearn.preprocessing import LabelEncoder\n",
        "le = LabelEncoder() # initiate the labelencoder\n",
        "df[['sex', 'smoker', 'region']] = df[['sex', 'smoker', 'region']].apply(le.fit_transform) # apply the encoder on the data \n",
        "print('data frame shape:', df.shape) # show the data frame shape \n",
        "df.head() # show the data frame "
      ],
      "execution_count": 9,
      "outputs": [
        {
          "output_type": "stream",
          "text": [
            "data frame shape: (1338, 7)\n"
          ],
          "name": "stdout"
        },
        {
          "output_type": "execute_result",
          "data": {
            "text/html": [
              "<div>\n",
              "<style scoped>\n",
              "    .dataframe tbody tr th:only-of-type {\n",
              "        vertical-align: middle;\n",
              "    }\n",
              "\n",
              "    .dataframe tbody tr th {\n",
              "        vertical-align: top;\n",
              "    }\n",
              "\n",
              "    .dataframe thead th {\n",
              "        text-align: right;\n",
              "    }\n",
              "</style>\n",
              "<table border=\"1\" class=\"dataframe\">\n",
              "  <thead>\n",
              "    <tr style=\"text-align: right;\">\n",
              "      <th></th>\n",
              "      <th>age</th>\n",
              "      <th>sex</th>\n",
              "      <th>bmi</th>\n",
              "      <th>children</th>\n",
              "      <th>smoker</th>\n",
              "      <th>region</th>\n",
              "      <th>charges</th>\n",
              "    </tr>\n",
              "  </thead>\n",
              "  <tbody>\n",
              "    <tr>\n",
              "      <th>0</th>\n",
              "      <td>19</td>\n",
              "      <td>0</td>\n",
              "      <td>27.900</td>\n",
              "      <td>0</td>\n",
              "      <td>1</td>\n",
              "      <td>3</td>\n",
              "      <td>16884.92400</td>\n",
              "    </tr>\n",
              "    <tr>\n",
              "      <th>1</th>\n",
              "      <td>18</td>\n",
              "      <td>1</td>\n",
              "      <td>33.770</td>\n",
              "      <td>1</td>\n",
              "      <td>0</td>\n",
              "      <td>2</td>\n",
              "      <td>1725.55230</td>\n",
              "    </tr>\n",
              "    <tr>\n",
              "      <th>2</th>\n",
              "      <td>28</td>\n",
              "      <td>1</td>\n",
              "      <td>33.000</td>\n",
              "      <td>3</td>\n",
              "      <td>0</td>\n",
              "      <td>2</td>\n",
              "      <td>4449.46200</td>\n",
              "    </tr>\n",
              "    <tr>\n",
              "      <th>3</th>\n",
              "      <td>33</td>\n",
              "      <td>1</td>\n",
              "      <td>22.705</td>\n",
              "      <td>0</td>\n",
              "      <td>0</td>\n",
              "      <td>1</td>\n",
              "      <td>21984.47061</td>\n",
              "    </tr>\n",
              "    <tr>\n",
              "      <th>4</th>\n",
              "      <td>32</td>\n",
              "      <td>1</td>\n",
              "      <td>28.880</td>\n",
              "      <td>0</td>\n",
              "      <td>0</td>\n",
              "      <td>1</td>\n",
              "      <td>3866.85520</td>\n",
              "    </tr>\n",
              "  </tbody>\n",
              "</table>\n",
              "</div>"
            ],
            "text/plain": [
              "   age  sex     bmi  children  smoker  region      charges\n",
              "0   19    0  27.900         0       1       3  16884.92400\n",
              "1   18    1  33.770         1       0       2   1725.55230\n",
              "2   28    1  33.000         3       0       2   4449.46200\n",
              "3   33    1  22.705         0       0       1  21984.47061\n",
              "4   32    1  28.880         0       0       1   3866.85520"
            ]
          },
          "metadata": {
            "tags": []
          },
          "execution_count": 9
        }
      ]
    },
    {
      "cell_type": "code",
      "metadata": {
        "colab": {
          "base_uri": "https://localhost:8080/",
          "height": 1000
        },
        "id": "N7-C-WNio8b9",
        "outputId": "f1be8d31-849e-470d-cf2f-f6576e51fd8a"
      },
      "source": [
        "### check for outliers in the data ### \n",
        "import matplotlib.pyplot as plt\n",
        "# view each feature in a boxplot \n",
        "for column in df:\n",
        "    plt.figure() # plot figure \n",
        "    df.boxplot([column]) # set data"
      ],
      "execution_count": 10,
      "outputs": [
        {
          "output_type": "display_data",
          "data": {
            "image/png": "[encoded data removed]",
            "text/plain": [
              "<Figure size 432x288 with 1 Axes>"
            ]
          },
          "metadata": {
            "tags": [],
            "needs_background": "light"
          }
        },
        {
          "output_type": "display_data",
          "data": {
            "image/png": "[encoded data removed]",
            "text/plain": [
              "<Figure size 432x288 with 1 Axes>"
            ]
          },
          "metadata": {
            "tags": [],
            "needs_background": "light"
          }
        },
        {
          "output_type": "display_data",
          "data": {
            "image/png": "[encoded data removed]",
            "text/plain": [
              "<Figure size 432x288 with 1 Axes>"
            ]
          },
          "metadata": {
            "tags": [],
            "needs_background": "light"
          }
        },
        {
          "output_type": "display_data",
          "data": {
            "image/png": "[encoded data removed]",
            "text/plain": [
              "<Figure size 432x288 with 1 Axes>"
            ]
          },
          "metadata": {
            "tags": [],
            "needs_background": "light"
          }
        },
        {
          "output_type": "display_data",
          "data": {
            "image/png": "[encoded data removed]",
            "text/plain": [
              "<Figure size 432x288 with 1 Axes>"
            ]
          },
          "metadata": {
            "tags": [],
            "needs_background": "light"
          }
        },
        {
          "output_type": "display_data",
          "data": {
            "image/png": "[encoded data removed]",
            "text/plain": [
              "<Figure size 432x288 with 1 Axes>"
            ]
          },
          "metadata": {
            "tags": [],
            "needs_background": "light"
          }
        },
        {
          "output_type": "display_data",
          "data": {
            "image/png": "[encoded data removed]",
            "text/plain": [
              "<Figure size 432x288 with 1 Axes>"
            ]
          },
          "metadata": {
            "tags": [],
            "needs_background": "light"
          }
        }
      ]
    },
    {
      "cell_type": "code",
      "metadata": {
        "id": "1l_5nceolQS6"
      },
      "source": [
        "### function to find outliers in the data ###\n",
        "def outlier_zscore(data):\n",
        "    global outliers,zscore\n",
        "    outliers = [] # list for outliers \n",
        "    zscore = [] # list for scores \n",
        "    threshold = 3.5 # set threshold \n",
        "    mean = np.mean(data) # mean \n",
        "    std = np.std(data) # standard deviaton\n",
        "    for i in data:\n",
        "        z_score = (i - mean)/std # calculate the z_score\n",
        "        zscore.append(z_score) # append the score to the list\n",
        "        if np.abs(z_score) > threshold: # if the score is greater than the threshold\n",
        "            outliers.append(i) # append z_score the list \n",
        "    print(outliers) # show the outliers \n",
        "    return len(outliers), outliers"
      ],
      "execution_count": 11,
      "outputs": []
    },
    {
      "cell_type": "code",
      "metadata": {
        "colab": {
          "base_uri": "https://localhost:8080/"
        },
        "id": "vO4qw9tXl4Km",
        "outputId": "05cf5f63-cfef-45b8-cf90-a540536b3dd0"
      },
      "source": [
        "### run each feature 'wanted' through the function ### \n",
        "age_outliers_number, age_outliers = outlier_zscore(df.age)\n",
        "sex_outliers_number, sex_outliers = outlier_zscore(df.sex)\n",
        "bmi_outliers_number, bmi_outliers = outlier_zscore(df.bmi)\n",
        "children_outliers_number, children_outliers = outlier_zscore(df.children)\n",
        "smoker_outliers_number, smoker_outliers = outlier_zscore(df.smoker)\n",
        "region_outliers_number, region_outliers = outlier_zscore(df.region)\n",
        "charges_outliers_number, charges_outliers = outlier_zscore(df.charges)"
      ],
      "execution_count": 12,
      "outputs": [
        {
          "output_type": "stream",
          "text": [
            "[]\n",
            "[]\n",
            "[52.58, 53.13]\n",
            "[]\n",
            "[]\n",
            "[]\n",
            "[63770.42801, 58571.074479999996, 60021.39897, 62592.87309]\n"
          ],
          "name": "stdout"
        }
      ]
    },
    {
      "cell_type": "code",
      "metadata": {
        "colab": {
          "base_uri": "https://localhost:8080/"
        },
        "id": "u31ZFVCvnxTv",
        "outputId": "0a16718a-9a92-49b8-ebd0-77a92c6ee6f8"
      },
      "source": [
        "### removal of outliers per feature ###\n",
        "for num, i in enumerate(df['bmi']): # removing the outliers of 'bmi' \n",
        "    if i in bmi_outliers:\n",
        "        df['bmi'][num] = 48.5 # 3.5 under the lowest outlier\n",
        "for num, i in enumerate(df['charges']): # removing the outliers of 'charges'\n",
        "    if i in charges_outliers:\n",
        "        df['charges'][num] = 55000.00000 # 3.5 under the lowest outlier"
      ],
      "execution_count": 13,
      "outputs": [
        {
          "output_type": "stream",
          "text": [
            "/usr/local/lib/python3.6/dist-packages/ipykernel_launcher.py:4: SettingWithCopyWarning: \n",
            "A value is trying to be set on a copy of a slice from a DataFrame\n",
            "\n",
            "See the caveats in the documentation: https://pandas.pydata.org/pandas-docs/stable/user_guide/indexing.html#returning-a-view-versus-a-copy\n",
            "  after removing the cwd from sys.path.\n",
            "/usr/local/lib/python3.6/dist-packages/ipykernel_launcher.py:7: SettingWithCopyWarning: \n",
            "A value is trying to be set on a copy of a slice from a DataFrame\n",
            "\n",
            "See the caveats in the documentation: https://pandas.pydata.org/pandas-docs/stable/user_guide/indexing.html#returning-a-view-versus-a-copy\n",
            "  import sys\n"
          ],
          "name": "stderr"
        }
      ]
    },
    {
      "cell_type": "markdown",
      "metadata": {
        "id": "_C0BbW7E7lmB"
      },
      "source": [
        "#### Single Linear Regression"
      ]
    },
    {
      "cell_type": "code",
      "metadata": {
        "colab": {
          "base_uri": "https://localhost:8080/"
        },
        "id": "jgCwFpVm7vL2",
        "outputId": "2a906b84-e1df-422f-c822-7a98b7372c78"
      },
      "source": [
        "### split the data into features & target sets ###\n",
        "# for single regression select the 1 feature \n",
        "X = df.iloc[:, 0:1].values # set the features\n",
        "y = df.iloc[:, 6].values # set the target \n",
        "print('X shape:', X.shape) # show the shape \n",
        "print('y shape:', y.shape) # show the shape "
      ],
      "execution_count": 14,
      "outputs": [
        {
          "output_type": "stream",
          "text": [
            "X shape: (1338, 1)\n",
            "y shape: (1338,)\n"
          ],
          "name": "stdout"
        }
      ]
    },
    {
      "cell_type": "code",
      "metadata": {
        "id": "Gumvm__d7vbU"
      },
      "source": [
        "### set the train test split parameters ###\n",
        "from sklearn.model_selection import train_test_split\n",
        "X_train, X_test, y_train, y_test = train_test_split(X, y, test_size=0.2, random_state=0) # split 80/20 train/test"
      ],
      "execution_count": 15,
      "outputs": []
    },
    {
      "cell_type": "code",
      "metadata": {
        "colab": {
          "base_uri": "https://localhost:8080/"
        },
        "id": "lETj7_pP7vjc",
        "outputId": "7e59adc6-21bb-4789-a0b2-85278606366c"
      },
      "source": [
        "### single linear regression model ###\n",
        "from sklearn.linear_model import LinearRegression\n",
        "from sklearn import metrics\n",
        "model1 = LinearRegression() # initiate the mdoel \n",
        "model1.fit(X_train, y_train) # fit the data on the model \n",
        "y_pred = model1.predict(X_test) # create the prediction from the poly data \n",
        "#### create data frame of predictions and results ### \n",
        "y_pred_df = pd.DataFrame(y_pred, columns=[\"Predicted_Values\" ]) # create the predicitons data frame \n",
        "y_test_df = pd.DataFrame(np.array(y_test), columns=[\"Real_Values\"]) # create the real values  data frame\n",
        "df_final = pd.concat([y_test_df , y_pred_df] , axis=1) # concat merge the data frames \n",
        "print('--- real values vs predicted values ---') # get the intercept\n",
        "print(df_final.head())\n",
        "### get the model metrics ###\n",
        "print('--- model metrics ---') # get the intercept\n",
        "print('intercept:', model1.intercept_) # get the intercept\n",
        "print('coefficients:', model1.coef_) # get the coefficients\n",
        "score = metrics.r2_score(y_test , y_pred) # get the r2 score \n",
        "print(\"r2 score : {}\".format(score)) # show the r2 score\n",
        "print('model score:', model1.score(X_train, y_train)) # show the model score \n",
        "print(\"model accuracy: {}%\".format(score * 100)) # show the model accuracy"
      ],
      "execution_count": 16,
      "outputs": [
        {
          "output_type": "stream",
          "text": [
            "--- real values vs predicted values ---\n",
            "   Real_Values  Predicted_Values\n",
            "0   9724.53000      16241.987393\n",
            "1   8547.69130      15055.114571\n",
            "2  45702.02235      15292.489135\n",
            "3  12950.07120      18378.358474\n",
            "4   9644.25250      16004.612829\n",
            "--- model metrics ---\n",
            "intercept: 3898.5100372143097\n",
            "coefficients: [237.37456454]\n",
            "r2 score : 0.12508625038717536\n",
            "model score: 0.07909921415370014\n",
            "model accuracy: 12.508625038717536%\n"
          ],
          "name": "stdout"
        }
      ]
    },
    {
      "cell_type": "code",
      "metadata": {
        "colab": {
          "base_uri": "https://localhost:8080/",
          "height": 385
        },
        "id": "BLcxwXjn7vr4",
        "outputId": "3423bfc8-d944-4f9b-f2a1-94908f18d64d"
      },
      "source": [
        "### visualize the model prediction accuracy ###\n",
        "import seaborn as sns\n",
        "import matplotlib.pyplot as plt\n",
        "### configure the plot ###\n",
        "ax1 = sns.distplot(y_test, hist=False, color=\"b\", label=\"Actual Values\")\n",
        "sns.distplot(y_pred, hist=False, color=\"r\", label=\"Predicted Values\" , axlabel='Charges', ax=ax1)\n",
        "plt.legend()"
      ],
      "execution_count": 17,
      "outputs": [
        {
          "output_type": "stream",
          "text": [
            "/usr/local/lib/python3.6/dist-packages/seaborn/distributions.py:2557: FutureWarning: `distplot` is a deprecated function and will be removed in a future version. Please adapt your code to use either `displot` (a figure-level function with similar flexibility) or `kdeplot` (an axes-level function for kernel density plots).\n",
            "  warnings.warn(msg, FutureWarning)\n",
            "/usr/local/lib/python3.6/dist-packages/seaborn/distributions.py:2557: FutureWarning: `distplot` is a deprecated function and will be removed in a future version. Please adapt your code to use either `displot` (a figure-level function with similar flexibility) or `kdeplot` (an axes-level function for kernel density plots).\n",
            "  warnings.warn(msg, FutureWarning)\n"
          ],
          "name": "stderr"
        },
        {
          "output_type": "execute_result",
          "data": {
            "text/plain": [
              "<matplotlib.legend.Legend at 0x7f571754b828>"
            ]
          },
          "metadata": {
            "tags": []
          },
          "execution_count": 17
        },
        {
          "output_type": "display_data",
          "data": {
            "image/png": "[encoded data removed]",
            "text/plain": [
              "<Figure size 432x288 with 1 Axes>"
            ]
          },
          "metadata": {
            "tags": [],
            "needs_background": "light"
          }
        }
      ]
    },
    {
      "cell_type": "markdown",
      "metadata": {
        "id": "EaGw20nIVO2A"
      },
      "source": [
        "#### Multi Linear Regression"
      ]
    },
    {
      "cell_type": "code",
      "metadata": {
        "colab": {
          "base_uri": "https://localhost:8080/"
        },
        "id": "zkLcjkiDGVTx",
        "outputId": "b7572873-fe7c-4ed8-ea29-cb9709b12f23"
      },
      "source": [
        "### split the data into features & target sets ###\n",
        "# for multi regression select all the features wanted\n",
        "X = df.iloc[:, 0:6].values # set the features\n",
        "y = df.iloc[:, 6].values # set the target \n",
        "print('X shape:', X.shape) # show the shape \n",
        "print('y shape:', y.shape) # show the shape "
      ],
      "execution_count": 18,
      "outputs": [
        {
          "output_type": "stream",
          "text": [
            "X shape: (1338, 6)\n",
            "y shape: (1338,)\n"
          ],
          "name": "stdout"
        }
      ]
    },
    {
      "cell_type": "code",
      "metadata": {
        "id": "c0G4cj3Bk1-7"
      },
      "source": [
        "### set the train test split parameters ###\n",
        "from sklearn.model_selection import train_test_split\n",
        "X_train, X_test, y_train, y_test = train_test_split(X, y, test_size=0.2, random_state=0) # split 80/20 train/test"
      ],
      "execution_count": 19,
      "outputs": []
    },
    {
      "cell_type": "code",
      "metadata": {
        "colab": {
          "base_uri": "https://localhost:8080/"
        },
        "id": "Ev3_XbnvyPYe",
        "outputId": "d1936ab6-eafd-4747-f38b-978f7a55344d"
      },
      "source": [
        "### multi linear regression model ###\n",
        "from sklearn.linear_model import LinearRegression\n",
        "from sklearn import metrics\n",
        "model1 = LinearRegression() # initiate the mdoel \n",
        "model1.fit(X_train, y_train) # fit the data on the model \n",
        "y_pred = model1.predict(X_test) # create the prediction from the poly data \n",
        "#### create data frame of predictions and results ### \n",
        "y_pred_df = pd.DataFrame(y_pred, columns=[\"Predicted_Values\" ]) # create the predicitons data frame \n",
        "y_test_df = pd.DataFrame(np.array(y_test), columns=[\"Real_Values\"]) # create the real values  data frame\n",
        "df_final = pd.concat([y_test_df , y_pred_df] , axis=1) # concat merge the data frames \n",
        "print('--- real values vs predicted values ---') # get the intercept\n",
        "print(df_final.head())\n",
        "### get the model metrics ###\n",
        "print('--- model metrics ---') # get the intercept\n",
        "print('intercept:', model1.intercept_) # get the intercept\n",
        "print('coefficients:', model1.coef_) # get the coefficients\n",
        "score = metrics.r2_score(y_test , y_pred) # get the r2 score \n",
        "print(\"r2 score : {}\".format(score)) # show the r2 score\n",
        "print('model score:', model1.score(X_train, y_train)) # show the model score \n",
        "print(\"model accuracy: {}%\".format(score * 100)) # show the model accuracy"
      ],
      "execution_count": 20,
      "outputs": [
        {
          "output_type": "stream",
          "text": [
            "--- real values vs predicted values ---\n",
            "   Real_Values  Predicted_Values\n",
            "0   9724.53000      11013.367321\n",
            "1   8547.69130       9780.829372\n",
            "2  45702.02235      37847.999767\n",
            "3  12950.07120      16068.361818\n",
            "4   9644.25250       6948.154879\n",
            "--- model metrics ---\n",
            "intercept: -11521.739974797325\n",
            "coefficients: [ 2.52719229e+02 -1.50675034e+01  3.25040932e+02  4.49862728e+02\n",
            "  2.34550480e+04 -2.85774668e+02]\n",
            "r2 score : 0.7994364086227608\n",
            "model score: 0.7401587155026317\n",
            "model accuracy: 79.94364086227608%\n"
          ],
          "name": "stdout"
        }
      ]
    },
    {
      "cell_type": "code",
      "metadata": {
        "colab": {
          "base_uri": "https://localhost:8080/",
          "height": 395
        },
        "id": "NOMVuikON_o_",
        "outputId": "a85e551f-b2b7-430d-d7e0-69e5954c3941"
      },
      "source": [
        "### visualize the model prediction accuracy ###\n",
        "import seaborn as sns\n",
        "import matplotlib.pyplot as plt\n",
        "### configure the plot ###\n",
        "ax1 = sns.distplot(y_test, hist=False, color=\"b\", label=\"Actual Values\")\n",
        "sns.distplot(y_pred, hist=False, color=\"r\", label=\"Predicted Values\" , axlabel='Charges', ax=ax1)\n",
        "plt.legend()"
      ],
      "execution_count": 21,
      "outputs": [
        {
          "output_type": "stream",
          "text": [
            "/usr/local/lib/python3.6/dist-packages/seaborn/distributions.py:2557: FutureWarning: `distplot` is a deprecated function and will be removed in a future version. Please adapt your code to use either `displot` (a figure-level function with similar flexibility) or `kdeplot` (an axes-level function for kernel density plots).\n",
            "  warnings.warn(msg, FutureWarning)\n",
            "/usr/local/lib/python3.6/dist-packages/seaborn/distributions.py:2557: FutureWarning: `distplot` is a deprecated function and will be removed in a future version. Please adapt your code to use either `displot` (a figure-level function with similar flexibility) or `kdeplot` (an axes-level function for kernel density plots).\n",
            "  warnings.warn(msg, FutureWarning)\n"
          ],
          "name": "stderr"
        },
        {
          "output_type": "execute_result",
          "data": {
            "text/plain": [
              "<matplotlib.legend.Legend at 0x7f57174fc6d8>"
            ]
          },
          "metadata": {
            "tags": []
          },
          "execution_count": 21
        },
        {
          "output_type": "display_data",
          "data": {
            "image/png": "[encoded data removed]",
            "text/plain": [
              "<Figure size 432x288 with 1 Axes>"
            ]
          },
          "metadata": {
            "tags": [],
            "needs_background": "light"
          }
        }
      ]
    },
    {
      "cell_type": "markdown",
      "metadata": {
        "id": "_qYrx7bZVW21"
      },
      "source": [
        "#### Polynomial Linear Regression"
      ]
    },
    {
      "cell_type": "code",
      "metadata": {
        "colab": {
          "base_uri": "https://localhost:8080/"
        },
        "id": "ULyU31lqMERr",
        "outputId": "27e6dc04-d97b-47f0-a90d-4afec3bf8180"
      },
      "source": [
        "### split the data into features & target sets ###\n",
        "X = df.iloc[:, 0:6].values # set the features\n",
        "y = df.iloc[:, 6].values # set the target \n",
        "print('X shape:', X.shape) # show the shape \n",
        "print('y shape:', y.shape) # show the shape "
      ],
      "execution_count": 22,
      "outputs": [
        {
          "output_type": "stream",
          "text": [
            "X shape: (1338, 6)\n",
            "y shape: (1338,)\n"
          ],
          "name": "stdout"
        }
      ]
    },
    {
      "cell_type": "code",
      "metadata": {
        "id": "iXFoHrp5MGsg"
      },
      "source": [
        "### set the train test split parameters ###\n",
        "from sklearn.model_selection import train_test_split\n",
        "X_train, X_test, y_train, y_test = train_test_split(X, y, test_size=0.2, random_state=0) # split 80/20 train/test"
      ],
      "execution_count": 23,
      "outputs": []
    },
    {
      "cell_type": "code",
      "metadata": {
        "id": "9wN1cf1SFGTa",
        "colab": {
          "base_uri": "https://localhost:8080/"
        },
        "outputId": "c237c23a-68aa-470c-c002-7fdaf26f13c0"
      },
      "source": [
        "### polynomial regression model ###\n",
        "from sklearn.preprocessing import PolynomialFeatures\n",
        "from sklearn import metrics\n",
        "poly = PolynomialFeatures(degree = 4) # initiate the polynomial features, with degree = 4 \n",
        "X_train_poly = poly.fit_transform(X_train) # fit transform the X train data wtih the poly model \n",
        "X_test_poly = poly.fit_transform(X_test) # fit transform the y train data wtih the poly model \n",
        "### linear regression model ###\n",
        "model2 = LinearRegression() # initiate the mdoel \n",
        "model2.fit(X_train_poly, y_train) # fit the poly data on the model \n",
        "y_pred = model2.predict(X_test_poly) # create the prediction from the poly data \n",
        "### create data frame of predictions and results ### \n",
        "y_pred_df = pd.DataFrame(y_pred, columns=[\"Predicted_Values\" ]) # create the predicitons data frame \n",
        "y_test_df = pd.DataFrame(np.array(y_test), columns=[\"Real_Values\"]) # create the real values  data frame\n",
        "df_poly_final = pd.concat([y_test_df , y_pred_df] , axis=1) # concat merge the data frames \n",
        "print('--- real values vs predicted values ---') # get the intercept\n",
        "print(df_poly_final.head())\n",
        "### get the model metrics ###\n",
        "print('--- model metrics ---') # get the intercept\n",
        "print('intercept:', model2.intercept_) # get the intercept\n",
        "print('coefficients:', model2.coef_) # get the coeffciients\n",
        "score = metrics.r2_score(y_test , y_pred) # get the r2 score \n",
        "print(\"r2 score : {}\".format(score))  # show the r2 score\n",
        "print('model score:', model2.score(X_train_poly, y_train)) # show the model score \n",
        "print(\"model accuracy: {}%\".format(score * 100)) # show the model accuracy"
      ],
      "execution_count": 24,
      "outputs": [
        {
          "output_type": "stream",
          "text": [
            "--- real values vs predicted values ---\n",
            "   Real_Values  Predicted_Values\n",
            "0   9724.53000       9701.633102\n",
            "1   8547.69130       8977.272858\n",
            "2  45702.02235      48417.365356\n",
            "3  12950.07120      13044.331970\n",
            "4   9644.25250      10555.232544\n",
            "--- model metrics ---\n",
            "intercept: -58122146061.7351\n",
            "coefficients: [ 5.81221970e+10  2.49188511e+03  6.51183296e+03 -7.51555670e+03\n",
            "  1.03416335e+04  4.26356565e+04 -2.68180216e+03 -7.59518163e+01\n",
            " -4.11284192e+02 -7.18537680e+01 -2.61703877e+02 -3.23807507e+02\n",
            "  2.04124714e+02  6.51183299e+03 -6.96079280e+02  1.44226526e+03\n",
            " -1.58841592e+03  1.14629564e+03  3.29313589e+02 -7.39629571e+02\n",
            " -5.90139488e+03  3.01291075e+02  2.51464907e+03 -2.85682870e+03\n",
            " -5.91384353e+02  4.26356565e+04  6.67313429e+03 -9.79059309e+02\n",
            "  7.95660802e-01  2.43556539e+01  3.37882814e+00 -1.30492496e+01\n",
            " -8.98408555e+00 -2.48660381e+01 -4.11284192e+02 -1.40066132e+01\n",
            " -3.02810680e+01  4.77476592e+01  3.66056205e+01 -2.07483814e+00\n",
            "  1.31056825e+01  5.68484329e+01  2.74797214e+01  1.68061867e+02\n",
            "  2.79396762e+02  3.70227748e+02 -3.23807507e+02 -6.98938582e+01\n",
            "  5.50985861e+01  6.51183299e+03 -6.96079281e+02  1.44226525e+03\n",
            " -1.58841592e+03  1.14629564e+03  5.56951458e+01 -3.32667441e+02\n",
            "  2.23907479e+02 -4.04022190e+01 -2.20028765e+02 -1.21997212e+03\n",
            "  1.83909571e+03 -1.58841592e+03 -2.68983448e+03 -1.14215268e+03\n",
            " -4.62158968e+00  4.79739908e+01  2.98371170e+02 -3.87010624e+01\n",
            " -3.57606041e+02 -2.76370714e+02 -3.90622802e+02 -5.90139487e+03\n",
            " -5.15028758e+02  1.00678136e+02 -4.04848517e+02  1.09454126e+03\n",
            "  1.80005991e+02 -2.85682870e+03  3.01038271e+03  2.49515694e+02\n",
            "  4.26356565e+04  6.67313429e+03 -1.48702203e+03  7.60076743e+02\n",
            " -3.58838442e-03 -5.41131015e-01 -1.93129000e-02  1.92789918e-01\n",
            "  2.43591542e-01  2.67216818e-01  2.43556544e+01  5.40696639e-01\n",
            "  1.94351840e+00  4.18104525e+00 -3.51237238e+00 -1.79220903e-02\n",
            " -1.09219483e-01 -5.62277644e-01 -3.88994521e-02 -1.73745547e+00\n",
            "  1.51035336e+00 -1.37089621e+00 -8.98408322e+00 -5.37412964e-01\n",
            " -6.71226198e-01 -4.11284192e+02 -1.40066132e+01 -3.02810680e+01\n",
            "  4.77476594e+01  3.66056207e+01 -3.66770691e-01 -5.13651226e+00\n",
            " -1.87822555e+01  5.76616010e+00  5.51000797e+01  2.20448444e+01\n",
            " -3.06865126e+01  4.77476594e+01  1.33114591e+02  1.12258416e+01\n",
            "  4.00108664e-02 -4.56769795e-02 -1.09315845e+00 -3.07382278e-01\n",
            "  1.46950981e+00 -9.03680739e+00 -1.42107563e+00  5.68484330e+01\n",
            "  4.38381403e+00 -2.51749151e+00 -1.33090123e+01 -9.36306520e+01\n",
            " -2.35156889e+00  2.79396762e+02 -1.10595348e+02 -5.64846921e+01\n",
            " -3.23807507e+02 -6.98938582e+01  2.80664799e+01  2.22203764e+01\n",
            "  6.51183299e+03 -6.96079281e+02  1.44226525e+03 -1.58841592e+03\n",
            "  1.14629564e+03  5.56951458e+01 -3.32667441e+02  2.23907479e+02\n",
            " -4.04022190e+01 -2.20028764e+02 -1.21997212e+03  1.83909571e+03\n",
            " -1.58841592e+03 -2.68983448e+03 -1.14215268e+03 -1.29916770e+00\n",
            "  1.92796789e+01 -8.84710436e+00 -3.38287759e+00 -2.44170205e+01\n",
            "  1.83500201e+02 -8.61937430e+01  2.23907479e+02  1.39096963e+02\n",
            "  4.03310973e+01 -1.99150666e+02  4.68646309e+02  3.14003358e+02\n",
            " -1.21997212e+03 -7.21298401e+02 -2.64248611e+02 -1.58841592e+03\n",
            " -2.68983448e+03  4.87220167e+02  6.55235253e+01  1.22468031e-02\n",
            " -6.52674054e-01 -6.23036904e+00  8.26772438e-01  5.66680782e-01\n",
            "  9.98626774e+00  2.83445339e+00  2.98371169e+02  1.43940843e+01\n",
            " -7.68353379e+00  4.54132930e+01  4.91502365e+01 -3.69063847e+00\n",
            " -2.76370714e+02 -3.15554827e+01  6.62975717e+01 -5.90139487e+03\n",
            " -5.15028758e+02  2.61146008e+01  9.30401272e+01  1.72430585e+00\n",
            " -2.14856110e+01 -1.52402131e+02  1.09454126e+03  6.85844165e+01\n",
            "  2.08430613e+02 -2.85682870e+03  3.01038271e+03 -5.00359502e+02\n",
            " -1.40823561e+02  4.26356565e+04  6.67313429e+03 -1.48702203e+03\n",
            "  2.63013571e+02 -7.60700100e+02]\n",
            "r2 score : 0.8150823045890039\n",
            "model score: 0.8335741366471158\n",
            "model accuracy: 81.50823045890039%\n"
          ],
          "name": "stdout"
        }
      ]
    },
    {
      "cell_type": "code",
      "metadata": {
        "colab": {
          "base_uri": "https://localhost:8080/",
          "height": 395
        },
        "id": "bi22leSNalGU",
        "outputId": "59e84f93-e314-4258-ed4c-acfeb6244f72"
      },
      "source": [
        "### visualize the model prediction accuracy ###\n",
        "import seaborn as sns\n",
        "import matplotlib.pyplot as plt\n",
        "### configure the plot ###\n",
        "ax1 = sns.distplot(y_test, hist=False, color=\"b\", label=\"Actual Values\")\n",
        "sns.distplot(y_pred, hist=False, color=\"r\", label=\"Predicted Values\" , axlabel='Charges', ax=ax1)\n",
        "plt.legend()"
      ],
      "execution_count": 25,
      "outputs": [
        {
          "output_type": "stream",
          "text": [
            "/usr/local/lib/python3.6/dist-packages/seaborn/distributions.py:2557: FutureWarning: `distplot` is a deprecated function and will be removed in a future version. Please adapt your code to use either `displot` (a figure-level function with similar flexibility) or `kdeplot` (an axes-level function for kernel density plots).\n",
            "  warnings.warn(msg, FutureWarning)\n",
            "/usr/local/lib/python3.6/dist-packages/seaborn/distributions.py:2557: FutureWarning: `distplot` is a deprecated function and will be removed in a future version. Please adapt your code to use either `displot` (a figure-level function with similar flexibility) or `kdeplot` (an axes-level function for kernel density plots).\n",
            "  warnings.warn(msg, FutureWarning)\n"
          ],
          "name": "stderr"
        },
        {
          "output_type": "execute_result",
          "data": {
            "text/plain": [
              "<matplotlib.legend.Legend at 0x7f5717480ac8>"
            ]
          },
          "metadata": {
            "tags": []
          },
          "execution_count": 25
        },
        {
          "output_type": "display_data",
          "data": {
            "image/png": "[encoded data removed]",
            "text/plain": [
              "<Figure size 432x288 with 1 Axes>"
            ]
          },
          "metadata": {
            "tags": [],
            "needs_background": "light"
          }
        }
      ]
    }
  ]
}