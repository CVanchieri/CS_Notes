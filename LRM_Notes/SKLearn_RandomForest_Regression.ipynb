{
  "nbformat": 4,
  "nbformat_minor": 0,
  "metadata": {
    "colab": {
      "name": "SKLearn_RandomForestRegression.ipynb",
      "provenance": [],
      "collapsed_sections": [
        "pHYXNoDvORIF",
        "OhRHMqRaQfiG",
        "a9Z_XK3rO7H6"
      ]
    },
    "kernelspec": {
      "name": "python3",
      "display_name": "Python 3"
    }
  },
  "cells": [
    {
      "cell_type": "markdown",
      "metadata": {
        "id": "CFM5sl2ef0Cg"
      },
      "source": [
        "## Random Forest Regression\n"
      ]
    },
    {
      "cell_type": "markdown",
      "metadata": {
        "id": "pHYXNoDvORIF"
      },
      "source": [
        "### Regression \n",
        "#### Regression searches for relationships among variables, you need regression to answer whether and how some phenomenon influences the other or how several variables are related, uses the relationship between the variables x and y to find the best way to draw a line through the data points.\n",
        "---\n",
        "\n",
        "### Random Forest\n",
        "#### The fundamental idea behind a random forest is to combine many decision trees into a single model. Individually, predictions made by decision trees (or humans) may not be accurate, but combined together, the predictions will be closer to the mark on average. \n",
        "\n",
        "#### Pros \n",
        "- can handle large datasets \n",
        "- less influenced by outliers in the data\n",
        "- no assumptions about underlying distributions in the data\n",
        "- can implicitly handle collinearity in features, highly similar features \n",
        "- work well with heterogeneous features, categorical and numerical, mixing different range values \n",
        "\n",
        "#### Cons\n",
        "- robust algorithm makes it more complex tougher to analyze small details \n",
        "- not best to determine feature and target relationships/effects due to working with highly similar features"
      ]
    },
    {
      "cell_type": "markdown",
      "metadata": {
        "id": "OhRHMqRaQfiG"
      },
      "source": [
        "### Model Set Up\n",
        "\n",
        "#### Steps\n",
        " - load the data\n",
        " - determine regression or classification target\n",
        " - inspect, clean, organize data\n",
        " - check for, handle outliers \n",
        " - encode data if necessary \n",
        " - set features and target \n",
        " - train, test split the data \n",
        " - scale the data if necessary \n",
        " - build the model, fit on the data, run the model\n",
        " - run metrics, analyze, view results, adjust parameters, repeat until satisfied... \n"
      ]
    },
    {
      "cell_type": "markdown",
      "metadata": {
        "id": "3hmqr8qAMLuE"
      },
      "source": [
        "### Regression Models"
      ]
    },
    {
      "cell_type": "markdown",
      "metadata": {
        "id": "a9Z_XK3rO7H6"
      },
      "source": [
        "#### Single Random Forest Rergression\n",
        " - \n",
        " -\n",
        " -\n",
        "\n",
        "#### Multi Random Forest Regression\n",
        " - \n",
        " -\n",
        " -\n",
        "\n",
        "\n"
      ]
    },
    {
      "cell_type": "markdown",
      "metadata": {
        "id": "VUXplGBBRmeD"
      },
      "source": [
        "#### RandomForest Regression Models "
      ]
    },
    {
      "cell_type": "markdown",
      "metadata": {
        "id": "MCbiZ7J-V55T"
      },
      "source": [
        "##### Import + Inspect"
      ]
    },
    {
      "cell_type": "code",
      "metadata": {
        "id": "ThIRPgzSjP1T",
        "colab": {
          "base_uri": "https://localhost:8080/",
          "height": 237
        },
        "outputId": "5bc04c08-089d-4a49-c396-b2a4068ec216"
      },
      "source": [
        "### imports ###\n",
        "import pandas as pd\n",
        "import numpy as np\n",
        "import sklearn\n",
        "df = pd.read_csv('https://raw.githubusercontent.com/CVanchieri/CS_Notes/main/RFM_Notes/petrol_consumption.csv') # read in the file \n",
        "print('data frame shape:', df.shape) # show the data frame shape \n",
        "df.head() # show the data frame "
      ],
      "execution_count": 41,
      "outputs": [
        {
          "output_type": "stream",
          "text": [
            "data frame shape: (48, 5)\n"
          ],
          "name": "stdout"
        },
        {
          "output_type": "execute_result",
          "data": {
            "text/html": [
              "<div>\n",
              "<style scoped>\n",
              "    .dataframe tbody tr th:only-of-type {\n",
              "        vertical-align: middle;\n",
              "    }\n",
              "\n",
              "    .dataframe tbody tr th {\n",
              "        vertical-align: top;\n",
              "    }\n",
              "\n",
              "    .dataframe thead th {\n",
              "        text-align: right;\n",
              "    }\n",
              "</style>\n",
              "<table border=\"1\" class=\"dataframe\">\n",
              "  <thead>\n",
              "    <tr style=\"text-align: right;\">\n",
              "      <th></th>\n",
              "      <th>Petrol_tax</th>\n",
              "      <th>Average_income</th>\n",
              "      <th>Paved_Highways</th>\n",
              "      <th>Population_Driver_licence(%)</th>\n",
              "      <th>Petrol_Consumption</th>\n",
              "    </tr>\n",
              "  </thead>\n",
              "  <tbody>\n",
              "    <tr>\n",
              "      <th>0</th>\n",
              "      <td>9.0</td>\n",
              "      <td>3571</td>\n",
              "      <td>1976</td>\n",
              "      <td>0.525</td>\n",
              "      <td>541</td>\n",
              "    </tr>\n",
              "    <tr>\n",
              "      <th>1</th>\n",
              "      <td>9.0</td>\n",
              "      <td>4092</td>\n",
              "      <td>1250</td>\n",
              "      <td>0.572</td>\n",
              "      <td>524</td>\n",
              "    </tr>\n",
              "    <tr>\n",
              "      <th>2</th>\n",
              "      <td>9.0</td>\n",
              "      <td>3865</td>\n",
              "      <td>1586</td>\n",
              "      <td>0.580</td>\n",
              "      <td>561</td>\n",
              "    </tr>\n",
              "    <tr>\n",
              "      <th>3</th>\n",
              "      <td>7.5</td>\n",
              "      <td>4870</td>\n",
              "      <td>2351</td>\n",
              "      <td>0.529</td>\n",
              "      <td>414</td>\n",
              "    </tr>\n",
              "    <tr>\n",
              "      <th>4</th>\n",
              "      <td>8.0</td>\n",
              "      <td>4399</td>\n",
              "      <td>431</td>\n",
              "      <td>0.544</td>\n",
              "      <td>410</td>\n",
              "    </tr>\n",
              "  </tbody>\n",
              "</table>\n",
              "</div>"
            ],
            "text/plain": [
              "   Petrol_tax  Average_income  ...  Population_Driver_licence(%)  Petrol_Consumption\n",
              "0         9.0            3571  ...                         0.525                 541\n",
              "1         9.0            4092  ...                         0.572                 524\n",
              "2         9.0            3865  ...                         0.580                 561\n",
              "3         7.5            4870  ...                         0.529                 414\n",
              "4         8.0            4399  ...                         0.544                 410\n",
              "\n",
              "[5 rows x 5 columns]"
            ]
          },
          "metadata": {
            "tags": []
          },
          "execution_count": 41
        }
      ]
    },
    {
      "cell_type": "code",
      "metadata": {
        "id": "2Z4k1D0uekFE",
        "colab": {
          "base_uri": "https://localhost:8080/",
          "height": 641
        },
        "outputId": "14018414-5282-41ec-b982-073ac0fdefc0"
      },
      "source": [
        "### inspecting the data ###\n",
        "print('--- INSPECTING THE DATA --- ')\n",
        "print('--- columns --- ')\n",
        "print(df.columns) \n",
        "print('--- types --- ')\n",
        "print(df.dtypes) \n",
        "print('--- NA counts --- ')\n",
        "print(df.isna().sum()) \n",
        "# print('--- object descriptions --- ')\n",
        "# print(df.describe(include=object))\n",
        "print('--- numericals descriptions --- ')\n",
        "df.describe()"
      ],
      "execution_count": 42,
      "outputs": [
        {
          "output_type": "stream",
          "text": [
            "--- INSPECTING THE DATA --- \n",
            "--- columns --- \n",
            "Index(['Petrol_tax', 'Average_income', 'Paved_Highways',\n",
            "       'Population_Driver_licence(%)', 'Petrol_Consumption'],\n",
            "      dtype='object')\n",
            "--- types --- \n",
            "Petrol_tax                      float64\n",
            "Average_income                    int64\n",
            "Paved_Highways                    int64\n",
            "Population_Driver_licence(%)    float64\n",
            "Petrol_Consumption                int64\n",
            "dtype: object\n",
            "--- NA counts --- \n",
            "Petrol_tax                      0\n",
            "Average_income                  0\n",
            "Paved_Highways                  0\n",
            "Population_Driver_licence(%)    0\n",
            "Petrol_Consumption              0\n",
            "dtype: int64\n",
            "--- numericals descriptions --- \n"
          ],
          "name": "stdout"
        },
        {
          "output_type": "execute_result",
          "data": {
            "text/html": [
              "<div>\n",
              "<style scoped>\n",
              "    .dataframe tbody tr th:only-of-type {\n",
              "        vertical-align: middle;\n",
              "    }\n",
              "\n",
              "    .dataframe tbody tr th {\n",
              "        vertical-align: top;\n",
              "    }\n",
              "\n",
              "    .dataframe thead th {\n",
              "        text-align: right;\n",
              "    }\n",
              "</style>\n",
              "<table border=\"1\" class=\"dataframe\">\n",
              "  <thead>\n",
              "    <tr style=\"text-align: right;\">\n",
              "      <th></th>\n",
              "      <th>Petrol_tax</th>\n",
              "      <th>Average_income</th>\n",
              "      <th>Paved_Highways</th>\n",
              "      <th>Population_Driver_licence(%)</th>\n",
              "      <th>Petrol_Consumption</th>\n",
              "    </tr>\n",
              "  </thead>\n",
              "  <tbody>\n",
              "    <tr>\n",
              "      <th>count</th>\n",
              "      <td>48.000000</td>\n",
              "      <td>48.000000</td>\n",
              "      <td>48.000000</td>\n",
              "      <td>48.000000</td>\n",
              "      <td>48.000000</td>\n",
              "    </tr>\n",
              "    <tr>\n",
              "      <th>mean</th>\n",
              "      <td>7.668333</td>\n",
              "      <td>4241.833333</td>\n",
              "      <td>5565.416667</td>\n",
              "      <td>0.570333</td>\n",
              "      <td>576.770833</td>\n",
              "    </tr>\n",
              "    <tr>\n",
              "      <th>std</th>\n",
              "      <td>0.950770</td>\n",
              "      <td>573.623768</td>\n",
              "      <td>3491.507166</td>\n",
              "      <td>0.055470</td>\n",
              "      <td>111.885816</td>\n",
              "    </tr>\n",
              "    <tr>\n",
              "      <th>min</th>\n",
              "      <td>5.000000</td>\n",
              "      <td>3063.000000</td>\n",
              "      <td>431.000000</td>\n",
              "      <td>0.451000</td>\n",
              "      <td>344.000000</td>\n",
              "    </tr>\n",
              "    <tr>\n",
              "      <th>25%</th>\n",
              "      <td>7.000000</td>\n",
              "      <td>3739.000000</td>\n",
              "      <td>3110.250000</td>\n",
              "      <td>0.529750</td>\n",
              "      <td>509.500000</td>\n",
              "    </tr>\n",
              "    <tr>\n",
              "      <th>50%</th>\n",
              "      <td>7.500000</td>\n",
              "      <td>4298.000000</td>\n",
              "      <td>4735.500000</td>\n",
              "      <td>0.564500</td>\n",
              "      <td>568.500000</td>\n",
              "    </tr>\n",
              "    <tr>\n",
              "      <th>75%</th>\n",
              "      <td>8.125000</td>\n",
              "      <td>4578.750000</td>\n",
              "      <td>7156.000000</td>\n",
              "      <td>0.595250</td>\n",
              "      <td>632.750000</td>\n",
              "    </tr>\n",
              "    <tr>\n",
              "      <th>max</th>\n",
              "      <td>10.000000</td>\n",
              "      <td>5342.000000</td>\n",
              "      <td>17782.000000</td>\n",
              "      <td>0.724000</td>\n",
              "      <td>968.000000</td>\n",
              "    </tr>\n",
              "  </tbody>\n",
              "</table>\n",
              "</div>"
            ],
            "text/plain": [
              "       Petrol_tax  ...  Petrol_Consumption\n",
              "count   48.000000  ...           48.000000\n",
              "mean     7.668333  ...          576.770833\n",
              "std      0.950770  ...          111.885816\n",
              "min      5.000000  ...          344.000000\n",
              "25%      7.000000  ...          509.500000\n",
              "50%      7.500000  ...          568.500000\n",
              "75%      8.125000  ...          632.750000\n",
              "max     10.000000  ...          968.000000\n",
              "\n",
              "[8 rows x 5 columns]"
            ]
          },
          "metadata": {
            "tags": []
          },
          "execution_count": 42
        }
      ]
    },
    {
      "cell_type": "code",
      "metadata": {
        "id": "c_GOvh2rVjBm",
        "colab": {
          "base_uri": "https://localhost:8080/",
          "height": 237
        },
        "outputId": "fafe851a-d207-41a8-9125-013906b61878"
      },
      "source": [
        "### view basic feature correlations ###\n",
        "print('--- feature correlations ---')\n",
        "df.corr()"
      ],
      "execution_count": 43,
      "outputs": [
        {
          "output_type": "stream",
          "text": [
            "--- feature correlations ---\n"
          ],
          "name": "stdout"
        },
        {
          "output_type": "execute_result",
          "data": {
            "text/html": [
              "<div>\n",
              "<style scoped>\n",
              "    .dataframe tbody tr th:only-of-type {\n",
              "        vertical-align: middle;\n",
              "    }\n",
              "\n",
              "    .dataframe tbody tr th {\n",
              "        vertical-align: top;\n",
              "    }\n",
              "\n",
              "    .dataframe thead th {\n",
              "        text-align: right;\n",
              "    }\n",
              "</style>\n",
              "<table border=\"1\" class=\"dataframe\">\n",
              "  <thead>\n",
              "    <tr style=\"text-align: right;\">\n",
              "      <th></th>\n",
              "      <th>Petrol_tax</th>\n",
              "      <th>Average_income</th>\n",
              "      <th>Paved_Highways</th>\n",
              "      <th>Population_Driver_licence(%)</th>\n",
              "      <th>Petrol_Consumption</th>\n",
              "    </tr>\n",
              "  </thead>\n",
              "  <tbody>\n",
              "    <tr>\n",
              "      <th>Petrol_tax</th>\n",
              "      <td>1.000000</td>\n",
              "      <td>0.012665</td>\n",
              "      <td>-0.522130</td>\n",
              "      <td>-0.288037</td>\n",
              "      <td>-0.451280</td>\n",
              "    </tr>\n",
              "    <tr>\n",
              "      <th>Average_income</th>\n",
              "      <td>0.012665</td>\n",
              "      <td>1.000000</td>\n",
              "      <td>0.050163</td>\n",
              "      <td>0.157070</td>\n",
              "      <td>-0.244862</td>\n",
              "    </tr>\n",
              "    <tr>\n",
              "      <th>Paved_Highways</th>\n",
              "      <td>-0.522130</td>\n",
              "      <td>0.050163</td>\n",
              "      <td>1.000000</td>\n",
              "      <td>-0.064129</td>\n",
              "      <td>0.019042</td>\n",
              "    </tr>\n",
              "    <tr>\n",
              "      <th>Population_Driver_licence(%)</th>\n",
              "      <td>-0.288037</td>\n",
              "      <td>0.157070</td>\n",
              "      <td>-0.064129</td>\n",
              "      <td>1.000000</td>\n",
              "      <td>0.698965</td>\n",
              "    </tr>\n",
              "    <tr>\n",
              "      <th>Petrol_Consumption</th>\n",
              "      <td>-0.451280</td>\n",
              "      <td>-0.244862</td>\n",
              "      <td>0.019042</td>\n",
              "      <td>0.698965</td>\n",
              "      <td>1.000000</td>\n",
              "    </tr>\n",
              "  </tbody>\n",
              "</table>\n",
              "</div>"
            ],
            "text/plain": [
              "                              Petrol_tax  ...  Petrol_Consumption\n",
              "Petrol_tax                      1.000000  ...           -0.451280\n",
              "Average_income                  0.012665  ...           -0.244862\n",
              "Paved_Highways                 -0.522130  ...            0.019042\n",
              "Population_Driver_licence(%)   -0.288037  ...            0.698965\n",
              "Petrol_Consumption             -0.451280  ...            1.000000\n",
              "\n",
              "[5 rows x 5 columns]"
            ]
          },
          "metadata": {
            "tags": []
          },
          "execution_count": 43
        }
      ]
    },
    {
      "cell_type": "code",
      "metadata": {
        "id": "1RHqwUrdVjKI",
        "colab": {
          "base_uri": "https://localhost:8080/",
          "height": 600
        },
        "outputId": "17a5dd1c-97f4-417e-fa9e-f946c81259da"
      },
      "source": [
        "### view basic feature correlations in a heatmap ###\n",
        "import seaborn as sns \n",
        "import matplotlib.pyplot as plt \n",
        "f, ax = plt.subplots(1, 1, figsize = (10, 7))\n",
        "print('--- feature correlations heatmap ---')\n",
        "sns.heatmap(df.corr() , cmap = 'Wistia' , annot = True)"
      ],
      "execution_count": 44,
      "outputs": [
        {
          "output_type": "stream",
          "text": [
            "--- feature correlations heatmap ---\n"
          ],
          "name": "stdout"
        },
        {
          "output_type": "execute_result",
          "data": {
            "text/plain": [
              "<matplotlib.axes._subplots.AxesSubplot at 0x7fd3b54f2358>"
            ]
          },
          "metadata": {
            "tags": []
          },
          "execution_count": 44
        },
        {
          "output_type": "display_data",
          "data": {
            "image/png": "[encoded data removed]",
            "text/plain": [
              "<Figure size 720x504 with 2 Axes>"
            ]
          },
          "metadata": {
            "tags": [],
            "needs_background": "light"
          }
        }
      ]
    },
    {
      "cell_type": "code",
      "metadata": {
        "id": "u3zWlAMjVjYC",
        "colab": {
          "base_uri": "https://localhost:8080/",
          "height": 1000
        },
        "outputId": "8519325f-04b4-4203-9ab9-fb79c059001d"
      },
      "source": [
        "### view scatter plots for each feature vs. target ###\n",
        "import matplotlib.pyplot as plt \n",
        "target_ = 'Petrol_Consumption' # set the target\n",
        "features_ = df.iloc[:, 0:4] # set the features\n",
        "print('--- scatter plots ---')\n",
        "for feature in features_:\n",
        "    figure = plt.figure\n",
        "    f, ax = plt.subplots(1, 1, figsize = (10, 7))\n",
        "    ax = plt.gca()\n",
        "    ax.scatter(df[target_], df[feature])\n",
        "    ax.set_xlabel(target_)\n",
        "    ax.set_ylabel(feature)\n",
        "    ax.set_title(f'''{target_} vs {feature}''')\n",
        "    plt.show()"
      ],
      "execution_count": 45,
      "outputs": [
        {
          "output_type": "stream",
          "text": [
            "--- scatter plots ---\n"
          ],
          "name": "stdout"
        },
        {
          "output_type": "display_data",
          "data": {
            "image/png": "[encoded data removed]",
            "text/plain": [
              "<Figure size 720x504 with 1 Axes>"
            ]
          },
          "metadata": {
            "tags": [],
            "needs_background": "light"
          }
        },
        {
          "output_type": "display_data",
          "data": {
            "image/png": "[encoded data removed]",
            "text/plain": [
              "<Figure size 720x504 with 1 Axes>"
            ]
          },
          "metadata": {
            "tags": [],
            "needs_background": "light"
          }
        },
        {
          "output_type": "display_data",
          "data": {
            "image/png": "[encoded data removed]",
            "text/plain": [
              "<Figure size 720x504 with 1 Axes>"
            ]
          },
          "metadata": {
            "tags": [],
            "needs_background": "light"
          }
        },
        {
          "output_type": "display_data",
          "data": {
            "image/png": "[encoded data removed]",
            "text/plain": [
              "<Figure size 720x504 with 1 Axes>"
            ]
          },
          "metadata": {
            "tags": [],
            "needs_background": "light"
          }
        }
      ]
    },
    {
      "cell_type": "markdown",
      "metadata": {
        "id": "t6711cfuimwK"
      },
      "source": [
        "#### Encode + Clean + Organize\n"
      ]
    },
    {
      "cell_type": "code",
      "metadata": {
        "id": "-q4TXoROik9V"
      },
      "source": [
        "### encoding not necessary with this example, all are numericals ###"
      ],
      "execution_count": null,
      "outputs": []
    },
    {
      "cell_type": "code",
      "metadata": {
        "id": "N7-C-WNio8b9",
        "colab": {
          "base_uri": "https://localhost:8080/",
          "height": 1000
        },
        "outputId": "a6413664-c08a-4187-94a6-a98320c3ca80"
      },
      "source": [
        "### check for outliers in the data ### \n",
        "import matplotlib.pyplot as plt\n",
        "# view each feature in a boxplot \n",
        "for column in df:\n",
        "    plt.figure() # plot figure \n",
        "    f, ax = plt.subplots(1, 1, figsize = (10, 7))\n",
        "    df.boxplot([column]) # set data"
      ],
      "execution_count": 46,
      "outputs": [
        {
          "output_type": "display_data",
          "data": {
            "text/plain": [
              "<Figure size 432x288 with 0 Axes>"
            ]
          },
          "metadata": {
            "tags": []
          }
        },
        {
          "output_type": "display_data",
          "data": {
            "image/png": "[encoded data removed]",
            "text/plain": [
              "<Figure size 720x504 with 1 Axes>"
            ]
          },
          "metadata": {
            "tags": [],
            "needs_background": "light"
          }
        },
        {
          "output_type": "display_data",
          "data": {
            "text/plain": [
              "<Figure size 432x288 with 0 Axes>"
            ]
          },
          "metadata": {
            "tags": []
          }
        },
        {
          "output_type": "display_data",
          "data": {
            "image/png": "[encoded data removed]",
            "text/plain": [
              "<Figure size 720x504 with 1 Axes>"
            ]
          },
          "metadata": {
            "tags": [],
            "needs_background": "light"
          }
        },
        {
          "output_type": "display_data",
          "data": {
            "text/plain": [
              "<Figure size 432x288 with 0 Axes>"
            ]
          },
          "metadata": {
            "tags": []
          }
        },
        {
          "output_type": "display_data",
          "data": {
            "image/png": "[encoded data removed]",
            "text/plain": [
              "<Figure size 720x504 with 1 Axes>"
            ]
          },
          "metadata": {
            "tags": [],
            "needs_background": "light"
          }
        },
        {
          "output_type": "display_data",
          "data": {
            "text/plain": [
              "<Figure size 432x288 with 0 Axes>"
            ]
          },
          "metadata": {
            "tags": []
          }
        },
        {
          "output_type": "display_data",
          "data": {
            "image/png": "[encoded data removed]",
            "text/plain": [
              "<Figure size 720x504 with 1 Axes>"
            ]
          },
          "metadata": {
            "tags": [],
            "needs_background": "light"
          }
        },
        {
          "output_type": "display_data",
          "data": {
            "text/plain": [
              "<Figure size 432x288 with 0 Axes>"
            ]
          },
          "metadata": {
            "tags": []
          }
        },
        {
          "output_type": "display_data",
          "data": {
            "image/png": "[encoded data removed]",
            "text/plain": [
              "<Figure size 720x504 with 1 Axes>"
            ]
          },
          "metadata": {
            "tags": [],
            "needs_background": "light"
          }
        }
      ]
    },
    {
      "cell_type": "code",
      "metadata": {
        "id": "1l_5nceolQS6"
      },
      "source": [
        "### function to find outliers in the data ###\n",
        "def outlier_zscore(data):\n",
        "    global outliers,zscore\n",
        "    outliers = [] \n",
        "    zscore = [] \n",
        "    threshold = 3.5 # set threshold \n",
        "    mean = np.mean(data)\n",
        "    std = np.std(data)\n",
        "    for i in data:\n",
        "        z_score = (i - mean)/std # calculate the z_score\n",
        "        zscore.append(z_score) # append the score to the zscore\n",
        "        if np.abs(z_score) > threshold: \n",
        "            outliers.append(i) # append z_score the outliers\n",
        "    print(outliers)\n",
        "    return len(outliers), outliers"
      ],
      "execution_count": 47,
      "outputs": []
    },
    {
      "cell_type": "code",
      "metadata": {
        "id": "vO4qw9tXl4Km",
        "colab": {
          "base_uri": "https://localhost:8080/"
        },
        "outputId": "6680a9ab-7fa8-488c-c6d3-599f0fff1f32"
      },
      "source": [
        "### run each feature 'wanted' through the function ### \n",
        "print('--- possible outliers --- ')\n",
        "Average_income_outliers_number, Average_income_outliers = outlier_zscore(df.Average_income)\n",
        "Paved_Highways_outliers_number, Paved_Highways_outliers = outlier_zscore(df.Paved_Highways)\n",
        "Population_Driver_licence_outliers_number, Population_Driver_licence_outliers = outlier_zscore(df['Population_Driver_licence(%)'])\n",
        "Petrol_Consumption_outliers_number, Petrol_Consumption_outliers = outlier_zscore(df.Petrol_Consumption)"
      ],
      "execution_count": 48,
      "outputs": [
        {
          "output_type": "stream",
          "text": [
            "--- possible outliers --- \n",
            "[]\n",
            "[17782]\n",
            "[]\n",
            "[968]\n"
          ],
          "name": "stdout"
        }
      ]
    },
    {
      "cell_type": "code",
      "metadata": {
        "id": "u31ZFVCvnxTv",
        "colab": {
          "base_uri": "https://localhost:8080/"
        },
        "outputId": "5534af84-5345-4a7f-c811-04e31735bb31"
      },
      "source": [
        "### removal of outliers per feature ###\n",
        "for num, i in enumerate(df['Paved_Highways']): \n",
        "    if i in Paved_Highways_outliers:\n",
        "        df['Paved_Highways'][num] = 14800 # choose replacement score\n",
        "for num, i in enumerate(df['Petrol_Consumption']): \n",
        "    if i in Petrol_Consumption_outliers:\n",
        "        df['Petrol_Consumption'][num] = 875 # choose replacement score"
      ],
      "execution_count": 49,
      "outputs": [
        {
          "output_type": "stream",
          "text": [
            "/usr/local/lib/python3.6/dist-packages/ipykernel_launcher.py:4: SettingWithCopyWarning: \n",
            "A value is trying to be set on a copy of a slice from a DataFrame\n",
            "\n",
            "See the caveats in the documentation: https://pandas.pydata.org/pandas-docs/stable/user_guide/indexing.html#returning-a-view-versus-a-copy\n",
            "  after removing the cwd from sys.path.\n",
            "/usr/local/lib/python3.6/dist-packages/ipykernel_launcher.py:7: SettingWithCopyWarning: \n",
            "A value is trying to be set on a copy of a slice from a DataFrame\n",
            "\n",
            "See the caveats in the documentation: https://pandas.pydata.org/pandas-docs/stable/user_guide/indexing.html#returning-a-view-versus-a-copy\n",
            "  import sys\n"
          ],
          "name": "stderr"
        }
      ]
    },
    {
      "cell_type": "markdown",
      "metadata": {
        "id": "_C0BbW7E7lmB"
      },
      "source": [
        "##### Single Random Forest Regression Model\n",
        " - GridSearch CV\n",
        " - RandomSearch CV"
      ]
    },
    {
      "cell_type": "code",
      "metadata": {
        "id": "Y3JVfI60WqSh"
      },
      "source": [
        "### copy the data frame ###\n",
        "f1 = df.copy()"
      ],
      "execution_count": 50,
      "outputs": []
    },
    {
      "cell_type": "code",
      "metadata": {
        "id": "jgCwFpVm7vL2",
        "colab": {
          "base_uri": "https://localhost:8080/"
        },
        "outputId": "c4b8fab6-bd56-4bfa-c3fc-9c28fdc7e98f"
      },
      "source": [
        "### split the data into features & target sets ###\n",
        "X = df1.iloc[:, 3:4].values # set the features\n",
        "y = df1.iloc[:, 4].values # set the target \n",
        "print('--- data shapes --- ')\n",
        "print('X shape:', X.shape)  \n",
        "print('y shape:', y.shape) "
      ],
      "execution_count": 51,
      "outputs": [
        {
          "output_type": "stream",
          "text": [
            "--- data shapes --- \n",
            "X shape: (48, 1)\n",
            "y shape: (48,)\n"
          ],
          "name": "stdout"
        }
      ]
    },
    {
      "cell_type": "code",
      "metadata": {
        "id": "Gumvm__d7vbU"
      },
      "source": [
        "### set the train test split parameters ###\n",
        "from sklearn.model_selection import train_test_split\n",
        "X_train, X_test, y_train, y_test = train_test_split(X, y, test_size=0.2, random_state=0) # split 80/20"
      ],
      "execution_count": 52,
      "outputs": []
    },
    {
      "cell_type": "code",
      "metadata": {
        "id": "Dyc25kdu_rIa"
      },
      "source": [
        "### feature scaling ### \n",
        "from sklearn.preprocessing import StandardScaler\n",
        "sc = StandardScaler() # initiate the scalar   \n",
        "X_train = sc.fit_transform(X_train) # fit transform the data with scalar\n",
        "X_test = sc.transform(X_test) # fit transform the data with scalar"
      ],
      "execution_count": 53,
      "outputs": []
    },
    {
      "cell_type": "code",
      "metadata": {
        "id": "lETj7_pP7vjc",
        "colab": {
          "base_uri": "https://localhost:8080/"
        },
        "outputId": "22aa820d-ddf0-425c-fd42-0969968e82cb"
      },
      "source": [
        "### random forest regression model ###\n",
        "from sklearn.ensemble import RandomForestRegressor\n",
        "from sklearn import metrics\n",
        "model = RandomForestRegressor(\n",
        "                              n_estimators=20, # 20 estimators, # of trees\n",
        "                              random_state=0\n",
        "                              )\n",
        "print('--- model runtime --- ')\n",
        "%time model.fit(X_train, y_train)\n",
        "y_pred = model.predict(X_test)\n",
        "#### create data frame of predictions and results ### \n",
        "y_pred_df = pd.DataFrame(y_pred, columns=[\"Predicted_Values\" ]) \n",
        "y_test_df = pd.DataFrame(np.array(y_test), columns=[\"Real_Values\"])\n",
        "df_final = pd.concat([y_test_df , y_pred_df] , axis=1)\n",
        "print('--- real values vs predicted values ---')\n",
        "print(df_final.head())\n",
        "### get the model metrics ###\n",
        "print('--- model metrics ---') \n",
        "print('mean absolute error:', metrics.mean_absolute_error(y_test, y_pred)) # mae \n",
        "print('mean squared error:', metrics.mean_squared_error(y_test, y_pred)) # mse \n",
        "print('root mean squared error:', np.sqrt(metrics.mean_squared_error(y_test, y_pred))) # rmse\n",
        "score = metrics.r2_score(y_test , y_pred) # get the r2 score \n",
        "print(\"r2 score : {}\".format(score)) # show the r2 score\n",
        "print('model score:', model.score(X_train, y_train)) # show the model score \n",
        "print(\"model accuracy: {}%\".format(score * 100)) # show the model accuracy"
      ],
      "execution_count": 54,
      "outputs": [
        {
          "output_type": "stream",
          "text": [
            "--- model runtime --- \n",
            "CPU times: user 24.2 ms, sys: 3 µs, total: 24.2 ms\n",
            "Wall time: 24.4 ms\n",
            "--- real values vs predicted values ---\n",
            "   Real_Values  Predicted_Values\n",
            "0          534            538.00\n",
            "1          410            553.10\n",
            "2          577            588.40\n",
            "3          571            543.55\n",
            "4          577            592.15\n",
            "--- model metrics ---\n",
            "mean absolute error: 53.08583333333333\n",
            "mean squared error: 4879.798590277777\n",
            "root mean squared error: 69.85555518552391\n",
            "r2 score : 0.16719027922842844\n",
            "model score: 0.8676962465839522\n",
            "model accuracy: 16.719027922842844%\n"
          ],
          "name": "stdout"
        }
      ]
    },
    {
      "cell_type": "code",
      "metadata": {
        "id": "BLcxwXjn7vr4",
        "colab": {
          "base_uri": "https://localhost:8080/",
          "height": 560
        },
        "outputId": "777905dd-5571-4e86-d8c4-b2a8d75faab2"
      },
      "source": [
        "### visualize the model prediction accuracy ###\n",
        "import seaborn as sns\n",
        "import matplotlib.pyplot as plt\n",
        "### configure the plot ###\n",
        "print('--- distplot accuracy --- ')\n",
        "f, ax = plt.subplots(1, 1, figsize = (10, 7))\n",
        "ax1 = sns.distplot(y_test, hist=False, color=\"b\", label=\"Actual Values\")\n",
        "sns.distplot(y_pred, hist=False, color=\"r\", label=\"Predicted Values\" , axlabel='Charges', ax=ax1)\n",
        "plt.legend()"
      ],
      "execution_count": 55,
      "outputs": [
        {
          "output_type": "stream",
          "text": [
            "--- distplot accuracy --- \n"
          ],
          "name": "stdout"
        },
        {
          "output_type": "stream",
          "text": [
            "/usr/local/lib/python3.6/dist-packages/seaborn/distributions.py:2557: FutureWarning: `distplot` is a deprecated function and will be removed in a future version. Please adapt your code to use either `displot` (a figure-level function with similar flexibility) or `kdeplot` (an axes-level function for kernel density plots).\n",
            "  warnings.warn(msg, FutureWarning)\n",
            "/usr/local/lib/python3.6/dist-packages/seaborn/distributions.py:2557: FutureWarning: `distplot` is a deprecated function and will be removed in a future version. Please adapt your code to use either `displot` (a figure-level function with similar flexibility) or `kdeplot` (an axes-level function for kernel density plots).\n",
            "  warnings.warn(msg, FutureWarning)\n"
          ],
          "name": "stderr"
        },
        {
          "output_type": "execute_result",
          "data": {
            "text/plain": [
              "<matplotlib.legend.Legend at 0x7fd3b48b89e8>"
            ]
          },
          "metadata": {
            "tags": []
          },
          "execution_count": 55
        },
        {
          "output_type": "display_data",
          "data": {
            "image/png": "[encoded data removed]",
            "text/plain": [
              "<Figure size 720x504 with 1 Axes>"
            ]
          },
          "metadata": {
            "tags": [],
            "needs_background": "light"
          }
        }
      ]
    },
    {
      "cell_type": "markdown",
      "metadata": {
        "id": "KyAP57Vuiq0W"
      },
      "source": [
        "###### GridSearch CV"
      ]
    },
    {
      "cell_type": "code",
      "metadata": {
        "id": "C3dYkRsZWuJ2"
      },
      "source": [
        "### copy the data frame ###\n",
        "df2 = df.copy()"
      ],
      "execution_count": 56,
      "outputs": []
    },
    {
      "cell_type": "code",
      "metadata": {
        "colab": {
          "base_uri": "https://localhost:8080/"
        },
        "id": "aJa-XD8aWy0w",
        "outputId": "74257df6-c176-4430-e943-4c76e294d7d2"
      },
      "source": [
        "### split the data into features & target sets ###\n",
        "# for single regression select 1 feature\n",
        "X = df2.iloc[:, 3:4].values # set the features\n",
        "y = df2.iloc[:, 4].values # set the target \n",
        "print('--- data shapes --- ')\n",
        "print('X shape:', X.shape) \n",
        "print('y shape:', y.shape) "
      ],
      "execution_count": 57,
      "outputs": [
        {
          "output_type": "stream",
          "text": [
            "--- data shapes --- \n",
            "X shape: (48, 1)\n",
            "y shape: (48,)\n"
          ],
          "name": "stdout"
        }
      ]
    },
    {
      "cell_type": "code",
      "metadata": {
        "id": "nlcwy7HGWy_L"
      },
      "source": [
        "### set the train test split parameters ###\n",
        "from sklearn.model_selection import train_test_split\n",
        "X_train, X_test, y_train, y_test = train_test_split(X, y, test_size=0.2, random_state=0) # split 80/20 "
      ],
      "execution_count": 58,
      "outputs": []
    },
    {
      "cell_type": "code",
      "metadata": {
        "id": "V1OM9HexWzGJ"
      },
      "source": [
        "### feature scaling ### \n",
        "from sklearn.preprocessing import StandardScaler\n",
        "sc = StandardScaler() # initiate the scalar   \n",
        "X_train = sc.fit_transform(X_train) # fit transform the data with scalar\n",
        "X_test = sc.transform(X_test) # fit transform the data with scalar"
      ],
      "execution_count": 59,
      "outputs": []
    },
    {
      "cell_type": "code",
      "metadata": {
        "id": "4bnWoIOTiwqz",
        "colab": {
          "base_uri": "https://localhost:8080/"
        },
        "outputId": "bd0231c6-0b52-4bd5-f22a-f2c5539b2994"
      },
      "source": [
        "### random forest regressor + gridsearch CV model ###\n",
        "from sklearn.ensemble import RandomForestRegressor\n",
        "from sklearn.model_selection import GridSearchCV\n",
        "model1 = RandomForestRegressor()\n",
        "param_grid = {  # create the param grid \n",
        "            'n_estimators': [20, 100, 200],\n",
        "            'max_features': ['auto', 'sqrt', 'log2'],\n",
        "            'max_leaf_nodes' : [2, 6, 10],\n",
        "            'max_depth' : [5, 15, 25],\n",
        "            'min_samples_split' : [2, 10, 15],\n",
        "            # 'bootstrap': [True, False],\n",
        "            # 'ccp_alpha': [0.0, 0.25, 0.50],\n",
        "            # 'criterion': 'mse',\n",
        "            # 'max_samples': [2, 10, 15],\n",
        "            # 'min_impurity_decrease': [0.0, 0.25, 0.50],\n",
        "            # 'min_impurity_split': [2, 10, 15],\n",
        "            # 'min_samples_leaf': [1, 5, 10],\n",
        "            # 'min_weight_fraction_leaf': [0.0, 0.25, 0.50],\n",
        "            # 'n_jobs': [1, 2, 5],\n",
        "            # 'oob_score': [True, False],\n",
        "            # 'random_state': [0, 2, 4],\n",
        "            # 'verbose': [1],\n",
        "            # 'warm_start': [True, False] \n",
        "              }\n",
        "CV_rfc = GridSearchCV(estimator=model1, param_grid=param_grid, cv=3) \n",
        "print('--- model runtime --- ')\n",
        "%time CV_rfc.fit(X_train, y_train)\n",
        "print('--- best params --- ')\n",
        "CV_rfc.best_params_"
      ],
      "execution_count": 63,
      "outputs": [
        {
          "output_type": "stream",
          "text": [
            "--- model runtime --- \n",
            "CPU times: user 1min 27s, sys: 329 ms, total: 1min 27s\n",
            "Wall time: 1min 28s\n",
            "--- best params --- \n"
          ],
          "name": "stdout"
        },
        {
          "output_type": "execute_result",
          "data": {
            "text/plain": [
              "{'max_depth': 5,\n",
              " 'max_features': 'log2',\n",
              " 'max_leaf_nodes': 6,\n",
              " 'min_samples_split': 15,\n",
              " 'n_estimators': 20}"
            ]
          },
          "metadata": {
            "tags": []
          },
          "execution_count": 63
        }
      ]
    },
    {
      "cell_type": "code",
      "metadata": {
        "id": "iQNDA5X9Ett6",
        "colab": {
          "base_uri": "https://localhost:8080/"
        },
        "outputId": "14b15999-5611-4abb-9374-8f398a84acd4"
      },
      "source": [
        "### random forest regression model + grid best params ###\n",
        "from sklearn.ensemble import RandomForestRegressor\n",
        "from sklearn import metrics\n",
        "model1 = RandomForestRegressor(\n",
        "                                max_depth= 5,\n",
        "                                max_features= 'log2',\n",
        "                                max_leaf_nodes= 6,\n",
        "                                min_samples_split= 15,\n",
        "                                n_estimators= 20\n",
        "                               )\n",
        "print('--- model runtime --- ')\n",
        "%time model1.fit(X_train, y_train)\n",
        "y_pred = model1.predict(X_test)\n",
        "#### create data frame of predictions and results ### \n",
        "y_pred_df = pd.DataFrame(y_pred, columns=[\"Predicted_Values\" ])\n",
        "y_test_df = pd.DataFrame(np.array(y_test), columns=[\"Real_Values\"])\n",
        "df_final = pd.concat([y_test_df , y_pred_df] , axis=1)\n",
        "print('--- real values vs predicted values ---')\n",
        "print(df_final.head())\n",
        "### get the model metrics ###\n",
        "print('--- model metrics ---')\n",
        "from sklearn import metrics\n",
        "print('mean absolute error:', metrics.mean_absolute_error(y_test, y_pred))\n",
        "print('mean squared error:', metrics.mean_squared_error(y_test, y_pred))\n",
        "print('root mean squared error:', np.sqrt(metrics.mean_squared_error(y_test, y_pred)))\n",
        "score = metrics.r2_score(y_test , y_pred) # get the r2 score \n",
        "print(\"r2 score : {}\".format(score)) # show the r2 score\n",
        "print('model score:', model1.score(X_train, y_train)) # show the model score \n",
        "print(\"model accuracy: {}%\".format(score * 100)) # show the model accuracy"
      ],
      "execution_count": 64,
      "outputs": [
        {
          "output_type": "stream",
          "text": [
            "--- model runtime --- \n",
            "CPU times: user 23.2 ms, sys: 1.01 ms, total: 24.2 ms\n",
            "Wall time: 23.9 ms\n",
            "--- real values vs predicted values ---\n",
            "   Real_Values  Predicted_Values\n",
            "0          534        499.714816\n",
            "1          410        533.344177\n",
            "2          577        525.725755\n",
            "3          571        505.632463\n",
            "4          577        591.871952\n",
            "--- model metrics ---\n",
            "mean absolute error: 58.20908582734703\n",
            "mean squared error: 4588.990783683718\n",
            "root mean squared error: 67.7420901927577\n",
            "r2 score : 0.21682092765115468\n",
            "model score: 0.6147089179260985\n",
            "model accuracy: 21.682092765115467%\n"
          ],
          "name": "stdout"
        }
      ]
    },
    {
      "cell_type": "code",
      "metadata": {
        "id": "SuK8sga4S_Jo",
        "colab": {
          "base_uri": "https://localhost:8080/",
          "height": 560
        },
        "outputId": "0192b178-f3c7-44fa-b591-c89105f8bf42"
      },
      "source": [
        "### visualize the model prediction accuracy ###\n",
        "import seaborn as sns\n",
        "import matplotlib.pyplot as plt\n",
        "### configure the plot ###\n",
        "print('--- distplot accuracy --- ')\n",
        "f, ax = plt.subplots(1, 1, figsize = (10, 7))\n",
        "ax1 = sns.distplot(y_test, hist=False, color=\"b\", label=\"Actual Values\")\n",
        "sns.distplot(y_pred, hist=False, color=\"r\", label=\"Predicted Values\" , axlabel='Charges', ax=ax1)\n",
        "plt.legend()"
      ],
      "execution_count": 65,
      "outputs": [
        {
          "output_type": "stream",
          "text": [
            "--- distplot accuracy --- \n"
          ],
          "name": "stdout"
        },
        {
          "output_type": "stream",
          "text": [
            "/usr/local/lib/python3.6/dist-packages/seaborn/distributions.py:2557: FutureWarning: `distplot` is a deprecated function and will be removed in a future version. Please adapt your code to use either `displot` (a figure-level function with similar flexibility) or `kdeplot` (an axes-level function for kernel density plots).\n",
            "  warnings.warn(msg, FutureWarning)\n",
            "/usr/local/lib/python3.6/dist-packages/seaborn/distributions.py:2557: FutureWarning: `distplot` is a deprecated function and will be removed in a future version. Please adapt your code to use either `displot` (a figure-level function with similar flexibility) or `kdeplot` (an axes-level function for kernel density plots).\n",
            "  warnings.warn(msg, FutureWarning)\n"
          ],
          "name": "stderr"
        },
        {
          "output_type": "execute_result",
          "data": {
            "text/plain": [
              "<matplotlib.legend.Legend at 0x7fd3b480c860>"
            ]
          },
          "metadata": {
            "tags": []
          },
          "execution_count": 65
        },
        {
          "output_type": "display_data",
          "data": {
            "image/png": "[encoded data removed]",
            "text/plain": [
              "<Figure size 720x504 with 1 Axes>"
            ]
          },
          "metadata": {
            "tags": [],
            "needs_background": "light"
          }
        }
      ]
    },
    {
      "cell_type": "markdown",
      "metadata": {
        "id": "BBdG2HRVkAJp"
      },
      "source": [
        "###### RandomizedSearch CV"
      ]
    },
    {
      "cell_type": "code",
      "metadata": {
        "id": "Kw8ytTkUbpbp"
      },
      "source": [
        "### copy the data frame ###\n",
        "df3 = df.copy()"
      ],
      "execution_count": 66,
      "outputs": []
    },
    {
      "cell_type": "code",
      "metadata": {
        "colab": {
          "base_uri": "https://localhost:8080/"
        },
        "id": "9FaGXT29bpjX",
        "outputId": "44577a67-efd1-4dbf-e96c-28d8254a665e"
      },
      "source": [
        "### split the data into features & target sets ###\n",
        "# for single regression select the 1 feature\n",
        "X = df3.iloc[:, 3:4].values # set the features\n",
        "y = df3.iloc[:, 4].values # set the target \n",
        "print('--- data shapes --- ')\n",
        "print('X shape:', X.shape) # show the shape \n",
        "print('y shape:', y.shape) # show the shape "
      ],
      "execution_count": 67,
      "outputs": [
        {
          "output_type": "stream",
          "text": [
            "--- data shapes --- \n",
            "X shape: (48, 1)\n",
            "y shape: (48,)\n"
          ],
          "name": "stdout"
        }
      ]
    },
    {
      "cell_type": "code",
      "metadata": {
        "id": "osUbI8-ibprE"
      },
      "source": [
        "### set the train test split parameters ###\n",
        "from sklearn.model_selection import train_test_split\n",
        "X_train, X_test, y_train, y_test = train_test_split(X, y, test_size=0.2, random_state=0) # split 80/20"
      ],
      "execution_count": 68,
      "outputs": []
    },
    {
      "cell_type": "code",
      "metadata": {
        "id": "VNrSknMSbt6y"
      },
      "source": [
        "### feature scaling ### \n",
        "from sklearn.preprocessing import StandardScaler\n",
        "sc = StandardScaler() # initiate the scalar   \n",
        "X_train = sc.fit_transform(X_train) # fit transform the data with scalar\n",
        "X_test = sc.transform(X_test) # fit transform the data with scalar"
      ],
      "execution_count": 69,
      "outputs": []
    },
    {
      "cell_type": "code",
      "metadata": {
        "id": "qXtfHKgZj-nM",
        "colab": {
          "base_uri": "https://localhost:8080/"
        },
        "outputId": "99f29c56-1418-48b9-9b7f-ffd4c90f798d"
      },
      "source": [
        "### random forest regressor + randomized search CV model ###\n",
        "from sklearn.ensemble import RandomForestRegressor\n",
        "from sklearn.model_selection import RandomizedSearchCV\n",
        "model2 = RandomForestRegressor()\n",
        "param_grid = {  # create the param grid \n",
        "            'n_estimators': [20, 100, 200],\n",
        "            'max_features': ['auto', 'sqrt', 'log2'],\n",
        "            'max_leaf_nodes' : [2, 6, 10],\n",
        "            'max_depth' : [5, 15, 25],\n",
        "            'min_samples_split' : [2, 10, 15],\n",
        "            # 'bootstrap': [True, False],\n",
        "            # 'ccp_alpha': [0.0, 0.25, 0.50],\n",
        "            # 'criterion': 'mse',\n",
        "            # 'max_samples': [2, 10, 15],\n",
        "            # 'min_impurity_decrease': [0.0, 0.25, 0.50],\n",
        "            # 'min_impurity_split': [2, 10, 15],\n",
        "            # 'min_samples_leaf': [1, 5, 10],\n",
        "            # 'min_weight_fraction_leaf': [0.0, 0.25, 0.50],\n",
        "            # 'n_jobs': [1, 2, 5],\n",
        "            # 'oob_score': [True, False],\n",
        "            # 'random_state': [0, 2, 4],\n",
        "            # 'verbose': [1],\n",
        "            # 'warm_start': [True, False] \n",
        "              }\n",
        "CV_rfc = RandomizedSearchCV(model2, param_grid, cv=3) \n",
        "print('--- model runtime --- ')\n",
        "%time CV_rfc.fit(X_train, y_train)\n",
        "print('--- best params --- ')\n",
        "CV_rfc.best_params_"
      ],
      "execution_count": 72,
      "outputs": [
        {
          "output_type": "stream",
          "text": [
            "--- model runtime --- \n",
            "CPU times: user 4.15 s, sys: 22.3 ms, total: 4.17 s\n",
            "Wall time: 4.17 s\n",
            "--- best params --- \n"
          ],
          "name": "stdout"
        },
        {
          "output_type": "execute_result",
          "data": {
            "text/plain": [
              "{'max_depth': 25,\n",
              " 'max_features': 'sqrt',\n",
              " 'max_leaf_nodes': 6,\n",
              " 'min_samples_split': 15,\n",
              " 'n_estimators': 20}"
            ]
          },
          "metadata": {
            "tags": []
          },
          "execution_count": 72
        }
      ]
    },
    {
      "cell_type": "code",
      "metadata": {
        "id": "wl-GjSUjkFOk",
        "colab": {
          "base_uri": "https://localhost:8080/"
        },
        "outputId": "8807dc19-82a4-4cf6-d415-661dd8a03b28"
      },
      "source": [
        "### random forest regression model + randomized best params ###\n",
        "from sklearn.ensemble import RandomForestRegressor\n",
        "from sklearn import metrics\n",
        "model2 = RandomForestRegressor(\n",
        "                                max_depth= 25,\n",
        "                                max_features= 'sqrt',\n",
        "                                max_leaf_nodes= 6,\n",
        "                                min_samples_split= 15,\n",
        "                                n_estimators= 20\n",
        "                              )\n",
        "print('--- model runtime --- ')\n",
        "%time model2.fit(X_train, y_train)\n",
        "y_pred = model2.predict(X_test) \n",
        "#### create data frame of predictions and results ### \n",
        "y_pred_df = pd.DataFrame(y_pred, columns=[\"Predicted_Values\" ])\n",
        "y_test_df = pd.DataFrame(np.array(y_test), columns=[\"Real_Values\"])\n",
        "df_final = pd.concat([y_test_df , y_pred_df] , axis=1) \n",
        "print('--- real values vs predicted values ---')\n",
        "print(df_final.head())\n",
        "### get the model metrics ###\n",
        "print('--- model metrics ---')\n",
        "from sklearn import metrics\n",
        "print('mean absolute error:', metrics.mean_absolute_error(y_test, y_pred)) # mae \n",
        "print('mean squared error:', metrics.mean_squared_error(y_test, y_pred)) # mse \n",
        "print('root mean squared error:', np.sqrt(metrics.mean_squared_error(y_test, y_pred))) # rmse\n",
        "score = metrics.r2_score(y_test , y_pred) # get the r2 score \n",
        "print(\"r2 score : {}\".format(score)) # show the r2 score\n",
        "print('model score:', model2.score(X_train, y_train)) # show the model score \n",
        "print(\"model accuracy: {}%\".format(score * 100)) # show the model accuracy"
      ],
      "execution_count": 73,
      "outputs": [
        {
          "output_type": "stream",
          "text": [
            "--- model runtime --- \n",
            "CPU times: user 28.8 ms, sys: 0 ns, total: 28.8 ms\n",
            "Wall time: 28.8 ms\n",
            "--- real values vs predicted values ---\n",
            "   Real_Values  Predicted_Values\n",
            "0          534        517.864384\n",
            "1          410        547.128390\n",
            "2          577        556.005121\n",
            "3          571        514.699384\n",
            "4          577        594.183359\n",
            "--- model metrics ---\n",
            "mean absolute error: 56.98182253646767\n",
            "mean squared error: 4875.660156101499\n",
            "root mean squared error: 69.82592753484552\n",
            "r2 score : 0.1678965641594592\n",
            "model score: 0.6192647461340599\n",
            "model accuracy: 16.78965641594592%\n"
          ],
          "name": "stdout"
        }
      ]
    },
    {
      "cell_type": "code",
      "metadata": {
        "id": "3WgzVqN-kFfg",
        "colab": {
          "base_uri": "https://localhost:8080/",
          "height": 560
        },
        "outputId": "e3b3c7fd-0b35-430b-b98d-977e67f91a54"
      },
      "source": [
        "### visualize the model prediction accuracy ###\n",
        "import seaborn as sns\n",
        "import matplotlib.pyplot as plt\n",
        "### configure the plot ###\n",
        "print('--- distplot accuracy --- ')\n",
        "f, ax = plt.subplots(1, 1, figsize = (10, 7))\n",
        "ax1 = sns.distplot(y_test, hist=False, color=\"b\", label=\"Actual Values\")\n",
        "sns.distplot(y_pred, hist=False, color=\"r\", label=\"Predicted Values\" , axlabel='Charges', ax=ax1)\n",
        "plt.legend()"
      ],
      "execution_count": 74,
      "outputs": [
        {
          "output_type": "stream",
          "text": [
            "--- distplot accuracy --- \n"
          ],
          "name": "stdout"
        },
        {
          "output_type": "stream",
          "text": [
            "/usr/local/lib/python3.6/dist-packages/seaborn/distributions.py:2557: FutureWarning: `distplot` is a deprecated function and will be removed in a future version. Please adapt your code to use either `displot` (a figure-level function with similar flexibility) or `kdeplot` (an axes-level function for kernel density plots).\n",
            "  warnings.warn(msg, FutureWarning)\n",
            "/usr/local/lib/python3.6/dist-packages/seaborn/distributions.py:2557: FutureWarning: `distplot` is a deprecated function and will be removed in a future version. Please adapt your code to use either `displot` (a figure-level function with similar flexibility) or `kdeplot` (an axes-level function for kernel density plots).\n",
            "  warnings.warn(msg, FutureWarning)\n"
          ],
          "name": "stderr"
        },
        {
          "output_type": "execute_result",
          "data": {
            "text/plain": [
              "<matplotlib.legend.Legend at 0x7fd3b3ab0278>"
            ]
          },
          "metadata": {
            "tags": []
          },
          "execution_count": 74
        },
        {
          "output_type": "display_data",
          "data": {
            "image/png": "[encoded data removed]",
            "text/plain": [
              "<Figure size 720x504 with 1 Axes>"
            ]
          },
          "metadata": {
            "tags": [],
            "needs_background": "light"
          }
        }
      ]
    },
    {
      "cell_type": "markdown",
      "metadata": {
        "id": "4jsszk6Wrfk1"
      },
      "source": [
        "#### Multi Linear Regression\n",
        " - GridSearchCV\n",
        " - RandomizedSearch CV"
      ]
    },
    {
      "cell_type": "code",
      "metadata": {
        "id": "5rhLhJk8riCC"
      },
      "source": [
        "### copy the data frame ###\n",
        "df4 = df.copy()"
      ],
      "execution_count": 75,
      "outputs": []
    },
    {
      "cell_type": "code",
      "metadata": {
        "colab": {
          "base_uri": "https://localhost:8080/"
        },
        "id": "jYIgyw3NrjYq",
        "outputId": "6d77efe4-dcc5-45cc-c362-ecff8a5122df"
      },
      "source": [
        "### split the data into features & target sets ###\n",
        "# for multi regression select all the features wanted\n",
        "X = df4.iloc[:, 0:4].values # set the features\n",
        "y = df4.iloc[:, 4].values # set the target \n",
        "print('--- data shapes --- ')\n",
        "print('X shape:', X.shape) \n",
        "print('y shape:', y.shape) "
      ],
      "execution_count": 76,
      "outputs": [
        {
          "output_type": "stream",
          "text": [
            "--- data shapes --- \n",
            "X shape: (48, 4)\n",
            "y shape: (48,)\n"
          ],
          "name": "stdout"
        }
      ]
    },
    {
      "cell_type": "code",
      "metadata": {
        "id": "TyeNT37Orjer"
      },
      "source": [
        "### set the train test split parameters ###\n",
        "from sklearn.model_selection import train_test_split\n",
        "X_train, X_test, y_train, y_test = train_test_split(X, y, test_size=0.2, random_state=0) # split 80/20 "
      ],
      "execution_count": 77,
      "outputs": []
    },
    {
      "cell_type": "code",
      "metadata": {
        "id": "Y7p_2kAVrjkI"
      },
      "source": [
        "### feature scaling ### \n",
        "from sklearn.preprocessing import StandardScaler\n",
        "sc = StandardScaler() # initiate the scalar   \n",
        "X_train = sc.fit_transform(X_train) # fit transform the data with scalar\n",
        "X_test = sc.transform(X_test) # fit transform the data with scalar"
      ],
      "execution_count": 78,
      "outputs": []
    },
    {
      "cell_type": "code",
      "metadata": {
        "colab": {
          "base_uri": "https://localhost:8080/"
        },
        "id": "ls91ipdNrjqW",
        "outputId": "f821890a-b3ff-4d83-d149-bda8b9c4f039"
      },
      "source": [
        "### random forest regression model ###\n",
        "from sklearn.ensemble import RandomForestRegressor\n",
        "from sklearn import metrics\n",
        "model3 = RandomForestRegressor(\n",
        "                              n_estimators=20, # 20 estimators, # of trees\n",
        "                              random_state=0\n",
        "                              )\n",
        "print('--- model runtime --- ')\n",
        "%time model3.fit(X_train, y_train)\n",
        "y_pred = model3.predict(X_test) \n",
        "#### create data frame of predictions and results ### \n",
        "y_pred_df = pd.DataFrame(y_pred, columns=[\"Predicted_Values\" ])\n",
        "y_test_df = pd.DataFrame(np.array(y_test), columns=[\"Real_Values\"])\n",
        "df_final = pd.concat([y_test_df , y_pred_df] , axis=1) \n",
        "print('--- real values vs predicted values ---')\n",
        "print(df_final.head())\n",
        "### get the model metrics ###\n",
        "print('--- model metrics ---')\n",
        "from sklearn import metrics\n",
        "print('mean absolute error:', metrics.mean_absolute_error(y_test, y_pred)) # mae \n",
        "print('mean squared error:', metrics.mean_squared_error(y_test, y_pred)) # mse \n",
        "print('root mean squared error:', np.sqrt(metrics.mean_squared_error(y_test, y_pred))) # rmse\n",
        "score = metrics.r2_score(y_test , y_pred) # get the r2 score \n",
        "print(\"r2 score : {}\".format(score)) # show the r2 score\n",
        "print('model score:', model3.score(X_train, y_train)) # show the model score \n",
        "print(\"model accuracy: {}%\".format(score * 100)) # show the model accuracy"
      ],
      "execution_count": 79,
      "outputs": [
        {
          "output_type": "stream",
          "text": [
            "--- model runtime --- \n",
            "CPU times: user 24.8 ms, sys: 992 µs, total: 25.8 ms\n",
            "Wall time: 25.6 ms\n",
            "--- real values vs predicted values ---\n",
            "   Real_Values  Predicted_Values\n",
            "0          534            574.10\n",
            "1          410            509.95\n",
            "2          577            604.80\n",
            "3          571            589.75\n",
            "4          577            625.40\n",
            "--- model metrics ---\n",
            "mean absolute error: 51.794999999999995\n",
            "mean squared error: 4125.500749999998\n",
            "root mean squared error: 64.23006110848719\n",
            "r2 score : 0.2959223492347395\n",
            "model score: 0.9430841381500261\n",
            "model accuracy: 29.59223492347395%\n"
          ],
          "name": "stdout"
        }
      ]
    },
    {
      "cell_type": "code",
      "metadata": {
        "colab": {
          "base_uri": "https://localhost:8080/",
          "height": 560
        },
        "id": "Sg-ICJanrsn7",
        "outputId": "8b60b570-db61-4532-ef84-7f9c1916b2cc"
      },
      "source": [
        "### visualize the model prediction accuracy ###\n",
        "import seaborn as sns\n",
        "import matplotlib.pyplot as plt\n",
        "### configure the plot ###\n",
        "print('--- distplot accuracy --- ')\n",
        "f, ax = plt.subplots(1, 1, figsize = (10, 7))\n",
        "ax1 = sns.distplot(y_test, hist=False, color=\"b\", label=\"Actual Values\")\n",
        "sns.distplot(y_pred, hist=False, color=\"r\", label=\"Predicted Values\" , axlabel='Charges', ax=ax1)\n",
        "plt.legend()"
      ],
      "execution_count": 80,
      "outputs": [
        {
          "output_type": "stream",
          "text": [
            "--- distplot accuracy --- \n"
          ],
          "name": "stdout"
        },
        {
          "output_type": "stream",
          "text": [
            "/usr/local/lib/python3.6/dist-packages/seaborn/distributions.py:2557: FutureWarning: `distplot` is a deprecated function and will be removed in a future version. Please adapt your code to use either `displot` (a figure-level function with similar flexibility) or `kdeplot` (an axes-level function for kernel density plots).\n",
            "  warnings.warn(msg, FutureWarning)\n",
            "/usr/local/lib/python3.6/dist-packages/seaborn/distributions.py:2557: FutureWarning: `distplot` is a deprecated function and will be removed in a future version. Please adapt your code to use either `displot` (a figure-level function with similar flexibility) or `kdeplot` (an axes-level function for kernel density plots).\n",
            "  warnings.warn(msg, FutureWarning)\n"
          ],
          "name": "stderr"
        },
        {
          "output_type": "execute_result",
          "data": {
            "text/plain": [
              "<matplotlib.legend.Legend at 0x7fd3b3b71c88>"
            ]
          },
          "metadata": {
            "tags": []
          },
          "execution_count": 80
        },
        {
          "output_type": "display_data",
          "data": {
            "image/png": "[encoded data removed]",
            "text/plain": [
              "<Figure size 720x504 with 1 Axes>"
            ]
          },
          "metadata": {
            "tags": [],
            "needs_background": "light"
          }
        }
      ]
    },
    {
      "cell_type": "markdown",
      "metadata": {
        "id": "DXrzUAf7scCy"
      },
      "source": [
        "##### GridSearch CV"
      ]
    },
    {
      "cell_type": "code",
      "metadata": {
        "id": "vfuqfmYasdzM"
      },
      "source": [
        "### copy the data frame ###\n",
        "df5 = df.copy()"
      ],
      "execution_count": 81,
      "outputs": []
    },
    {
      "cell_type": "code",
      "metadata": {
        "colab": {
          "base_uri": "https://localhost:8080/"
        },
        "id": "FkA3wG-QshVA",
        "outputId": "2b1c7044-c388-460d-bff6-3ac71f2a390d"
      },
      "source": [
        "### split the data into features & target sets ###\n",
        "# for multi regression select all the features wanted\n",
        "X = df5.iloc[:, 0:4].values # set the features\n",
        "y = df5.iloc[:, 4].values # set the target \n",
        "print('--- data shapes --- ')\n",
        "print('X shape:', X.shape)\n",
        "print('y shape:', y.shape) "
      ],
      "execution_count": 82,
      "outputs": [
        {
          "output_type": "stream",
          "text": [
            "--- data shapes --- \n",
            "X shape: (48, 4)\n",
            "y shape: (48,)\n"
          ],
          "name": "stdout"
        }
      ]
    },
    {
      "cell_type": "code",
      "metadata": {
        "id": "TUgkLCAfshbJ"
      },
      "source": [
        "### set the train test split parameters ###\n",
        "from sklearn.model_selection import train_test_split\n",
        "X_train, X_test, y_train, y_test = train_test_split(X, y, test_size=0.2, random_state=0) # split 80/20"
      ],
      "execution_count": 83,
      "outputs": []
    },
    {
      "cell_type": "code",
      "metadata": {
        "id": "b00Z0MhWshhM"
      },
      "source": [
        "### feature scaling ### \n",
        "from sklearn.preprocessing import StandardScaler\n",
        "sc = StandardScaler() # initiate the scalar   \n",
        "X_train = sc.fit_transform(X_train) # fit transform the data with scalar\n",
        "X_test = sc.transform(X_test) # fit transform the data with scalar"
      ],
      "execution_count": 84,
      "outputs": []
    },
    {
      "cell_type": "code",
      "metadata": {
        "colab": {
          "base_uri": "https://localhost:8080/"
        },
        "id": "OCu0BAZJshma",
        "outputId": "de96bb57-a022-4de6-81f5-123df047f654"
      },
      "source": [
        "### random forest regressor + gridsearch CV model ###\n",
        "from sklearn.ensemble import RandomForestRegressor\n",
        "from sklearn.model_selection import GridSearchCV\n",
        "model4 = RandomForestRegressor()\n",
        "param_grid = {  # create the param grid \n",
        "            'n_estimators': [20, 100, 200],\n",
        "            'max_features': ['auto', 'sqrt', 'log2'],\n",
        "            'max_leaf_nodes' : [2, 6, 10],\n",
        "            'max_depth' : [5, 15, 25],\n",
        "            'min_samples_split' : [2, 10, 15],\n",
        "            # 'bootstrap': [True, False],\n",
        "            # 'ccp_alpha': [0.0, 0.25, 0.50],\n",
        "            # 'criterion': 'mse',\n",
        "            # 'max_samples': [2, 10, 15],\n",
        "            # 'min_impurity_decrease': [0.0, 0.25, 0.50],\n",
        "            # 'min_impurity_split': [2, 10, 15],\n",
        "            # 'min_samples_leaf': [1, 5, 10],\n",
        "            # 'min_weight_fraction_leaf': [0.0, 0.25, 0.50],\n",
        "            # 'n_jobs': [1, 2, 5],\n",
        "            # 'oob_score': [True, False],\n",
        "            # 'random_state': [0, 2, 4],\n",
        "            # 'verbose': [1],\n",
        "            # 'warm_start': [True, False] \n",
        "              }\n",
        "CV_rfc = GridSearchCV(estimator=model4, param_grid=param_grid, cv=3) \n",
        "print('--- model runtime --- ')\n",
        "%time CV_rfc.fit(X_train, y_train)\n",
        "print('--- best params --- ')\n",
        "CV_rfc.best_params_"
      ],
      "execution_count": 86,
      "outputs": [
        {
          "output_type": "stream",
          "text": [
            "--- model runtime --- \n",
            "CPU times: user 1min 27s, sys: 338 ms, total: 1min 28s\n",
            "Wall time: 1min 28s\n",
            "--- best params --- \n"
          ],
          "name": "stdout"
        },
        {
          "output_type": "execute_result",
          "data": {
            "text/plain": [
              "{'max_depth': 5,\n",
              " 'max_features': 'log2',\n",
              " 'max_leaf_nodes': 10,\n",
              " 'min_samples_split': 2,\n",
              " 'n_estimators': 200}"
            ]
          },
          "metadata": {
            "tags": []
          },
          "execution_count": 86
        }
      ]
    },
    {
      "cell_type": "code",
      "metadata": {
        "colab": {
          "base_uri": "https://localhost:8080/"
        },
        "id": "p9imr7BFszRm",
        "outputId": "07cffe95-7afe-48ff-e404-735814446f6f"
      },
      "source": [
        "### random forest regression model + grid best params ###\n",
        "from sklearn.ensemble import RandomForestRegressor\n",
        "from sklearn import metrics\n",
        "model4 = RandomForestRegressor(\n",
        "                                max_depth= 5,\n",
        "                                max_features= 'log2',\n",
        "                                max_leaf_nodes= 10,\n",
        "                                min_samples_split= 2,\n",
        "                                n_estimators= 200\n",
        "                               )\n",
        "print('--- model runtime --- ')\n",
        "%time model4.fit(X_train, y_train) # fit the data on the model \n",
        "y_pred = model4.predict(X_test) # create the prediction from the poly data \n",
        "#### create data frame of predictions and results ### \n",
        "y_pred_df = pd.DataFrame(y_pred, columns=[\"Predicted_Values\" ]) # create the predicitons data frame \n",
        "y_test_df = pd.DataFrame(np.array(y_test), columns=[\"Real_Values\"]) # create the real values  data frame\n",
        "df_final = pd.concat([y_test_df , y_pred_df] , axis=1) # concat merge the data frames \n",
        "print('--- real values vs predicted values ---') # get the intercept\n",
        "print(df_final.head())\n",
        "### get the model metrics ###\n",
        "print('--- model metrics ---') # get the intercept\n",
        "from sklearn import metrics\n",
        "print('mean absolute error:', metrics.mean_absolute_error(y_test, y_pred))\n",
        "print('mean squared error:', metrics.mean_squared_error(y_test, y_pred))\n",
        "print('root mean squared error:', np.sqrt(metrics.mean_squared_error(y_test, y_pred)))\n",
        "score = metrics.r2_score(y_test , y_pred) # get the r2 score \n",
        "print(\"r2 score : {}\".format(score)) # show the r2 score\n",
        "print('model score:', model4.score(X_train, y_train)) # show the model score \n",
        "print(\"model accuracy: {}%\".format(score * 100)) # show the model accuracy"
      ],
      "execution_count": 87,
      "outputs": [
        {
          "output_type": "stream",
          "text": [
            "--- model runtime --- \n",
            "CPU times: user 224 ms, sys: 5.95 ms, total: 230 ms\n",
            "Wall time: 237 ms\n",
            "--- real values vs predicted values ---\n",
            "   Real_Values  Predicted_Values\n",
            "0          534        567.158334\n",
            "1          410        507.747119\n",
            "2          577        597.970383\n",
            "3          571        590.480813\n",
            "4          577        607.036215\n",
            "--- model metrics ---\n",
            "mean absolute error: 44.887380789919064\n",
            "mean squared error: 3303.1903062720207\n",
            "root mean squared error: 57.4733878092463\n",
            "r2 score : 0.43626177479895334\n",
            "model score: 0.9183790834434141\n",
            "model accuracy: 43.62617747989533%\n"
          ],
          "name": "stdout"
        }
      ]
    },
    {
      "cell_type": "code",
      "metadata": {
        "colab": {
          "base_uri": "https://localhost:8080/",
          "height": 560
        },
        "id": "3_80Sy8Bs9n4",
        "outputId": "b0b59f12-2b24-40f3-927c-8c4f5feb4b90"
      },
      "source": [
        "### visualize the model prediction accuracy ###\n",
        "import seaborn as sns\n",
        "import matplotlib.pyplot as plt\n",
        "### configure the plot ###\n",
        "print('--- distplot accuracy --- ')\n",
        "f, ax = plt.subplots(1, 1, figsize = (10, 7))\n",
        "ax1 = sns.distplot(y_test, hist=False, color=\"b\", label=\"Actual Values\")\n",
        "sns.distplot(y_pred, hist=False, color=\"r\", label=\"Predicted Values\" , axlabel='Charges', ax=ax1)\n",
        "plt.legend()"
      ],
      "execution_count": 88,
      "outputs": [
        {
          "output_type": "stream",
          "text": [
            "--- distplot accuracy --- \n"
          ],
          "name": "stdout"
        },
        {
          "output_type": "stream",
          "text": [
            "/usr/local/lib/python3.6/dist-packages/seaborn/distributions.py:2557: FutureWarning: `distplot` is a deprecated function and will be removed in a future version. Please adapt your code to use either `displot` (a figure-level function with similar flexibility) or `kdeplot` (an axes-level function for kernel density plots).\n",
            "  warnings.warn(msg, FutureWarning)\n",
            "/usr/local/lib/python3.6/dist-packages/seaborn/distributions.py:2557: FutureWarning: `distplot` is a deprecated function and will be removed in a future version. Please adapt your code to use either `displot` (a figure-level function with similar flexibility) or `kdeplot` (an axes-level function for kernel density plots).\n",
            "  warnings.warn(msg, FutureWarning)\n"
          ],
          "name": "stderr"
        },
        {
          "output_type": "execute_result",
          "data": {
            "text/plain": [
              "<matplotlib.legend.Legend at 0x7fd3b34ab8d0>"
            ]
          },
          "metadata": {
            "tags": []
          },
          "execution_count": 88
        },
        {
          "output_type": "display_data",
          "data": {
            "image/png": "[encoded data removed]",
            "text/plain": [
              "<Figure size 720x504 with 1 Axes>"
            ]
          },
          "metadata": {
            "tags": [],
            "needs_background": "light"
          }
        }
      ]
    },
    {
      "cell_type": "markdown",
      "metadata": {
        "id": "BfY9k8dmtAN9"
      },
      "source": [
        "##### RandomizedSearch CV"
      ]
    },
    {
      "cell_type": "code",
      "metadata": {
        "id": "x5kOBnUOtB_X"
      },
      "source": [
        "### copy the data frame ###\n",
        "df6 = df.copy()"
      ],
      "execution_count": 89,
      "outputs": []
    },
    {
      "cell_type": "code",
      "metadata": {
        "colab": {
          "base_uri": "https://localhost:8080/"
        },
        "id": "9FT-MkqxtEkL",
        "outputId": "cdf802ed-dbdb-475e-8028-20bff969bc7e"
      },
      "source": [
        "### split the data into features & target sets ###\n",
        "# for multi regression select all the features wanted\n",
        "X = df6.iloc[:, 0:4].values # set the features\n",
        "y = df6.iloc[:, 4].values # set the target \n",
        "print('--- data shapes --- ')\n",
        "print('X shape:', X.shape) \n",
        "print('y shape:', y.shape) "
      ],
      "execution_count": 90,
      "outputs": [
        {
          "output_type": "stream",
          "text": [
            "--- data shapes --- \n",
            "X shape: (48, 4)\n",
            "y shape: (48,)\n"
          ],
          "name": "stdout"
        }
      ]
    },
    {
      "cell_type": "code",
      "metadata": {
        "id": "78vhVe9-tEsO"
      },
      "source": [
        "### set the train test split parameters ###\n",
        "from sklearn.model_selection import train_test_split\n",
        "X_train, X_test, y_train, y_test = train_test_split(X, y, test_size=0.2, random_state=0) # split 80/20 "
      ],
      "execution_count": 91,
      "outputs": []
    },
    {
      "cell_type": "code",
      "metadata": {
        "id": "-BAAweQftEzx"
      },
      "source": [
        "### feature scaling ### \n",
        "from sklearn.preprocessing import StandardScaler\n",
        "sc = StandardScaler() # initiate the scalar   \n",
        "X_train = sc.fit_transform(X_train) # fit transform the data with scalar\n",
        "X_test = sc.transform(X_test) # fit transform the data with scalar"
      ],
      "execution_count": 92,
      "outputs": []
    },
    {
      "cell_type": "code",
      "metadata": {
        "colab": {
          "base_uri": "https://localhost:8080/"
        },
        "id": "1a9TAJEgtE6k",
        "outputId": "001361aa-6930-4d42-8c1a-11c5410aa5a1"
      },
      "source": [
        "### random forest regressor + random search CV model ###\n",
        "from sklearn.ensemble import RandomForestRegressor\n",
        "from sklearn.model_selection import RandomizedSearchCV\n",
        "model5 = RandomForestRegressor()\n",
        "param_grid = {  # create the param grid \n",
        "            'n_estimators': [20, 100, 200],\n",
        "            'max_features': ['auto', 'sqrt', 'log2'],\n",
        "            'max_leaf_nodes' : [2, 6, 10],\n",
        "            'max_depth' : [5, 15, 25],\n",
        "            'min_samples_split' : [2, 10, 15],\n",
        "            # 'bootstrap': [True, False],\n",
        "            # 'ccp_alpha': [0.0, 0.25, 0.50],\n",
        "            # 'criterion': 'mse',\n",
        "            # 'max_samples': [2, 10, 15],\n",
        "            # 'min_impurity_decrease': [0.0, 0.25, 0.50],\n",
        "            # 'min_impurity_split': [2, 10, 15],\n",
        "            # 'min_samples_leaf': [1, 5, 10],\n",
        "            # 'min_weight_fraction_leaf': [0.0, 0.25, 0.50],\n",
        "            # 'n_jobs': [1, 2, 5],\n",
        "            # 'oob_score': [True, False],\n",
        "            # 'random_state': [0, 2, 4],\n",
        "            # 'verbose': [1],\n",
        "            # 'warm_start': [True, False] \n",
        "              }\n",
        "CV_rfc = RandomizedSearchCV(model5, param_grid, cv=3) \n",
        "print('--- model runtime --- ')\n",
        "%time CV_rfc.fit(X_train, y_train)\n",
        "print('--- best params --- ')\n",
        "CV_rfc.best_params_"
      ],
      "execution_count": 93,
      "outputs": [
        {
          "output_type": "stream",
          "text": [
            "--- model runtime --- \n",
            "CPU times: user 3.49 s, sys: 20.6 ms, total: 3.51 s\n",
            "Wall time: 3.52 s\n",
            "--- best params --- \n"
          ],
          "name": "stdout"
        },
        {
          "output_type": "execute_result",
          "data": {
            "text/plain": [
              "{'max_depth': 5,\n",
              " 'max_features': 'log2',\n",
              " 'max_leaf_nodes': 10,\n",
              " 'min_samples_split': 2,\n",
              " 'n_estimators': 100}"
            ]
          },
          "metadata": {
            "tags": []
          },
          "execution_count": 93
        }
      ]
    },
    {
      "cell_type": "code",
      "metadata": {
        "colab": {
          "base_uri": "https://localhost:8080/"
        },
        "id": "b1Jmn6jOtFCN",
        "outputId": "5ff4e033-9e9c-4e30-cd85-42cd2f4e421b"
      },
      "source": [
        "### random forest regression model + random best params ###\n",
        "from sklearn.ensemble import RandomForestRegressor\n",
        "from sklearn import metrics\n",
        "model5 = RandomForestRegressor(\n",
        "                                max_depth= 5,\n",
        "                                max_features= 'log2',\n",
        "                                max_leaf_nodes= 10,\n",
        "                                min_samples_split= 2,\n",
        "                                n_estimators= 100\n",
        "                               )\n",
        "print('--- model runtime --- ')\n",
        "%time model5.fit(X_train, y_train) # fit the data on the model \n",
        "y_pred = model5.predict(X_test) # create the prediction from the poly data \n",
        "#### create data frame of predictions and results ### \n",
        "y_pred_df = pd.DataFrame(y_pred, columns=[\"Predicted_Values\" ]) # create the predicitons data frame \n",
        "y_test_df = pd.DataFrame(np.array(y_test), columns=[\"Real_Values\"]) # create the real values  data frame\n",
        "df_final = pd.concat([y_test_df , y_pred_df] , axis=1) # concat merge the data frames \n",
        "print('--- real values vs predicted values ---') # get the intercept\n",
        "print(df_final.head())\n",
        "### get the model metrics ###\n",
        "print('--- model metrics ---') # get the intercept\n",
        "from sklearn import metrics\n",
        "print('mean absolute error:', metrics.mean_absolute_error(y_test, y_pred))\n",
        "print('mean squared error:', metrics.mean_squared_error(y_test, y_pred))\n",
        "print('root mean squared error:', np.sqrt(metrics.mean_squared_error(y_test, y_pred)))\n",
        "score = metrics.r2_score(y_test , y_pred) # get the r2 score \n",
        "print(\"r2 score : {}\".format(score)) # show the r2 score\n",
        "print('model score:', model5.score(X_train, y_train)) # show the model score \n",
        "print(\"model accuracy: {}%\".format(score * 100)) # show the model accuracy"
      ],
      "execution_count": 94,
      "outputs": [
        {
          "output_type": "stream",
          "text": [
            "--- model runtime --- \n",
            "CPU times: user 119 ms, sys: 1.98 ms, total: 121 ms\n",
            "Wall time: 120 ms\n",
            "--- real values vs predicted values ---\n",
            "   Real_Values  Predicted_Values\n",
            "0          534        570.201049\n",
            "1          410        503.842827\n",
            "2          577        595.202453\n",
            "3          571        592.311209\n",
            "4          577        601.593832\n",
            "--- model metrics ---\n",
            "mean absolute error: 46.05270957729062\n",
            "mean squared error: 3175.0675506992857\n",
            "root mean squared error: 56.34773776026226\n",
            "r2 score : 0.4581278158494181\n",
            "model score: 0.9284786022052182\n",
            "model accuracy: 45.81278158494181%\n"
          ],
          "name": "stdout"
        }
      ]
    },
    {
      "cell_type": "code",
      "metadata": {
        "colab": {
          "base_uri": "https://localhost:8080/",
          "height": 560
        },
        "id": "fyVqD7YMtyCX",
        "outputId": "014c6e32-8c0f-4b4e-de08-06cf77e1dba9"
      },
      "source": [
        "### visualize the model prediction accuracy ###\n",
        "import seaborn as sns\n",
        "import matplotlib.pyplot as plt\n",
        "### configure the plot ###\n",
        "print('--- distplot accuracy --- ')\n",
        "f, ax = plt.subplots(1, 1, figsize = (10, 7))\n",
        "ax1 = sns.distplot(y_test, hist=False, color=\"b\", label=\"Actual Values\")\n",
        "sns.distplot(y_pred, hist=False, color=\"r\", label=\"Predicted Values\" , axlabel='Charges', ax=ax1)\n",
        "plt.legend()"
      ],
      "execution_count": 95,
      "outputs": [
        {
          "output_type": "stream",
          "text": [
            "--- distplot accuracy --- \n"
          ],
          "name": "stdout"
        },
        {
          "output_type": "stream",
          "text": [
            "/usr/local/lib/python3.6/dist-packages/seaborn/distributions.py:2557: FutureWarning: `distplot` is a deprecated function and will be removed in a future version. Please adapt your code to use either `displot` (a figure-level function with similar flexibility) or `kdeplot` (an axes-level function for kernel density plots).\n",
            "  warnings.warn(msg, FutureWarning)\n",
            "/usr/local/lib/python3.6/dist-packages/seaborn/distributions.py:2557: FutureWarning: `distplot` is a deprecated function and will be removed in a future version. Please adapt your code to use either `displot` (a figure-level function with similar flexibility) or `kdeplot` (an axes-level function for kernel density plots).\n",
            "  warnings.warn(msg, FutureWarning)\n"
          ],
          "name": "stderr"
        },
        {
          "output_type": "execute_result",
          "data": {
            "text/plain": [
              "<matplotlib.legend.Legend at 0x7fd3b498a6d8>"
            ]
          },
          "metadata": {
            "tags": []
          },
          "execution_count": 95
        },
        {
          "output_type": "display_data",
          "data": {
            "image/png": "[encoded data removed]",
            "text/plain": [
              "<Figure size 720x504 with 1 Axes>"
            ]
          },
          "metadata": {
            "tags": [],
            "needs_background": "light"
          }
        }
      ]
    }
  ]
}
