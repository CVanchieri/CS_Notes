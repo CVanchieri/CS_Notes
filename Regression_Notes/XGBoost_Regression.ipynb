{
  "nbformat": 4,
  "nbformat_minor": 0,
  "metadata": {
    "colab": {
      "name": "XGBoost_Regression.ipynb",
      "provenance": [],
      "collapsed_sections": []
    },
    "kernelspec": {
      "name": "python3",
      "display_name": "Python 3"
    }
  },
  "cells": [
    {
      "cell_type": "markdown",
      "metadata": {
        "id": "CFM5sl2ef0Cg"
      },
      "source": [
        "## XGBoost Regression"
      ]
    },
    {
      "cell_type": "markdown",
      "metadata": {
        "id": "pHYXNoDvORIF"
      },
      "source": [
        "### XGBoost\n",
        "#### XGBoost is an implementation of Gradient Boosted decision trees.  Decision trees are created in sequential form, weights are assigned to all the independent variables which are then fed into the decision tree which predicts results.  These individual classifiers/predictors then ensemble to give a strong and more precise model\n",
        "\n",
        "#### Pros \n",
        "- less manipulation needed\n",
        "- focused on computational speed and model performance\n",
        "- can handle large datasets \n",
        "- can handle missing values\n",
        "- less influenced by outliers in the data\n",
        "- no assumptions about underlying distributions in the data\n",
        "- can implicitly handle collinearity in features, highly similar features \n",
        "- work well with categorical and numerical features, mixing different range values \n",
        "\n",
        "#### Cons\n",
        "- robust algorithm makes it more complex tougher to analyze small details \n",
        "- not best to determine feature and target relationships/effects due to working with highly similar features"
      ]
    },
    {
      "cell_type": "markdown",
      "metadata": {
        "id": "OhRHMqRaQfiG"
      },
      "source": [
        "### Model Set Up\n",
        "\n",
        "#### Steps\n",
        " - load the data\n",
        " - inspect, clean, organize data\n",
        " - check for, handle outliers \n",
        " - encode data if necessary \n",
        " - set features and target \n",
        " - train, test split the data \n",
        " - scale the data if necessary \n",
        " - build the model, fit on the data, run the model\n",
        " - run metrics, analyze, view results, adjust parameters, repeat until satisfied... \n"
      ]
    },
    {
      "cell_type": "markdown",
      "metadata": {
        "id": "3hmqr8qAMLuE"
      },
      "source": [
        "### Regression Models"
      ]
    },
    {
      "cell_type": "markdown",
      "metadata": {
        "id": "a9Z_XK3rO7H6"
      },
      "source": [
        "#### XGBoost Classification \n",
        "1 dependent variable (interval or ratio) , 1+ independent variables (interval or ratio or categorical)\n",
        " - generate reasonable predictions across a wide range of data while requiring little configuration\n",
        "\n",
        "\n"
      ]
    },
    {
      "cell_type": "markdown",
      "metadata": {
        "id": "VUXplGBBRmeD"
      },
      "source": [
        "### Models"
      ]
    },
    {
      "cell_type": "markdown",
      "metadata": {
        "id": "MCbiZ7J-V55T"
      },
      "source": [
        "#### Import + Inspect "
      ]
    },
    {
      "cell_type": "code",
      "metadata": {
        "colab": {
          "base_uri": "https://localhost:8080/",
          "height": 221
        },
        "id": "ThIRPgzSjP1T",
        "outputId": "6fc141bc-f30e-4461-ba9c-9591c02109e5"
      },
      "source": [
        "### imports ###\n",
        "import pandas as pd\n",
        "import numpy as np\n",
        "import sklearn\n",
        "df = pd.read_csv('https://raw.githubusercontent.com/CVanchieri/CS_Notes/main/Regression_Notes/medical_insurance.csv') # read in the file \n",
        "print('data frame shape:', df.shape) \n",
        "df.head() "
      ],
      "execution_count": 1,
      "outputs": [
        {
          "output_type": "stream",
          "text": [
            "data frame shape: (1338, 7)\n"
          ],
          "name": "stdout"
        },
        {
          "output_type": "execute_result",
          "data": {
            "text/html": [
              "<div>\n",
              "<style scoped>\n",
              "    .dataframe tbody tr th:only-of-type {\n",
              "        vertical-align: middle;\n",
              "    }\n",
              "\n",
              "    .dataframe tbody tr th {\n",
              "        vertical-align: top;\n",
              "    }\n",
              "\n",
              "    .dataframe thead th {\n",
              "        text-align: right;\n",
              "    }\n",
              "</style>\n",
              "<table border=\"1\" class=\"dataframe\">\n",
              "  <thead>\n",
              "    <tr style=\"text-align: right;\">\n",
              "      <th></th>\n",
              "      <th>age</th>\n",
              "      <th>sex</th>\n",
              "      <th>bmi</th>\n",
              "      <th>children</th>\n",
              "      <th>smoker</th>\n",
              "      <th>region</th>\n",
              "      <th>charges</th>\n",
              "    </tr>\n",
              "  </thead>\n",
              "  <tbody>\n",
              "    <tr>\n",
              "      <th>0</th>\n",
              "      <td>19</td>\n",
              "      <td>female</td>\n",
              "      <td>27.900</td>\n",
              "      <td>0</td>\n",
              "      <td>yes</td>\n",
              "      <td>southwest</td>\n",
              "      <td>16884.92400</td>\n",
              "    </tr>\n",
              "    <tr>\n",
              "      <th>1</th>\n",
              "      <td>18</td>\n",
              "      <td>male</td>\n",
              "      <td>33.770</td>\n",
              "      <td>1</td>\n",
              "      <td>no</td>\n",
              "      <td>southeast</td>\n",
              "      <td>1725.55230</td>\n",
              "    </tr>\n",
              "    <tr>\n",
              "      <th>2</th>\n",
              "      <td>28</td>\n",
              "      <td>male</td>\n",
              "      <td>33.000</td>\n",
              "      <td>3</td>\n",
              "      <td>no</td>\n",
              "      <td>southeast</td>\n",
              "      <td>4449.46200</td>\n",
              "    </tr>\n",
              "    <tr>\n",
              "      <th>3</th>\n",
              "      <td>33</td>\n",
              "      <td>male</td>\n",
              "      <td>22.705</td>\n",
              "      <td>0</td>\n",
              "      <td>no</td>\n",
              "      <td>northwest</td>\n",
              "      <td>21984.47061</td>\n",
              "    </tr>\n",
              "    <tr>\n",
              "      <th>4</th>\n",
              "      <td>32</td>\n",
              "      <td>male</td>\n",
              "      <td>28.880</td>\n",
              "      <td>0</td>\n",
              "      <td>no</td>\n",
              "      <td>northwest</td>\n",
              "      <td>3866.85520</td>\n",
              "    </tr>\n",
              "  </tbody>\n",
              "</table>\n",
              "</div>"
            ],
            "text/plain": [
              "   age     sex     bmi  children smoker     region      charges\n",
              "0   19  female  27.900         0    yes  southwest  16884.92400\n",
              "1   18    male  33.770         1     no  southeast   1725.55230\n",
              "2   28    male  33.000         3     no  southeast   4449.46200\n",
              "3   33    male  22.705         0     no  northwest  21984.47061\n",
              "4   32    male  28.880         0     no  northwest   3866.85520"
            ]
          },
          "metadata": {
            "tags": []
          },
          "execution_count": 1
        }
      ]
    },
    {
      "cell_type": "code",
      "metadata": {
        "id": "2Z4k1D0uekFE",
        "colab": {
          "base_uri": "https://localhost:8080/",
          "height": 773
        },
        "outputId": "2eff8054-5da6-4f2a-803e-23fe3f8de07f"
      },
      "source": [
        "### inspecting the data ###\n",
        "print('--- INSPECTING THE DATA --- ')\n",
        "print('--- columns --- ')\n",
        "print(df.columns) \n",
        "print('--- types --- ')\n",
        "print(df.dtypes) \n",
        "print('--- NA counts --- ')\n",
        "print(df.isna().sum()) \n",
        "print('--- object descriptions --- ')\n",
        "print(df.describe(include=object))\n",
        "print('--- numericals descriptions --- ')\n",
        "df.describe()"
      ],
      "execution_count": 2,
      "outputs": [
        {
          "output_type": "stream",
          "text": [
            "--- INSPECTING THE DATA --- \n",
            "--- columns --- \n",
            "Index(['age', 'sex', 'bmi', 'children', 'smoker', 'region', 'charges'], dtype='object')\n",
            "--- types --- \n",
            "age           int64\n",
            "sex          object\n",
            "bmi         float64\n",
            "children      int64\n",
            "smoker       object\n",
            "region       object\n",
            "charges     float64\n",
            "dtype: object\n",
            "--- NA counts --- \n",
            "age         0\n",
            "sex         0\n",
            "bmi         0\n",
            "children    0\n",
            "smoker      0\n",
            "region      0\n",
            "charges     0\n",
            "dtype: int64\n",
            "--- object descriptions --- \n",
            "         sex smoker     region\n",
            "count   1338   1338       1338\n",
            "unique     2      2          4\n",
            "top     male     no  southeast\n",
            "freq     676   1064        364\n",
            "--- numericals descriptions --- \n"
          ],
          "name": "stdout"
        },
        {
          "output_type": "execute_result",
          "data": {
            "text/html": [
              "<div>\n",
              "<style scoped>\n",
              "    .dataframe tbody tr th:only-of-type {\n",
              "        vertical-align: middle;\n",
              "    }\n",
              "\n",
              "    .dataframe tbody tr th {\n",
              "        vertical-align: top;\n",
              "    }\n",
              "\n",
              "    .dataframe thead th {\n",
              "        text-align: right;\n",
              "    }\n",
              "</style>\n",
              "<table border=\"1\" class=\"dataframe\">\n",
              "  <thead>\n",
              "    <tr style=\"text-align: right;\">\n",
              "      <th></th>\n",
              "      <th>age</th>\n",
              "      <th>bmi</th>\n",
              "      <th>children</th>\n",
              "      <th>charges</th>\n",
              "    </tr>\n",
              "  </thead>\n",
              "  <tbody>\n",
              "    <tr>\n",
              "      <th>count</th>\n",
              "      <td>1338.000000</td>\n",
              "      <td>1338.000000</td>\n",
              "      <td>1338.000000</td>\n",
              "      <td>1338.000000</td>\n",
              "    </tr>\n",
              "    <tr>\n",
              "      <th>mean</th>\n",
              "      <td>39.207025</td>\n",
              "      <td>30.663397</td>\n",
              "      <td>1.094918</td>\n",
              "      <td>13270.422265</td>\n",
              "    </tr>\n",
              "    <tr>\n",
              "      <th>std</th>\n",
              "      <td>14.049960</td>\n",
              "      <td>6.098187</td>\n",
              "      <td>1.205493</td>\n",
              "      <td>12110.011237</td>\n",
              "    </tr>\n",
              "    <tr>\n",
              "      <th>min</th>\n",
              "      <td>18.000000</td>\n",
              "      <td>15.960000</td>\n",
              "      <td>0.000000</td>\n",
              "      <td>1121.873900</td>\n",
              "    </tr>\n",
              "    <tr>\n",
              "      <th>25%</th>\n",
              "      <td>27.000000</td>\n",
              "      <td>26.296250</td>\n",
              "      <td>0.000000</td>\n",
              "      <td>4740.287150</td>\n",
              "    </tr>\n",
              "    <tr>\n",
              "      <th>50%</th>\n",
              "      <td>39.000000</td>\n",
              "      <td>30.400000</td>\n",
              "      <td>1.000000</td>\n",
              "      <td>9382.033000</td>\n",
              "    </tr>\n",
              "    <tr>\n",
              "      <th>75%</th>\n",
              "      <td>51.000000</td>\n",
              "      <td>34.693750</td>\n",
              "      <td>2.000000</td>\n",
              "      <td>16639.912515</td>\n",
              "    </tr>\n",
              "    <tr>\n",
              "      <th>max</th>\n",
              "      <td>64.000000</td>\n",
              "      <td>53.130000</td>\n",
              "      <td>5.000000</td>\n",
              "      <td>63770.428010</td>\n",
              "    </tr>\n",
              "  </tbody>\n",
              "</table>\n",
              "</div>"
            ],
            "text/plain": [
              "               age          bmi     children       charges\n",
              "count  1338.000000  1338.000000  1338.000000   1338.000000\n",
              "mean     39.207025    30.663397     1.094918  13270.422265\n",
              "std      14.049960     6.098187     1.205493  12110.011237\n",
              "min      18.000000    15.960000     0.000000   1121.873900\n",
              "25%      27.000000    26.296250     0.000000   4740.287150\n",
              "50%      39.000000    30.400000     1.000000   9382.033000\n",
              "75%      51.000000    34.693750     2.000000  16639.912515\n",
              "max      64.000000    53.130000     5.000000  63770.428010"
            ]
          },
          "metadata": {
            "tags": []
          },
          "execution_count": 2
        }
      ]
    },
    {
      "cell_type": "code",
      "metadata": {
        "colab": {
          "base_uri": "https://localhost:8080/",
          "height": 190
        },
        "id": "c_GOvh2rVjBm",
        "outputId": "7c6d43a7-0b55-44ad-ad22-c7ef568d4d3d"
      },
      "source": [
        "### view basic feature correlations ###\n",
        "print('--- feature correlations ---')\n",
        "df.corr()"
      ],
      "execution_count": 3,
      "outputs": [
        {
          "output_type": "stream",
          "text": [
            "--- feature correlations ---\n"
          ],
          "name": "stdout"
        },
        {
          "output_type": "execute_result",
          "data": {
            "text/html": [
              "<div>\n",
              "<style scoped>\n",
              "    .dataframe tbody tr th:only-of-type {\n",
              "        vertical-align: middle;\n",
              "    }\n",
              "\n",
              "    .dataframe tbody tr th {\n",
              "        vertical-align: top;\n",
              "    }\n",
              "\n",
              "    .dataframe thead th {\n",
              "        text-align: right;\n",
              "    }\n",
              "</style>\n",
              "<table border=\"1\" class=\"dataframe\">\n",
              "  <thead>\n",
              "    <tr style=\"text-align: right;\">\n",
              "      <th></th>\n",
              "      <th>age</th>\n",
              "      <th>bmi</th>\n",
              "      <th>children</th>\n",
              "      <th>charges</th>\n",
              "    </tr>\n",
              "  </thead>\n",
              "  <tbody>\n",
              "    <tr>\n",
              "      <th>age</th>\n",
              "      <td>1.000000</td>\n",
              "      <td>0.109272</td>\n",
              "      <td>0.042469</td>\n",
              "      <td>0.299008</td>\n",
              "    </tr>\n",
              "    <tr>\n",
              "      <th>bmi</th>\n",
              "      <td>0.109272</td>\n",
              "      <td>1.000000</td>\n",
              "      <td>0.012759</td>\n",
              "      <td>0.198341</td>\n",
              "    </tr>\n",
              "    <tr>\n",
              "      <th>children</th>\n",
              "      <td>0.042469</td>\n",
              "      <td>0.012759</td>\n",
              "      <td>1.000000</td>\n",
              "      <td>0.067998</td>\n",
              "    </tr>\n",
              "    <tr>\n",
              "      <th>charges</th>\n",
              "      <td>0.299008</td>\n",
              "      <td>0.198341</td>\n",
              "      <td>0.067998</td>\n",
              "      <td>1.000000</td>\n",
              "    </tr>\n",
              "  </tbody>\n",
              "</table>\n",
              "</div>"
            ],
            "text/plain": [
              "               age       bmi  children   charges\n",
              "age       1.000000  0.109272  0.042469  0.299008\n",
              "bmi       0.109272  1.000000  0.012759  0.198341\n",
              "children  0.042469  0.012759  1.000000  0.067998\n",
              "charges   0.299008  0.198341  0.067998  1.000000"
            ]
          },
          "metadata": {
            "tags": []
          },
          "execution_count": 3
        }
      ]
    },
    {
      "cell_type": "code",
      "metadata": {
        "colab": {
          "base_uri": "https://localhost:8080/",
          "height": 466
        },
        "id": "1RHqwUrdVjKI",
        "outputId": "6d131a5c-952d-4c17-918e-da8eb663c36e"
      },
      "source": [
        "### view basic feature correlations in a heatmap ###\n",
        "import seaborn as sns \n",
        "import matplotlib.pyplot as plt \n",
        "f, ax = plt.subplots(1, 1, figsize = (10, 7))\n",
        "print('--- feature correlations heatmap ---')\n",
        "sns.heatmap(df.corr() , cmap = 'Wistia' , annot = True)"
      ],
      "execution_count": 4,
      "outputs": [
        {
          "output_type": "stream",
          "text": [
            "--- feature correlations heatmap ---\n"
          ],
          "name": "stdout"
        },
        {
          "output_type": "execute_result",
          "data": {
            "text/plain": [
              "<matplotlib.axes._subplots.AxesSubplot at 0x7f492fd43cf8>"
            ]
          },
          "metadata": {
            "tags": []
          },
          "execution_count": 4
        },
        {
          "output_type": "display_data",
          "data": {
            "image/png": "[encoded data removed]",
            "text/plain": [
              "<Figure size 720x504 with 2 Axes>"
            ]
          },
          "metadata": {
            "tags": [],
            "needs_background": "light"
          }
        }
      ]
    },
    {
      "cell_type": "code",
      "metadata": {
        "id": "u3zWlAMjVjYC",
        "colab": {
          "base_uri": "https://localhost:8080/",
          "height": 1000
        },
        "outputId": "770539af-ae89-43ce-8c93-97d0f5e5c39e"
      },
      "source": [
        "### view scatter plots for each feature vs. target ###\n",
        "import matplotlib.pyplot as plt \n",
        "target_ = 'charges' # set the target\n",
        "features_ = df.iloc[:, 0:6] # set the features\n",
        "print('--- scatter plots ---')\n",
        "for feature in features_:\n",
        "    figure = plt.figure\n",
        "    f, ax = plt.subplots(1, 1, figsize = (10, 7))\n",
        "    ax = plt.gca()\n",
        "    ax.scatter(df[target_], df[feature])\n",
        "    ax.set_xlabel(target_)\n",
        "    ax.set_ylabel(feature)\n",
        "    ax.set_title(f'''{target_} vs {feature}''')\n",
        "    plt.show()"
      ],
      "execution_count": 5,
      "outputs": [
        {
          "output_type": "stream",
          "text": [
            "--- scatter plots ---\n"
          ],
          "name": "stdout"
        },
        {
          "output_type": "display_data",
          "data": {
            "image/png": "[encoded data removed]",
            "text/plain": [
              "<Figure size 720x504 with 1 Axes>"
            ]
          },
          "metadata": {
            "tags": [],
            "needs_background": "light"
          }
        },
        {
          "output_type": "display_data",
          "data": {
            "image/png": "[encoded data removed]",
            "text/plain": [
              "<Figure size 720x504 with 1 Axes>"
            ]
          },
          "metadata": {
            "tags": [],
            "needs_background": "light"
          }
        },
        {
          "output_type": "display_data",
          "data": {
            "image/png": "[encoded data removed]",
            "text/plain": [
              "<Figure size 720x504 with 1 Axes>"
            ]
          },
          "metadata": {
            "tags": [],
            "needs_background": "light"
          }
        },
        {
          "output_type": "display_data",
          "data": {
            "image/png": "[encoded data removed]",
            "text/plain": [
              "<Figure size 720x504 with 1 Axes>"
            ]
          },
          "metadata": {
            "tags": [],
            "needs_background": "light"
          }
        },
        {
          "output_type": "display_data",
          "data": {
            "image/png": "[encoded data removed]",
            "text/plain": [
              "<Figure size 720x504 with 1 Axes>"
            ]
          },
          "metadata": {
            "tags": [],
            "needs_background": "light"
          }
        },
        {
          "output_type": "display_data",
          "data": {
            "image/png": "[encoded data removed]",
            "text/plain": [
              "<Figure size 720x504 with 1 Axes>"
            ]
          },
          "metadata": {
            "tags": [],
            "needs_background": "light"
          }
        }
      ]
    },
    {
      "cell_type": "markdown",
      "metadata": {
        "id": "t6711cfuimwK"
      },
      "source": [
        "#### Encode + Clean + Organize \n",
        "\n",
        "\n",
        "\n"
      ]
    },
    {
      "cell_type": "code",
      "metadata": {
        "colab": {
          "base_uri": "https://localhost:8080/",
          "height": 221
        },
        "id": "-q4TXoROik9V",
        "outputId": "9e8dc12f-20e4-414d-f145-285bde13120c"
      },
      "source": [
        "### use label encoder on the data frame ###\n",
        "# encoding for 'sex', 'smoker', 'region'\n",
        "from sklearn.preprocessing import LabelEncoder\n",
        "le = LabelEncoder()\n",
        "df[['sex', 'smoker', 'region']] = df[['sex', 'smoker', 'region']].apply(le.fit_transform) \n",
        "print('data frame shape:', df.shape)\n",
        "df.head() "
      ],
      "execution_count": 6,
      "outputs": [
        {
          "output_type": "stream",
          "text": [
            "data frame shape: (1338, 7)\n"
          ],
          "name": "stdout"
        },
        {
          "output_type": "execute_result",
          "data": {
            "text/html": [
              "<div>\n",
              "<style scoped>\n",
              "    .dataframe tbody tr th:only-of-type {\n",
              "        vertical-align: middle;\n",
              "    }\n",
              "\n",
              "    .dataframe tbody tr th {\n",
              "        vertical-align: top;\n",
              "    }\n",
              "\n",
              "    .dataframe thead th {\n",
              "        text-align: right;\n",
              "    }\n",
              "</style>\n",
              "<table border=\"1\" class=\"dataframe\">\n",
              "  <thead>\n",
              "    <tr style=\"text-align: right;\">\n",
              "      <th></th>\n",
              "      <th>age</th>\n",
              "      <th>sex</th>\n",
              "      <th>bmi</th>\n",
              "      <th>children</th>\n",
              "      <th>smoker</th>\n",
              "      <th>region</th>\n",
              "      <th>charges</th>\n",
              "    </tr>\n",
              "  </thead>\n",
              "  <tbody>\n",
              "    <tr>\n",
              "      <th>0</th>\n",
              "      <td>19</td>\n",
              "      <td>0</td>\n",
              "      <td>27.900</td>\n",
              "      <td>0</td>\n",
              "      <td>1</td>\n",
              "      <td>3</td>\n",
              "      <td>16884.92400</td>\n",
              "    </tr>\n",
              "    <tr>\n",
              "      <th>1</th>\n",
              "      <td>18</td>\n",
              "      <td>1</td>\n",
              "      <td>33.770</td>\n",
              "      <td>1</td>\n",
              "      <td>0</td>\n",
              "      <td>2</td>\n",
              "      <td>1725.55230</td>\n",
              "    </tr>\n",
              "    <tr>\n",
              "      <th>2</th>\n",
              "      <td>28</td>\n",
              "      <td>1</td>\n",
              "      <td>33.000</td>\n",
              "      <td>3</td>\n",
              "      <td>0</td>\n",
              "      <td>2</td>\n",
              "      <td>4449.46200</td>\n",
              "    </tr>\n",
              "    <tr>\n",
              "      <th>3</th>\n",
              "      <td>33</td>\n",
              "      <td>1</td>\n",
              "      <td>22.705</td>\n",
              "      <td>0</td>\n",
              "      <td>0</td>\n",
              "      <td>1</td>\n",
              "      <td>21984.47061</td>\n",
              "    </tr>\n",
              "    <tr>\n",
              "      <th>4</th>\n",
              "      <td>32</td>\n",
              "      <td>1</td>\n",
              "      <td>28.880</td>\n",
              "      <td>0</td>\n",
              "      <td>0</td>\n",
              "      <td>1</td>\n",
              "      <td>3866.85520</td>\n",
              "    </tr>\n",
              "  </tbody>\n",
              "</table>\n",
              "</div>"
            ],
            "text/plain": [
              "   age  sex     bmi  children  smoker  region      charges\n",
              "0   19    0  27.900         0       1       3  16884.92400\n",
              "1   18    1  33.770         1       0       2   1725.55230\n",
              "2   28    1  33.000         3       0       2   4449.46200\n",
              "3   33    1  22.705         0       0       1  21984.47061\n",
              "4   32    1  28.880         0       0       1   3866.85520"
            ]
          },
          "metadata": {
            "tags": []
          },
          "execution_count": 6
        }
      ]
    },
    {
      "cell_type": "code",
      "metadata": {
        "colab": {
          "base_uri": "https://localhost:8080/",
          "height": 1000
        },
        "id": "N7-C-WNio8b9",
        "outputId": "7b7bd5d1-d6b7-4f3d-e223-d3b898f807fa"
      },
      "source": [
        "### check for outliers in the data ### \n",
        "import matplotlib.pyplot as plt\n",
        "# view each feature in a boxplot \n",
        "for column in df:\n",
        "    plt.figure() # plot figure \n",
        "    f, ax = plt.subplots(1, 1, figsize = (10, 7))\n",
        "    df.boxplot([column]) # set data"
      ],
      "execution_count": 7,
      "outputs": [
        {
          "output_type": "display_data",
          "data": {
            "text/plain": [
              "<Figure size 432x288 with 0 Axes>"
            ]
          },
          "metadata": {
            "tags": []
          }
        },
        {
          "output_type": "display_data",
          "data": {
            "image/png": "[encoded data removed]",
            "text/plain": [
              "<Figure size 720x504 with 1 Axes>"
            ]
          },
          "metadata": {
            "tags": [],
            "needs_background": "light"
          }
        },
        {
          "output_type": "display_data",
          "data": {
            "text/plain": [
              "<Figure size 432x288 with 0 Axes>"
            ]
          },
          "metadata": {
            "tags": []
          }
        },
        {
          "output_type": "display_data",
          "data": {
            "image/png": "[encoded data removed]",
            "text/plain": [
              "<Figure size 720x504 with 1 Axes>"
            ]
          },
          "metadata": {
            "tags": [],
            "needs_background": "light"
          }
        },
        {
          "output_type": "display_data",
          "data": {
            "text/plain": [
              "<Figure size 432x288 with 0 Axes>"
            ]
          },
          "metadata": {
            "tags": []
          }
        },
        {
          "output_type": "display_data",
          "data": {
            "image/png": "[encoded data removed]",
            "text/plain": [
              "<Figure size 720x504 with 1 Axes>"
            ]
          },
          "metadata": {
            "tags": [],
            "needs_background": "light"
          }
        },
        {
          "output_type": "display_data",
          "data": {
            "text/plain": [
              "<Figure size 432x288 with 0 Axes>"
            ]
          },
          "metadata": {
            "tags": []
          }
        },
        {
          "output_type": "display_data",
          "data": {
            "image/png": "[encoded data removed]",
            "text/plain": [
              "<Figure size 720x504 with 1 Axes>"
            ]
          },
          "metadata": {
            "tags": [],
            "needs_background": "light"
          }
        },
        {
          "output_type": "display_data",
          "data": {
            "text/plain": [
              "<Figure size 432x288 with 0 Axes>"
            ]
          },
          "metadata": {
            "tags": []
          }
        },
        {
          "output_type": "display_data",
          "data": {
            "image/png": "[encoded data removed]",
            "text/plain": [
              "<Figure size 720x504 with 1 Axes>"
            ]
          },
          "metadata": {
            "tags": [],
            "needs_background": "light"
          }
        },
        {
          "output_type": "display_data",
          "data": {
            "text/plain": [
              "<Figure size 432x288 with 0 Axes>"
            ]
          },
          "metadata": {
            "tags": []
          }
        },
        {
          "output_type": "display_data",
          "data": {
            "image/png": "[encoded data removed]",
            "text/plain": [
              "<Figure size 720x504 with 1 Axes>"
            ]
          },
          "metadata": {
            "tags": [],
            "needs_background": "light"
          }
        },
        {
          "output_type": "display_data",
          "data": {
            "text/plain": [
              "<Figure size 432x288 with 0 Axes>"
            ]
          },
          "metadata": {
            "tags": []
          }
        },
        {
          "output_type": "display_data",
          "data": {
            "image/png": "[encoded data removed]",
            "text/plain": [
              "<Figure size 720x504 with 1 Axes>"
            ]
          },
          "metadata": {
            "tags": [],
            "needs_background": "light"
          }
        }
      ]
    },
    {
      "cell_type": "code",
      "metadata": {
        "id": "1l_5nceolQS6"
      },
      "source": [
        "### function to find outliers in the data ###\n",
        "def outlier_zscore(data):\n",
        "    global outliers,zscore\n",
        "    outliers = [] \n",
        "    zscore = [] \n",
        "    threshold = 3.5 # set threshold \n",
        "    mean = np.mean(data)\n",
        "    std = np.std(data)\n",
        "    for i in data:\n",
        "        z_score = (i - mean)/std # calculate the z_score\n",
        "        zscore.append(z_score) # append the score to the zscore\n",
        "        if np.abs(z_score) > threshold: \n",
        "            outliers.append(i) # append z_score the outliers\n",
        "    print(outliers)\n",
        "    return len(outliers), outliers"
      ],
      "execution_count": 8,
      "outputs": []
    },
    {
      "cell_type": "code",
      "metadata": {
        "colab": {
          "base_uri": "https://localhost:8080/"
        },
        "id": "vO4qw9tXl4Km",
        "outputId": "d6395f7c-d6ab-442f-d2db-02ceef7ce1d3"
      },
      "source": [
        "### run each feature 'wanted' through the function ### \n",
        "print('--- possible outliers --- ')\n",
        "age_outliers_number, age_outliers = outlier_zscore(df.age)\n",
        "sex_outliers_number, sex_outliers = outlier_zscore(df.sex)\n",
        "bmi_outliers_number, bmi_outliers = outlier_zscore(df.bmi)\n",
        "children_outliers_number, children_outliers = outlier_zscore(df.children)\n",
        "smoker_outliers_number, smoker_outliers = outlier_zscore(df.smoker)\n",
        "region_outliers_number, region_outliers = outlier_zscore(df.region)\n",
        "charges_outliers_number, charges_outliers = outlier_zscore(df.charges)\n"
      ],
      "execution_count": 9,
      "outputs": [
        {
          "output_type": "stream",
          "text": [
            "--- possible outliers --- \n",
            "[]\n",
            "[]\n",
            "[52.58, 53.13]\n",
            "[]\n",
            "[]\n",
            "[]\n",
            "[63770.42801, 58571.074479999996, 60021.39897, 62592.87309]\n"
          ],
          "name": "stdout"
        }
      ]
    },
    {
      "cell_type": "code",
      "metadata": {
        "colab": {
          "base_uri": "https://localhost:8080/"
        },
        "id": "u31ZFVCvnxTv",
        "outputId": "51ecdceb-cc84-4a5b-ffc9-990b2e3701b3"
      },
      "source": [
        "### removal of outliers per feature ###\n",
        "for num, i in enumerate(df['bmi']): \n",
        "    if i in bmi_outliers:\n",
        "        df['bmi'][num] = 48.5 # choose replacement score\n",
        "for num, i in enumerate(df['charges']): \n",
        "    if i in charges_outliers:\n",
        "        df['charges'][num] = 55000.00 # choose replacement score"
      ],
      "execution_count": 10,
      "outputs": [
        {
          "output_type": "stream",
          "text": [
            "/usr/local/lib/python3.6/dist-packages/ipykernel_launcher.py:4: SettingWithCopyWarning: \n",
            "A value is trying to be set on a copy of a slice from a DataFrame\n",
            "\n",
            "See the caveats in the documentation: https://pandas.pydata.org/pandas-docs/stable/user_guide/indexing.html#returning-a-view-versus-a-copy\n",
            "  after removing the cwd from sys.path.\n",
            "/usr/local/lib/python3.6/dist-packages/ipykernel_launcher.py:7: SettingWithCopyWarning: \n",
            "A value is trying to be set on a copy of a slice from a DataFrame\n",
            "\n",
            "See the caveats in the documentation: https://pandas.pydata.org/pandas-docs/stable/user_guide/indexing.html#returning-a-view-versus-a-copy\n",
            "  import sys\n"
          ],
          "name": "stderr"
        }
      ]
    },
    {
      "cell_type": "markdown",
      "metadata": {
        "id": "EaGw20nIVO2A"
      },
      "source": [
        "#### XGBoost Regression\n",
        " - GridSearchCV\n",
        " - RandomizedSearch CV"
      ]
    },
    {
      "cell_type": "code",
      "metadata": {
        "id": "X2frwLGKLAjb"
      },
      "source": [
        "### copy the data frame ###\n",
        "df1 = df.copy()"
      ],
      "execution_count": 14,
      "outputs": []
    },
    {
      "cell_type": "code",
      "metadata": {
        "colab": {
          "base_uri": "https://localhost:8080/"
        },
        "id": "zkLcjkiDGVTx",
        "outputId": "71fec142-9743-4a23-dd65-15ad2a0e73d3"
      },
      "source": [
        "### split the data into features & target sets ###\n",
        "X = df1.iloc[:, 0:6].values # set the features\n",
        "y = df1.iloc[:, 6].values # set the target \n",
        "print('--- data shapes --- ')\n",
        "print('X shape:', X.shape) \n",
        "print('y shape:', y.shape) "
      ],
      "execution_count": 15,
      "outputs": [
        {
          "output_type": "stream",
          "text": [
            "--- data shapes --- \n",
            "X shape: (1338, 6)\n",
            "y shape: (1338,)\n"
          ],
          "name": "stdout"
        }
      ]
    },
    {
      "cell_type": "code",
      "metadata": {
        "id": "c0G4cj3Bk1-7"
      },
      "source": [
        "### set the train test split parameters ###\n",
        "from sklearn.model_selection import train_test_split\n",
        "X_train, X_test, y_train, y_test = train_test_split(X, y, test_size=0.2, random_state=0) # split 80/20 "
      ],
      "execution_count": 16,
      "outputs": []
    },
    {
      "cell_type": "code",
      "metadata": {
        "id": "Otgx0dX6bdc1"
      },
      "source": [
        "### feature scaling ### \n",
        "from sklearn.preprocessing import StandardScaler\n",
        "sc = StandardScaler() # initiate the scalar   \n",
        "X_train = sc.fit_transform(X_train) # fit transform the data with scalar\n",
        "X_test = sc.transform(X_test) # fit transform the data with scalar"
      ],
      "execution_count": 17,
      "outputs": []
    },
    {
      "cell_type": "code",
      "metadata": {
        "colab": {
          "base_uri": "https://localhost:8080/"
        },
        "id": "Ev3_XbnvyPYe",
        "outputId": "741433f2-35cd-4196-90b2-5a941b77dbbb"
      },
      "source": [
        "### XGBoost regression model ###\n",
        "import xgboost as xgb \n",
        "from sklearn import metrics\n",
        "model = xgb.XGBRegressor()\n",
        "print('--- model runtime --- ')\n",
        "%time model.fit(X_train, y_train)\n",
        "y_pred = model.predict(X_test)\n",
        "#### create data frame of predictions and results ### \n",
        "y_pred_df = pd.DataFrame(y_pred, columns=[\"Predicted_Values\" ]) \n",
        "y_test_df = pd.DataFrame(np.array(y_test), columns=[\"Real_Values\"]) \n",
        "df_final = pd.concat([y_test_df , y_pred_df] , axis=1)\n",
        "print('--- real values vs predicted values ---') \n",
        "print(df_final.head())\n",
        "### get the model metrics ###\n",
        "print('--- model metrics ---') \n",
        "print('mean absolute error:', metrics.mean_absolute_error(y_test, y_pred)) # mae \n",
        "print('mean squared error:', metrics.mean_squared_error(y_test, y_pred)) # mse \n",
        "print('root mean squared error:', np.sqrt(metrics.mean_squared_error(y_test, y_pred))) # rmse\n",
        "score = metrics.r2_score(y_test , y_pred) # get the r2 score \n",
        "print(\"r2 score : {}\".format(score)) # show the r2 score\n",
        "print('model score:', model.score(X_train, y_train)) # show the model score \n",
        "print(\"model accuracy: {}%\".format(score * 100)) # show the model accuracy"
      ],
      "execution_count": 19,
      "outputs": [
        {
          "output_type": "stream",
          "text": [
            "--- model runtime --- \n",
            "[21:51:04] WARNING: /workspace/src/objective/regression_obj.cu:152: reg:linear is now deprecated in favor of reg:squarederror.\n",
            "CPU times: user 50.9 ms, sys: 963 µs, total: 51.9 ms\n",
            "Wall time: 51.7 ms\n",
            "--- real values vs predicted values ---\n",
            "   Real_Values  Predicted_Values\n",
            "0   9724.53000      12182.335938\n",
            "1   8547.69130       9926.038086\n",
            "2  45702.02235      46371.992188\n",
            "3  12950.07120      13901.026367\n",
            "4   9644.25250      10526.208984\n",
            "--- model metrics ---\n",
            "mean absolute error: 2388.173032668551\n",
            "mean squared error: 16077362.948037058\n",
            "root mean squared error: 4009.658707176592\n",
            "r2 score : 0.8989670913420329\n",
            "model score: 0.8933742090968199\n",
            "model accuracy: 89.89670913420329%\n"
          ],
          "name": "stdout"
        }
      ]
    },
    {
      "cell_type": "code",
      "metadata": {
        "colab": {
          "base_uri": "https://localhost:8080/",
          "height": 575
        },
        "id": "NOMVuikON_o_",
        "outputId": "1370fe6b-ef12-4246-e0ff-db0623be0e13"
      },
      "source": [
        "### visualize the model prediction accuracy ###\n",
        "import seaborn as sns\n",
        "import matplotlib.pyplot as plt\n",
        "### configure the plot ###\n",
        "print('--- distplot accuracy --- ')\n",
        "f, ax = plt.subplots(1, 1, figsize = (10, 7))\n",
        "ax1 = sns.distplot(y_test, hist=False, color=\"b\", label=\"Actual Values\")\n",
        "sns.distplot(y_pred, hist=False, color=\"r\", label=\"Predicted Values\" , axlabel='Charges', ax=ax1)\n",
        "plt.legend()"
      ],
      "execution_count": 20,
      "outputs": [
        {
          "output_type": "stream",
          "text": [
            "--- distplot accuracy --- \n"
          ],
          "name": "stdout"
        },
        {
          "output_type": "stream",
          "text": [
            "/usr/local/lib/python3.6/dist-packages/seaborn/distributions.py:2557: FutureWarning: `distplot` is a deprecated function and will be removed in a future version. Please adapt your code to use either `displot` (a figure-level function with similar flexibility) or `kdeplot` (an axes-level function for kernel density plots).\n",
            "  warnings.warn(msg, FutureWarning)\n",
            "/usr/local/lib/python3.6/dist-packages/seaborn/distributions.py:2557: FutureWarning: `distplot` is a deprecated function and will be removed in a future version. Please adapt your code to use either `displot` (a figure-level function with similar flexibility) or `kdeplot` (an axes-level function for kernel density plots).\n",
            "  warnings.warn(msg, FutureWarning)\n"
          ],
          "name": "stderr"
        },
        {
          "output_type": "execute_result",
          "data": {
            "text/plain": [
              "<matplotlib.legend.Legend at 0x7f491c4f9940>"
            ]
          },
          "metadata": {
            "tags": []
          },
          "execution_count": 20
        },
        {
          "output_type": "display_data",
          "data": {
            "image/png": "[encoded data removed]",
            "text/plain": [
              "<Figure size 720x504 with 1 Axes>"
            ]
          },
          "metadata": {
            "tags": [],
            "needs_background": "light"
          }
        }
      ]
    },
    {
      "cell_type": "markdown",
      "metadata": {
        "id": "RfPNqAr5uNeG"
      },
      "source": [
        "##### GridSearch CV"
      ]
    },
    {
      "cell_type": "code",
      "metadata": {
        "id": "fBOaexZBLZLw"
      },
      "source": [
        "### copy the data frame ###\n",
        "df2 = df.copy()"
      ],
      "execution_count": 21,
      "outputs": []
    },
    {
      "cell_type": "code",
      "metadata": {
        "colab": {
          "base_uri": "https://localhost:8080/"
        },
        "id": "FUwGCwxYfhuL",
        "outputId": "9dbec7ce-4e50-4d67-89b7-56d4bc07c478"
      },
      "source": [
        "### split the data into features & target sets ###\n",
        "X = df2.iloc[:, 0:6].values # set the features\n",
        "y = df2.iloc[:, 6].values # set the target \n",
        "print('--- data shapes --- ')\n",
        "print('X shape:', X.shape)\n",
        "print('y shape:', y.shape) "
      ],
      "execution_count": 22,
      "outputs": [
        {
          "output_type": "stream",
          "text": [
            "--- data shapes --- \n",
            "X shape: (1338, 6)\n",
            "y shape: (1338,)\n"
          ],
          "name": "stdout"
        }
      ]
    },
    {
      "cell_type": "code",
      "metadata": {
        "id": "NyuJr3b7hDkp"
      },
      "source": [
        "### set the train test split parameters ###\n",
        "from sklearn.model_selection import train_test_split\n",
        "X_train, X_test, y_train, y_test = train_test_split(X, y, test_size=0.2, random_state=0) # split 80/20"
      ],
      "execution_count": 23,
      "outputs": []
    },
    {
      "cell_type": "code",
      "metadata": {
        "id": "z_x-CAWGhDxf"
      },
      "source": [
        "### feature scaling ### \n",
        "from sklearn.preprocessing import StandardScaler\n",
        "sc = StandardScaler() # initiate the scalar   \n",
        "X_train = sc.fit_transform(X_train) # fit transform the data with scalar\n",
        "X_test = sc.transform(X_test) # fit transform the data with scalar"
      ],
      "execution_count": 25,
      "outputs": []
    },
    {
      "cell_type": "code",
      "metadata": {
        "colab": {
          "base_uri": "https://localhost:8080/"
        },
        "id": "TTnp-OEvuQXn",
        "outputId": "4a31b550-ed19-4d98-8b84-e89e4bc9fffc"
      },
      "source": [
        "### XGBoost + grid search CV model ###\n",
        "import xgboost as xgb\n",
        "from sklearn.model_selection import GridSearchCV\n",
        "model1 = xgb.XGBRegressor()\n",
        "param_grid = {  # create the param grid \n",
        "            # 'base_score': 0.5,\n",
        "            # 'booster': 'gbtree',\n",
        "            # 'colsample_bylevel': 1,\n",
        "            # 'colsample_bynode': 1,\n",
        "            # 'colsample_bytree': 1,\n",
        "            # 'gamma': 0,\n",
        "            'learning_rate': [0.1, 0.5, 0.75],\n",
        "            # 'max_delta_step': 0,\n",
        "            'max_depth': [3, 10, 20],\n",
        "            # 'min_child_weight': 1,\n",
        "            # 'missing': None,\n",
        "            'n_estimators': [10, 100, 200],\n",
        "            # 'n_jobs': 1,\n",
        "            # 'nthread': None,\n",
        "            'objective': ['reg:squarederror'],\n",
        "            # 'random_state': 0,\n",
        "            # 'reg_alpha': 0,\n",
        "            # 'reg_lambda': 1,\n",
        "            # 'scale_pos_weight': 1,\n",
        "            # 'seed': None,\n",
        "            # 'silent': None,\n",
        "            # 'subsample': 1,\n",
        "            # 'verbosity': 1\n",
        "              }\n",
        "CV_rfc = GridSearchCV(estimator=model1, param_grid=param_grid, cv=3) \n",
        "print('--- model runtime --- ')\n",
        "%time CV_rfc.fit(X_train, y_train)\n",
        "print('--- best params --- ')\n",
        "CV_rfc.best_params_"
      ],
      "execution_count": 31,
      "outputs": [
        {
          "output_type": "stream",
          "text": [
            "--- model runtime --- \n",
            "CPU times: user 8.54 s, sys: 171 ms, total: 8.71 s\n",
            "Wall time: 8.73 s\n",
            "--- best params --- \n"
          ],
          "name": "stdout"
        },
        {
          "output_type": "execute_result",
          "data": {
            "text/plain": [
              "{'learning_rate': 0.5,\n",
              " 'max_depth': 3,\n",
              " 'n_estimators': 10,\n",
              " 'objective': 'reg:squarederror'}"
            ]
          },
          "metadata": {
            "tags": []
          },
          "execution_count": 31
        }
      ]
    },
    {
      "cell_type": "code",
      "metadata": {
        "colab": {
          "base_uri": "https://localhost:8080/"
        },
        "id": "Ni8wc19BuQf3",
        "outputId": "80e6d964-4e12-4d15-8811-a930d2f92372"
      },
      "source": [
        "### XGBoost regression model + grid best params ###\n",
        "import xgboost as xgb \n",
        "from sklearn import metrics\n",
        "model1 = xgb.XGBRegressor(\n",
        "                          learning_rate= 0.5, \n",
        "                          max_depth= 3, \n",
        "                          n_estimators= 10\n",
        "                          )\n",
        "print('--- model runtime --- ')\n",
        "%time model1.fit(X_train, y_train) \n",
        "y_pred = model1.predict(X_test) \n",
        "#### create data frame of predictions and results ### \n",
        "y_pred_df = pd.DataFrame(y_pred, columns=[\"Predicted_Values\" ]) \n",
        "y_test_df = pd.DataFrame(np.array(y_test), columns=[\"Real_Values\"]) \n",
        "df_final = pd.concat([y_test_df , y_pred_df] , axis=1) \n",
        "print('--- real values vs predicted values ---') \n",
        "print(df_final.head())\n",
        "### get the model metrics ###\n",
        "print('--- model metrics ---') \n",
        "print('mean absolute error:', metrics.mean_absolute_error(y_test, y_pred)) # mae \n",
        "print('mean squared error:', metrics.mean_squared_error(y_test, y_pred)) # mse \n",
        "print('root mean squared error:', np.sqrt(metrics.mean_squared_error(y_test, y_pred))) # rmse\n",
        "score = metrics.r2_score(y_test , y_pred) # get the r2 score \n",
        "print(\"r2 score : {}\".format(score)) # show the r2 score\n",
        "print('model score:', model1.score(X_train, y_train)) # show the model score \n",
        "print(\"model accuracy: {}%\".format(score * 100)) # show the model accuracy"
      ],
      "execution_count": 33,
      "outputs": [
        {
          "output_type": "stream",
          "text": [
            "--- model runtime --- \n",
            "[22:00:15] WARNING: /workspace/src/objective/regression_obj.cu:152: reg:linear is now deprecated in favor of reg:squarederror.\n",
            "CPU times: user 10.6 ms, sys: 32 µs, total: 10.7 ms\n",
            "Wall time: 10.2 ms\n",
            "--- real values vs predicted values ---\n",
            "   Real_Values  Predicted_Values\n",
            "0   9724.53000      11816.898438\n",
            "1   8547.69130       9802.083984\n",
            "2  45702.02235      45528.105469\n",
            "3  12950.07120      14350.306641\n",
            "4   9644.25250      10651.940430\n",
            "--- model metrics ---\n",
            "mean absolute error: 2360.944091658757\n",
            "mean squared error: 15752794.83042561\n",
            "root mean squared error: 3968.9790665139076\n",
            "r2 score : 0.9010067331095237\n",
            "model score: 0.8794871996853431\n",
            "model accuracy: 90.10067331095237%\n"
          ],
          "name": "stdout"
        }
      ]
    },
    {
      "cell_type": "code",
      "metadata": {
        "colab": {
          "base_uri": "https://localhost:8080/",
          "height": 575
        },
        "id": "nMsZgfLxuQ6K",
        "outputId": "bc53626a-135c-4465-f435-9036afccaebe"
      },
      "source": [
        "### visualize the model prediction accuracy ###\n",
        "import seaborn as sns\n",
        "import matplotlib.pyplot as plt\n",
        "### configure the plot ###\n",
        "print('--- distplot accuracy --- ')\n",
        "f, ax = plt.subplots(1, 1, figsize = (10, 7))\n",
        "ax1 = sns.distplot(y_test, hist=False, color=\"b\", label=\"Actual Values\")\n",
        "sns.distplot(y_pred, hist=False, color=\"r\", label=\"Predicted Values\" , axlabel='Charges', ax=ax1)\n",
        "plt.legend()"
      ],
      "execution_count": 34,
      "outputs": [
        {
          "output_type": "stream",
          "text": [
            "--- distplot accuracy --- \n"
          ],
          "name": "stdout"
        },
        {
          "output_type": "stream",
          "text": [
            "/usr/local/lib/python3.6/dist-packages/seaborn/distributions.py:2557: FutureWarning: `distplot` is a deprecated function and will be removed in a future version. Please adapt your code to use either `displot` (a figure-level function with similar flexibility) or `kdeplot` (an axes-level function for kernel density plots).\n",
            "  warnings.warn(msg, FutureWarning)\n",
            "/usr/local/lib/python3.6/dist-packages/seaborn/distributions.py:2557: FutureWarning: `distplot` is a deprecated function and will be removed in a future version. Please adapt your code to use either `displot` (a figure-level function with similar flexibility) or `kdeplot` (an axes-level function for kernel density plots).\n",
            "  warnings.warn(msg, FutureWarning)\n"
          ],
          "name": "stderr"
        },
        {
          "output_type": "execute_result",
          "data": {
            "text/plain": [
              "<matplotlib.legend.Legend at 0x7f491c376470>"
            ]
          },
          "metadata": {
            "tags": []
          },
          "execution_count": 34
        },
        {
          "output_type": "display_data",
          "data": {
            "image/png": "[encoded data removed]",
            "text/plain": [
              "<Figure size 720x504 with 1 Axes>"
            ]
          },
          "metadata": {
            "tags": [],
            "needs_background": "light"
          }
        }
      ]
    },
    {
      "cell_type": "markdown",
      "metadata": {
        "id": "nIamD3TUuRsG"
      },
      "source": [
        "##### RandomizedSearch CV"
      ]
    },
    {
      "cell_type": "code",
      "metadata": {
        "id": "Ua3yx5N0L7MM"
      },
      "source": [
        "### copy the data frame ###\n",
        "df3 = df.copy()"
      ],
      "execution_count": 35,
      "outputs": []
    },
    {
      "cell_type": "code",
      "metadata": {
        "colab": {
          "base_uri": "https://localhost:8080/"
        },
        "id": "4l7tHGTTfjoA",
        "outputId": "9657c178-a124-4311-ed63-24300b5febd9"
      },
      "source": [
        "### split the data into features & target sets ###\n",
        "X = df3.iloc[:, 0:6].values # set the features\n",
        "y = df3.iloc[:, 6].values # set the target \n",
        "print('--- data shapes --- ')\n",
        "print('X shape:', X.shape) \n",
        "print('y shape:', y.shape) "
      ],
      "execution_count": 36,
      "outputs": [
        {
          "output_type": "stream",
          "text": [
            "--- data shapes --- \n",
            "X shape: (1338, 6)\n",
            "y shape: (1338,)\n"
          ],
          "name": "stdout"
        }
      ]
    },
    {
      "cell_type": "code",
      "metadata": {
        "id": "ns0ap-p8hReJ"
      },
      "source": [
        "### set the train test split parameters ###\n",
        "from sklearn.model_selection import train_test_split\n",
        "X_train, X_test, y_train, y_test = train_test_split(X, y, test_size=0.2, random_state=0) # split 80/20 "
      ],
      "execution_count": 37,
      "outputs": []
    },
    {
      "cell_type": "code",
      "metadata": {
        "id": "jgxv-AnPhRoc"
      },
      "source": [
        "### feature scaling ### \n",
        "from sklearn.preprocessing import StandardScaler\n",
        "sc = StandardScaler() # initiate the scalar   \n",
        "X_train = sc.fit_transform(X_train) # fit transform the data with scalar\n",
        "X_test = sc.transform(X_test) # fit transform the data with scalar"
      ],
      "execution_count": 38,
      "outputs": []
    },
    {
      "cell_type": "code",
      "metadata": {
        "colab": {
          "base_uri": "https://localhost:8080/"
        },
        "id": "ST1S3ZWsuURz",
        "outputId": "7b8f7719-5c06-4ea7-ffe9-73e5fc69e1b7"
      },
      "source": [
        "### XGBoost + randomized search CV model ###\n",
        "import xgboost as xgb\n",
        "from sklearn.model_selection import RandomizedSearchCV\n",
        "model2 = xgb.XGBRegressor()\n",
        "param_grid = {  # create the param grid \n",
        "            # 'base_score': 0.5,\n",
        "            # 'booster': 'gbtree',\n",
        "            # 'colsample_bylevel': 1,\n",
        "            # 'colsample_bynode': 1,\n",
        "            # 'colsample_bytree': 1,\n",
        "            # 'gamma': 0,\n",
        "            'learning_rate': [0.1, 0.5, 0.75],\n",
        "            # 'max_delta_step': 0,\n",
        "            'max_depth': [3, 10, 20],\n",
        "            # 'min_child_weight': 1,\n",
        "            # 'missing': None,\n",
        "            'n_estimators': [10, 100, 200],\n",
        "            # 'n_jobs': 1,\n",
        "            # 'nthread': None,\n",
        "            'objective': ['reg:squarederror'],\n",
        "            # 'random_state': 0,\n",
        "            # 'reg_alpha': 0,\n",
        "            # 'reg_lambda': 1,\n",
        "            # 'scale_pos_weight': 1,\n",
        "            # 'seed': None,\n",
        "            # 'silent': None,\n",
        "            # 'subsample': 1,\n",
        "            # 'verbosity': 1\n",
        "              }\n",
        "CV_rfc = RandomizedSearchCV(model2, param_grid, cv=3) \n",
        "print('--- model runtime --- ')\n",
        "%time CV_rfc.fit(X_train, y_train)\n",
        "print('--- best params --- ')\n",
        "CV_rfc.best_params_"
      ],
      "execution_count": 39,
      "outputs": [
        {
          "output_type": "stream",
          "text": [
            "--- model runtime --- \n",
            "CPU times: user 2.88 s, sys: 42 ms, total: 2.92 s\n",
            "Wall time: 2.93 s\n",
            "--- best params --- \n"
          ],
          "name": "stdout"
        },
        {
          "output_type": "execute_result",
          "data": {
            "text/plain": [
              "{'learning_rate': 0.5,\n",
              " 'max_depth': 3,\n",
              " 'n_estimators': 10,\n",
              " 'objective': 'reg:squarederror'}"
            ]
          },
          "metadata": {
            "tags": []
          },
          "execution_count": 39
        }
      ]
    },
    {
      "cell_type": "code",
      "metadata": {
        "colab": {
          "base_uri": "https://localhost:8080/"
        },
        "id": "HfrDnajruUYR",
        "outputId": "26f7fc94-e083-49c2-eabf-21f3e05b7f72"
      },
      "source": [
        "### XGBoost regression model + randomized best params ###\n",
        "import xgboost as xgb\n",
        "from sklearn import metrics\n",
        "model2 = xgb.XGBRegressor(\n",
        "                      learning_rate= 0.5, \n",
        "                      max_depth= 3, \n",
        "                      n_estimators= 10\n",
        "                      )\n",
        "print('--- model runtime --- ')\n",
        "%time model2.fit(X_train, y_train)\n",
        "y_pred = model2.predict(X_test) \n",
        "#### create data frame of predictions and results ### \n",
        "y_pred_df = pd.DataFrame(y_pred, columns=[\"Predicted_Values\" ]) \n",
        "y_test_df = pd.DataFrame(np.array(y_test), columns=[\"Real_Values\"]) \n",
        "df_final = pd.concat([y_test_df , y_pred_df] , axis=1) \n",
        "print('--- real values vs predicted values ---')\n",
        "print(df_final.head())\n",
        "### get the model metrics ###\n",
        "print('--- model metrics ---')\n",
        "print('mean absolute error:', metrics.mean_absolute_error(y_test, y_pred)) # mae \n",
        "print('mean squared error:', metrics.mean_squared_error(y_test, y_pred)) # mse \n",
        "print('root mean squared error:', np.sqrt(metrics.mean_squared_error(y_test, y_pred))) # rmse\n",
        "score = metrics.r2_score(y_test , y_pred) # get the r2 score \n",
        "print(\"r2 score : {}\".format(score)) # show the r2 score\n",
        "print('model score:', model2.score(X_train, y_train)) # show the model score \n",
        "print(\"model accuracy: {}%\".format(score * 100)) # show the model accuracy"
      ],
      "execution_count": 41,
      "outputs": [
        {
          "output_type": "stream",
          "text": [
            "--- model runtime --- \n",
            "[22:03:37] WARNING: /workspace/src/objective/regression_obj.cu:152: reg:linear is now deprecated in favor of reg:squarederror.\n",
            "CPU times: user 10.4 ms, sys: 0 ns, total: 10.4 ms\n",
            "Wall time: 10.4 ms\n",
            "--- real values vs predicted values ---\n",
            "   Real_Values  Predicted_Values\n",
            "0   9724.53000      11816.898438\n",
            "1   8547.69130       9802.083984\n",
            "2  45702.02235      45528.105469\n",
            "3  12950.07120      14350.306641\n",
            "4   9644.25250      10651.940430\n",
            "--- model metrics ---\n",
            "mean absolute error: 2360.944091658757\n",
            "mean squared error: 15752794.83042561\n",
            "root mean squared error: 3968.9790665139076\n",
            "r2 score : 0.9010067331095237\n",
            "model score: 0.8794871996853431\n",
            "model accuracy: 90.10067331095237%\n"
          ],
          "name": "stdout"
        }
      ]
    },
    {
      "cell_type": "code",
      "metadata": {
        "colab": {
          "base_uri": "https://localhost:8080/",
          "height": 575
        },
        "id": "coKd7uBCuRFC",
        "outputId": "b12c2778-ce0c-4089-cc39-0a8e8656ea4e"
      },
      "source": [
        "### visualize the model prediction accuracy ###\n",
        "import seaborn as sns\n",
        "import matplotlib.pyplot as plt\n",
        "### configure the plot ###\n",
        "print('--- distplot accuracy --- ')\n",
        "f, ax = plt.subplots(1, 1, figsize = (10, 7))\n",
        "ax1 = sns.distplot(y_test, hist=False, color=\"b\", label=\"Actual Values\")\n",
        "sns.distplot(y_pred, hist=False, color=\"r\", label=\"Predicted Values\" , axlabel='Charges', ax=ax1)\n",
        "plt.legend()"
      ],
      "execution_count": 42,
      "outputs": [
        {
          "output_type": "stream",
          "text": [
            "--- distplot accuracy --- \n"
          ],
          "name": "stdout"
        },
        {
          "output_type": "stream",
          "text": [
            "/usr/local/lib/python3.6/dist-packages/seaborn/distributions.py:2557: FutureWarning: `distplot` is a deprecated function and will be removed in a future version. Please adapt your code to use either `displot` (a figure-level function with similar flexibility) or `kdeplot` (an axes-level function for kernel density plots).\n",
            "  warnings.warn(msg, FutureWarning)\n",
            "/usr/local/lib/python3.6/dist-packages/seaborn/distributions.py:2557: FutureWarning: `distplot` is a deprecated function and will be removed in a future version. Please adapt your code to use either `displot` (a figure-level function with similar flexibility) or `kdeplot` (an axes-level function for kernel density plots).\n",
            "  warnings.warn(msg, FutureWarning)\n"
          ],
          "name": "stderr"
        },
        {
          "output_type": "execute_result",
          "data": {
            "text/plain": [
              "<matplotlib.legend.Legend at 0x7f4925bedda0>"
            ]
          },
          "metadata": {
            "tags": []
          },
          "execution_count": 42
        },
        {
          "output_type": "display_data",
          "data": {
            "image/png": "[encoded data removed]",
            "text/plain": [
              "<Figure size 720x504 with 1 Axes>"
            ]
          },
          "metadata": {
            "tags": [],
            "needs_background": "light"
          }
        }
      ]
    }
  ]
}