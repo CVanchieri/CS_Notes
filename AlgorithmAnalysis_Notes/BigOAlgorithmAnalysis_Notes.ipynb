{
  "nbformat": 4,
  "nbformat_minor": 0,
  "metadata": {
    "colab": {
      "name": "BigOAlgorithmAnalysis_Notes.ipynb",
      "provenance": [],
      "collapsed_sections": []
    },
    "kernelspec": {
      "name": "python3",
      "display_name": "Python 3"
    }
  },
  "cells": [
    {
      "cell_type": "markdown",
      "metadata": {
        "id": "QWlVMMX7avna"
      },
      "source": [
        "## Big O Notation & Algorithm Analysis\n",
        "### An algorithm can be thought of a procedure or formula to solve a particular problem. The question is, which algorithm to use to solve a specific problem when there exist multiple solutions to the problem?\n"
      ]
    },
    {
      "cell_type": "markdown",
      "metadata": {
        "id": "lQLsxN_fbKaK"
      },
      "source": [
        "### Big O Notation \n",
        "- a statistical measure, used to describe the complexity of the algorithm\n",
        "- signifies the relationship between the input to the algorithm and the steps required to execute the algorithm\n",
        "- O(n)\n",
        "\n",
        "### Why is algorithm analysis important? \n",
        "- there are multiple ways to solve most problems, how do you decide which one to use?\n",
        "- time and computational power cost money"
      ]
    },
    {
      "cell_type": "markdown",
      "metadata": {
        "id": "_zZ0jU4Zdl4R"
      },
      "source": [
        "### Common Big O functions\n",
        "\n",
        "![photo](https://miro.medium.com/max/2868/1*BKgI_iENpAqfKIbTlVf3UQ.png)\n",
        "![photo](https://miro.medium.com/max/1200/1*5ZLci3SuR0zM_QlZOADv8Q.jpeg)\n",
        "![photo](https://he-s3.s3.amazonaws.com/media/uploads/0728f0e.JPG)\n",
        "### Big 0 Notation steps\n",
        "- Break your algorithm/function into individual operations\n",
        "- Calculate the Big O of each operation\n",
        "- Add up the Big O of each operation together\n",
        "- Remove the constants\n",
        "- Find the highest order term,this will be what we consider the Big O of our algorithm/function"
      ]
    },
    {
      "cell_type": "markdown",
      "metadata": {
        "id": "k7GQEKkgfGU4"
      },
      "source": [
        "## Big O Examples"
      ]
    },
    {
      "cell_type": "markdown",
      "metadata": {
        "id": "fhGvApxifMOp"
      },
      "source": [
        "### Constant Complexity ---> (O(C))\n",
        "#### is constant if the steps required to complete the execution of an algorithm remain constant, irrespective of the number of inputs"
      ]
    },
    {
      "cell_type": "code",
      "metadata": {
        "colab": {
          "base_uri": "https://localhost:8080/"
        },
        "id": "pwlKoK0gbRFW",
        "outputId": "06b4539f-584b-4752-a43d-7d22b580e29c"
      },
      "source": [
        "### no matter the size of the 'items' 2 steps are performed, constant ###\n",
        "def constant_algo(items):\n",
        "  result = items[0] * items[0] # step 1 \n",
        "  print() # step 2 \n",
        "\n",
        "result = constant_algo([4, 5, 6, 8])\n",
        "print(result)"
      ],
      "execution_count": null,
      "outputs": [
        {
          "output_type": "stream",
          "text": [
            "\n"
          ],
          "name": "stdout"
        }
      ]
    },
    {
      "cell_type": "code",
      "metadata": {
        "colab": {
          "base_uri": "https://localhost:8080/",
          "height": 472
        },
        "id": "Zdp7AnvygojT",
        "outputId": "025db0e0-27fe-48c8-a9ff-c2288d65cf0e"
      },
      "source": [
        "### visualize the model prediction accuracy ###\n",
        "import matplotlib.pyplot as plt\n",
        "import numpy as np\n",
        "x = [2, 4, 6, 8, 10, 12]\n",
        "y = [2, 2, 2, 2, 2, 2]\n",
        "### configure the plot ###\n",
        "print('--- Constant Complexity O(c) --- ')\n",
        "f, ax = plt.subplots(1, 1, figsize = (10, 7))\n",
        "ax1 = plt.plot(x, y, color=\"b\", label=\"input values\")\n",
        "plt.xlabel('Inputs')\n",
        "plt.ylabel('Steps')\n",
        "plt.title('Constant Complexity')\n",
        "plt.legend()\n",
        "plt.show()"
      ],
      "execution_count": null,
      "outputs": [
        {
          "output_type": "stream",
          "text": [
            "--- Constant Complexity O(C) --- \n"
          ],
          "name": "stdout"
        },
        {
          "output_type": "display_data",
          "data": {
            "image/png": "[encoded data removed]",
            "text/plain": [
              "<Figure size 720x504 with 1 Axes>"
            ]
          },
          "metadata": {
            "tags": [],
            "needs_background": "light"
          }
        }
      ]
    },
    {
      "cell_type": "markdown",
      "metadata": {
        "id": "mpVoaMpliZcY"
      },
      "source": [
        "### Linear Complexity (O(n))\n",
        "#### is linear if the steps required to complete the execution of an algorithm increase or decrease linearly with the number of inputs"
      ]
    },
    {
      "cell_type": "code",
      "metadata": {
        "id": "C_76ff8JggDH"
      },
      "source": [
        "### number of interations is dependant on the size of the input array ###\n",
        "def linear_algo(items):\n",
        "    for item in items: # loop through the items\n",
        "        print(item)\n",
        "\n",
        "result = linear_algo([4, 5, 6, 8])\n",
        "print(result)"
      ],
      "execution_count": null,
      "outputs": []
    },
    {
      "cell_type": "code",
      "metadata": {
        "colab": {
          "base_uri": "https://localhost:8080/",
          "height": 489
        },
        "id": "0iUl_W4FjKtD",
        "outputId": "3d80a7df-9407-4d83-f9ba-ab550d1bf733"
      },
      "source": [
        "import matplotlib.pyplot as plt\n",
        "import numpy as np\n",
        "x = [2, 4, 6, 8, 10, 12]\n",
        "y = [2, 4, 6, 8, 10, 12]\n",
        "### configure the plot ###\n",
        "print('--- Linear Complexity O(n) --- ')\n",
        "f, ax = plt.subplots(1, 1, figsize = (10, 7))\n",
        "ax1 = plt.plot(x, y, color=\"b\", label=\"input values\")\n",
        "plt.xlabel('Inputs')\n",
        "plt.ylabel('Steps')\n",
        "plt.title('Linear Complexity')\n",
        "plt.legend()"
      ],
      "execution_count": 1,
      "outputs": [
        {
          "output_type": "stream",
          "text": [
            "--- Linear Complexity O(n) --- \n"
          ],
          "name": "stdout"
        },
        {
          "output_type": "execute_result",
          "data": {
            "text/plain": [
              "<matplotlib.legend.Legend at 0x7f4a8bbbf390>"
            ]
          },
          "metadata": {
            "tags": []
          },
          "execution_count": 1
        },
        {
          "output_type": "display_data",
          "data": {
            "image/png": "[encoded data removed]",
            "text/plain": [
              "<Figure size 720x504 with 1 Axes>"
            ]
          },
          "metadata": {
            "tags": [],
            "needs_background": "light"
          }
        }
      ]
    },
    {
      "cell_type": "code",
      "metadata": {
        "id": "_3hAehOmjPIS"
      },
      "source": [
        "### 2 constant for loops turn to 1, O(n) not O(2n)###\n",
        "def linear_algo(items):\n",
        "    for item in items: # 1st loop through the items\n",
        "        print(item)\n",
        "    for item in items: # 2nd loop through the items\n",
        "        print(item)\n",
        "\n",
        "result = linear_algo([4, 5, 6, 8]) \n",
        "print(result)"
      ],
      "execution_count": null,
      "outputs": []
    },
    {
      "cell_type": "code",
      "metadata": {
        "colab": {
          "base_uri": "https://localhost:8080/",
          "height": 489
        },
        "id": "WMJlvo8AItLt",
        "outputId": "bbe89904-0ec9-45fa-a513-96c288d934c8"
      },
      "source": [
        "import matplotlib.pyplot as plt\n",
        "import numpy as np\n",
        "\n",
        "x = [2, 4, 6, 8, 10, 12]\n",
        "\n",
        "y = [4, 8, 12, 16, 20, 24]\n",
        "### configure the plot ###\n",
        "print('--- Linear Complexity O(C) --- ')\n",
        "f, ax = plt.subplots(1, 1, figsize = (10, 7))\n",
        "ax1 = plt.plot(x, y, color=\"b\", label=\"input values\")\n",
        "plt.xlabel('Inputs')\n",
        "plt.ylabel('Steps')\n",
        "plt.title('Linear Complexity')\n",
        "plt.legend()"
      ],
      "execution_count": 2,
      "outputs": [
        {
          "output_type": "stream",
          "text": [
            "--- Linear Complexity O(C) --- \n"
          ],
          "name": "stdout"
        },
        {
          "output_type": "execute_result",
          "data": {
            "text/plain": [
              "<matplotlib.legend.Legend at 0x7f4a8bbbfef0>"
            ]
          },
          "metadata": {
            "tags": []
          },
          "execution_count": 2
        },
        {
          "output_type": "display_data",
          "data": {
            "image/png": "[encoded data removed]",
            "text/plain": [
              "<Figure size 720x504 with 1 Axes>"
            ]
          },
          "metadata": {
            "tags": [],
            "needs_background": "light"
          }
        }
      ]
    },
    {
      "cell_type": "markdown",
      "metadata": {
        "id": "NfrkZYOpLCli"
      },
      "source": [
        ""
      ]
    },
    {
      "cell_type": "markdown",
      "metadata": {
        "id": "_r-boaZMJruz"
      },
      "source": [
        "### Quadratic Complexity (O(n^2))\n",
        "#### is quadratic when the steps required to execute an algorithm are a quadratic function of the number of items in the input"
      ]
    },
    {
      "cell_type": "code",
      "metadata": {
        "id": "YneedK--J7SG"
      },
      "source": [
        "def quadratic_algo(items):\n",
        "    for item in items: # outter loop\n",
        "        for item2 in items: # nested inner loop\n",
        "            print(item, ' ' ,item)\n",
        "### number of steps performed is n * n ###\n",
        "quadratic_algo([4, 5, 6, 8])"
      ],
      "execution_count": null,
      "outputs": []
    },
    {
      "cell_type": "markdown",
      "metadata": {
        "id": "L9j0rKwcK_3r"
      },
      "source": [
        "![photo](https://www.researchgate.net/profile/Md_Masudur_Rahman9/publication/317401856/figure/fig7/AS:502944442142720@1496922707677/Quadratic-Nature-of-Complexity-of-MMRUC3.png)"
      ]
    },
    {
      "cell_type": "markdown",
      "metadata": {
        "id": "lxH-eGPaLDyP"
      },
      "source": [
        "### Complexity of Complex Functions \n",
        "- always take the worst case complexity\n",
        "- if function contains O(n^2) and O(n), choose O(n^2)"
      ]
    },
    {
      "cell_type": "code",
      "metadata": {
        "colab": {
          "base_uri": "https://localhost:8080/"
        },
        "id": "7ePpgIWHM0fS",
        "outputId": "5c26422c-13b0-4a18-eb02-5be56563eed2"
      },
      "source": [
        "def complex_algo(items):\n",
        "    for i in range(5): # 1st loop through set range, O(n)\n",
        "        print (\"Python is awesome\")\n",
        "    for item in items: # 2nd loop through the items, O(n)\n",
        "        print(item)\n",
        "    for item in items: # 3rd loop through the items, O(n)\n",
        "        print(item)\n",
        "\n",
        "    print(\"Big O\")\n",
        "    print(\"Big O\")\n",
        "    print(\"Big O\")\n",
        "### O(3n) is O(n) ###\n",
        "result = complex_algo([4, 5, 6, 8])\n",
        "print(result)"
      ],
      "execution_count": 4,
      "outputs": [
        {
          "output_type": "stream",
          "text": [
            "Python is awesome\n",
            "Python is awesome\n",
            "Python is awesome\n",
            "Python is awesome\n",
            "Python is awesome\n",
            "4\n",
            "5\n",
            "6\n",
            "8\n",
            "4\n",
            "5\n",
            "6\n",
            "8\n",
            "Big O\n",
            "Big O\n",
            "Big O\n",
            "None\n"
          ],
          "name": "stdout"
        }
      ]
    },
    {
      "cell_type": "markdown",
      "metadata": {
        "id": "QBK-dr-ZOg1O"
      },
      "source": [
        "### Space Complexity\n",
        "- refers to the number of spaces you need to allocate in the memory space during the execution of a program"
      ]
    },
    {
      "cell_type": "code",
      "metadata": {
        "colab": {
          "base_uri": "https://localhost:8080/"
        },
        "id": "oO_XZaqFM0ku",
        "outputId": "b8cec95b-27ca-41d2-e8a5-e3cda09c2349"
      },
      "source": [
        "def return_squares(n):\n",
        "    square_list = [] # created list \n",
        "    for num in n: # loop through input \n",
        "        square_list.append(num * num) # append squard to list\n",
        "### have to allocate memory for the same number of items as in input list O(n) ###\n",
        "    return square_list\n",
        "\n",
        "nums = [2, 4, 6, 8, 10]\n",
        "result = return_squares(nums)\n",
        "print(result)"
      ],
      "execution_count": 3,
      "outputs": [
        {
          "output_type": "stream",
          "text": [
            "[4, 16, 36, 64, 100]\n"
          ],
          "name": "stdout"
        }
      ]
    }
  ]
}