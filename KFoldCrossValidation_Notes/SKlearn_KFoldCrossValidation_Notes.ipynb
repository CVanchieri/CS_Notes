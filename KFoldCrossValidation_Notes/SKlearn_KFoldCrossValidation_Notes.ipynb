{
  "nbformat": 4,
  "nbformat_minor": 0,
  "metadata": {
    "colab": {
      "name": "K-FoldCross-Validation_Notes.ipynb",
      "provenance": [],
      "collapsed_sections": []
    },
    "kernelspec": {
      "name": "python3",
      "display_name": "Python 3"
    }
  },
  "cells": [
    {
      "cell_type": "markdown",
      "metadata": {
        "id": "Q8dJ8-aq8OJP"
      },
      "source": [
        "## K-Fold Cross-Validation"
      ]
    },
    {
      "cell_type": "markdown",
      "metadata": {
        "id": "oSaW9UBpA47f"
      },
      "source": [
        "### Cross validation (CV) is one of the technique used to test the effectiveness of a machine learning models, it is also a re-sampling procedure used to evaluate a model if we have a limited data.\n",
        "- The k-fold cross-validation procedure divides a limited dataset into k non-overlapping folds. \n",
        "- Each of the k folds is given an opportunity to be used as a held back test set, whilst all other folds collectively are used as a training dataset. \n",
        "- CV ensures that every observation from the original dataset has the chance of appearing in training and test set\n",
        "- A total of k models are fit and evaluated on the k hold-out test sets and the mean performance is reported\n",
        "\n",
        "![image](https://miro.medium.com/max/1046/1*C5FJt_NH1BWJrFSvw_6jtw.png)\n",
        "\n",
        "#### Pros \n",
        "- computation time reduced \n",
        "- reduced bias \n",
        "- every data point gets tested\n",
        "- variance of results reduced as k increases \n",
        "- can balance out unbalanced data\n",
        "\n",
        "#### Cons\n",
        "- higher training time\n",
        "- \n",
        "- "
      ]
    },
    {
      "cell_type": "markdown",
      "metadata": {
        "id": "51ObKtZ7B7NN"
      },
      "source": [
        "### Model Set Up\n",
        "#### Steps \n",
        "- split data randomly into K-folds, K should be between 5 to 10 depending on the data size\n",
        "- initiate your model \n",
        "- run cross val score with model, data, scoring, k folds\n",
        "- examine results, run a few times to gain better average \n"
      ]
    },
    {
      "cell_type": "markdown",
      "metadata": {
        "id": "P8PnTXmsE3b4"
      },
      "source": [
        "### Single K-Fold Cross Validation model"
      ]
    },
    {
      "cell_type": "code",
      "metadata": {
        "colab": {
          "base_uri": "https://localhost:8080/"
        },
        "id": "tBgdq2BQ8Sgj",
        "outputId": "f267be61-207f-464d-997c-92b58f628922"
      },
      "source": [
        "import numpy as np\n",
        "from sklearn.datasets import make_classification # use to create classification data set\n",
        "from sklearn.model_selection import KFold\n",
        "from sklearn.model_selection import cross_val_score\n",
        "from sklearn.linear_model import LogisticRegression\n",
        "### create the X, y data sets with parameters ###\n",
        "X, y = make_classification(n_samples=1000, n_features=20, n_informative=15, n_redundant=5, random_state=1)\n",
        "### set up the K-Fold ###\n",
        "cv = KFold(n_splits=10, random_state=1, shuffle=True) # splits between 5-10\n",
        "### initiate model being used ### \n",
        "model = LogisticRegression()\n",
        "### model metrics ###\n",
        "scores = cross_val_score(model, X, y, scoring='accuracy', cv=cv, n_jobs=-1) # use cross_val_score for evaluation\n",
        "# report performance\n",
        "print('Accuracy: %.3f (%.3f)' % (np.mean(scores), np.std(scores)))"
      ],
      "execution_count": null,
      "outputs": [
        {
          "output_type": "stream",
          "text": [
            "Accuracy: 0.868 (0.032)\n"
          ],
          "name": "stdout"
        }
      ]
    },
    {
      "cell_type": "markdown",
      "metadata": {
        "id": "S5xQxtlSFG3_"
      },
      "source": [
        "### Repeated K-Fold Cross Validation model\n",
        "#### The estimate of model performance via k-fold cross-validation can be noisy.  Repeated k-fold cross-validation runs multiple times and reports the mean performance across all folds and all repeats.\n",
        "#### The expectation of repeated k-fold cross-validation is that the repeated mean would be a more reliable estimate of model performance than the result of a single k-fold cross-validation procedure.\n",
        "- Common numbers of repeats include 3, 5, and 10\n",
        "- Appropriate for small datasets and simple models\n"
      ]
    },
    {
      "cell_type": "code",
      "metadata": {
        "colab": {
          "base_uri": "https://localhost:8080/"
        },
        "id": "raVmL0PFEo2K",
        "outputId": "2d7b4763-65bf-41de-b774-ef673ce72e3e"
      },
      "source": [
        "import numpy as np\n",
        "from sklearn.datasets import make_classification # use to create classification data set\n",
        "from sklearn.model_selection import RepeatedKFold\n",
        "from sklearn.model_selection import cross_val_score\n",
        "from sklearn.linear_model import LogisticRegression\n",
        "### create the X, y data sets with parameters ###\n",
        "X, y = make_classification(n_samples=1000, n_features=20, n_informative=15, n_redundant=5, random_state=1)\n",
        "### set up the K-Fold ###\n",
        "cv = RepeatedKFold(n_splits=10, n_repeats=3, random_state=1) # splits between 5-10, repeats 3,5, or 10\n",
        "### initiate model being used ### \n",
        "model = LogisticRegression()\n",
        "### model metrics ###\n",
        "scores = cross_val_score(model, X, y, scoring='accuracy', cv=cv, n_jobs=-1) # use cross_val_score for evaluation\n",
        "# report performance\n",
        "print('Accuracy: %.3f (%.3f)' % (np.mean(scores), np.std(scores)))"
      ],
      "execution_count": null,
      "outputs": [
        {
          "output_type": "stream",
          "text": [
            "Accuracy: 0.867 (0.031)\n"
          ],
          "name": "stdout"
        }
      ]
    },
    {
      "cell_type": "markdown",
      "metadata": {
        "id": "2j4n46OqG1G2"
      },
      "source": [
        "#### Repeated K-Fold Cross Validation + running multiple repeats"
      ]
    },
    {
      "cell_type": "code",
      "metadata": {
        "colab": {
          "base_uri": "https://localhost:8080/",
          "height": 580
        },
        "id": "OOcSZIPEHA5f",
        "outputId": "396b3d94-72d5-41e2-b57e-cd6e8f42b1cd"
      },
      "source": [
        "from scipy.stats import sem\n",
        "import numpy as np\n",
        "from sklearn.datasets import make_classification\n",
        "from sklearn.model_selection import RepeatedKFold\n",
        "from sklearn.model_selection import cross_val_score\n",
        "from sklearn.linear_model import LogisticRegression\n",
        "import matplotlib.pyplot as plt\n",
        " \n",
        "# evaluate a model with a given number of repeats\n",
        "def evaluate_model(X, y, repeats):\n",
        "    cv = RepeatedKFold(n_splits=10, n_repeats=repeats, random_state=1) # splits between 5-10, repeats 3,5, or 10\n",
        "    ### initiate model being used ### \n",
        "    model = LogisticRegression()\n",
        "    ### generate cross val score ###\n",
        "    scores = cross_val_score(model, X, y, scoring='accuracy', cv=cv, n_jobs=-1) # use cross_val_score for evaluation\n",
        "    return scores\n",
        " \n",
        "### create the X, y data sets with parameters ###\n",
        "X, y = make_classification(n_samples=1000, n_features=20, n_informative=15, n_redundant=5, random_state=1)\n",
        "repeats = range(1,16) # set range for repeats to run \n",
        "results = list() # create list for results \n",
        "for r in repeats: # loop through each repeat \n",
        "    scores = evaluate_model(X, y, r) # run the data + repeat through the model function\n",
        "    print('>%d mean=%.4f se=%.3f' % (r, np.mean(scores), sem(scores))) # show the mean scores and standard deviation scores\n",
        "    results.append(scores) # add the scores the the results list\n",
        "### visualize the results ###\n",
        "plt.boxplot(results, labels=[str(r) for r in repeats], showmeans=True) # box plots summarize the distribution of scores for each number of repeats\n",
        "# where red and green coincide generally the best \n",
        "plt.show()"
      ],
      "execution_count": null,
      "outputs": [
        {
          "output_type": "stream",
          "text": [
            ">1 mean=0.8680 se=0.011\n",
            ">2 mean=0.8675 se=0.008\n",
            ">3 mean=0.8673 se=0.006\n",
            ">4 mean=0.8670 se=0.006\n",
            ">5 mean=0.8658 se=0.005\n",
            ">6 mean=0.8655 se=0.004\n",
            ">7 mean=0.8651 se=0.004\n",
            ">8 mean=0.8651 se=0.004\n",
            ">9 mean=0.8656 se=0.003\n",
            ">10 mean=0.8658 se=0.003\n",
            ">11 mean=0.8655 se=0.003\n",
            ">12 mean=0.8654 se=0.003\n",
            ">13 mean=0.8652 se=0.003\n",
            ">14 mean=0.8651 se=0.003\n",
            ">15 mean=0.8653 se=0.003\n"
          ],
          "name": "stdout"
        },
        {
          "output_type": "stream",
          "text": [
            "/usr/local/lib/python3.6/dist-packages/numpy/core/_asarray.py:83: VisibleDeprecationWarning: Creating an ndarray from ragged nested sequences (which is a list-or-tuple of lists-or-tuples-or ndarrays with different lengths or shapes) is deprecated. If you meant to do this, you must specify 'dtype=object' when creating the ndarray\n",
            "  return array(a, dtype, copy=False, order=order)\n"
          ],
          "name": "stderr"
        },
        {
          "output_type": "display_data",
          "data": {
            "image/png": "[encoded data removed]",
            "text/plain": [
              "<Figure size 432x288 with 1 Axes>"
            ]
          },
          "metadata": {
            "tags": [],
            "needs_background": "light"
          }
        }
      ]
    }
  ]
}