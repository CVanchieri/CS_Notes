{
  "nbformat": 4,
  "nbformat_minor": 0,
  "metadata": {
    "colab": {
      "name": "Keras_FeedForward(MLP)_NeuralNetwork.ipynb",
      "provenance": [],
      "collapsed_sections": []
    },
    "kernelspec": {
      "name": "python3",
      "display_name": "Python 3"
    }
  },
  "cells": [
    {
      "cell_type": "markdown",
      "metadata": {
        "id": "CFM5sl2ef0Cg"
      },
      "source": [
        "## Feed Forward (MLP) Neural Networks"
      ]
    },
    {
      "cell_type": "markdown",
      "metadata": {
        "id": "pHYXNoDvORIF"
      },
      "source": [
        "### Neural Networks\n",
        "#### Neural networks are a series of algorithms that identify underlying relationships in a set of data. These algorithms are heavily based on the way a human brain operates. These networks can adapt to changing input and generate the best result without the requirement to redesign the output criteria.  Deep learning algorithms are based on neural networks.\n",
        "\n",
        "#### Neural Networks Components:\n",
        "\n",
        "- an input layer that receives data and pass it on\n",
        "- a hidden layer\n",
        "- an output layer\n",
        "- weights between the layers\n",
        "- a deliberate activation function for every hidden layer\n",
        "\n",
        "#### Pros \n",
        "- flexible and can be used for both regression and classification problems\n",
        "- good to model with nonlinear data with large number of inputs; for example, images\n",
        "- reliable in an approach of tasks involving many features\n",
        "- predictions are fast once trained\n",
        "\n",
        "#### Cons\n",
        "- only numerical data \n",
        "- needs alot of data to work well \n",
        "- very complex, we cannot know how much each independent variable is influencing the dependent variables\n",
        "- computationally very expensive and time consuming to train with traditional CPUs\n",
        "- very dependant on training data, leads to the problem of over-fitting and generalization"
      ]
    },
    {
      "cell_type": "markdown",
      "metadata": {
        "id": "OhRHMqRaQfiG"
      },
      "source": [
        "### Model Set Up\n",
        "\n",
        "#### Steps\n",
        " - load the data\n",
        " - inspect, clean, organize data\n",
        " - check for, handle outliers \n",
        " - encode data if necessary \n",
        " - set features and target \n",
        " - train, test split the data \n",
        " - scale the data if necessary \n",
        " - build, compile the model, fit the data, evaluate the model \n",
        " - run metrics, analyze, view results, adjust parameters, repeat until satisfied... \n"
      ]
    },
    {
      "cell_type": "markdown",
      "metadata": {
        "id": "3hmqr8qAMLuE"
      },
      "source": [
        "### Neural Network Models"
      ]
    },
    {
      "cell_type": "markdown",
      "metadata": {
        "id": "a9Z_XK3rO7H6"
      },
      "source": [
        "#### Multilayer Perceptrons (MLP), feed forward\n",
        "\n",
        "![photo](https://static.packt-cdn.com/products/9781788397872/graphics/1ebc2a0a-2123-4351-b7e1-eb57f098bafa.png)\n",
        " - feedforward, often need back-propagation, which provides the network with corresponding set of inputs and outputs. When the input data is transmitted into the neuron, it is processed, and an output is generated.\n",
        " - 3 layers, nodes/input layer, hidden layer, output layer\n",
        " - in hidden and the output layers, every node is considered as a neuron with a nonlinear activation function\n",
        " - supervised learning technique called backpropagation for training, adjusts weights of neurons\n",
        " - most ideal for projects involving tabular datasets, classification prediction problems, and regression prediction problems\n",
        "\n",
        "\n"
      ]
    },
    {
      "cell_type": "markdown",
      "metadata": {
        "id": "VUXplGBBRmeD"
      },
      "source": [
        "### Models"
      ]
    },
    {
      "cell_type": "markdown",
      "metadata": {
        "id": "MCbiZ7J-V55T"
      },
      "source": [
        "#### Import + Inspect "
      ]
    },
    {
      "cell_type": "code",
      "metadata": {
        "id": "ThIRPgzSjP1T",
        "colab": {
          "base_uri": "https://localhost:8080/"
        },
        "outputId": "95676981-62c5-4f74-9f68-4c57a751b71b"
      },
      "source": [
        "from tensorflow.keras.datasets import mnist # load the fashion-MNIST dataset\n",
        "(X_train, y_train), (X_test, y_test) = mnist.load_data() # split data for X train, y train"
      ],
      "execution_count": 1,
      "outputs": [
        {
          "output_type": "stream",
          "text": [
            "Downloading data from https://storage.googleapis.com/tensorflow/tf-keras-datasets/mnist.npz\n",
            "11493376/11490434 [==============================] - 0s 0us/step\n"
          ],
          "name": "stdout"
        }
      ]
    },
    {
      "cell_type": "code",
      "metadata": {
        "id": "YltWjPbwcDlT",
        "colab": {
          "base_uri": "https://localhost:8080/"
        },
        "outputId": "c563d4c4-d0db-447a-cd88-e1eadff208f6"
      },
      "source": [
        "X_train[25] # show the array for 25"
      ],
      "execution_count": null,
      "outputs": [
        {
          "output_type": "execute_result",
          "data": {
            "text/plain": [
              "array([[  0,   0,   0,   0,   0,   0,   0,   0,   0,   0,   0,   0,   0,\n",
              "          0,   0,   0,   0,   0,   0,   0,   0,   0,   0,   0,   0,   0,\n",
              "          0,   0],\n",
              "       [  0,   0,   0,   0,   0,   0,   0,   0,   0,   0,   0,   0,   0,\n",
              "          0,   0,   0,   0,   0,   0,   0,   0,   0,   0,   0,   0,   0,\n",
              "          0,   0],\n",
              "       [  0,   0,   0,   0,   0,   0,   0,   0,   0,   0,   0,   0,   0,\n",
              "          0,   0,   0,   0,   0,   0,   0,   0,   0,   0,   0,   0,   0,\n",
              "          0,   0],\n",
              "       [  0,   0,   0,   0,   0,   0,   0,   0,   0,   0,   0,   0,   0,\n",
              "          0,   0,   0,   0,   0,   0,   0,   0,   0,   0,   0,   0,   0,\n",
              "          0,   0],\n",
              "       [  0,   0,   0,   0,   0,   0,   0,   0,   0,   0,   0,   0,  83,\n",
              "         91, 143, 255, 190,  91,  50,   0,   0,   0,   0,   0,   0,   0,\n",
              "          0,   0],\n",
              "       [  0,   0,   0,   0,   0,   0,   0,   0,   0,   9,  49, 180, 246,\n",
              "        253, 253, 253, 253, 253, 220, 154,  17,   3,   0,   0,   0,   0,\n",
              "          0,   0],\n",
              "       [  0,   0,   0,   0,   0,   0,   0,  46, 107, 178, 253, 253, 253,\n",
              "        253, 253, 253, 253, 253, 253, 253, 253, 126,  45,   0,   0,   0,\n",
              "          0,   0],\n",
              "       [  0,   0,   0,   0,   0,   0,   0, 107, 253, 253, 253, 253, 223,\n",
              "        220, 220, 220, 220, 245, 253, 253, 253, 253, 106,   0,   0,   0,\n",
              "          0,   0],\n",
              "       [  0,   0,   0,   0,   0,   0,   0, 107, 173, 253, 229, 129,  12,\n",
              "          0,   0,   0,   0, 110, 253, 253, 253, 253, 106,   0,   0,   0,\n",
              "          0,   0],\n",
              "       [  0,   0,   0,   0,   0,   0,   0,  17,  14,  40,  32,   0,   0,\n",
              "          0,   0,   0,   0,  57, 253, 253, 253, 242,  85,   0,   0,   0,\n",
              "          0,   0],\n",
              "       [  0,   0,   0,   0,   0,   0,   0,   0,   0,   0,   0,   0,   0,\n",
              "          0,   0,   5, 139, 224, 253, 253, 253, 105,   0,   0,   0,   0,\n",
              "          0,   0],\n",
              "       [  0,   0,   0,   0,   0,   0,   0,   0,   0,   0,   0,   0,   0,\n",
              "          0,  65, 178, 253, 253, 253, 253, 219,  24,   0,   0,   0,   0,\n",
              "          0,   0],\n",
              "       [  0,   0,   0,   0,   0,   0,   0,   0,   0,   0,   0,   0,   0,\n",
              "         97, 250, 253, 253, 253, 253, 127,  47,   0,   0,   0,   0,   0,\n",
              "          0,   0],\n",
              "       [  0,   0,   0,   0,   0,   0,   0,   0,   0,   0,   0,  46, 125,\n",
              "        250, 253, 253, 253, 245, 171,  33,   0,   0,   0,   0,   0,   0,\n",
              "          0,   0],\n",
              "       [  0,   0,   0,   0,   0,   0,   0,   0,   0,   5,  41, 217, 253,\n",
              "        253, 250, 245, 245, 115,   0,   0,   0,   0,   0,   0,   0,   0,\n",
              "          0,   0],\n",
              "       [  0,   0,   0,   0,   0,   0,   0,   0,   0, 124, 253, 253, 253,\n",
              "        192, 105,   0,   0,   0,   0,   0,   0,   0,   0,   0,   0,   0,\n",
              "          0,   0],\n",
              "       [  0,   0,   0,   0,   0,   0,   0,  11,  47, 220, 253, 253, 188,\n",
              "         25,   0,   0,   0,   0,   0,   0,   0,   0,   0,   0,   0,   0,\n",
              "          0,   0],\n",
              "       [  0,   0,   0,   0,   0,   0,   0, 107, 253, 253, 253, 189,  13,\n",
              "          0,   0,   0,   0,   0,   0,   0,   0,   0,   0,   0,   0,   0,\n",
              "          0,   0],\n",
              "       [  0,   0,   0,   0,   0,   0,  41, 225, 253, 253, 186,  22,   0,\n",
              "          0,   0,   0,   0,  31,  42, 174, 205, 205, 205, 193,  58,   0,\n",
              "          0,   0],\n",
              "       [  0,   0,   0,   0,   0,  48, 218, 253, 253, 253, 150,  59,   0,\n",
              "          0, 128, 131, 131, 222, 253, 253, 253, 253, 253,  94,   0,   0,\n",
              "          0,   0],\n",
              "       [  0,   0,   0,   0,   0,  12, 152, 253, 253, 253, 253, 236, 222,\n",
              "        222, 252, 253, 253, 253, 253, 253, 253, 253, 253, 122,   0,   0,\n",
              "          0,   0],\n",
              "       [  0,   0,   0,   0,   0,   0,   7, 167, 253, 253, 253, 253, 253,\n",
              "        253, 253, 253, 253, 253, 253, 253, 253, 124, 106,   7,   0,   0,\n",
              "          0,   0],\n",
              "       [  0,   0,   0,   0,   0,   0,   0,  76, 188, 253, 253, 253, 253,\n",
              "        253, 253, 253, 224,  57,  15,  15,  15,   2,   0,   0,   0,   0,\n",
              "          0,   0],\n",
              "       [  0,   0,   0,   0,   0,   0,   0,   0,  12,  89, 121, 253, 253,\n",
              "        151,  89,  89,  55,   0,   0,   0,   0,   0,   0,   0,   0,   0,\n",
              "          0,   0],\n",
              "       [  0,   0,   0,   0,   0,   0,   0,   0,   0,   0,   0,   0,   0,\n",
              "          0,   0,   0,   0,   0,   0,   0,   0,   0,   0,   0,   0,   0,\n",
              "          0,   0],\n",
              "       [  0,   0,   0,   0,   0,   0,   0,   0,   0,   0,   0,   0,   0,\n",
              "          0,   0,   0,   0,   0,   0,   0,   0,   0,   0,   0,   0,   0,\n",
              "          0,   0],\n",
              "       [  0,   0,   0,   0,   0,   0,   0,   0,   0,   0,   0,   0,   0,\n",
              "          0,   0,   0,   0,   0,   0,   0,   0,   0,   0,   0,   0,   0,\n",
              "          0,   0],\n",
              "       [  0,   0,   0,   0,   0,   0,   0,   0,   0,   0,   0,   0,   0,\n",
              "          0,   0,   0,   0,   0,   0,   0,   0,   0,   0,   0,   0,   0,\n",
              "          0,   0]], dtype=uint8)"
            ]
          },
          "metadata": {
            "tags": []
          },
          "execution_count": 2
        }
      ]
    },
    {
      "cell_type": "code",
      "metadata": {
        "colab": {
          "base_uri": "https://localhost:8080/",
          "height": 280
        },
        "id": "xsEHE1mhb9JN",
        "outputId": "d8f6848c-7a82-4675-ed2e-70089edc0719"
      },
      "source": [
        "### show what image the array makes ###\n",
        "import matplotlib.pyplot as plt \n",
        "plt.imshow(X_train[25], cmap='gray')"
      ],
      "execution_count": null,
      "outputs": [
        {
          "output_type": "execute_result",
          "data": {
            "text/plain": [
              "<matplotlib.image.AxesImage at 0x7f6f36fd8128>"
            ]
          },
          "metadata": {
            "tags": []
          },
          "execution_count": 3
        },
        {
          "output_type": "display_data",
          "data": {
            "image/png": "[encoded data removed]",
            "text/plain": [
              "<Figure size 432x288 with 1 Axes>"
            ]
          },
          "metadata": {
            "tags": [],
            "needs_background": "light"
          }
        }
      ]
    },
    {
      "cell_type": "markdown",
      "metadata": {
        "id": "e7AXVEyNPKBj"
      },
      "source": [
        "#### Reshape + Encode "
      ]
    },
    {
      "cell_type": "code",
      "metadata": {
        "id": "2Z4k1D0uekFE"
      },
      "source": [
        "### reshape the data ### \n",
        "X_train = X_train.reshape(60000, 784)\n",
        "X_test = X_test.reshape(10000, 784)"
      ],
      "execution_count": 2,
      "outputs": []
    },
    {
      "cell_type": "code",
      "metadata": {
        "id": "c_GOvh2rVjBm"
      },
      "source": [
        "### set X variable types to float ### \n",
        "X_train = X_train.astype('float32')\n",
        "X_test = X_test.astype('float32')\n",
        "### set classes, convert vectors to binary class matrix ###\n",
        "num_classes = 10\n",
        "from tensorflow import keras \n",
        "y_train = keras.utils.to_categorical(y_train, num_classes)\n",
        "y_test = keras.utils.to_categorical(y_test, num_classes)"
      ],
      "execution_count": 3,
      "outputs": []
    },
    {
      "cell_type": "markdown",
      "metadata": {
        "id": "WEQzqEqfO4ha"
      },
      "source": [
        "#### (MLP) Feed Forward Neural Network\n",
        " - GridSearch CV \n",
        " - RandomizedSearch CV"
      ]
    },
    {
      "cell_type": "code",
      "metadata": {
        "colab": {
          "base_uri": "https://localhost:8080/"
        },
        "id": "7CYBuj9ymGuS",
        "outputId": "d58c6f48-8670-4af9-8343-dbee0b62411a"
      },
      "source": [
        "from tensorflow import keras \n",
        "import numpy as np\n",
        "from tensorflow.keras.models import Sequential\n",
        "from tensorflow.keras.layers import Dense, Dropout\n",
        "from keras.optimizers import Adam\n",
        "from keras.losses import categorical_crossentropy\n",
        "from keras.activations import relu, sigmoid\n",
        "from sklearn.model_selection import cross_val_score\n",
        "\n",
        "seed = 7\n",
        "np.random.seed(seed) # random seed for reproducability\n",
        "### create the model ###\n",
        "model = Sequential() # initiate the model \n",
        "model.add(Dense(50, input_dim=784, activation='relu')), # input layer, set dimension\n",
        "model.add(Dropout(0.1)), # set a drop out \n",
        "model.add(Dense(100, activation='relu')), # hidden layer\n",
        "model.add(Dropout(0.1)), # set a drop out \n",
        "model.add(Dense(50, activation='relu')), # hidden layer\n",
        "model.add(Dense(10, activation='sigmoid')) # output layer \n",
        "model.compile( # compile the model \n",
        "              optimizer = 'adam', \n",
        "              loss = 'categorical_crossentropy', \n",
        "              metrics = ['accuracy']\n",
        "              )\n",
        "### show summary ### \n",
        "model.summary()"
      ],
      "execution_count": 4,
      "outputs": [
        {
          "output_type": "stream",
          "text": [
            "Model: \"sequential\"\n",
            "_________________________________________________________________\n",
            "Layer (type)                 Output Shape              Param #   \n",
            "=================================================================\n",
            "dense (Dense)                (None, 50)                39250     \n",
            "_________________________________________________________________\n",
            "dropout (Dropout)            (None, 50)                0         \n",
            "_________________________________________________________________\n",
            "dense_1 (Dense)              (None, 100)               5100      \n",
            "_________________________________________________________________\n",
            "dropout_1 (Dropout)          (None, 100)               0         \n",
            "_________________________________________________________________\n",
            "dense_2 (Dense)              (None, 50)                5050      \n",
            "_________________________________________________________________\n",
            "dense_3 (Dense)              (None, 10)                510       \n",
            "=================================================================\n",
            "Total params: 49,910\n",
            "Trainable params: 49,910\n",
            "Non-trainable params: 0\n",
            "_________________________________________________________________\n"
          ],
          "name": "stdout"
        }
      ]
    },
    {
      "cell_type": "code",
      "metadata": {
        "colab": {
          "base_uri": "https://localhost:8080/"
        },
        "id": "_kkpHnIlm_VO",
        "outputId": "2d0addf1-f944-43e7-fbed-9bc808da9c35"
      },
      "source": [
        "print('--- model runtime ---')\n",
        "%time history = model.fit(X_train, y_train, batch_size=20, epochs=50, validation_split=.1, verbose=False) # fit the model \n",
        "scores = model.evaluate(X_test, y_test) # get the model score from evaluation\n",
        "print(f'model accuracy = {scores[1]*100}') # show the models accuracy score "
      ],
      "execution_count": 5,
      "outputs": [
        {
          "output_type": "stream",
          "text": [
            "--- model runtime ---\n",
            "CPU times: user 4min 35s, sys: 24.7 s, total: 5min\n",
            "Wall time: 3min 15s\n",
            "313/313 [==============================] - 1s 2ms/step - loss: 0.2327 - accuracy: 0.9551\n",
            "model accuracy = 95.50999999046326\n"
          ],
          "name": "stdout"
        }
      ]
    },
    {
      "cell_type": "code",
      "metadata": {
        "id": "ifq1RQ0JmNwh",
        "colab": {
          "base_uri": "https://localhost:8080/",
          "height": 443
        },
        "outputId": "56ef134b-e746-4dfb-a9dc-b90d450e4627"
      },
      "source": [
        "import matplotlib.pyplot as plt\n",
        "### plot the model loss ###\n",
        "### configure the plot ###\n",
        "print('--- model loss-MAE --- ')\n",
        "f, ax = plt.subplots(1, 1, figsize = (10, 7))\n",
        "ax1 = plt.plot(history.history['loss'], color=\"r\", label=\"loss-MSE\")\n",
        "plt.ylabel('Loss')\n",
        "plt.legend()\n",
        "plt.show()"
      ],
      "execution_count": 6,
      "outputs": [
        {
          "output_type": "stream",
          "text": [
            "--- model loss-MAE --- \n"
          ],
          "name": "stdout"
        },
        {
          "output_type": "display_data",
          "data": {
            "image/png": "[encoded data removed]",
            "text/plain": [
              "<Figure size 720x504 with 1 Axes>"
            ]
          },
          "metadata": {
            "tags": [],
            "needs_background": "light"
          }
        }
      ]
    },
    {
      "cell_type": "markdown",
      "metadata": {
        "id": "k8oOsLF4havx"
      },
      "source": [
        "##### GridSearch CV "
      ]
    },
    {
      "cell_type": "code",
      "metadata": {
        "colab": {
          "base_uri": "https://localhost:8080/",
          "height": 50
        },
        "id": "YvOglyabxDUO",
        "outputId": "a7181ce2-df5b-4980-e4bb-c5e41e294424"
      },
      "source": [
        "### parameter tuning options ###\n",
        "'''\n",
        "- tune 1-2 parameters at a time \n",
        "- add parameters to model function input\n",
        "- set the list of values for the parameter in the model \n",
        "- add the parameter to the param_grid dictionary\n",
        "'''\n",
        "# def create_model(optimizer='rmsprop', init='glorot_uniform',dropout_rate=0.0, weight_constraint=0, activation='relu', learn_rate=0.01, momentum=0, neurons=1)\n",
        "# optimizers = ['SGD', 'RMSprop', 'Adagrad', 'Adadelta', 'Adam', 'Adamax', 'Nadam']\n",
        "# init = ['uniform', 'lecun_uniform', 'normal', 'zero', 'glorot_normal', 'glorot_uniform', 'he_normal', 'he_uniform'] # network weight initializer, will change with choice of activation function \n",
        "# activation = ['softmax', 'softplus', 'softsign', 'relu', 'tanh', 'sigmoid', 'hard_sigmoid', 'linear'], # controls the non-linearity of individual neurons and when to fire, 'sigmoid' last layer for 0-1 value outputs\n",
        "# epochs = [10, 50, 100] # no model input necessary, how many times the model will run \n",
        "# batch_size = [5, 10, 20] # no model input necessary, # of samples to run in each epoch\n",
        "# learn_rate = [0.001, 0.01, 0.1, 0.2, 0.3] # combine with momentum, use SGD optimizer, how much to update the weight after each batch  \n",
        "# momentum = [0.0, 0.2, 0.4, 0.6, 0.8, 0.9] # combine with learn_rate, use SGD optimizer\n",
        "# optimizer = SGD(lr=learn_rate, momentum=momentum)\n",
        "# weight_constraint = [1, 2, 3, 4, 5] # combine with dropout \n",
        "# dropout_rate = [0.0, 0.1, 0.2, 0.3, 0.4, 0.5, 0.6, 0.7, 0.8, 0.9] # combine with weight_constraint\n",
        "# neurons = [1, 5, 10, 15, 20, 25, 30]\n",
        "# param_grid = dict(batch_size=batch_size, epochs=epochs, batch_size=batch_size, learn_rate=learn_rate, momentum=momentum, weight_constraint=weight_constraint, dropout_rate=dropout_rate, neurons)"
      ],
      "execution_count": null,
      "outputs": [
        {
          "output_type": "execute_result",
          "data": {
            "application/vnd.google.colaboratory.intrinsic+json": {
              "type": "string"
            },
            "text/plain": [
              "'\\n- tune 1-2 parameters at a time \\n- add parameters to model function input\\n- set the list of values for the parameter in the model \\n- add the parameter to the param_grid dictionary\\n'"
            ]
          },
          "metadata": {
            "tags": []
          },
          "execution_count": 9
        }
      ]
    },
    {
      "cell_type": "code",
      "metadata": {
        "colab": {
          "base_uri": "https://localhost:8080/"
        },
        "id": "ALt54gcLe_P1",
        "outputId": "b5983b80-03f9-4d21-fb85-a30487cb618a"
      },
      "source": [
        "from tensorflow import keras \n",
        "import numpy as np\n",
        "from tensorflow.keras.models import Sequential\n",
        "from tensorflow.keras.layers import Dense, Dropout\n",
        "from keras.wrappers.scikit_learn import KerasClassifier\n",
        "from sklearn.model_selection import GridSearchCV\n",
        "from keras.losses import categorical_crossentropy\n",
        "from keras.activations import relu, sigmoid\n",
        "from sklearn.model_selection import cross_val_score\n",
        "### create model function ###\n",
        "def create_model():\n",
        "    model = Sequential() # initiate the model \n",
        "    model.add(Dense(50, input_dim=784, activation='relu')), # input layer \n",
        "    model.add(Dropout(0.1)), # set a drop out \n",
        "    model.add(Dense(100, activation='relu')), # hidden layer\n",
        "    model.add(Dropout(0.1)), # set a drop out \n",
        "    model.add(Dense(50, activation='relu')), # hidden layer\n",
        "    model.add(Dense(10, activation='sigmoid')) # output layer        \n",
        "    model.compile( # compile the model \n",
        "                  optimizer = 'adam', # uses stochaastic gradient descent, auto tunes itself\n",
        "                  loss = 'categorical_crossentropy', \n",
        "                  metrics = ['accuracy'] # for classification use accuracy\n",
        "                 )\n",
        "\n",
        "    return model\n",
        "\n",
        "seed = 7 \n",
        "np.random.seed(seed) # random seed for reproducibility\n",
        "model1 = KerasClassifier(build_fn=create_model)\n",
        "### set parameters to tune ### \n",
        "epochs = [10]\n",
        "batch_size = [5, 10, 20]\n",
        "param_grid = dict(batch_size=batch_size, epochs=epochs)\n",
        "grid = GridSearchCV(estimator=model1, param_grid=param_grid, verbose = 1)\n",
        "print('--- model runtime ---')\n",
        "%time grid.fit(X_train, y_train)\n",
        "### model metrics ###\n",
        "print('--- metrics ---')\n",
        "print(\"score:\", (grid.best_score_))\n",
        "print('--- best parameters ---')\n",
        "for param, value in grid.best_params_.items():\n",
        "    print('\\t{}: {}'.format(param, value))"
      ],
      "execution_count": null,
      "outputs": [
        {
          "output_type": "stream",
          "text": [
            "--- model runtime ---\n",
            "Fitting 5 folds for each of 3 candidates, totalling 15 fits\n"
          ],
          "name": "stdout"
        },
        {
          "output_type": "stream",
          "text": [
            "[Parallel(n_jobs=1)]: Using backend SequentialBackend with 1 concurrent workers.\n"
          ],
          "name": "stderr"
        },
        {
          "output_type": "stream",
          "text": [
            "Epoch 1/10\n",
            "9600/9600 [==============================] - 19s 2ms/step - loss: 2.2682 - accuracy: 0.6675\n",
            "Epoch 2/10\n",
            "9600/9600 [==============================] - 17s 2ms/step - loss: 0.5260 - accuracy: 0.8610\n",
            "Epoch 3/10\n",
            "9600/9600 [==============================] - 17s 2ms/step - loss: 0.4348 - accuracy: 0.8812\n",
            "Epoch 4/10\n",
            "9600/9600 [==============================] - 18s 2ms/step - loss: 0.3987 - accuracy: 0.8954\n",
            "Epoch 5/10\n",
            "9600/9600 [==============================] - 18s 2ms/step - loss: 0.3592 - accuracy: 0.9034\n",
            "Epoch 6/10\n",
            "9600/9600 [==============================] - 18s 2ms/step - loss: 0.3448 - accuracy: 0.9103\n",
            "Epoch 7/10\n",
            "9600/9600 [==============================] - 18s 2ms/step - loss: 0.3283 - accuracy: 0.9145\n",
            "Epoch 8/10\n",
            "9600/9600 [==============================] - 18s 2ms/step - loss: 0.3235 - accuracy: 0.9137\n",
            "Epoch 9/10\n",
            "9600/9600 [==============================] - 18s 2ms/step - loss: 0.3202 - accuracy: 0.9168\n",
            "Epoch 10/10\n",
            "9600/9600 [==============================] - 19s 2ms/step - loss: 0.3136 - accuracy: 0.9194\n",
            "2400/2400 [==============================] - 3s 1ms/step - loss: 0.2966 - accuracy: 0.9412\n",
            "Epoch 1/10\n",
            "9600/9600 [==============================] - 19s 2ms/step - loss: 2.2817 - accuracy: 0.6590\n",
            "Epoch 2/10\n",
            "9600/9600 [==============================] - 18s 2ms/step - loss: 0.4689 - accuracy: 0.8764\n",
            "Epoch 3/10\n",
            "9600/9600 [==============================] - 18s 2ms/step - loss: 0.3850 - accuracy: 0.9000\n",
            "Epoch 4/10\n",
            "9600/9600 [==============================] - 20s 2ms/step - loss: 0.3597 - accuracy: 0.9105\n",
            "Epoch 5/10\n",
            "9600/9600 [==============================] - 18s 2ms/step - loss: 0.3321 - accuracy: 0.9184\n",
            "Epoch 6/10\n",
            "9600/9600 [==============================] - 19s 2ms/step - loss: 0.3054 - accuracy: 0.9226\n",
            "Epoch 7/10\n",
            "9600/9600 [==============================] - 18s 2ms/step - loss: 0.2919 - accuracy: 0.9245\n",
            "Epoch 8/10\n",
            "9600/9600 [==============================] - 21s 2ms/step - loss: 0.2846 - accuracy: 0.9284\n",
            "Epoch 9/10\n",
            "9600/9600 [==============================] - 18s 2ms/step - loss: 0.2932 - accuracy: 0.9275\n",
            "Epoch 10/10\n",
            "9600/9600 [==============================] - 18s 2ms/step - loss: 0.2790 - accuracy: 0.9301\n",
            "2400/2400 [==============================] - 3s 1ms/step - loss: 0.2694 - accuracy: 0.9403\n",
            "Epoch 1/10\n",
            "9600/9600 [==============================] - 18s 2ms/step - loss: 2.2483 - accuracy: 0.6342\n",
            "Epoch 2/10\n",
            "9600/9600 [==============================] - 18s 2ms/step - loss: 0.5592 - accuracy: 0.8458\n",
            "Epoch 3/10\n",
            "9600/9600 [==============================] - 18s 2ms/step - loss: 0.4627 - accuracy: 0.8727\n",
            "Epoch 4/10\n",
            "9600/9600 [==============================] - 18s 2ms/step - loss: 0.4108 - accuracy: 0.8894\n",
            "Epoch 5/10\n",
            "9600/9600 [==============================] - 18s 2ms/step - loss: 0.4086 - accuracy: 0.8901\n",
            "Epoch 6/10\n",
            "9600/9600 [==============================] - 18s 2ms/step - loss: 0.3859 - accuracy: 0.8994\n",
            "Epoch 7/10\n",
            "9600/9600 [==============================] - 18s 2ms/step - loss: 0.3716 - accuracy: 0.8995\n",
            "Epoch 8/10\n",
            "9600/9600 [==============================] - 17s 2ms/step - loss: 0.3573 - accuracy: 0.9019\n",
            "Epoch 9/10\n",
            "9600/9600 [==============================] - 18s 2ms/step - loss: 0.3591 - accuracy: 0.9006\n",
            "Epoch 10/10\n",
            "9600/9600 [==============================] - 18s 2ms/step - loss: 0.3508 - accuracy: 0.9054\n",
            "2400/2400 [==============================] - 3s 1ms/step - loss: 0.3149 - accuracy: 0.9233\n",
            "Epoch 1/10\n",
            "9600/9600 [==============================] - 19s 2ms/step - loss: 2.3643 - accuracy: 0.6243\n",
            "Epoch 2/10\n",
            "9600/9600 [==============================] - 17s 2ms/step - loss: 0.4797 - accuracy: 0.8679\n",
            "Epoch 3/10\n",
            "9600/9600 [==============================] - 18s 2ms/step - loss: 0.4106 - accuracy: 0.8854\n",
            "Epoch 4/10\n",
            "9600/9600 [==============================] - 18s 2ms/step - loss: 0.3738 - accuracy: 0.8972\n",
            "Epoch 5/10\n",
            "9600/9600 [==============================] - 18s 2ms/step - loss: 0.3764 - accuracy: 0.8985\n",
            "Epoch 6/10\n",
            "9600/9600 [==============================] - 20s 2ms/step - loss: 0.3512 - accuracy: 0.9086\n",
            "Epoch 7/10\n",
            "9600/9600 [==============================] - 18s 2ms/step - loss: 0.3253 - accuracy: 0.9147\n",
            "Epoch 8/10\n",
            "9600/9600 [==============================] - 18s 2ms/step - loss: 0.3154 - accuracy: 0.9174\n",
            "Epoch 9/10\n",
            "9600/9600 [==============================] - 18s 2ms/step - loss: 0.3175 - accuracy: 0.9168\n",
            "Epoch 10/10\n",
            "9600/9600 [==============================] - 18s 2ms/step - loss: 0.3086 - accuracy: 0.9203\n",
            "2400/2400 [==============================] - 3s 1ms/step - loss: 0.2825 - accuracy: 0.9310\n",
            "Epoch 1/10\n",
            "9600/9600 [==============================] - 18s 2ms/step - loss: 2.5713 - accuracy: 0.6462\n",
            "Epoch 2/10\n",
            "9600/9600 [==============================] - 18s 2ms/step - loss: 0.5220 - accuracy: 0.8622\n",
            "Epoch 3/10\n",
            "9600/9600 [==============================] - 18s 2ms/step - loss: 0.4023 - accuracy: 0.8938\n",
            "Epoch 4/10\n",
            "9600/9600 [==============================] - 18s 2ms/step - loss: 0.3683 - accuracy: 0.9038\n",
            "Epoch 5/10\n",
            "9600/9600 [==============================] - 18s 2ms/step - loss: 0.3424 - accuracy: 0.9139\n",
            "Epoch 6/10\n",
            "9600/9600 [==============================] - 18s 2ms/step - loss: 0.3284 - accuracy: 0.9209\n",
            "Epoch 7/10\n",
            "9600/9600 [==============================] - 18s 2ms/step - loss: 0.3245 - accuracy: 0.9209\n",
            "Epoch 8/10\n",
            "9600/9600 [==============================] - 19s 2ms/step - loss: 0.3215 - accuracy: 0.9223\n",
            "Epoch 9/10\n",
            "9600/9600 [==============================] - 19s 2ms/step - loss: 0.3016 - accuracy: 0.9275\n",
            "Epoch 10/10\n",
            "9600/9600 [==============================] - 18s 2ms/step - loss: 0.3014 - accuracy: 0.9320\n",
            "2400/2400 [==============================] - 3s 1ms/step - loss: 0.2435 - accuracy: 0.9442\n",
            "Epoch 1/10\n",
            "4800/4800 [==============================] - 10s 2ms/step - loss: 2.5766 - accuracy: 0.6503\n",
            "Epoch 2/10\n",
            "4800/4800 [==============================] - 9s 2ms/step - loss: 0.4897 - accuracy: 0.8658\n",
            "Epoch 3/10\n",
            "4800/4800 [==============================] - 9s 2ms/step - loss: 0.3840 - accuracy: 0.8936\n",
            "Epoch 4/10\n",
            "4800/4800 [==============================] - 10s 2ms/step - loss: 0.3385 - accuracy: 0.9093\n",
            "Epoch 5/10\n",
            "4800/4800 [==============================] - 11s 2ms/step - loss: 0.3025 - accuracy: 0.9198\n",
            "Epoch 6/10\n",
            "4800/4800 [==============================] - 10s 2ms/step - loss: 0.2666 - accuracy: 0.9267\n",
            "Epoch 7/10\n",
            "4800/4800 [==============================] - 9s 2ms/step - loss: 0.2550 - accuracy: 0.9328\n",
            "Epoch 8/10\n",
            "4800/4800 [==============================] - 9s 2ms/step - loss: 0.2434 - accuracy: 0.9360\n",
            "Epoch 9/10\n",
            "4800/4800 [==============================] - 9s 2ms/step - loss: 0.2498 - accuracy: 0.9345\n",
            "Epoch 10/10\n",
            "4800/4800 [==============================] - 9s 2ms/step - loss: 0.2304 - accuracy: 0.9388\n",
            "1200/1200 [==============================] - 1s 1ms/step - loss: 0.2046 - accuracy: 0.9481\n",
            "Epoch 1/10\n",
            "4800/4800 [==============================] - 10s 2ms/step - loss: 2.6995 - accuracy: 0.5711\n",
            "Epoch 2/10\n",
            "4800/4800 [==============================] - 9s 2ms/step - loss: 0.4869 - accuracy: 0.8620\n",
            "Epoch 3/10\n",
            "4800/4800 [==============================] - 10s 2ms/step - loss: 0.3857 - accuracy: 0.8940\n",
            "Epoch 4/10\n",
            "4800/4800 [==============================] - 9s 2ms/step - loss: 0.3259 - accuracy: 0.9112\n",
            "Epoch 5/10\n",
            "4800/4800 [==============================] - 9s 2ms/step - loss: 0.2966 - accuracy: 0.9212\n",
            "Epoch 6/10\n",
            "4800/4800 [==============================] - 9s 2ms/step - loss: 0.2741 - accuracy: 0.9261\n",
            "Epoch 7/10\n",
            "4800/4800 [==============================] - 9s 2ms/step - loss: 0.2751 - accuracy: 0.9263\n",
            "Epoch 8/10\n",
            "4800/4800 [==============================] - 9s 2ms/step - loss: 0.2496 - accuracy: 0.9350\n",
            "Epoch 9/10\n",
            "4800/4800 [==============================] - 10s 2ms/step - loss: 0.2462 - accuracy: 0.9380\n",
            "Epoch 10/10\n",
            "4800/4800 [==============================] - 10s 2ms/step - loss: 0.2400 - accuracy: 0.9352\n",
            "1200/1200 [==============================] - 1s 1ms/step - loss: 0.2045 - accuracy: 0.9471\n",
            "Epoch 1/10\n",
            "4800/4800 [==============================] - 10s 2ms/step - loss: 2.7965 - accuracy: 0.5912\n",
            "Epoch 2/10\n",
            "4800/4800 [==============================] - 10s 2ms/step - loss: 0.4789 - accuracy: 0.8652\n",
            "Epoch 3/10\n",
            "4800/4800 [==============================] - 10s 2ms/step - loss: 0.3513 - accuracy: 0.9044\n",
            "Epoch 4/10\n",
            "4800/4800 [==============================] - 9s 2ms/step - loss: 0.3112 - accuracy: 0.9139\n",
            "Epoch 5/10\n",
            "4800/4800 [==============================] - 9s 2ms/step - loss: 0.2867 - accuracy: 0.9209\n",
            "Epoch 6/10\n",
            "4800/4800 [==============================] - 11s 2ms/step - loss: 0.2699 - accuracy: 0.9252\n",
            "Epoch 7/10\n",
            "4800/4800 [==============================] - 10s 2ms/step - loss: 0.2622 - accuracy: 0.9283\n",
            "Epoch 8/10\n",
            "4800/4800 [==============================] - 10s 2ms/step - loss: 0.2541 - accuracy: 0.9323\n",
            "Epoch 9/10\n",
            "4800/4800 [==============================] - 10s 2ms/step - loss: 0.2513 - accuracy: 0.9335\n",
            "Epoch 10/10\n",
            "4800/4800 [==============================] - 10s 2ms/step - loss: 0.2414 - accuracy: 0.9343\n",
            "1200/1200 [==============================] - 1s 1ms/step - loss: 0.2933 - accuracy: 0.9311\n",
            "Epoch 1/10\n",
            "4800/4800 [==============================] - 10s 2ms/step - loss: 2.4302 - accuracy: 0.5954\n",
            "Epoch 2/10\n",
            "4800/4800 [==============================] - 10s 2ms/step - loss: 0.5540 - accuracy: 0.8509\n",
            "Epoch 3/10\n",
            "4800/4800 [==============================] - 9s 2ms/step - loss: 0.4367 - accuracy: 0.8818\n",
            "Epoch 4/10\n",
            "4800/4800 [==============================] - 9s 2ms/step - loss: 0.3716 - accuracy: 0.8982\n",
            "Epoch 5/10\n",
            "4800/4800 [==============================] - 10s 2ms/step - loss: 0.3342 - accuracy: 0.9096\n",
            "Epoch 6/10\n",
            "4800/4800 [==============================] - 9s 2ms/step - loss: 0.3155 - accuracy: 0.9150\n",
            "Epoch 7/10\n",
            "4800/4800 [==============================] - 10s 2ms/step - loss: 0.2852 - accuracy: 0.9220\n",
            "Epoch 8/10\n",
            "4800/4800 [==============================] - 11s 2ms/step - loss: 0.2804 - accuracy: 0.9243\n",
            "Epoch 9/10\n",
            "4800/4800 [==============================] - 9s 2ms/step - loss: 0.2714 - accuracy: 0.9244\n",
            "Epoch 10/10\n",
            "4800/4800 [==============================] - 10s 2ms/step - loss: 0.2702 - accuracy: 0.9276\n",
            "1200/1200 [==============================] - 1s 1ms/step - loss: 0.2583 - accuracy: 0.9298\n",
            "Epoch 1/10\n",
            "4800/4800 [==============================] - 10s 2ms/step - loss: 3.0208 - accuracy: 0.6084\n",
            "Epoch 2/10\n",
            "4800/4800 [==============================] - 10s 2ms/step - loss: 0.5136 - accuracy: 0.8681\n",
            "Epoch 3/10\n",
            "4800/4800 [==============================] - 10s 2ms/step - loss: 0.4020 - accuracy: 0.8924\n",
            "Epoch 4/10\n",
            "4800/4800 [==============================] - 10s 2ms/step - loss: 0.3522 - accuracy: 0.9063\n",
            "Epoch 5/10\n",
            "4800/4800 [==============================] - 9s 2ms/step - loss: 0.3233 - accuracy: 0.9114\n",
            "Epoch 6/10\n",
            "4800/4800 [==============================] - 9s 2ms/step - loss: 0.3087 - accuracy: 0.9190\n",
            "Epoch 7/10\n",
            "4800/4800 [==============================] - 10s 2ms/step - loss: 0.2925 - accuracy: 0.9221\n",
            "Epoch 8/10\n",
            "4800/4800 [==============================] - 9s 2ms/step - loss: 0.2709 - accuracy: 0.9286\n",
            "Epoch 9/10\n",
            "4800/4800 [==============================] - 9s 2ms/step - loss: 0.2688 - accuracy: 0.9293\n",
            "Epoch 10/10\n",
            "4800/4800 [==============================] - 9s 2ms/step - loss: 0.2581 - accuracy: 0.9332\n",
            "1200/1200 [==============================] - 1s 1ms/step - loss: 0.2259 - accuracy: 0.9467\n",
            "Epoch 1/10\n",
            "2400/2400 [==============================] - 6s 2ms/step - loss: 2.7492 - accuracy: 0.6289\n",
            "Epoch 2/10\n",
            "2400/2400 [==============================] - 5s 2ms/step - loss: 0.4869 - accuracy: 0.8650\n",
            "Epoch 3/10\n",
            "2400/2400 [==============================] - 5s 2ms/step - loss: 0.3650 - accuracy: 0.8950\n",
            "Epoch 4/10\n",
            "2400/2400 [==============================] - 5s 2ms/step - loss: 0.2976 - accuracy: 0.9147\n",
            "Epoch 5/10\n",
            "2400/2400 [==============================] - 5s 2ms/step - loss: 0.2593 - accuracy: 0.9275\n",
            "Epoch 6/10\n",
            "2400/2400 [==============================] - 5s 2ms/step - loss: 0.2469 - accuracy: 0.9303\n",
            "Epoch 7/10\n",
            "2400/2400 [==============================] - 5s 2ms/step - loss: 0.2204 - accuracy: 0.9388\n",
            "Epoch 8/10\n",
            "2400/2400 [==============================] - 5s 2ms/step - loss: 0.2117 - accuracy: 0.9415\n",
            "Epoch 9/10\n",
            "2400/2400 [==============================] - 5s 2ms/step - loss: 0.1937 - accuracy: 0.9467\n",
            "Epoch 10/10\n",
            "2400/2400 [==============================] - 5s 2ms/step - loss: 0.1936 - accuracy: 0.9479\n",
            "600/600 [==============================] - 1s 1ms/step - loss: 0.1864 - accuracy: 0.9510\n",
            "Epoch 1/10\n",
            "2400/2400 [==============================] - 6s 2ms/step - loss: 3.1312 - accuracy: 0.5777\n",
            "Epoch 2/10\n",
            "2400/2400 [==============================] - 5s 2ms/step - loss: 0.5352 - accuracy: 0.8553\n",
            "Epoch 3/10\n",
            "2400/2400 [==============================] - 6s 3ms/step - loss: 0.4115 - accuracy: 0.8875\n",
            "Epoch 4/10\n",
            "2400/2400 [==============================] - 5s 2ms/step - loss: 0.3328 - accuracy: 0.9080\n",
            "Epoch 5/10\n",
            "2400/2400 [==============================] - 5s 2ms/step - loss: 0.2922 - accuracy: 0.9207\n",
            "Epoch 6/10\n",
            "2400/2400 [==============================] - 5s 2ms/step - loss: 0.2665 - accuracy: 0.9281\n",
            "Epoch 7/10\n",
            "2400/2400 [==============================] - 5s 2ms/step - loss: 0.2438 - accuracy: 0.9335\n",
            "Epoch 8/10\n",
            "2400/2400 [==============================] - 5s 2ms/step - loss: 0.2330 - accuracy: 0.9354\n",
            "Epoch 9/10\n",
            "2400/2400 [==============================] - 5s 2ms/step - loss: 0.2218 - accuracy: 0.9415\n",
            "Epoch 10/10\n",
            "2400/2400 [==============================] - 5s 2ms/step - loss: 0.2083 - accuracy: 0.9443\n",
            "600/600 [==============================] - 1s 1ms/step - loss: 0.2147 - accuracy: 0.9433\n",
            "Epoch 1/10\n",
            "2400/2400 [==============================] - 6s 2ms/step - loss: 2.7395 - accuracy: 0.6203\n",
            "Epoch 2/10\n",
            "2400/2400 [==============================] - 5s 2ms/step - loss: 0.5280 - accuracy: 0.8582\n",
            "Epoch 3/10\n",
            "2400/2400 [==============================] - 5s 2ms/step - loss: 0.4015 - accuracy: 0.8923\n",
            "Epoch 4/10\n",
            "2400/2400 [==============================] - 5s 2ms/step - loss: 0.3586 - accuracy: 0.9028\n",
            "Epoch 5/10\n",
            "2400/2400 [==============================] - 5s 2ms/step - loss: 0.3153 - accuracy: 0.9154\n",
            "Epoch 6/10\n",
            "2400/2400 [==============================] - 5s 2ms/step - loss: 0.2911 - accuracy: 0.9202\n",
            "Epoch 7/10\n",
            "2400/2400 [==============================] - 5s 2ms/step - loss: 0.2738 - accuracy: 0.9245\n",
            "Epoch 8/10\n",
            "2400/2400 [==============================] - 5s 2ms/step - loss: 0.2572 - accuracy: 0.9295\n",
            "Epoch 9/10\n",
            "2400/2400 [==============================] - 5s 2ms/step - loss: 0.2455 - accuracy: 0.9321\n",
            "Epoch 10/10\n",
            "2400/2400 [==============================] - 5s 2ms/step - loss: 0.2277 - accuracy: 0.9371\n",
            "600/600 [==============================] - 1s 1ms/step - loss: 0.2067 - accuracy: 0.9473\n",
            "Epoch 1/10\n",
            "2400/2400 [==============================] - 6s 2ms/step - loss: 3.1836 - accuracy: 0.5202\n",
            "Epoch 2/10\n",
            "2400/2400 [==============================] - 5s 2ms/step - loss: 0.5800 - accuracy: 0.8392\n",
            "Epoch 3/10\n",
            "2400/2400 [==============================] - 5s 2ms/step - loss: 0.4348 - accuracy: 0.8847\n",
            "Epoch 4/10\n",
            "2400/2400 [==============================] - 6s 2ms/step - loss: 0.3601 - accuracy: 0.9024\n",
            "Epoch 5/10\n",
            "2400/2400 [==============================] - 6s 3ms/step - loss: 0.3131 - accuracy: 0.9140\n",
            "Epoch 6/10\n",
            "2400/2400 [==============================] - 6s 3ms/step - loss: 0.2673 - accuracy: 0.9258\n",
            "Epoch 7/10\n",
            "2400/2400 [==============================] - 6s 3ms/step - loss: 0.2546 - accuracy: 0.9322\n",
            "Epoch 8/10\n",
            "2400/2400 [==============================] - 6s 2ms/step - loss: 0.2337 - accuracy: 0.9349\n",
            "Epoch 9/10\n",
            "2400/2400 [==============================] - 5s 2ms/step - loss: 0.2247 - accuracy: 0.9388\n",
            "Epoch 10/10\n",
            "2400/2400 [==============================] - 5s 2ms/step - loss: 0.2068 - accuracy: 0.9430\n",
            "600/600 [==============================] - 1s 1ms/step - loss: 0.1999 - accuracy: 0.9452\n",
            "Epoch 1/10\n",
            "2400/2400 [==============================] - 6s 2ms/step - loss: 3.4171 - accuracy: 0.5597\n",
            "Epoch 2/10\n",
            "2400/2400 [==============================] - 5s 2ms/step - loss: 0.5539 - accuracy: 0.8530\n",
            "Epoch 3/10\n",
            "2400/2400 [==============================] - 5s 2ms/step - loss: 0.4129 - accuracy: 0.8893\n",
            "Epoch 4/10\n",
            "2400/2400 [==============================] - 6s 2ms/step - loss: 0.3607 - accuracy: 0.8997\n",
            "Epoch 5/10\n",
            "2400/2400 [==============================] - 5s 2ms/step - loss: 0.3173 - accuracy: 0.9130\n",
            "Epoch 6/10\n",
            "2400/2400 [==============================] - 5s 2ms/step - loss: 0.2800 - accuracy: 0.9237\n",
            "Epoch 7/10\n",
            "2400/2400 [==============================] - 5s 2ms/step - loss: 0.2715 - accuracy: 0.9261\n",
            "Epoch 8/10\n",
            "2400/2400 [==============================] - 5s 2ms/step - loss: 0.2480 - accuracy: 0.9334\n",
            "Epoch 9/10\n",
            "2400/2400 [==============================] - 5s 2ms/step - loss: 0.2405 - accuracy: 0.9347\n",
            "Epoch 10/10\n",
            "2400/2400 [==============================] - 5s 2ms/step - loss: 0.2316 - accuracy: 0.9376\n",
            "600/600 [==============================] - 1s 1ms/step - loss: 0.1979 - accuracy: 0.9509\n",
            "Epoch 1/10\n"
          ],
          "name": "stdout"
        },
        {
          "output_type": "stream",
          "text": [
            "[Parallel(n_jobs=1)]: Done  15 out of  15 | elapsed: 28.2min finished\n"
          ],
          "name": "stderr"
        },
        {
          "output_type": "stream",
          "text": [
            "3000/3000 [==============================] - 7s 2ms/step - loss: 2.5574 - accuracy: 0.6416\n",
            "Epoch 2/10\n",
            "3000/3000 [==============================] - 6s 2ms/step - loss: 0.4511 - accuracy: 0.8740\n",
            "Epoch 3/10\n",
            "3000/3000 [==============================] - 6s 2ms/step - loss: 0.3622 - accuracy: 0.8981\n",
            "Epoch 4/10\n",
            "3000/3000 [==============================] - 7s 2ms/step - loss: 0.3076 - accuracy: 0.9116\n",
            "Epoch 5/10\n",
            "3000/3000 [==============================] - 6s 2ms/step - loss: 0.2742 - accuracy: 0.9210\n",
            "Epoch 6/10\n",
            "3000/3000 [==============================] - 7s 2ms/step - loss: 0.2560 - accuracy: 0.9276\n",
            "Epoch 7/10\n",
            "3000/3000 [==============================] - 7s 2ms/step - loss: 0.2498 - accuracy: 0.9278\n",
            "Epoch 8/10\n",
            "3000/3000 [==============================] - 7s 2ms/step - loss: 0.2320 - accuracy: 0.9329\n",
            "Epoch 9/10\n",
            "3000/3000 [==============================] - 7s 2ms/step - loss: 0.2231 - accuracy: 0.9355\n",
            "Epoch 10/10\n",
            "3000/3000 [==============================] - 7s 2ms/step - loss: 0.2036 - accuracy: 0.9438\n",
            "CPU times: user 34min, sys: 3min 8s, total: 37min 8s\n",
            "Wall time: 29min 19s\n",
            "--- metrics ---\n",
            "score: 0.9475333213806152\n",
            "--- best parameters ---\n",
            "\tbatch_size: 20\n",
            "\tepochs: 10\n"
          ],
          "name": "stdout"
        }
      ]
    },
    {
      "cell_type": "code",
      "metadata": {
        "colab": {
          "base_uri": "https://localhost:8080/"
        },
        "id": "Qm3dfUka2vxB",
        "outputId": "9383a1f1-5a89-4464-a833-194276ebcc4e"
      },
      "source": [
        "from tensorflow import keras \n",
        "import numpy as np\n",
        "from tensorflow.keras.models import Sequential\n",
        "from tensorflow.keras.layers import Dense, Dropout\n",
        "from keras.wrappers.scikit_learn import KerasClassifier\n",
        "from sklearn.model_selection import GridSearchCV\n",
        "from keras.optimizers import Adam\n",
        "from keras.losses import categorical_crossentropy\n",
        "from keras.activations import relu, sigmoid\n",
        "from sklearn.model_selection import cross_val_score\n",
        "\n",
        "seed = 7\n",
        "np.random.seed(seed) # random seed for reproducability\n",
        "### create the model ###\n",
        "model = Sequential() # initiate the model \n",
        "model.add(Dense(50, input_dim=784, activation='relu')), # input layer, set dimension\n",
        "model.add(Dropout(0.1)), # set the drop out \n",
        "model.add(Dense(100, activation='relu')), # hidden layer\n",
        "model.add(Dropout(0.1)), # set the drop out \n",
        "model.add(Dense(50, activation='relu')), # hidden layer\n",
        "model.add(Dense(10, activation='sigmoid')) # output layer \n",
        "model.compile( # compile the model \n",
        "              optimizer = 'adam', \n",
        "              loss = 'categorical_crossentropy', \n",
        "              metrics = ['accuracy']\n",
        "              )\n",
        "### show summary ### \n",
        "model.summary()"
      ],
      "execution_count": null,
      "outputs": [
        {
          "output_type": "stream",
          "text": [
            "Model: \"sequential_17\"\n",
            "_________________________________________________________________\n",
            "Layer (type)                 Output Shape              Param #   \n",
            "=================================================================\n",
            "dense_68 (Dense)             (None, 50)                39250     \n",
            "_________________________________________________________________\n",
            "dropout_34 (Dropout)         (None, 50)                0         \n",
            "_________________________________________________________________\n",
            "dense_69 (Dense)             (None, 100)               5100      \n",
            "_________________________________________________________________\n",
            "dropout_35 (Dropout)         (None, 100)               0         \n",
            "_________________________________________________________________\n",
            "dense_70 (Dense)             (None, 50)                5050      \n",
            "_________________________________________________________________\n",
            "dense_71 (Dense)             (None, 10)                510       \n",
            "=================================================================\n",
            "Total params: 49,910\n",
            "Trainable params: 49,910\n",
            "Non-trainable params: 0\n",
            "_________________________________________________________________\n"
          ],
          "name": "stdout"
        }
      ]
    },
    {
      "cell_type": "code",
      "metadata": {
        "colab": {
          "base_uri": "https://localhost:8080/"
        },
        "id": "wLIavG9J3nSH",
        "outputId": "044e0614-3282-4e7a-d43a-264b8acecb4d"
      },
      "source": [
        "print('--- model runtime ---')\n",
        "%time history = model.fit(X_train, y_train, batch_size=20, epochs=10, validation_split=.1, verbose=False) # fit the model \n",
        "scores = model.evaluate(X_test, y_test) # get the model score from evaluation\n",
        "print(f'model accuracy = {scores[1]*100}') # show the models accuracy score "
      ],
      "execution_count": null,
      "outputs": [
        {
          "output_type": "stream",
          "text": [
            "--- model runtime ---\n",
            "CPU times: user 1min 4s, sys: 5.58 s, total: 1min 10s\n",
            "Wall time: 47.5 s\n",
            "313/313 [==============================] - 1s 2ms/step - loss: 0.1736 - accuracy: 0.9550\n",
            "model accuracy = 95.49999833106995\n"
          ],
          "name": "stdout"
        }
      ]
    },
    {
      "cell_type": "code",
      "metadata": {
        "colab": {
          "base_uri": "https://localhost:8080/",
          "height": 443
        },
        "id": "pb2G77ka6N2s",
        "outputId": "6b8379e3-b262-4110-bd47-72bbe2de4a62"
      },
      "source": [
        "import matplotlib.pyplot as plt\n",
        "### plot the model loss ###\n",
        "### configure the plot ###\n",
        "print('--- model loss-MAE --- ')\n",
        "f, ax = plt.subplots(1, 1, figsize = (10, 7))\n",
        "ax1 = plt.plot(history.history['loss'], color=\"r\", label=\"loss-MSE\")\n",
        "plt.ylabel('Loss')\n",
        "plt.legend()\n",
        "plt.show()"
      ],
      "execution_count": 7,
      "outputs": [
        {
          "output_type": "stream",
          "text": [
            "--- model loss-MAE --- \n"
          ],
          "name": "stdout"
        },
        {
          "output_type": "display_data",
          "data": {
            "image/png": "[encoded data removed]",
            "text/plain": [
              "<Figure size 720x504 with 1 Axes>"
            ]
          },
          "metadata": {
            "tags": [],
            "needs_background": "light"
          }
        }
      ]
    },
    {
      "cell_type": "markdown",
      "metadata": {
        "id": "gbJGutZKhijy"
      },
      "source": [
        "##### RandomSearch CV "
      ]
    },
    {
      "cell_type": "code",
      "metadata": {
        "colab": {
          "base_uri": "https://localhost:8080/",
          "height": 50
        },
        "id": "oBf5Ve-f6FZz",
        "outputId": "0cbc3565-aff1-4b7d-b994-5b3313b8f511"
      },
      "source": [
        "### parameter tuning options ###\n",
        "'''\n",
        "- tune 1-2 parameters at a time \n",
        "- add parameters to model function input\n",
        "- set the list of values for the parameter in the model \n",
        "- add the parameter to the param_grid dictionary\n",
        "'''\n",
        "# def create_model(optimizer='rmsprop', init='glorot_uniform',dropout_rate=0.0, weight_constraint=0, activation='relu', learn_rate=0.01, momentum=0, neurons=1)\n",
        "# optimizers = ['SGD', 'RMSprop', 'Adagrad', 'Adadelta', 'Adam', 'Adamax', 'Nadam']\n",
        "# init = ['uniform', 'lecun_uniform', 'normal', 'zero', 'glorot_normal', 'glorot_uniform', 'he_normal', 'he_uniform'] # network weight initializer, will change with choice of activation function \n",
        "# activation = ['softmax', 'softplus', 'softsign', 'relu', 'tanh', 'sigmoid', 'hard_sigmoid', 'linear'], # controls the non-linearity of individual neurons and when to fire, 'sigmoid' last layer for 0-1 value outputs\n",
        "# epochs = [10, 50, 100] # no model input necessary, how many times the model will run \n",
        "# batch_size = [5, 10, 20] # no model input necessary, # of samples to run in each epoch\n",
        "# learn_rate = [0.001, 0.01, 0.1, 0.2, 0.3] # combine with momentum, use SGD optimizer, how much to update the weight after each batch  \n",
        "# momentum = [0.0, 0.2, 0.4, 0.6, 0.8, 0.9] # combine with learn_rate, use SGD optimizer\n",
        "# optimizer = SGD(lr=learn_rate, momentum=momentum)\n",
        "# weight_constraint = [1, 2, 3, 4, 5] # combine with dropout \n",
        "# dropout_rate = [0.0, 0.1, 0.2, 0.3, 0.4, 0.5, 0.6, 0.7, 0.8, 0.9] # combine with weight_constraint\n",
        "# neurons = [1, 5, 10, 15, 20, 25, 30]\n",
        "# param_grid = dict(batch_size=batch_size, epochs=epochs, batch_size=batch_size, learn_rate=learn_rate, momentum=momentum, weight_constraint=weight_constraint, dropout_rate=dropout_rate, neurons)"
      ],
      "execution_count": null,
      "outputs": [
        {
          "output_type": "execute_result",
          "data": {
            "application/vnd.google.colaboratory.intrinsic+json": {
              "type": "string"
            },
            "text/plain": [
              "'\\n- tune 1-2 parameters at a time \\n- add parameters to model function input\\n- set the list of values for the parameter in the model \\n- add the parameter to the param_grid dictionary\\n'"
            ]
          },
          "metadata": {
            "tags": []
          },
          "execution_count": 14
        }
      ]
    },
    {
      "cell_type": "code",
      "metadata": {
        "colab": {
          "base_uri": "https://localhost:8080/"
        },
        "id": "kzCl1nVxchYW",
        "outputId": "94e413bf-9edd-4481-e190-0c5d0dc40bb2"
      },
      "source": [
        "from tensorflow import keras \n",
        "import numpy as np\n",
        "from tensorflow.keras.models import Sequential\n",
        "from tensorflow.keras.layers import Dense, Dropout\n",
        "from keras.wrappers.scikit_learn import KerasClassifier\n",
        "from sklearn.model_selection import RandomizedSearchCV\n",
        "from keras.optimizers import Adam, Nadam, RMSprop\n",
        "from keras.losses import categorical_crossentropy\n",
        "from keras.activations import relu, sigmoid\n",
        "from sklearn.model_selection import cross_val_score\n",
        "### create a model function ### \n",
        "def create_model(optimizers):\n",
        "    model = Sequential()\n",
        "    model.add(Dense(50, input_dim=784, activation='relu')), # input layer \n",
        "    model.add(Dropout(0.1)), # set the drop out \n",
        "    model.add(Dense(100, activation='relu')), # hidden layer\n",
        "    model.add(Dropout(0.1)), # set the drop out \n",
        "    model.add(Dense(50, activation='relu')), # hidden layer\n",
        "    model.add(Dense(10, activation='sigmoid')) # output layer        \n",
        "    model.compile(\n",
        "                  optimizer = optimizers, # tuning \n",
        "                  loss = 'categorical_crossentropy', \n",
        "                  metrics = ['accuracy'] # for classification use accuracy\n",
        "                 )\n",
        "\n",
        "    return model\n",
        "\n",
        "seed = 7\n",
        "np.random.seed(seed) # random seed for reproducibility\n",
        "model1 = KerasClassifier(build_fn=create_model) # initiate the model\n",
        "### set parameters to tune ### \n",
        "optimizers = ['rmsprop', 'adam', 'Nadam'] # tune new parameter \n",
        "epochs = [10] # set the epoch \n",
        "batch_size = [20] # set the batch size\n",
        "param_grid = dict(optimizers = optimizers, batch_size = batch_size, epochs = epochs) # create the param dict\n",
        "random = RandomizedSearchCV(model1, param_distributions = param_grid, n_jobs=-1, verbose=1) # initiate the model \n",
        "print('--- model runtime ---')\n",
        "%time random.fit(X_train, y_train) # fit the data\n",
        "### model metrics ###\n",
        "print('--- metrics ---')\n",
        "print(\"score:\", (random.best_score_)) # show the score \n",
        "print('--- best parameters ---')\n",
        "for param, value in random.best_params_.items(): # show the best params\n",
        "    print('\\t{}: {}'.format(param, value))"
      ],
      "execution_count": null,
      "outputs": [
        {
          "output_type": "stream",
          "text": [
            "--- model runtime ---\n",
            "Fitting 5 folds for each of 3 candidates, totalling 15 fits\n"
          ],
          "name": "stdout"
        },
        {
          "output_type": "stream",
          "text": [
            "/usr/local/lib/python3.6/dist-packages/sklearn/model_selection/_search.py:281: UserWarning: The total space of parameters 3 is smaller than n_iter=10. Running 3 iterations. For exhaustive searches, use GridSearchCV.\n",
            "  % (grid_size, self.n_iter, grid_size), UserWarning)\n",
            "[Parallel(n_jobs=-1)]: Using backend LokyBackend with 2 concurrent workers.\n",
            "/usr/local/lib/python3.6/dist-packages/joblib/externals/loky/process_executor.py:691: UserWarning: A worker stopped while some jobs were given to the executor. This can be caused by a too short worker timeout or by a memory leak.\n",
            "  \"timeout or by a memory leak.\", UserWarning\n",
            "[Parallel(n_jobs=-1)]: Done  15 out of  15 | elapsed: 10.4min finished\n"
          ],
          "name": "stderr"
        },
        {
          "output_type": "stream",
          "text": [
            "Epoch 1/10\n",
            "3000/3000 [==============================] - 7s 2ms/step - loss: 3.0491 - accuracy: 0.6287\n",
            "Epoch 2/10\n",
            "3000/3000 [==============================] - 6s 2ms/step - loss: 0.4446 - accuracy: 0.8787\n",
            "Epoch 3/10\n",
            "3000/3000 [==============================] - 6s 2ms/step - loss: 0.3259 - accuracy: 0.9128\n",
            "Epoch 4/10\n",
            "3000/3000 [==============================] - 6s 2ms/step - loss: 0.2692 - accuracy: 0.9264\n",
            "Epoch 5/10\n",
            "3000/3000 [==============================] - 6s 2ms/step - loss: 0.2353 - accuracy: 0.9355\n",
            "Epoch 6/10\n",
            "3000/3000 [==============================] - 6s 2ms/step - loss: 0.2091 - accuracy: 0.9420\n",
            "Epoch 7/10\n",
            "3000/3000 [==============================] - 6s 2ms/step - loss: 0.2027 - accuracy: 0.9449\n",
            "Epoch 8/10\n",
            "3000/3000 [==============================] - 6s 2ms/step - loss: 0.1890 - accuracy: 0.9476\n",
            "Epoch 9/10\n",
            "3000/3000 [==============================] - 6s 2ms/step - loss: 0.1747 - accuracy: 0.9530\n",
            "Epoch 10/10\n",
            "3000/3000 [==============================] - 6s 2ms/step - loss: 0.1659 - accuracy: 0.9551\n",
            "CPU times: user 1min 17s, sys: 7.38 s, total: 1min 24s\n",
            "Wall time: 11min 29s\n",
            "--- metrics ---\n",
            "score: 0.9483500123023987\n",
            "--- best parameters ---\n",
            "\toptimizers: adam\n",
            "\tepochs: 10\n",
            "\tbatch_size: 20\n"
          ],
          "name": "stdout"
        }
      ]
    },
    {
      "cell_type": "code",
      "metadata": {
        "id": "FkBtpmPu3BBA",
        "colab": {
          "base_uri": "https://localhost:8080/"
        },
        "outputId": "d61e7d90-4f49-4fa6-e43b-5fac3e049298"
      },
      "source": [
        "from tensorflow import keras \n",
        "import numpy as np\n",
        "from tensorflow.keras.models import Sequential\n",
        "from tensorflow.keras.layers import Dense, Dropout\n",
        "from keras.wrappers.scikit_learn import KerasClassifier\n",
        "from keras.optimizers import Adam\n",
        "from keras.losses import categorical_crossentropy\n",
        "from keras.activations import relu, sigmoid\n",
        "from sklearn.model_selection import cross_val_score\n",
        "\n",
        "seed = 7\n",
        "np.random.seed(seed) # random seed for reproducibility\n",
        "### create the model ### \n",
        "model = Sequential() # initiate the model \n",
        "model.add(Dense(50, input_dim=784, activation='relu')), # input layer \n",
        "model.add(Dropout(0.1)), # set drop out \n",
        "model.add(Dense(100, activation='relu')), # hidden layer\n",
        "model.add(Dropout(0.1)), # set drop out \n",
        "model.add(Dense(50, activation='relu')), # hidden layer\n",
        "model.add(Dense(10, activation='sigmoid')) # output layer \n",
        "model.compile( # compile the model \n",
        "              optimizer = 'adam', \n",
        "              loss = 'categorical_crossentropy', \n",
        "              metrics = ['accuracy']\n",
        "              )\n",
        "### show summary ### \n",
        "model.summary()"
      ],
      "execution_count": null,
      "outputs": [
        {
          "output_type": "stream",
          "text": [
            "Model: \"sequential_21\"\n",
            "_________________________________________________________________\n",
            "Layer (type)                 Output Shape              Param #   \n",
            "=================================================================\n",
            "dense_84 (Dense)             (None, 50)                39250     \n",
            "_________________________________________________________________\n",
            "dropout_42 (Dropout)         (None, 50)                0         \n",
            "_________________________________________________________________\n",
            "dense_85 (Dense)             (None, 100)               5100      \n",
            "_________________________________________________________________\n",
            "dropout_43 (Dropout)         (None, 100)               0         \n",
            "_________________________________________________________________\n",
            "dense_86 (Dense)             (None, 50)                5050      \n",
            "_________________________________________________________________\n",
            "dense_87 (Dense)             (None, 10)                510       \n",
            "=================================================================\n",
            "Total params: 49,910\n",
            "Trainable params: 49,910\n",
            "Non-trainable params: 0\n",
            "_________________________________________________________________\n"
          ],
          "name": "stdout"
        }
      ]
    },
    {
      "cell_type": "code",
      "metadata": {
        "id": "abntX5ei2i5D",
        "colab": {
          "base_uri": "https://localhost:8080/"
        },
        "outputId": "965d81a7-7e95-4c50-8836-a893b3ee2d44"
      },
      "source": [
        "print('--- model runtime ---')\n",
        "%time history = model.fit(X_train, y_train, batch_size=20, epochs=10, validation_split=.1, verbose=False) # fit the model \n",
        "scores = model.evaluate(X_test, y_test) # get the model score from evaluation\n",
        "print(f'model accuracy = {scores[1]*100}') # show the models accuracy score "
      ],
      "execution_count": null,
      "outputs": [
        {
          "output_type": "stream",
          "text": [
            "--- model runtime ---\n",
            "CPU times: user 1min 2s, sys: 5.62 s, total: 1min 7s\n",
            "Wall time: 45.3 s\n",
            "313/313 [==============================] - 1s 2ms/step - loss: 0.1824 - accuracy: 0.9544\n",
            "model accuracy = 95.44000029563904\n"
          ],
          "name": "stdout"
        }
      ]
    },
    {
      "cell_type": "code",
      "metadata": {
        "id": "mKux3Dvg6Qld",
        "colab": {
          "base_uri": "https://localhost:8080/",
          "height": 443
        },
        "outputId": "0dac9bed-c3ed-4c3e-80fb-d47f00703860"
      },
      "source": [
        "import matplotlib.pyplot as plt\n",
        "### plot the model loss ###\n",
        "### configure the plot ###\n",
        "print('--- model loss-MAE --- ')\n",
        "f, ax = plt.subplots(1, 1, figsize = (10, 7))\n",
        "ax1 = plt.plot(history.history['loss'], color=\"r\", label=\"loss-MSE\")\n",
        "plt.ylabel('Loss')\n",
        "plt.legend()\n",
        "plt.show()"
      ],
      "execution_count": 8,
      "outputs": [
        {
          "output_type": "stream",
          "text": [
            "--- model loss-MAE --- \n"
          ],
          "name": "stdout"
        },
        {
          "output_type": "display_data",
          "data": {
            "image/png": "[encoded data removed]",
            "text/plain": [
              "<Figure size 720x504 with 1 Axes>"
            ]
          },
          "metadata": {
            "tags": [],
            "needs_background": "light"
          }
        }
      ]
    }
  ]
}