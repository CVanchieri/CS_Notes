{
  "nbformat": 4,
  "nbformat_minor": 0,
  "metadata": {
    "colab": {
      "name": "Keras_Recurrent(RNN)_NeuralNetwork.ipynb",
      "provenance": [],
      "collapsed_sections": []
    },
    "kernelspec": {
      "name": "python3",
      "display_name": "Python 3"
    }
  },
  "cells": [
    {
      "cell_type": "markdown",
      "metadata": {
        "id": "CFM5sl2ef0Cg"
      },
      "source": [
        "## Recurrent (RNN) Neural Networks"
      ]
    },
    {
      "cell_type": "markdown",
      "metadata": {
        "id": "pHYXNoDvORIF"
      },
      "source": [
        "### Neural Networks\n",
        "#### Neural networks are a series of algorithms that identify underlying relationships in a set of data. These algorithms are heavily based on the way a human brain operates. These networks can adapt to changing input and generate the best result without the requirement to redesign the output criteria.  Deep learning algorithms are based on neural networks.\n",
        "\n",
        "#### RNN Neural Networks Use Cases\n",
        "##### Recurrent neural networks are deep learning models that are typically used to solve time series problems. They are used in self-driving cars, high-frequency trading algorithms, and other real-world applications.  They can learn from events that have happened in recent previous iterations of their training stage.\n",
        "\n",
        "####  Vanishing gradient problem\n",
        "##### The vanishing gradient problem is caused by the multiplicative nature of the backpropagation algorithm. It means that gradients calculated at a deep stage of the recurrent neural network either have too small of an impact (in a vanishing gradient problem) or too large of an impact (in an exploding gradient problem) on the weights of neurons that are shallower in the neural net.\n",
        "\n",
        "#### Solving Exploding Gradient Problem \n",
        "- modified version of the backpropagation algorithm called truncated backpropagation,  limits that number of timesteps that the backproporation will be performed on\n",
        "- introduce penalties, which are hard-coded techniques for reduces a backpropagation’s impact as it moves through shallower layers\n",
        "-  introduce gradient clipping, which introduces an artificial ceiling that limits how large the gradient can become in a backpropagation \n",
        "\n",
        "#### Solving Vanising Gradient Problem \n",
        "- weight initialization is one technique that can be used, artificially creating an initial value for weights in a neural network to prevent the backpropagation algorithm from assigning weights that are unrealistically small\n",
        "- use echo state networks, which is a specific type of neural network designed to avoid the vanishing gradient problem\n",
        "-   most important solution long Short-Term Memory Networks (LSTMs), used in problems primarily related to speech recognition\n",
        "\n",
        "#### Long Short-Term Memory Networks \n",
        "##### Long short-term memory networks (LSTMs) are a type of recurrent neural network used to solve the vanishing gradient problem\n",
        "\n",
        "##### LSTM's hanndle vanising gradient by adjusting the Wrec value in backpropagation\n",
        "- When Wrec is small < 1, you experience a vanishing gradient problem\n",
        "- When Wrec is large > 1, you experience an exploding gradient problem\n",
        "- LSTM's set the Wrec = 1\n",
        "\n",
        "#### Components:\n",
        "- inputs & outputs are arrays/vectors, numpy \n",
        "- a forget layer,  looks at the inputs of the layer and outputs either 1 or 0 for every number in the cell state from the previous layer \n",
        "- a input gate layer & tanh layer, these layers work together to determine how to update the cell state\n",
        "- the last step runs through both a sigmoid function and a hyperbolic tangent function to determine output \n",
        "- temporal loops around hidden layers \n",
        "- a deliberate activation function for every hidden layer, sigmoid \n",
        "\n",
        "#### Pros \n",
        "- great for time series data, self driving cars, high frequency trading\n",
        "-\n",
        "\n",
        "#### Cons\n",
        "- vanishing gradient problem, the gradient calculated deep in the network is “diluted” as it moves back through the net, which can cause the gradient to vanish\n",
        "-\n",
        "\n",
        "#### LTSM Variations \n",
        "- peephole, allows the gate layers to read data from the cell state, can apply to all gates or specific gates\n",
        "- coupled gate, the model makes the decision of what to forget and what to add new information to together, basic model these are handled seperately\n",
        "- gated recurrent units (GRU)\n",
        "- depth gated \n",
        "- clockwork \n"
      ]
    },
    {
      "cell_type": "markdown",
      "metadata": {
        "id": "OhRHMqRaQfiG"
      },
      "source": [
        "### Model Set Up\n",
        "\n",
        "#### Steps\n",
        " - load the data\n",
        " - inspect, clean, organize data\n",
        " - check for, handle outliers \n",
        " - encode data if necessary \n",
        " - set features and target \n",
        " - train, test split the data \n",
        " - scale the data if necessary \n",
        " - build, compile the model, fit the data, evaluate the model \n",
        " - run metrics, analyze, view results, adjust parameters, repeat until satisfied... \n"
      ]
    },
    {
      "cell_type": "markdown",
      "metadata": {
        "id": "3hmqr8qAMLuE"
      },
      "source": [
        "### Neural Network Models"
      ]
    },
    {
      "cell_type": "markdown",
      "metadata": {
        "id": "a9Z_XK3rO7H6"
      },
      "source": [
        "#### Recurrent (RNN)\n",
        "1 single neuron model that is a precursor to a larger neural network of neurons\n",
        " - feedforward, often need back-propagation, which provides the network with corresponding set of inputs and outputs. When the input data is transmitted into the neuron, it is processed, and an output is generated.\n",
        " - 3 layers, nodes/input layer, hidden layer, output layer\n",
        " - in hidden and the output layers, every node is considered as a neuron with a nonlinear activation function\n",
        " - supervised learning technique called backpropagation for training, adjusts weights of neurons\n",
        " - most ideal for projects involving tabular datasets, classification prediction problems, and regression prediction problems\n",
        "\n",
        "\n"
      ]
    },
    {
      "cell_type": "markdown",
      "metadata": {
        "id": "VUXplGBBRmeD"
      },
      "source": [
        "### Models"
      ]
    },
    {
      "cell_type": "markdown",
      "metadata": {
        "id": "MCbiZ7J-V55T"
      },
      "source": [
        "#### Import + Inspect Test Data "
      ]
    },
    {
      "cell_type": "code",
      "metadata": {
        "id": "ThIRPgzSjP1T",
        "colab": {
          "base_uri": "https://localhost:8080/",
          "height": 217
        },
        "outputId": "0abb88a4-5100-4f87-f253-2431324cc21c"
      },
      "source": [
        "import pandas as pd \n",
        "import numpy as np\n",
        "train_df = pd.read_csv('FB_training_data.csv') # read in the file \n",
        "print('traning data frame shape:', train_df.shape)\n",
        "train_df.head()"
      ],
      "execution_count": 174,
      "outputs": [
        {
          "output_type": "stream",
          "text": [
            "traning data frame shape: (1258, 7)\n"
          ],
          "name": "stdout"
        },
        {
          "output_type": "execute_result",
          "data": {
            "text/html": [
              "<div>\n",
              "<style scoped>\n",
              "    .dataframe tbody tr th:only-of-type {\n",
              "        vertical-align: middle;\n",
              "    }\n",
              "\n",
              "    .dataframe tbody tr th {\n",
              "        vertical-align: top;\n",
              "    }\n",
              "\n",
              "    .dataframe thead th {\n",
              "        text-align: right;\n",
              "    }\n",
              "</style>\n",
              "<table border=\"1\" class=\"dataframe\">\n",
              "  <thead>\n",
              "    <tr style=\"text-align: right;\">\n",
              "      <th></th>\n",
              "      <th>Date</th>\n",
              "      <th>Open</th>\n",
              "      <th>High</th>\n",
              "      <th>Low</th>\n",
              "      <th>Close</th>\n",
              "      <th>Adj Close</th>\n",
              "      <th>Volume</th>\n",
              "    </tr>\n",
              "  </thead>\n",
              "  <tbody>\n",
              "    <tr>\n",
              "      <th>0</th>\n",
              "      <td>2015-01-02</td>\n",
              "      <td>78.580002</td>\n",
              "      <td>78.930000</td>\n",
              "      <td>77.699997</td>\n",
              "      <td>78.449997</td>\n",
              "      <td>78.449997</td>\n",
              "      <td>18177500</td>\n",
              "    </tr>\n",
              "    <tr>\n",
              "      <th>1</th>\n",
              "      <td>2015-01-05</td>\n",
              "      <td>77.980003</td>\n",
              "      <td>79.250000</td>\n",
              "      <td>76.860001</td>\n",
              "      <td>77.190002</td>\n",
              "      <td>77.190002</td>\n",
              "      <td>26452200</td>\n",
              "    </tr>\n",
              "    <tr>\n",
              "      <th>2</th>\n",
              "      <td>2015-01-06</td>\n",
              "      <td>77.230003</td>\n",
              "      <td>77.589996</td>\n",
              "      <td>75.360001</td>\n",
              "      <td>76.150002</td>\n",
              "      <td>76.150002</td>\n",
              "      <td>27399300</td>\n",
              "    </tr>\n",
              "    <tr>\n",
              "      <th>3</th>\n",
              "      <td>2015-01-07</td>\n",
              "      <td>76.760002</td>\n",
              "      <td>77.360001</td>\n",
              "      <td>75.820000</td>\n",
              "      <td>76.150002</td>\n",
              "      <td>76.150002</td>\n",
              "      <td>22045300</td>\n",
              "    </tr>\n",
              "    <tr>\n",
              "      <th>4</th>\n",
              "      <td>2015-01-08</td>\n",
              "      <td>76.739998</td>\n",
              "      <td>78.230003</td>\n",
              "      <td>76.080002</td>\n",
              "      <td>78.180000</td>\n",
              "      <td>78.180000</td>\n",
              "      <td>23961000</td>\n",
              "    </tr>\n",
              "  </tbody>\n",
              "</table>\n",
              "</div>"
            ],
            "text/plain": [
              "         Date       Open       High        Low      Close  Adj Close    Volume\n",
              "0  2015-01-02  78.580002  78.930000  77.699997  78.449997  78.449997  18177500\n",
              "1  2015-01-05  77.980003  79.250000  76.860001  77.190002  77.190002  26452200\n",
              "2  2015-01-06  77.230003  77.589996  75.360001  76.150002  76.150002  27399300\n",
              "3  2015-01-07  76.760002  77.360001  75.820000  76.150002  76.150002  22045300\n",
              "4  2015-01-08  76.739998  78.230003  76.080002  78.180000  78.180000  23961000"
            ]
          },
          "metadata": {
            "tags": []
          },
          "execution_count": 174
        }
      ]
    },
    {
      "cell_type": "code",
      "metadata": {
        "id": "YltWjPbwcDlT",
        "colab": {
          "base_uri": "https://localhost:8080/",
          "height": 752
        },
        "outputId": "652e49b2-9d33-4423-aca8-dda5f2415907"
      },
      "source": [
        "### inspecting the data ###\n",
        "print('--- INSPECTING THE DATA --- ')\n",
        "print('--- columns --- ')\n",
        "print(train_df.columns) \n",
        "print('--- types --- ')\n",
        "print(train_df.dtypes) \n",
        "print('--- NA counts --- ')\n",
        "print(train_df.isna().sum()) \n",
        "print('--- object descriptions --- ')\n",
        "print(train_df.describe(include=object))\n",
        "print('--- numericals descriptions --- ')\n",
        "train_df.describe()"
      ],
      "execution_count": 175,
      "outputs": [
        {
          "output_type": "stream",
          "text": [
            "--- INSPECTING THE DATA --- \n",
            "--- columns --- \n",
            "Index(['Date', 'Open', 'High', 'Low', 'Close', 'Adj Close', 'Volume'], dtype='object')\n",
            "--- types --- \n",
            "Date          object\n",
            "Open         float64\n",
            "High         float64\n",
            "Low          float64\n",
            "Close        float64\n",
            "Adj Close    float64\n",
            "Volume         int64\n",
            "dtype: object\n",
            "--- NA counts --- \n",
            "Date         0\n",
            "Open         0\n",
            "High         0\n",
            "Low          0\n",
            "Close        0\n",
            "Adj Close    0\n",
            "Volume       0\n",
            "dtype: int64\n",
            "--- object descriptions --- \n",
            "              Date\n",
            "count         1258\n",
            "unique        1258\n",
            "top     2018-07-30\n",
            "freq             1\n",
            "--- numericals descriptions --- \n"
          ],
          "name": "stdout"
        },
        {
          "output_type": "execute_result",
          "data": {
            "text/html": [
              "<div>\n",
              "<style scoped>\n",
              "    .dataframe tbody tr th:only-of-type {\n",
              "        vertical-align: middle;\n",
              "    }\n",
              "\n",
              "    .dataframe tbody tr th {\n",
              "        vertical-align: top;\n",
              "    }\n",
              "\n",
              "    .dataframe thead th {\n",
              "        text-align: right;\n",
              "    }\n",
              "</style>\n",
              "<table border=\"1\" class=\"dataframe\">\n",
              "  <thead>\n",
              "    <tr style=\"text-align: right;\">\n",
              "      <th></th>\n",
              "      <th>Open</th>\n",
              "      <th>High</th>\n",
              "      <th>Low</th>\n",
              "      <th>Close</th>\n",
              "      <th>Adj Close</th>\n",
              "      <th>Volume</th>\n",
              "    </tr>\n",
              "  </thead>\n",
              "  <tbody>\n",
              "    <tr>\n",
              "      <th>count</th>\n",
              "      <td>1258.000000</td>\n",
              "      <td>1258.000000</td>\n",
              "      <td>1258.000000</td>\n",
              "      <td>1258.000000</td>\n",
              "      <td>1258.000000</td>\n",
              "      <td>1.258000e+03</td>\n",
              "    </tr>\n",
              "    <tr>\n",
              "      <th>mean</th>\n",
              "      <td>143.036971</td>\n",
              "      <td>144.452154</td>\n",
              "      <td>141.552568</td>\n",
              "      <td>143.073386</td>\n",
              "      <td>143.073386</td>\n",
              "      <td>2.261876e+07</td>\n",
              "    </tr>\n",
              "    <tr>\n",
              "      <th>std</th>\n",
              "      <td>38.065057</td>\n",
              "      <td>38.399162</td>\n",
              "      <td>37.734180</td>\n",
              "      <td>38.086761</td>\n",
              "      <td>38.086761</td>\n",
              "      <td>1.400415e+07</td>\n",
              "    </tr>\n",
              "    <tr>\n",
              "      <th>min</th>\n",
              "      <td>74.040001</td>\n",
              "      <td>74.830002</td>\n",
              "      <td>72.000000</td>\n",
              "      <td>74.050003</td>\n",
              "      <td>74.050003</td>\n",
              "      <td>5.913100e+06</td>\n",
              "    </tr>\n",
              "    <tr>\n",
              "      <th>25%</th>\n",
              "      <td>111.695004</td>\n",
              "      <td>112.772499</td>\n",
              "      <td>110.339999</td>\n",
              "      <td>112.187500</td>\n",
              "      <td>112.187500</td>\n",
              "      <td>1.435028e+07</td>\n",
              "    </tr>\n",
              "    <tr>\n",
              "      <th>50%</th>\n",
              "      <td>146.114998</td>\n",
              "      <td>147.930001</td>\n",
              "      <td>144.205001</td>\n",
              "      <td>145.650002</td>\n",
              "      <td>145.650002</td>\n",
              "      <td>1.900420e+07</td>\n",
              "    </tr>\n",
              "    <tr>\n",
              "      <th>75%</th>\n",
              "      <td>177.824997</td>\n",
              "      <td>179.145004</td>\n",
              "      <td>175.822502</td>\n",
              "      <td>177.562500</td>\n",
              "      <td>177.562500</td>\n",
              "      <td>2.560708e+07</td>\n",
              "    </tr>\n",
              "    <tr>\n",
              "      <th>max</th>\n",
              "      <td>215.720001</td>\n",
              "      <td>218.619995</td>\n",
              "      <td>214.270004</td>\n",
              "      <td>217.500000</td>\n",
              "      <td>217.500000</td>\n",
              "      <td>1.698037e+08</td>\n",
              "    </tr>\n",
              "  </tbody>\n",
              "</table>\n",
              "</div>"
            ],
            "text/plain": [
              "              Open         High  ...    Adj Close        Volume\n",
              "count  1258.000000  1258.000000  ...  1258.000000  1.258000e+03\n",
              "mean    143.036971   144.452154  ...   143.073386  2.261876e+07\n",
              "std      38.065057    38.399162  ...    38.086761  1.400415e+07\n",
              "min      74.040001    74.830002  ...    74.050003  5.913100e+06\n",
              "25%     111.695004   112.772499  ...   112.187500  1.435028e+07\n",
              "50%     146.114998   147.930001  ...   145.650002  1.900420e+07\n",
              "75%     177.824997   179.145004  ...   177.562500  2.560708e+07\n",
              "max     215.720001   218.619995  ...   217.500000  1.698037e+08\n",
              "\n",
              "[8 rows x 6 columns]"
            ]
          },
          "metadata": {
            "tags": []
          },
          "execution_count": 175
        }
      ]
    },
    {
      "cell_type": "code",
      "metadata": {
        "colab": {
          "base_uri": "https://localhost:8080/",
          "height": 248
        },
        "id": "xsEHE1mhb9JN",
        "outputId": "6a662869-7f1d-4dfc-f7e3-b8399a22460a"
      },
      "source": [
        "### view basic feature correlations ###\n",
        "print('--- feature correlations ---')\n",
        "train_df.corr()"
      ],
      "execution_count": 176,
      "outputs": [
        {
          "output_type": "stream",
          "text": [
            "--- feature correlations ---\n"
          ],
          "name": "stdout"
        },
        {
          "output_type": "execute_result",
          "data": {
            "text/html": [
              "<div>\n",
              "<style scoped>\n",
              "    .dataframe tbody tr th:only-of-type {\n",
              "        vertical-align: middle;\n",
              "    }\n",
              "\n",
              "    .dataframe tbody tr th {\n",
              "        vertical-align: top;\n",
              "    }\n",
              "\n",
              "    .dataframe thead th {\n",
              "        text-align: right;\n",
              "    }\n",
              "</style>\n",
              "<table border=\"1\" class=\"dataframe\">\n",
              "  <thead>\n",
              "    <tr style=\"text-align: right;\">\n",
              "      <th></th>\n",
              "      <th>Open</th>\n",
              "      <th>High</th>\n",
              "      <th>Low</th>\n",
              "      <th>Close</th>\n",
              "      <th>Adj Close</th>\n",
              "      <th>Volume</th>\n",
              "    </tr>\n",
              "  </thead>\n",
              "  <tbody>\n",
              "    <tr>\n",
              "      <th>Open</th>\n",
              "      <td>1.000000</td>\n",
              "      <td>0.999402</td>\n",
              "      <td>0.999152</td>\n",
              "      <td>0.998625</td>\n",
              "      <td>0.998625</td>\n",
              "      <td>-0.251444</td>\n",
              "    </tr>\n",
              "    <tr>\n",
              "      <th>High</th>\n",
              "      <td>0.999402</td>\n",
              "      <td>1.000000</td>\n",
              "      <td>0.999044</td>\n",
              "      <td>0.999304</td>\n",
              "      <td>0.999304</td>\n",
              "      <td>-0.241352</td>\n",
              "    </tr>\n",
              "    <tr>\n",
              "      <th>Low</th>\n",
              "      <td>0.999152</td>\n",
              "      <td>0.999044</td>\n",
              "      <td>1.000000</td>\n",
              "      <td>0.999398</td>\n",
              "      <td>0.999398</td>\n",
              "      <td>-0.268962</td>\n",
              "    </tr>\n",
              "    <tr>\n",
              "      <th>Close</th>\n",
              "      <td>0.998625</td>\n",
              "      <td>0.999304</td>\n",
              "      <td>0.999398</td>\n",
              "      <td>1.000000</td>\n",
              "      <td>1.000000</td>\n",
              "      <td>-0.255443</td>\n",
              "    </tr>\n",
              "    <tr>\n",
              "      <th>Adj Close</th>\n",
              "      <td>0.998625</td>\n",
              "      <td>0.999304</td>\n",
              "      <td>0.999398</td>\n",
              "      <td>1.000000</td>\n",
              "      <td>1.000000</td>\n",
              "      <td>-0.255443</td>\n",
              "    </tr>\n",
              "    <tr>\n",
              "      <th>Volume</th>\n",
              "      <td>-0.251444</td>\n",
              "      <td>-0.241352</td>\n",
              "      <td>-0.268962</td>\n",
              "      <td>-0.255443</td>\n",
              "      <td>-0.255443</td>\n",
              "      <td>1.000000</td>\n",
              "    </tr>\n",
              "  </tbody>\n",
              "</table>\n",
              "</div>"
            ],
            "text/plain": [
              "               Open      High       Low     Close  Adj Close    Volume\n",
              "Open       1.000000  0.999402  0.999152  0.998625   0.998625 -0.251444\n",
              "High       0.999402  1.000000  0.999044  0.999304   0.999304 -0.241352\n",
              "Low        0.999152  0.999044  1.000000  0.999398   0.999398 -0.268962\n",
              "Close      0.998625  0.999304  0.999398  1.000000   1.000000 -0.255443\n",
              "Adj Close  0.998625  0.999304  0.999398  1.000000   1.000000 -0.255443\n",
              "Volume    -0.251444 -0.241352 -0.268962 -0.255443  -0.255443  1.000000"
            ]
          },
          "metadata": {
            "tags": []
          },
          "execution_count": 176
        }
      ]
    },
    {
      "cell_type": "markdown",
      "metadata": {
        "id": "e7AXVEyNPKBj"
      },
      "source": [
        "#### Train data reshape + scale "
      ]
    },
    {
      "cell_type": "code",
      "metadata": {
        "id": "2Z4k1D0uekFE",
        "colab": {
          "base_uri": "https://localhost:8080/"
        },
        "outputId": "ec121727-ae35-4c97-df65-8d4ade6572ee"
      },
      "source": [
        "### set the training feature as array ### \n",
        "X_train = train_df.iloc[:, 1].values # 'close' indicates the unadjusted closing price\n",
        "### reshape the data to 2d ###\n",
        "X_train = X_train.reshape(-1, 1)\n",
        "print('X_train shape:', X_train.shape)\n",
        "print('data type:', type(X_train))\n",
        "print('--- X_train array ---')\n",
        "X_train"
      ],
      "execution_count": 177,
      "outputs": [
        {
          "output_type": "stream",
          "text": [
            "X_train shape: (1258, 1)\n",
            "data type: <class 'numpy.ndarray'>\n",
            "--- X_train array ---\n"
          ],
          "name": "stdout"
        },
        {
          "output_type": "execute_result",
          "data": {
            "text/plain": [
              "array([[ 78.580002],\n",
              "       [ 77.980003],\n",
              "       [ 77.230003],\n",
              "       ...,\n",
              "       [208.669998],\n",
              "       [207.860001],\n",
              "       [204.      ]])"
            ]
          },
          "metadata": {
            "tags": []
          },
          "execution_count": 177
        }
      ]
    },
    {
      "cell_type": "code",
      "metadata": {
        "id": "c_GOvh2rVjBm"
      },
      "source": [
        "### feature scaling for train ### \n",
        "# normalization, involves subtracting the minimum value of the data set and then dividing by the range of the data set\n",
        "from sklearn.preprocessing import MinMaxScaler\n",
        "mm = MinMaxScaler() # initiate the scalar   \n",
        "X_train = mm.fit_transform(X_train) # fit transform the data with scalar"
      ],
      "execution_count": 178,
      "outputs": []
    },
    {
      "cell_type": "code",
      "metadata": {
        "id": "xCyApM4oJQXH"
      },
      "source": [
        "### set the timesteps for the network ### \n",
        "x_train_data = [] # create new list for x_train\n",
        "y_train_data = []# create new list for y_train\n",
        "for i in range(40, len(X_train)): # loop through idx's from 40 to full length\n",
        "  x_train_data.append(X_train[i-40:i, 0]) # append idx's preceding 40\n",
        "  y_train_data.append(X_train[i, 0]) # append intial idx, next days stock price"
      ],
      "execution_count": 179,
      "outputs": []
    },
    {
      "cell_type": "code",
      "metadata": {
        "colab": {
          "base_uri": "https://localhost:8080/"
        },
        "id": "rYi3RMSUK9ZC",
        "outputId": "68d2067c-b13d-4181-c9ce-ac103157c56c"
      },
      "source": [
        "### set the data to array's ###\n",
        "x_train_data = np.array(x_train_data) # set to array \n",
        "y_train_data = np.array(y_train_data)\n",
        "print('x_train_data shape:', x_train.shape)\n",
        "print('y_train_data shape:', y_train.shape)"
      ],
      "execution_count": 180,
      "outputs": [
        {
          "output_type": "stream",
          "text": [
            "x_train_data shape: (1218, 40, 1)\n",
            "y_train_data shape: (1218,)\n"
          ],
          "name": "stdout"
        }
      ]
    },
    {
      "cell_type": "code",
      "metadata": {
        "colab": {
          "base_uri": "https://localhost:8080/"
        },
        "id": "acQTqdNJLepX",
        "outputId": "2cb793d2-a445-4bce-f62f-cc00053b2dbf"
      },
      "source": [
        "### must reshape to fit tensorflow RNN layer requirements ###\n",
        "x_train_data = np.reshape(x_train_data,(x_train_data.shape[0], \n",
        "                                    x_train_data.shape[1], 1))\n",
        "print('x_train_data shape:', x_train_data.shape)\n",
        "print('y_train_data shape:', y_train_data.shape)\n"
      ],
      "execution_count": 181,
      "outputs": [
        {
          "output_type": "stream",
          "text": [
            "x_train_data shape: (1218, 40, 1)\n",
            "y_train_data shape: (1218,)\n"
          ],
          "name": "stdout"
        }
      ]
    },
    {
      "cell_type": "markdown",
      "metadata": {
        "id": "WEQzqEqfO4ha"
      },
      "source": [
        "#### (RNN) LTSM Neural Network"
      ]
    },
    {
      "cell_type": "code",
      "metadata": {
        "colab": {
          "base_uri": "https://localhost:8080/"
        },
        "id": "7CYBuj9ymGuS",
        "outputId": "e5253991-a745-4b40-cdcd-7c4d02627fa7"
      },
      "source": [
        "from tensorflow import keras \n",
        "import numpy as np\n",
        "from tensorflow.keras.models import Sequential\n",
        "from tensorflow.keras.layers import Dense, Dropout, LSTM\n",
        "from keras.optimizers import Adam\n",
        "from keras.losses import categorical_crossentropy\n",
        "from sklearn.model_selection import cross_val_score\n",
        "\n",
        "seed = 7\n",
        "np.random.seed(seed) # random seed for reproducability\n",
        "### create the model ###\n",
        "model = Sequential() # initiate the model \n",
        "model.add(LSTM(units = 45, return_sequences = True, input_shape = (x_train.shape[1], 1))), # first layer, set True, set dimension, set shape\n",
        "model.add(Dropout(0.2)), # set a drop out, avoid overfit\n",
        "model.add(LSTM(units = 45, return_sequences = True)), # LSTM layer\n",
        "model.add(Dropout(0.2)), # set a drop out, avoid overfit\n",
        "model.add(LSTM(units = 45, return_sequences = False)), # LSTM layer\n",
        "model.add(Dense(units=1)) # output is 1 value, remove True\n",
        "model.compile( # compile the model \n",
        "              optimizer = 'adam', # RMSProp is typical for RNN \n",
        "              loss = 'mean_squared_error', # mse for continuous variable \n",
        "              )\n",
        "### show summary ### \n",
        "model.summary()"
      ],
      "execution_count": 183,
      "outputs": [
        {
          "output_type": "stream",
          "text": [
            "Model: \"sequential_7\"\n",
            "_________________________________________________________________\n",
            "Layer (type)                 Output Shape              Param #   \n",
            "=================================================================\n",
            "lstm_22 (LSTM)               (None, 40, 45)            8460      \n",
            "_________________________________________________________________\n",
            "dropout_16 (Dropout)         (None, 40, 45)            0         \n",
            "_________________________________________________________________\n",
            "lstm_23 (LSTM)               (None, 40, 45)            16380     \n",
            "_________________________________________________________________\n",
            "dropout_17 (Dropout)         (None, 40, 45)            0         \n",
            "_________________________________________________________________\n",
            "lstm_24 (LSTM)               (None, 45)                16380     \n",
            "_________________________________________________________________\n",
            "dense_6 (Dense)              (None, 1)                 46        \n",
            "=================================================================\n",
            "Total params: 41,266\n",
            "Trainable params: 41,266\n",
            "Non-trainable params: 0\n",
            "_________________________________________________________________\n"
          ],
          "name": "stdout"
        }
      ]
    },
    {
      "cell_type": "code",
      "metadata": {
        "colab": {
          "base_uri": "https://localhost:8080/"
        },
        "id": "_kkpHnIlm_VO",
        "outputId": "f656ead7-933e-4bcb-8969-521f06ea9022"
      },
      "source": [
        "print('--- model runtime ---')\n",
        "%time history = model.fit(x_train_data, y_train_data, batch_size=20, epochs=20) # fit the model "
      ],
      "execution_count": 184,
      "outputs": [
        {
          "output_type": "stream",
          "text": [
            "--- model runtime ---\n",
            "Epoch 1/20\n",
            "61/61 [==============================] - 8s 50ms/step - loss: 0.0440\n",
            "Epoch 2/20\n",
            "61/61 [==============================] - 3s 52ms/step - loss: 0.0032\n",
            "Epoch 3/20\n",
            "61/61 [==============================] - 3s 50ms/step - loss: 0.0029\n",
            "Epoch 4/20\n",
            "61/61 [==============================] - 3s 50ms/step - loss: 0.0029\n",
            "Epoch 5/20\n",
            "61/61 [==============================] - 3s 51ms/step - loss: 0.0027\n",
            "Epoch 6/20\n",
            "61/61 [==============================] - 3s 50ms/step - loss: 0.0025\n",
            "Epoch 7/20\n",
            "61/61 [==============================] - 3s 51ms/step - loss: 0.0033\n",
            "Epoch 8/20\n",
            "61/61 [==============================] - 3s 53ms/step - loss: 0.0026\n",
            "Epoch 9/20\n",
            "61/61 [==============================] - 3s 54ms/step - loss: 0.0025\n",
            "Epoch 10/20\n",
            "61/61 [==============================] - 3s 53ms/step - loss: 0.0022\n",
            "Epoch 11/20\n",
            "61/61 [==============================] - 3s 52ms/step - loss: 0.0024\n",
            "Epoch 12/20\n",
            "61/61 [==============================] - 3s 51ms/step - loss: 0.0021\n",
            "Epoch 13/20\n",
            "61/61 [==============================] - 3s 51ms/step - loss: 0.0024\n",
            "Epoch 14/20\n",
            "61/61 [==============================] - 3s 51ms/step - loss: 0.0023\n",
            "Epoch 15/20\n",
            "61/61 [==============================] - 3s 53ms/step - loss: 0.0021\n",
            "Epoch 16/20\n",
            "61/61 [==============================] - 3s 51ms/step - loss: 0.0020\n",
            "Epoch 17/20\n",
            "61/61 [==============================] - 3s 52ms/step - loss: 0.0021\n",
            "Epoch 18/20\n",
            "61/61 [==============================] - 3s 52ms/step - loss: 0.0017\n",
            "Epoch 19/20\n",
            "61/61 [==============================] - 3s 51ms/step - loss: 0.0020\n",
            "Epoch 20/20\n",
            "61/61 [==============================] - 3s 52ms/step - loss: 0.0018\n",
            "CPU times: user 1min 43s, sys: 5.57 s, total: 1min 48s\n",
            "Wall time: 1min 7s\n"
          ],
          "name": "stdout"
        }
      ]
    },
    {
      "cell_type": "code",
      "metadata": {
        "colab": {
          "base_uri": "https://localhost:8080/",
          "height": 458
        },
        "id": "rhdY4k6X2dd0",
        "outputId": "37b6ba90-163a-4c00-c5b8-a674655de234"
      },
      "source": [
        "import matplotlib.pyplot as plt\n",
        "### plot the unscaled predictions ###\n",
        "unscaled_predictions = mm.inverse_transform(y_pred) # reverse scalar with inverse_transform\n",
        "### configure the plot ###\n",
        "print('--- model loss-MAE --- ')\n",
        "f, ax = plt.subplots(1, 1, figsize = (10, 7))\n",
        "ax1 = plt.plot(history.history['loss'], color=\"r\", label=\"loss-MSE\")\n",
        "plt.ylabel('Loss')\n",
        "plt.legend()\n",
        "plt.show()"
      ],
      "execution_count": 231,
      "outputs": [
        {
          "output_type": "stream",
          "text": [
            "--- model predictions unscaled --- \n"
          ],
          "name": "stdout"
        },
        {
          "output_type": "display_data",
          "data": {
            "image/png": "[encoded data removed]",
            "text/plain": [
              "<Figure size 720x504 with 1 Axes>"
            ]
          },
          "metadata": {
            "tags": [],
            "needs_background": "light"
          }
        }
      ]
    },
    {
      "cell_type": "markdown",
      "metadata": {
        "id": "_jrb08Cqvxxg"
      },
      "source": [
        "##### Import + Inspect Test Data ### "
      ]
    },
    {
      "cell_type": "code",
      "metadata": {
        "colab": {
          "base_uri": "https://localhost:8080/"
        },
        "id": "1JdkYG6dfmax",
        "outputId": "d1e05fe2-f5ce-4407-fbcc-c606c2cc2148"
      },
      "source": [
        "import pandas as pd \n",
        "import numpy as np\n",
        "test_df = pd.read_csv('FB_test_data.csv') # read in the file \n",
        "test_df = test_df.iloc[:, 1].values\n",
        "print('test data frame shape:', test_df.shape)\n",
        "print('--- test_df array ---')\n",
        "test_df"
      ],
      "execution_count": 185,
      "outputs": [
        {
          "output_type": "stream",
          "text": [
            "test data frame shape: (21,)\n",
            "--- test_df array ---\n"
          ],
          "name": "stdout"
        },
        {
          "output_type": "execute_result",
          "data": {
            "text/plain": [
              "array([206.75    , 207.210007, 206.699997, 212.820007, 213.      ,\n",
              "       217.539993, 219.199997, 219.600006, 221.610001, 220.610001,\n",
              "       222.570007, 222.029999, 222.160004, 222.309998, 220.75    ,\n",
              "       220.800003, 213.100006, 216.139999, 221.440002, 206.529999,\n",
              "       208.429993])"
            ]
          },
          "metadata": {
            "tags": []
          },
          "execution_count": 185
        }
      ]
    },
    {
      "cell_type": "code",
      "metadata": {
        "colab": {
          "base_uri": "https://localhost:8080/",
          "height": 460
        },
        "id": "O3vTQxmYwDj1",
        "outputId": "7eb007cf-dc6e-42aa-e00b-2fb8b22aaaad"
      },
      "source": [
        "### visualize the test data ###\n",
        "import seaborn as sns\n",
        "import matplotlib.pyplot as plt\n",
        "### configure the plot ###\n",
        "print('--- distplot accuracy --- ')\n",
        "f, ax = plt.subplots(1, 1, figsize = (10, 7))\n",
        "ax1 = plt.plot(test_df, color=\"b\", label=\"test values\")\n",
        "plt.legend()\n",
        "plt.show()"
      ],
      "execution_count": 210,
      "outputs": [
        {
          "output_type": "stream",
          "text": [
            "--- distplot accuracy --- \n"
          ],
          "name": "stdout"
        },
        {
          "output_type": "execute_result",
          "data": {
            "text/plain": [
              "<matplotlib.legend.Legend at 0x7f335239a390>"
            ]
          },
          "metadata": {
            "tags": []
          },
          "execution_count": 210
        },
        {
          "output_type": "display_data",
          "data": {
            "image/png": "[encoded data removed]",
            "text/plain": [
              "<Figure size 720x504 with 1 Axes>"
            ]
          },
          "metadata": {
            "tags": [],
            "needs_background": "light"
          }
        }
      ]
    },
    {
      "cell_type": "markdown",
      "metadata": {
        "id": "GkDkVAitsK-p"
      },
      "source": [
        "##### Create unscaled data sets ###"
      ]
    },
    {
      "cell_type": "code",
      "metadata": {
        "id": "6hFkkyq7sJTJ"
      },
      "source": [
        "import pandas as pd \n",
        "### read in both sets of data again ### \n",
        "usncaled_train_df = pd.read_csv('FB_training_data.csv') # read in the file \n",
        "usncaled_test_df = pd.read_csv('FB_test_data.csv') # read in the file "
      ],
      "execution_count": 187,
      "outputs": []
    },
    {
      "cell_type": "code",
      "metadata": {
        "colab": {
          "base_uri": "https://localhost:8080/"
        },
        "id": "svSuFCHMfsyb",
        "outputId": "8e3e483e-3c69-4a0e-ab4f-7e52342ad136"
      },
      "source": [
        "### create the test data ###\n",
        "all_data = pd.concat((usncaled_train_df['Open'], usncaled_test_df['Open']), axis = 0) # combine the 2 'Open' features \n",
        "x_test = all_data[len(all_data) - len(test_data) - 40:].values # get upperbound and lower bound of array\n",
        "print('x_test shape:', x_test.shape)\n",
        "print('--- x_test array ---')\n",
        "x_test"
      ],
      "execution_count": 193,
      "outputs": [
        {
          "output_type": "stream",
          "text": [
            "x_test shape: (61,)\n",
            "--- x_test array ---\n"
          ],
          "name": "stdout"
        },
        {
          "output_type": "execute_result",
          "data": {
            "text/plain": [
              "array([194.550003, 195.369995, 194.029999, 191.910004, 190.      ,\n",
              "       189.929993, 190.      , 194.699997, 192.929993, 194.259995,\n",
              "       194.559998, 197.399994, 198.580002, 197.419998, 198.380005,\n",
              "       199.520004, 200.      , 199.899994, 201.600006, 202.130005,\n",
              "       197.600006, 200.      , 199.860001, 200.5     , 200.649994,\n",
              "       201.660004, 200.279999, 202.350006, 196.399994, 195.270004,\n",
              "       198.839996, 200.089996, 202.779999, 207.479996, 206.699997,\n",
              "       206.300003, 205.570007, 208.669998, 207.860001, 204.      ,\n",
              "       206.75    , 207.210007, 206.699997, 212.820007, 213.      ,\n",
              "       217.539993, 219.199997, 219.600006, 221.610001, 220.610001,\n",
              "       222.570007, 222.029999, 222.160004, 222.309998, 220.75    ,\n",
              "       220.800003, 213.100006, 216.139999, 221.440002, 206.529999,\n",
              "       208.429993])"
            ]
          },
          "metadata": {
            "tags": []
          },
          "execution_count": 193
        }
      ]
    },
    {
      "cell_type": "code",
      "metadata": {
        "colab": {
          "base_uri": "https://localhost:8080/"
        },
        "id": "G4f6czojtAiD",
        "outputId": "a78730fe-2b01-4177-e695-7eba2adaaeea"
      },
      "source": [
        "### reshape test data for prediction ###\n",
        "x_test = np.reshape(x_test, (-1, 1))\n",
        "print('x_test shape:', x_test.shape)"
      ],
      "execution_count": 194,
      "outputs": [
        {
          "output_type": "stream",
          "text": [
            "x_test shape: (61, 1)\n"
          ],
          "name": "stdout"
        }
      ]
    },
    {
      "cell_type": "code",
      "metadata": {
        "id": "C6Z5Wq8vfs_4"
      },
      "source": [
        "### feature scaling for test data ### \n",
        "# normalization, involves subtracting the minimum value of the data set and then dividing by the range of the data set\n",
        "from sklearn.preprocessing import MinMaxScaler\n",
        "mm = MinMaxScaler() # initiate the scalar   \n",
        "x_test = mm.fit_transform(x_test) # fit transform the data with scalar"
      ],
      "execution_count": 195,
      "outputs": []
    },
    {
      "cell_type": "code",
      "metadata": {
        "colab": {
          "base_uri": "https://localhost:8080/"
        },
        "id": "MdQ0angtftLM",
        "outputId": "f91ad87c-389e-4998-bdcf-4fdd9617391d"
      },
      "source": [
        "### set the timesteps for the network ### \n",
        "final_x_test = [] # create new list for x_test\n",
        "for i in range(40, len(x_test)): # loop through idx's from 40 to full length\n",
        "  final_x_test.append(x_test[i-40:i, 0]) # append idx's preceding 40\n",
        "final_x_test = np.array(final_x_test)\n",
        "### must reshape to fit tensorflow RNN layer requirements ###\n",
        "final_x_test = np.reshape(final_x_test,(final_x_test.shape[0], \n",
        "                                        final_x_test.shape[1],1)) # reshape 3d\n",
        "print('final_x_test shape:', final_x_test.shape)"
      ],
      "execution_count": 196,
      "outputs": [
        {
          "output_type": "stream",
          "text": [
            "final_x_test shape: (21, 40, 1)\n"
          ],
          "name": "stdout"
        }
      ]
    },
    {
      "cell_type": "markdown",
      "metadata": {
        "id": "_fCJSfG43DNM"
      },
      "source": [
        "#### Model tests"
      ]
    },
    {
      "cell_type": "code",
      "metadata": {
        "colab": {
          "base_uri": "https://localhost:8080/"
        },
        "id": "Y3f-tSzNboc7",
        "outputId": "0a8ac387-8a60-416e-abc9-32b177f12cfc"
      },
      "source": [
        "### make the predictions with the model ###\n",
        "y_pred = model.predict(final_x_test)\n",
        "unscaled_predictions = mm.inverse_transform(y_pred) # reverse scalar with inverse_transform"
      ],
      "execution_count": 228,
      "outputs": [
        {
          "output_type": "stream",
          "text": [
            "prediction data shape: (21, 1)\n",
            "unscaled prediction data shape: (21, 1)\n"
          ],
          "name": "stdout"
        }
      ]
    },
    {
      "cell_type": "code",
      "metadata": {
        "colab": {
          "base_uri": "https://localhost:8080/",
          "height": 443
        },
        "id": "VcX8dxQfbqsS",
        "outputId": "891c0662-ea64-4818-ab5f-5b34a6423a7d"
      },
      "source": [
        "import seaborn as sns\n",
        "import matplotlib.pyplot as plt\n",
        "### plot the unscaled predictions ###\n",
        "unscaled_predictions = mm.inverse_transform(y_pred) # reverse scalar with inverse_transform\n",
        "### configure the plot ###\n",
        "print('--- model predictions unscaled --- ')\n",
        "f, ax = plt.subplots(1, 1, figsize = (10, 7))\n",
        "ax1 = plt.plot(unscaled_predictions, color=\"r\", label=\"test predictions\")\n",
        "plt.legend()\n",
        "plt.show()"
      ],
      "execution_count": 229,
      "outputs": [
        {
          "output_type": "stream",
          "text": [
            "--- model predictions unscaled --- \n"
          ],
          "name": "stdout"
        },
        {
          "output_type": "display_data",
          "data": {
            "image/png": "[encoded data removed]",
            "text/plain": [
              "<Figure size 720x504 with 1 Axes>"
            ]
          },
          "metadata": {
            "tags": [],
            "needs_background": "light"
          }
        }
      ]
    },
    {
      "cell_type": "code",
      "metadata": {
        "colab": {
          "base_uri": "https://localhost:8080/",
          "height": 443
        },
        "id": "gwoor4i63JiA",
        "outputId": "137217e6-e4ee-4bac-dadf-8b3f76cf130c"
      },
      "source": [
        "### visualize the test data ###\n",
        "import seaborn as sns\n",
        "import matplotlib.pyplot as plt\n",
        "### configure the plot ###\n",
        "print('--- distplot accuracy --- ')\n",
        "f, ax = plt.subplots(1, 1, figsize = (10, 7))\n",
        "ax1 = plt.plot(test_df, color=\"b\", label=\"test values\")\n",
        "plt.legend()\n",
        "plt.show()"
      ],
      "execution_count": 232,
      "outputs": [
        {
          "output_type": "stream",
          "text": [
            "--- distplot accuracy --- \n"
          ],
          "name": "stdout"
        },
        {
          "output_type": "display_data",
          "data": {
            "image/png": "[encoded data removed]",
            "text/plain": [
              "<Figure size 720x504 with 1 Axes>"
            ]
          },
          "metadata": {
            "tags": [],
            "needs_background": "light"
          }
        }
      ]
    },
    {
      "cell_type": "code",
      "metadata": {
        "colab": {
          "base_uri": "https://localhost:8080/",
          "height": 545
        },
        "id": "fAAZETQWwt_F",
        "outputId": "39e7795d-31e1-4146-c388-5e82260c73d0"
      },
      "source": [
        "### visualize the model prediction accuracy ###\n",
        "import seaborn as sns\n",
        "import matplotlib.pyplot as plt\n",
        "### configure the plot ###\n",
        "print('--- distplot accuracy --- ')\n",
        "f, ax = plt.subplots(1, 1, figsize = (10, 7))\n",
        "ax1 = sns.distplot(test_df, hist=False, color=\"b\", label=\"Actual Values\")\n",
        "sns.distplot(unscaled_predictions, hist=False, color=\"r\", label=\"Predicted Values\", ax=ax1)\n",
        "plt.legend()"
      ],
      "execution_count": 227,
      "outputs": [
        {
          "output_type": "stream",
          "text": [
            "--- distplot accuracy --- \n"
          ],
          "name": "stdout"
        },
        {
          "output_type": "stream",
          "text": [
            "/usr/local/lib/python3.6/dist-packages/seaborn/distributions.py:2557: FutureWarning: `distplot` is a deprecated function and will be removed in a future version. Please adapt your code to use either `displot` (a figure-level function with similar flexibility) or `kdeplot` (an axes-level function for kernel density plots).\n",
            "  warnings.warn(msg, FutureWarning)\n",
            "/usr/local/lib/python3.6/dist-packages/seaborn/distributions.py:2557: FutureWarning: `distplot` is a deprecated function and will be removed in a future version. Please adapt your code to use either `displot` (a figure-level function with similar flexibility) or `kdeplot` (an axes-level function for kernel density plots).\n",
            "  warnings.warn(msg, FutureWarning)\n"
          ],
          "name": "stderr"
        },
        {
          "output_type": "execute_result",
          "data": {
            "text/plain": [
              "<matplotlib.legend.Legend at 0x7f33544a2dd8>"
            ]
          },
          "metadata": {
            "tags": []
          },
          "execution_count": 227
        },
        {
          "output_type": "display_data",
          "data": {
            "image/png": "[encoded data removed]",
            "text/plain": [
              "<Figure size 720x504 with 1 Axes>"
            ]
          },
          "metadata": {
            "tags": [],
            "needs_background": "light"
          }
        }
      ]
    }
  ]
}