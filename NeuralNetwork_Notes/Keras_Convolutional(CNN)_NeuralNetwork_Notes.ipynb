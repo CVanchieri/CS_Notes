{
  "nbformat": 4,
  "nbformat_minor": 0,
  "metadata": {
    "colab": {
      "name": "Keras_Convolutional(CNN)_NeuralNetwork_Notes.ipynb",
      "provenance": [],
      "collapsed_sections": []
    },
    "kernelspec": {
      "name": "python3",
      "display_name": "Python 3"
    }
  },
  "cells": [
    {
      "cell_type": "markdown",
      "metadata": {
        "id": "Dlg4Ic0Lin0W"
      },
      "source": [
        "# Convolutional Neural Network \n"
      ]
    },
    {
      "cell_type": "markdown",
      "metadata": {
        "id": "PPIDqyGCB7--"
      },
      "source": [
        ""
      ]
    },
    {
      "cell_type": "markdown",
      "metadata": {
        "id": "ImRqYPEtB8PZ"
      },
      "source": [
        ""
      ]
    },
    {
      "cell_type": "markdown",
      "metadata": {
        "id": "L-0xw8MpB8dC"
      },
      "source": [
        ""
      ]
    },
    {
      "cell_type": "markdown",
      "metadata": {
        "id": "ZvhSSEufB8mg"
      },
      "source": [
        ""
      ]
    },
    {
      "cell_type": "code",
      "metadata": {
        "id": "OV1hbCNeIqge"
      },
      "source": [
        "import tensorflow as tf \n",
        "from tensorflow.keras import datasets, layers, models \n",
        "import matplotlib.pyplot as plt \n",
        "import numpy as np "
      ],
      "execution_count": 81,
      "outputs": []
    },
    {
      "cell_type": "code",
      "metadata": {
        "colab": {
          "base_uri": "https://localhost:8080/"
        },
        "id": "ztVHPzzFjUKV",
        "outputId": "4785fadb-6a6a-4e69-fc16-ccb02b7adc6a"
      },
      "source": [
        "# https://www.cs.toronto.edu/~kriz/cifar.html\n",
        "(X_train, y_train), (X_test, y_test) = datasets.cifar10.load_data()\n",
        "print('X_train shape:', X_train.shape)\n",
        "print('y_train shape:', y_train.shape)\n",
        "print('X_test shape:', X_test.shape)\n",
        "print('y_test shape:', y_test.shape)"
      ],
      "execution_count": 124,
      "outputs": [
        {
          "output_type": "stream",
          "text": [
            "X_train shape: (50000, 32, 32, 3)\n",
            "y_train shape: (50000, 1)\n",
            "X_test shape: (10000, 32, 32, 3)\n",
            "y_test shape: (10000, 1)\n"
          ],
          "name": "stdout"
        }
      ]
    },
    {
      "cell_type": "code",
      "metadata": {
        "colab": {
          "base_uri": "https://localhost:8080/"
        },
        "id": "TuuSC7V7ja9Z",
        "outputId": "72378f7f-edb7-4b14-e66b-179d45ebb433"
      },
      "source": [
        "# check a sample array\n",
        "X_train[0]"
      ],
      "execution_count": 83,
      "outputs": [
        {
          "output_type": "execute_result",
          "data": {
            "text/plain": [
              "array([[[ 59,  62,  63],\n",
              "        [ 43,  46,  45],\n",
              "        [ 50,  48,  43],\n",
              "        ...,\n",
              "        [158, 132, 108],\n",
              "        [152, 125, 102],\n",
              "        [148, 124, 103]],\n",
              "\n",
              "       [[ 16,  20,  20],\n",
              "        [  0,   0,   0],\n",
              "        [ 18,   8,   0],\n",
              "        ...,\n",
              "        [123,  88,  55],\n",
              "        [119,  83,  50],\n",
              "        [122,  87,  57]],\n",
              "\n",
              "       [[ 25,  24,  21],\n",
              "        [ 16,   7,   0],\n",
              "        [ 49,  27,   8],\n",
              "        ...,\n",
              "        [118,  84,  50],\n",
              "        [120,  84,  50],\n",
              "        [109,  73,  42]],\n",
              "\n",
              "       ...,\n",
              "\n",
              "       [[208, 170,  96],\n",
              "        [201, 153,  34],\n",
              "        [198, 161,  26],\n",
              "        ...,\n",
              "        [160, 133,  70],\n",
              "        [ 56,  31,   7],\n",
              "        [ 53,  34,  20]],\n",
              "\n",
              "       [[180, 139,  96],\n",
              "        [173, 123,  42],\n",
              "        [186, 144,  30],\n",
              "        ...,\n",
              "        [184, 148,  94],\n",
              "        [ 97,  62,  34],\n",
              "        [ 83,  53,  34]],\n",
              "\n",
              "       [[177, 144, 116],\n",
              "        [168, 129,  94],\n",
              "        [179, 142,  87],\n",
              "        ...,\n",
              "        [216, 184, 140],\n",
              "        [151, 118,  84],\n",
              "        [123,  92,  72]]], dtype=uint8)"
            ]
          },
          "metadata": {
            "tags": []
          },
          "execution_count": 83
        }
      ]
    },
    {
      "cell_type": "code",
      "metadata": {
        "colab": {
          "base_uri": "https://localhost:8080/",
          "height": 159
        },
        "id": "64DCVslhj_j8",
        "outputId": "9472ff59-6b36-4abc-d43e-229d96385991"
      },
      "source": [
        "### check a sample image ###\n",
        "plt.figure(figsize = (15,2))\n",
        "plt.imshow(X_train[0])\n",
        "plt.show()"
      ],
      "execution_count": 88,
      "outputs": [
        {
          "output_type": "display_data",
          "data": {
            "image/png": "[encoded data removed]",
            "text/plain": [
              "<Figure size 1080x144 with 1 Axes>"
            ]
          },
          "metadata": {
            "tags": [],
            "needs_background": "light"
          }
        }
      ]
    },
    {
      "cell_type": "code",
      "metadata": {
        "colab": {
          "base_uri": "https://localhost:8080/"
        },
        "id": "VPcmqXu9JUFB",
        "outputId": "2446f84e-bc47-4db3-b98d-65f907a986fc"
      },
      "source": [
        "### reshape the y_train data ### \n",
        "print('--- y_train ---')\n",
        "print(y_train[:5])\n",
        "print('--- y_train reshaped ---')\n",
        "y_train = y_train.reshape(-1,)\n",
        "y_train[:5]"
      ],
      "execution_count": 125,
      "outputs": [
        {
          "output_type": "stream",
          "text": [
            "--- y_train ---\n",
            "[[6]\n",
            " [9]\n",
            " [9]\n",
            " [4]\n",
            " [1]]\n",
            "--- y_train reshaped ---\n"
          ],
          "name": "stdout"
        },
        {
          "output_type": "execute_result",
          "data": {
            "text/plain": [
              "array([6, 9, 9, 4, 1], dtype=uint8)"
            ]
          },
          "metadata": {
            "tags": []
          },
          "execution_count": 125
        }
      ]
    },
    {
      "cell_type": "code",
      "metadata": {
        "colab": {
          "base_uri": "https://localhost:8080/"
        },
        "id": "c5nNd1VMlo2J",
        "outputId": "9b957b6e-624c-4656-ae75-902a5585cf02"
      },
      "source": [
        "### set the classes for the categories ###\n",
        "classes = ['airplane', 'automobile', 'bird', 'cat', 'deer', 'dog', 'frog', 'horse', 'ship', 'truck']\n",
        "print('class test #9:', classes[9])"
      ],
      "execution_count": 126,
      "outputs": [
        {
          "output_type": "stream",
          "text": [
            "class test #9: truck\n"
          ],
          "name": "stdout"
        }
      ]
    },
    {
      "cell_type": "code",
      "metadata": {
        "id": "kbNokIquj7IX"
      },
      "source": [
        "### a function to show the sample image ###\n",
        "def plot_sample(X, y, index):\n",
        "  plt.figure(figsize = (15,2))\n",
        "  plt.imshow(X[index])\n",
        "  plt.xlabel(classes[y[index]])"
      ],
      "execution_count": 127,
      "outputs": []
    },
    {
      "cell_type": "code",
      "metadata": {
        "colab": {
          "base_uri": "https://localhost:8080/",
          "height": 190
        },
        "id": "ovDP3ZKdl9Aa",
        "outputId": "dd82a501-ffbd-4efa-f39d-41ee9117309b"
      },
      "source": [
        "print('--- sample image ---')\n",
        "plot_sample(X_train, y_train, 3)"
      ],
      "execution_count": 96,
      "outputs": [
        {
          "output_type": "stream",
          "text": [
            "--- sample image ---\n"
          ],
          "name": "stdout"
        },
        {
          "output_type": "display_data",
          "data": {
            "image/png": "[encoded data removed]",
            "text/plain": [
              "<Figure size 1080x144 with 1 Axes>"
            ]
          },
          "metadata": {
            "tags": [],
            "needs_background": "light"
          }
        }
      ]
    },
    {
      "cell_type": "code",
      "metadata": {
        "colab": {
          "base_uri": "https://localhost:8080/"
        },
        "id": "2bkO5WC9kT1O",
        "outputId": "0c227d6c-ab5e-4020-8efd-e385f9dd5c37"
      },
      "source": [
        "### normalize all the data ### \n",
        "print('X_train shape:', X_train[0])\n",
        "X_train = X_train/255\n",
        "print('X_train normalized shape:', X_train[0])\n",
        "print('X_test shape:', X_test[0])\n",
        "X_test = X_test/255\n",
        "print('X_test normalized shape:', X_test[0])"
      ],
      "execution_count": 129,
      "outputs": [
        {
          "output_type": "stream",
          "text": [
            "X_train shape: [[[ 59  62  63]\n",
            "  [ 43  46  45]\n",
            "  [ 50  48  43]\n",
            "  ...\n",
            "  [158 132 108]\n",
            "  [152 125 102]\n",
            "  [148 124 103]]\n",
            "\n",
            " [[ 16  20  20]\n",
            "  [  0   0   0]\n",
            "  [ 18   8   0]\n",
            "  ...\n",
            "  [123  88  55]\n",
            "  [119  83  50]\n",
            "  [122  87  57]]\n",
            "\n",
            " [[ 25  24  21]\n",
            "  [ 16   7   0]\n",
            "  [ 49  27   8]\n",
            "  ...\n",
            "  [118  84  50]\n",
            "  [120  84  50]\n",
            "  [109  73  42]]\n",
            "\n",
            " ...\n",
            "\n",
            " [[208 170  96]\n",
            "  [201 153  34]\n",
            "  [198 161  26]\n",
            "  ...\n",
            "  [160 133  70]\n",
            "  [ 56  31   7]\n",
            "  [ 53  34  20]]\n",
            "\n",
            " [[180 139  96]\n",
            "  [173 123  42]\n",
            "  [186 144  30]\n",
            "  ...\n",
            "  [184 148  94]\n",
            "  [ 97  62  34]\n",
            "  [ 83  53  34]]\n",
            "\n",
            " [[177 144 116]\n",
            "  [168 129  94]\n",
            "  [179 142  87]\n",
            "  ...\n",
            "  [216 184 140]\n",
            "  [151 118  84]\n",
            "  [123  92  72]]]\n",
            "X_train normalized shape: [[[0.23137255 0.24313725 0.24705882]\n",
            "  [0.16862745 0.18039216 0.17647059]\n",
            "  [0.19607843 0.18823529 0.16862745]\n",
            "  ...\n",
            "  [0.61960784 0.51764706 0.42352941]\n",
            "  [0.59607843 0.49019608 0.4       ]\n",
            "  [0.58039216 0.48627451 0.40392157]]\n",
            "\n",
            " [[0.0627451  0.07843137 0.07843137]\n",
            "  [0.         0.         0.        ]\n",
            "  [0.07058824 0.03137255 0.        ]\n",
            "  ...\n",
            "  [0.48235294 0.34509804 0.21568627]\n",
            "  [0.46666667 0.3254902  0.19607843]\n",
            "  [0.47843137 0.34117647 0.22352941]]\n",
            "\n",
            " [[0.09803922 0.09411765 0.08235294]\n",
            "  [0.0627451  0.02745098 0.        ]\n",
            "  [0.19215686 0.10588235 0.03137255]\n",
            "  ...\n",
            "  [0.4627451  0.32941176 0.19607843]\n",
            "  [0.47058824 0.32941176 0.19607843]\n",
            "  [0.42745098 0.28627451 0.16470588]]\n",
            "\n",
            " ...\n",
            "\n",
            " [[0.81568627 0.66666667 0.37647059]\n",
            "  [0.78823529 0.6        0.13333333]\n",
            "  [0.77647059 0.63137255 0.10196078]\n",
            "  ...\n",
            "  [0.62745098 0.52156863 0.2745098 ]\n",
            "  [0.21960784 0.12156863 0.02745098]\n",
            "  [0.20784314 0.13333333 0.07843137]]\n",
            "\n",
            " [[0.70588235 0.54509804 0.37647059]\n",
            "  [0.67843137 0.48235294 0.16470588]\n",
            "  [0.72941176 0.56470588 0.11764706]\n",
            "  ...\n",
            "  [0.72156863 0.58039216 0.36862745]\n",
            "  [0.38039216 0.24313725 0.13333333]\n",
            "  [0.3254902  0.20784314 0.13333333]]\n",
            "\n",
            " [[0.69411765 0.56470588 0.45490196]\n",
            "  [0.65882353 0.50588235 0.36862745]\n",
            "  [0.70196078 0.55686275 0.34117647]\n",
            "  ...\n",
            "  [0.84705882 0.72156863 0.54901961]\n",
            "  [0.59215686 0.4627451  0.32941176]\n",
            "  [0.48235294 0.36078431 0.28235294]]]\n",
            "X_test shape: [[[158 112  49]\n",
            "  [159 111  47]\n",
            "  [165 116  51]\n",
            "  ...\n",
            "  [137  95  36]\n",
            "  [126  91  36]\n",
            "  [116  85  33]]\n",
            "\n",
            " [[152 112  51]\n",
            "  [151 110  40]\n",
            "  [159 114  45]\n",
            "  ...\n",
            "  [136  95  31]\n",
            "  [125  91  32]\n",
            "  [119  88  34]]\n",
            "\n",
            " [[151 110  47]\n",
            "  [151 109  33]\n",
            "  [158 111  36]\n",
            "  ...\n",
            "  [139  98  34]\n",
            "  [130  95  34]\n",
            "  [120  89  33]]\n",
            "\n",
            " ...\n",
            "\n",
            " [[ 68 124 177]\n",
            "  [ 42 100 148]\n",
            "  [ 31  88 137]\n",
            "  ...\n",
            "  [ 38  97 146]\n",
            "  [ 13  64 108]\n",
            "  [ 40  85 127]]\n",
            "\n",
            " [[ 61 116 168]\n",
            "  [ 49 102 148]\n",
            "  [ 35  85 132]\n",
            "  ...\n",
            "  [ 26  82 130]\n",
            "  [ 29  82 126]\n",
            "  [ 20  64 107]]\n",
            "\n",
            " [[ 54 107 160]\n",
            "  [ 56 105 149]\n",
            "  [ 45  89 132]\n",
            "  ...\n",
            "  [ 24  77 124]\n",
            "  [ 34  84 129]\n",
            "  [ 21  67 110]]]\n",
            "X_test normalized shape: [[[0.61960784 0.43921569 0.19215686]\n",
            "  [0.62352941 0.43529412 0.18431373]\n",
            "  [0.64705882 0.45490196 0.2       ]\n",
            "  ...\n",
            "  [0.5372549  0.37254902 0.14117647]\n",
            "  [0.49411765 0.35686275 0.14117647]\n",
            "  [0.45490196 0.33333333 0.12941176]]\n",
            "\n",
            " [[0.59607843 0.43921569 0.2       ]\n",
            "  [0.59215686 0.43137255 0.15686275]\n",
            "  [0.62352941 0.44705882 0.17647059]\n",
            "  ...\n",
            "  [0.53333333 0.37254902 0.12156863]\n",
            "  [0.49019608 0.35686275 0.1254902 ]\n",
            "  [0.46666667 0.34509804 0.13333333]]\n",
            "\n",
            " [[0.59215686 0.43137255 0.18431373]\n",
            "  [0.59215686 0.42745098 0.12941176]\n",
            "  [0.61960784 0.43529412 0.14117647]\n",
            "  ...\n",
            "  [0.54509804 0.38431373 0.13333333]\n",
            "  [0.50980392 0.37254902 0.13333333]\n",
            "  [0.47058824 0.34901961 0.12941176]]\n",
            "\n",
            " ...\n",
            "\n",
            " [[0.26666667 0.48627451 0.69411765]\n",
            "  [0.16470588 0.39215686 0.58039216]\n",
            "  [0.12156863 0.34509804 0.5372549 ]\n",
            "  ...\n",
            "  [0.14901961 0.38039216 0.57254902]\n",
            "  [0.05098039 0.25098039 0.42352941]\n",
            "  [0.15686275 0.33333333 0.49803922]]\n",
            "\n",
            " [[0.23921569 0.45490196 0.65882353]\n",
            "  [0.19215686 0.4        0.58039216]\n",
            "  [0.1372549  0.33333333 0.51764706]\n",
            "  ...\n",
            "  [0.10196078 0.32156863 0.50980392]\n",
            "  [0.11372549 0.32156863 0.49411765]\n",
            "  [0.07843137 0.25098039 0.41960784]]\n",
            "\n",
            " [[0.21176471 0.41960784 0.62745098]\n",
            "  [0.21960784 0.41176471 0.58431373]\n",
            "  [0.17647059 0.34901961 0.51764706]\n",
            "  ...\n",
            "  [0.09411765 0.30196078 0.48627451]\n",
            "  [0.13333333 0.32941176 0.50588235]\n",
            "  [0.08235294 0.2627451  0.43137255]]]\n"
          ],
          "name": "stdout"
        }
      ]
    },
    {
      "cell_type": "markdown",
      "metadata": {
        "id": "o8-LsGIX0A87"
      },
      "source": [
        "### Basic Artifical Neural Network"
      ]
    },
    {
      "cell_type": "code",
      "metadata": {
        "colab": {
          "base_uri": "https://localhost:8080/"
        },
        "id": "KwxTtlZtmLB3",
        "outputId": "73a8922d-6779-4f2d-db90-352988e5fb9c"
      },
      "source": [
        "from tensorflow import keras \n",
        "from tensorflow.keras import datasets, layers, models \n",
        "### artificial neural network ### \n",
        "ann_model = keras.Sequential([\n",
        "                           keras.layers.Flatten(input_shape=(32,32,3)), # input layer, flatten, set shape \n",
        "                           keras.layers.Dense(3000, activation='relu'), # deep layers, neurons, aqctivation \n",
        "                           keras.layers.Dense(1000, activation='relu'), # deep layers, neurons, aqctivation \n",
        "                           keras.layers.Dense(10, activation='sigmoid') # output layer, 10 neurons for 10 categories in the data, activation \n",
        "                          ])\n",
        "ann_model.compile(\n",
        "              optimizer='SGD', # Stochastic Gradient Descent\n",
        "              loss='sparse_categorical_crossentropy', # directly using the value, was not encoded\n",
        "              metrics=['accuracy'] # measure with accuracy \n",
        "              )\n",
        "### show summary ### \n",
        "ann_model.summary()"
      ],
      "execution_count": 130,
      "outputs": [
        {
          "output_type": "stream",
          "text": [
            "Model: \"sequential_6\"\n",
            "_________________________________________________________________\n",
            "Layer (type)                 Output Shape              Param #   \n",
            "=================================================================\n",
            "flatten_6 (Flatten)          (None, 3072)              0         \n",
            "_________________________________________________________________\n",
            "dense_16 (Dense)             (None, 3000)              9219000   \n",
            "_________________________________________________________________\n",
            "dense_17 (Dense)             (None, 1000)              3001000   \n",
            "_________________________________________________________________\n",
            "dense_18 (Dense)             (None, 10)                10010     \n",
            "=================================================================\n",
            "Total params: 12,230,010\n",
            "Trainable params: 12,230,010\n",
            "Non-trainable params: 0\n",
            "_________________________________________________________________\n"
          ],
          "name": "stdout"
        }
      ]
    },
    {
      "cell_type": "code",
      "metadata": {
        "colab": {
          "base_uri": "https://localhost:8080/"
        },
        "id": "SY2U4FMQ8iIQ",
        "outputId": "254b3f3c-6ed8-49ec-ed63-af77314693c0"
      },
      "source": [
        "from sklearn import metrics\n",
        "### fit the model, get metrics ###  \n",
        "print('--- model runtime ---')\n",
        "%time history = ann_model.fit(X_train, y_train, epochs=5) # fit the model on the data \n",
        "### make the prediction on the data ###\n",
        "y_pred = ann_model.predict(X_test)\n",
        "y_classes = [np.argmax(element) for element in y_pred] # find the largest value in each element in the prediction\n",
        "print('--- model metrics ---')\n",
        "scores = ann_model.evaluate(X_test, y_test) # get the model score from evaluation\n",
        "print(f'model evaluation score: {scores[1]*100}') # show the models accuracy score \n",
        "print('model accuracy score:', metrics.accuracy_score(y_test, y_classes)) # model accuracy\n",
        "print('--- classification report ---') \n",
        "print(metrics.classification_report(y_test,y_classes)) # classificatin report"
      ],
      "execution_count": 131,
      "outputs": [
        {
          "output_type": "stream",
          "text": [
            "--- model runtime ---\n",
            "Epoch 1/5\n",
            "1563/1563 [==============================] - 90s 57ms/step - loss: 1.9301 - accuracy: 0.3048\n",
            "Epoch 2/5\n",
            "1563/1563 [==============================] - 91s 58ms/step - loss: 1.6472 - accuracy: 0.4204\n",
            "Epoch 3/5\n",
            "1563/1563 [==============================] - 90s 58ms/step - loss: 1.5485 - accuracy: 0.4518\n",
            "Epoch 4/5\n",
            "1563/1563 [==============================] - 93s 59ms/step - loss: 1.4901 - accuracy: 0.4772\n",
            "Epoch 5/5\n",
            "1563/1563 [==============================] - 92s 59ms/step - loss: 1.4450 - accuracy: 0.4934\n",
            "CPU times: user 12min 56s, sys: 17 s, total: 13min 13s\n",
            "Wall time: 7min 35s\n",
            "--- model metrics ---\n",
            "313/313 [==============================] - 6s 19ms/step - loss: 1.4834 - accuracy: 0.4710\n",
            "model evaluation score: 47.09999859333038\n",
            "model accuracy score: 0.471\n",
            "--- classification report ---\n",
            "              precision    recall  f1-score   support\n",
            "\n",
            "           0       0.56      0.56      0.56      1000\n",
            "           1       0.52      0.74      0.61      1000\n",
            "           2       0.38      0.32      0.35      1000\n",
            "           3       0.33      0.31      0.32      1000\n",
            "           4       0.65      0.15      0.25      1000\n",
            "           5       0.28      0.58      0.38      1000\n",
            "           6       0.52      0.52      0.52      1000\n",
            "           7       0.53      0.56      0.54      1000\n",
            "           8       0.67      0.54      0.60      1000\n",
            "           9       0.65      0.42      0.51      1000\n",
            "\n",
            "    accuracy                           0.47     10000\n",
            "   macro avg       0.51      0.47      0.46     10000\n",
            "weighted avg       0.51      0.47      0.46     10000\n",
            "\n"
          ],
          "name": "stdout"
        }
      ]
    },
    {
      "cell_type": "code",
      "metadata": {
        "colab": {
          "base_uri": "https://localhost:8080/",
          "height": 445
        },
        "id": "f-vY5zmSqnk2",
        "outputId": "0c16a33e-6cbd-4cec-c337-a3778c258d0b"
      },
      "source": [
        "import matplotlib.pyplot as plt\n",
        "### plot the model loss ###\n",
        "### configure the plot ###\n",
        "print('--- model loss-MAE --- ')\n",
        "f, ax = plt.subplots(1, 1, figsize = (10, 7))\n",
        "ax1 = plt.plot(history.history['loss'], color=\"r\", label=\"loss-MSE\")\n",
        "plt.ylabel('Loss')\n",
        "plt.legend()\n",
        "plt.show()"
      ],
      "execution_count": 132,
      "outputs": [
        {
          "output_type": "stream",
          "text": [
            "--- model loss-MAE --- \n"
          ],
          "name": "stdout"
        },
        {
          "output_type": "display_data",
          "data": {
            "image/png": "[encoded data removed]",
            "text/plain": [
              "<Figure size 720x504 with 1 Axes>"
            ]
          },
          "metadata": {
            "tags": [],
            "needs_background": "light"
          }
        }
      ]
    },
    {
      "cell_type": "markdown",
      "metadata": {
        "id": "7FA_Fnlm3vKp"
      },
      "source": [
        "### Convolutional Neural Network"
      ]
    },
    {
      "cell_type": "code",
      "metadata": {
        "colab": {
          "base_uri": "https://localhost:8080/"
        },
        "id": "8DM2trxA2JNB",
        "outputId": "d6d4d134-8583-4d0f-f511-53ffa9fb4b23"
      },
      "source": [
        "from tensorflow import keras \n",
        "### convolutional neural network ### \n",
        "cnn_model = keras.Sequential([\n",
        "                          keras.layers.Conv2D(filters= 32, kernel_size=(3,3), activation = 'relu', input_shape=(32,32,3)), # conv layer \n",
        "                          keras.layers.MaxPooling2D((2,2)), # pool layer \n",
        "                          keras.layers.Conv2D(filters= 64, kernel_size=(3,3), activation = 'relu'), \n",
        "                          keras.layers.MaxPooling2D((2,2)), \n",
        "\n",
        "                           # dense  \n",
        "                           keras.layers.Flatten(), # input 'dense' layer, flatten\n",
        "                           keras.layers.Dense(64, activation='relu'), # deep layers, neurons, aqctivation\n",
        "                           keras.layers.Dense(10, activation='softmax') # output layer, 10 neurons for 10 categories in the data, activation, softmax normalize probability to 1\n",
        "                              ])\n",
        "cnn_model.compile(\n",
        "              optimizer='adam', # popular, gives good accuracy\n",
        "              loss='sparse_categorical_crossentropy', # directly using the value, was not encoded\n",
        "              metrics=['accuracy'] # measure with accuracy \n",
        "              )\n",
        "### show summary ### \n",
        "cnn_model.summary()"
      ],
      "execution_count": 133,
      "outputs": [
        {
          "output_type": "stream",
          "text": [
            "Model: \"sequential_7\"\n",
            "_________________________________________________________________\n",
            "Layer (type)                 Output Shape              Param #   \n",
            "=================================================================\n",
            "conv2d_5 (Conv2D)            (None, 30, 30, 32)        896       \n",
            "_________________________________________________________________\n",
            "max_pooling2d_5 (MaxPooling2 (None, 15, 15, 32)        0         \n",
            "_________________________________________________________________\n",
            "conv2d_6 (Conv2D)            (None, 13, 13, 64)        18496     \n",
            "_________________________________________________________________\n",
            "max_pooling2d_6 (MaxPooling2 (None, 6, 6, 64)          0         \n",
            "_________________________________________________________________\n",
            "flatten_7 (Flatten)          (None, 2304)              0         \n",
            "_________________________________________________________________\n",
            "dense_19 (Dense)             (None, 64)                147520    \n",
            "_________________________________________________________________\n",
            "dense_20 (Dense)             (None, 10)                650       \n",
            "=================================================================\n",
            "Total params: 167,562\n",
            "Trainable params: 167,562\n",
            "Non-trainable params: 0\n",
            "_________________________________________________________________\n"
          ],
          "name": "stdout"
        }
      ]
    },
    {
      "cell_type": "code",
      "metadata": {
        "colab": {
          "base_uri": "https://localhost:8080/"
        },
        "id": "oJ2ViPfT5pjf",
        "outputId": "e3754876-43aa-4696-d6e6-5e04f7e86ac5"
      },
      "source": [
        "from sklearn import metrics \n",
        "### fit the model, get metrics ###  \n",
        "print('--- model runtime ---')\n",
        "%time history = cnn_model.fit(X_train, y_train, epochs=5) # fit the model on the data \n",
        "### make the prediction on the data ###\n",
        "y_pred = cnn_model.predict(X_test)\n",
        "y_classes = [np.argmax(element) for element in y_pred] # find the largest value in each element in the prediction\n",
        "print('--- model metrics ---')\n",
        "scores = cnn_model.evaluate(X_test, y_test) # get the model score from evaluation\n",
        "print(f'model evaluation score: {scores[1]*100}') # show the models accuracy score \n",
        "print('model accuracy score:', metrics.accuracy_score(y_test, y_classes)) # model accuracy\n",
        "print('--- classification report ---') \n",
        "print(metrics.classification_report(y_test,y_classes)) # classificatin report"
      ],
      "execution_count": 134,
      "outputs": [
        {
          "output_type": "stream",
          "text": [
            "--- model runtime ---\n",
            "Epoch 1/5\n",
            "1563/1563 [==============================] - 54s 34ms/step - loss: 1.7223 - accuracy: 0.3716\n",
            "Epoch 2/5\n",
            "1563/1563 [==============================] - 52s 33ms/step - loss: 1.1757 - accuracy: 0.5830\n",
            "Epoch 3/5\n",
            "1563/1563 [==============================] - 53s 34ms/step - loss: 1.0245 - accuracy: 0.6393\n",
            "Epoch 4/5\n",
            "1563/1563 [==============================] - 52s 33ms/step - loss: 0.9459 - accuracy: 0.6671\n",
            "Epoch 5/5\n",
            "1563/1563 [==============================] - 52s 33ms/step - loss: 0.8816 - accuracy: 0.6902\n",
            "CPU times: user 7min 22s, sys: 20.3 s, total: 7min 42s\n",
            "Wall time: 4min 23s\n",
            "--- model metrics ---\n",
            "313/313 [==============================] - 3s 10ms/step - loss: 0.9833 - accuracy: 0.6550\n",
            "model evaluation score: 65.49999713897705\n",
            "model accuracy score: 0.655\n",
            "--- classification report ---\n",
            "              precision    recall  f1-score   support\n",
            "\n",
            "           0       0.75      0.68      0.71      1000\n",
            "           1       0.87      0.69      0.77      1000\n",
            "           2       0.72      0.43      0.53      1000\n",
            "           3       0.38      0.68      0.49      1000\n",
            "           4       0.67      0.50      0.57      1000\n",
            "           5       0.63      0.43      0.51      1000\n",
            "           6       0.74      0.75      0.74      1000\n",
            "           7       0.67      0.76      0.71      1000\n",
            "           8       0.66      0.86      0.75      1000\n",
            "           9       0.73      0.78      0.75      1000\n",
            "\n",
            "    accuracy                           0.66     10000\n",
            "   macro avg       0.68      0.66      0.66     10000\n",
            "weighted avg       0.68      0.66      0.66     10000\n",
            "\n"
          ],
          "name": "stdout"
        }
      ]
    },
    {
      "cell_type": "code",
      "metadata": {
        "colab": {
          "base_uri": "https://localhost:8080/",
          "height": 445
        },
        "id": "eQlLSRvB8QM1",
        "outputId": "5ca32b8a-44d6-4d96-d55b-ac9ad72754cc"
      },
      "source": [
        "import matplotlib.pyplot as plt\n",
        "### plot the model loss ###\n",
        "### configure the plot ###\n",
        "print('--- model loss-MAE --- ')\n",
        "f, ax = plt.subplots(1, 1, figsize = (10, 7))\n",
        "ax1 = plt.plot(history.history['loss'], color=\"r\", label=\"loss-MSE\")\n",
        "plt.ylabel('Loss')\n",
        "plt.legend()\n",
        "plt.show()"
      ],
      "execution_count": 135,
      "outputs": [
        {
          "output_type": "stream",
          "text": [
            "--- model loss-MAE --- \n"
          ],
          "name": "stdout"
        },
        {
          "output_type": "display_data",
          "data": {
            "image/png": "[encoded data removed]",
            "text/plain": [
              "<Figure size 720x504 with 1 Axes>"
            ]
          },
          "metadata": {
            "tags": [],
            "needs_background": "light"
          }
        }
      ]
    },
    {
      "cell_type": "markdown",
      "metadata": {
        "id": "qnRKNW5oIcLW"
      },
      "source": [
        "### Show the predictions "
      ]
    },
    {
      "cell_type": "code",
      "metadata": {
        "colab": {
          "base_uri": "https://localhost:8080/"
        },
        "id": "y8scKhpA-OhW",
        "outputId": "b44dd619-0ea4-42cf-9d92-74d8a0a836c6"
      },
      "source": [
        "### reshape the y_test data ### \n",
        "print('--- y_test ---')\n",
        "print(y_test[:5])\n",
        "print('--- y_test reshaped ---')\n",
        "y_test = y_test.reshape(-1,)\n",
        "y_test[:5]"
      ],
      "execution_count": 136,
      "outputs": [
        {
          "output_type": "stream",
          "text": [
            "--- y_test ---\n",
            "[[3]\n",
            " [8]\n",
            " [8]\n",
            " [0]\n",
            " [6]]\n",
            "--- y_test reshaped ---\n"
          ],
          "name": "stdout"
        },
        {
          "output_type": "execute_result",
          "data": {
            "text/plain": [
              "array([3, 8, 8, 0, 6], dtype=uint8)"
            ]
          },
          "metadata": {
            "tags": []
          },
          "execution_count": 136
        }
      ]
    },
    {
      "cell_type": "code",
      "metadata": {
        "id": "BioFbXTX-fs_"
      },
      "source": [
        "y_pred = cnn_model.predict(X_test)"
      ],
      "execution_count": 122,
      "outputs": []
    },
    {
      "cell_type": "code",
      "metadata": {
        "colab": {
          "base_uri": "https://localhost:8080/",
          "height": 207
        },
        "id": "o684bJ19BYU_",
        "outputId": "f4efbc64-cb3b-4b3a-d664-5fc8090e8786"
      },
      "source": [
        "### make the prediction on the data ###\n",
        "y_pred = cnn_model.predict(X_test)\n",
        "### find the largest value in each element in the prediction ### \n",
        "y_classes = [np.argmax(element) for element in y_pred]\n",
        "### show a sample vs the prediction ### \n",
        "print('prediction:', classes[y_classes[5]])\n",
        "print('--- show sample image ---')\n",
        "plot_sample(X_test, y_test, 5)"
      ],
      "execution_count": 138,
      "outputs": [
        {
          "output_type": "stream",
          "text": [
            "prediction: frog\n",
            "--- show sample image ---\n"
          ],
          "name": "stdout"
        },
        {
          "output_type": "display_data",
          "data": {
            "image/png": "[encoded data removed]",
            "text/plain": [
              "<Figure size 1080x144 with 1 Axes>"
            ]
          },
          "metadata": {
            "tags": [],
            "needs_background": "light"
          }
        }
      ]
    }
  ]
}