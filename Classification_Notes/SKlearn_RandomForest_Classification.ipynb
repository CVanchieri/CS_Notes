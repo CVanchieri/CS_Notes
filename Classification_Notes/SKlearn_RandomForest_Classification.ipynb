{
  "nbformat": 4,
  "nbformat_minor": 0,
  "metadata": {
    "colab": {
      "name": "SKlearn_RandomForest_Classification.ipynb",
      "provenance": [],
      "collapsed_sections": [
        "lDphJ8RoFzqA"
      ]
    },
    "kernelspec": {
      "name": "python3",
      "display_name": "Python 3"
    }
  },
  "cells": [
    {
      "cell_type": "markdown",
      "metadata": {
        "id": "CFM5sl2ef0Cg"
      },
      "source": [
        "## Random Forest Classification\n"
      ]
    },
    {
      "cell_type": "markdown",
      "metadata": {
        "id": "pHYXNoDvORIF"
      },
      "source": [
        "### Random Forest\n",
        "#### The fundamental idea behind a random forest is to combine many decision trees into a single model. Individually, predictions made by decision trees (or humans) may not be accurate, but combined together, the predictions will be closer to the mark on average. \n",
        "\n",
        "#### Pros \n",
        "- can handle large datasets \n",
        "- can handle missing values\n",
        "- less influenced by outliers in the data\n",
        "- no assumptions about underlying distributions in the data\n",
        "- can implicitly handle collinearity in features, highly similar features \n",
        "- work well with categorical and numerical features, mixing different range values \n",
        "\n",
        "#### Cons\n",
        "- robust algorithm makes it more complex tougher to analyze small details \n",
        "- not best to determine feature and target relationships/effects due to working with highly similar features"
      ]
    },
    {
      "cell_type": "markdown",
      "metadata": {
        "id": "OhRHMqRaQfiG"
      },
      "source": [
        "### Model Set Up\n",
        "\n",
        "#### Steps\n",
        " - load the data\n",
        " - determine regression or classification target\n",
        " - inspect, clean, organize data\n",
        " - check for, handle outliers \n",
        " - encode data if necessary \n",
        " - set features and target \n",
        " - train, test split the data \n",
        " - scale the data if necessary \n",
        " - build the model, fit on the data, run the model\n",
        " - run metrics, analyze, view results, adjust parameters, repeat until satisfied... \n"
      ]
    },
    {
      "cell_type": "markdown",
      "metadata": {
        "id": "3hmqr8qAMLuE"
      },
      "source": [
        "### Regression Models"
      ]
    },
    {
      "cell_type": "markdown",
      "metadata": {
        "id": "a9Z_XK3rO7H6"
      },
      "source": [
        "#### Random Forest Classification \n",
        "1 dependent variable (binary) , 1+ independent variables (interval or ratio or categorical)\n",
        " - classification predictor\n",
        " - generate reasonable predictions across a wide range of data while requiring little configuration\n",
        "\n"
      ]
    },
    {
      "cell_type": "markdown",
      "metadata": {
        "id": "EaGw20nIVO2A"
      },
      "source": [
        "#### Classification Models\n"
      ]
    },
    {
      "cell_type": "markdown",
      "metadata": {
        "id": "u-19r4wJoR43"
      },
      "source": [
        "##### Import + Inspect"
      ]
    },
    {
      "cell_type": "code",
      "metadata": {
        "id": "0dejnh_BFghq",
        "colab": {
          "base_uri": "https://localhost:8080/",
          "height": 217
        },
        "outputId": "fe3665ef-7f48-4295-db5a-683612bd7cf2"
      },
      "source": [
        "### imports ###\n",
        "import pandas as pd\n",
        "import numpy as np\n",
        "import sklearn\n",
        "df = pd.read_csv('https://raw.githubusercontent.com/CVanchieri/CS_Notes/main/Classification_Notes/bill_authentication.csv') # read in the file \n",
        "print('data frame shape:', df.shape) # show the data frame shape \n",
        "df.head() # show the data frame "
      ],
      "execution_count": null,
      "outputs": [
        {
          "output_type": "stream",
          "text": [
            "data frame shape: (1372, 5)\n"
          ],
          "name": "stdout"
        },
        {
          "output_type": "execute_result",
          "data": {
            "text/html": [
              "<div>\n",
              "<style scoped>\n",
              "    .dataframe tbody tr th:only-of-type {\n",
              "        vertical-align: middle;\n",
              "    }\n",
              "\n",
              "    .dataframe tbody tr th {\n",
              "        vertical-align: top;\n",
              "    }\n",
              "\n",
              "    .dataframe thead th {\n",
              "        text-align: right;\n",
              "    }\n",
              "</style>\n",
              "<table border=\"1\" class=\"dataframe\">\n",
              "  <thead>\n",
              "    <tr style=\"text-align: right;\">\n",
              "      <th></th>\n",
              "      <th>Variance</th>\n",
              "      <th>Skewness</th>\n",
              "      <th>Curtosis</th>\n",
              "      <th>Entropy</th>\n",
              "      <th>Class</th>\n",
              "    </tr>\n",
              "  </thead>\n",
              "  <tbody>\n",
              "    <tr>\n",
              "      <th>0</th>\n",
              "      <td>3.62160</td>\n",
              "      <td>8.6661</td>\n",
              "      <td>-2.8073</td>\n",
              "      <td>-0.44699</td>\n",
              "      <td>0</td>\n",
              "    </tr>\n",
              "    <tr>\n",
              "      <th>1</th>\n",
              "      <td>4.54590</td>\n",
              "      <td>8.1674</td>\n",
              "      <td>-2.4586</td>\n",
              "      <td>-1.46210</td>\n",
              "      <td>0</td>\n",
              "    </tr>\n",
              "    <tr>\n",
              "      <th>2</th>\n",
              "      <td>3.86600</td>\n",
              "      <td>-2.6383</td>\n",
              "      <td>1.9242</td>\n",
              "      <td>0.10645</td>\n",
              "      <td>0</td>\n",
              "    </tr>\n",
              "    <tr>\n",
              "      <th>3</th>\n",
              "      <td>3.45660</td>\n",
              "      <td>9.5228</td>\n",
              "      <td>-4.0112</td>\n",
              "      <td>-3.59440</td>\n",
              "      <td>0</td>\n",
              "    </tr>\n",
              "    <tr>\n",
              "      <th>4</th>\n",
              "      <td>0.32924</td>\n",
              "      <td>-4.4552</td>\n",
              "      <td>4.5718</td>\n",
              "      <td>-0.98880</td>\n",
              "      <td>0</td>\n",
              "    </tr>\n",
              "  </tbody>\n",
              "</table>\n",
              "</div>"
            ],
            "text/plain": [
              "   Variance  Skewness  Curtosis  Entropy  Class\n",
              "0   3.62160    8.6661   -2.8073 -0.44699      0\n",
              "1   4.54590    8.1674   -2.4586 -1.46210      0\n",
              "2   3.86600   -2.6383    1.9242  0.10645      0\n",
              "3   3.45660    9.5228   -4.0112 -3.59440      0\n",
              "4   0.32924   -4.4552    4.5718 -0.98880      0"
            ]
          },
          "metadata": {
            "tags": []
          },
          "execution_count": 5
        }
      ]
    },
    {
      "cell_type": "code",
      "metadata": {
        "id": "spnw3zV5Fgvi",
        "colab": {
          "base_uri": "https://localhost:8080/",
          "height": 588
        },
        "outputId": "58d74424-568d-4fec-8b26-adf03bdfc3a1"
      },
      "source": [
        "### inspecting the data ###\n",
        "print('--- INSPECTING THE DATA --- ')\n",
        "print('--- columns --- ')\n",
        "print(df.columns) \n",
        "print('--- types --- ')\n",
        "print(df.dtypes) \n",
        "print('--- NA counts --- ')\n",
        "print(df.isna().sum()) \n",
        "# print('--- object descriptions --- ')\n",
        "# print(df.describe(include=object))\n",
        "print('--- numericals descriptions --- ')\n",
        "df.describe()"
      ],
      "execution_count": null,
      "outputs": [
        {
          "output_type": "stream",
          "text": [
            "--- INSPECTING THE DATA --- \n",
            "--- columns --- \n",
            "Index(['Variance', 'Skewness', 'Curtosis', 'Entropy', 'Class'], dtype='object')\n",
            "--- types --- \n",
            "Variance    float64\n",
            "Skewness    float64\n",
            "Curtosis    float64\n",
            "Entropy     float64\n",
            "Class         int64\n",
            "dtype: object\n",
            "--- NA counts --- \n",
            "Variance    0\n",
            "Skewness    0\n",
            "Curtosis    0\n",
            "Entropy     0\n",
            "Class       0\n",
            "dtype: int64\n",
            "--- numericals descriptions --- \n"
          ],
          "name": "stdout"
        },
        {
          "output_type": "execute_result",
          "data": {
            "text/html": [
              "<div>\n",
              "<style scoped>\n",
              "    .dataframe tbody tr th:only-of-type {\n",
              "        vertical-align: middle;\n",
              "    }\n",
              "\n",
              "    .dataframe tbody tr th {\n",
              "        vertical-align: top;\n",
              "    }\n",
              "\n",
              "    .dataframe thead th {\n",
              "        text-align: right;\n",
              "    }\n",
              "</style>\n",
              "<table border=\"1\" class=\"dataframe\">\n",
              "  <thead>\n",
              "    <tr style=\"text-align: right;\">\n",
              "      <th></th>\n",
              "      <th>Variance</th>\n",
              "      <th>Skewness</th>\n",
              "      <th>Curtosis</th>\n",
              "      <th>Entropy</th>\n",
              "      <th>Class</th>\n",
              "    </tr>\n",
              "  </thead>\n",
              "  <tbody>\n",
              "    <tr>\n",
              "      <th>count</th>\n",
              "      <td>1372.000000</td>\n",
              "      <td>1372.000000</td>\n",
              "      <td>1372.000000</td>\n",
              "      <td>1372.000000</td>\n",
              "      <td>1372.000000</td>\n",
              "    </tr>\n",
              "    <tr>\n",
              "      <th>mean</th>\n",
              "      <td>0.433735</td>\n",
              "      <td>1.922353</td>\n",
              "      <td>1.397627</td>\n",
              "      <td>-1.191657</td>\n",
              "      <td>0.444606</td>\n",
              "    </tr>\n",
              "    <tr>\n",
              "      <th>std</th>\n",
              "      <td>2.842763</td>\n",
              "      <td>5.869047</td>\n",
              "      <td>4.310030</td>\n",
              "      <td>2.101013</td>\n",
              "      <td>0.497103</td>\n",
              "    </tr>\n",
              "    <tr>\n",
              "      <th>min</th>\n",
              "      <td>-7.042100</td>\n",
              "      <td>-13.773100</td>\n",
              "      <td>-5.286100</td>\n",
              "      <td>-8.548200</td>\n",
              "      <td>0.000000</td>\n",
              "    </tr>\n",
              "    <tr>\n",
              "      <th>25%</th>\n",
              "      <td>-1.773000</td>\n",
              "      <td>-1.708200</td>\n",
              "      <td>-1.574975</td>\n",
              "      <td>-2.413450</td>\n",
              "      <td>0.000000</td>\n",
              "    </tr>\n",
              "    <tr>\n",
              "      <th>50%</th>\n",
              "      <td>0.496180</td>\n",
              "      <td>2.319650</td>\n",
              "      <td>0.616630</td>\n",
              "      <td>-0.586650</td>\n",
              "      <td>0.000000</td>\n",
              "    </tr>\n",
              "    <tr>\n",
              "      <th>75%</th>\n",
              "      <td>2.821475</td>\n",
              "      <td>6.814625</td>\n",
              "      <td>3.179250</td>\n",
              "      <td>0.394810</td>\n",
              "      <td>1.000000</td>\n",
              "    </tr>\n",
              "    <tr>\n",
              "      <th>max</th>\n",
              "      <td>6.824800</td>\n",
              "      <td>12.951600</td>\n",
              "      <td>17.927400</td>\n",
              "      <td>2.449500</td>\n",
              "      <td>1.000000</td>\n",
              "    </tr>\n",
              "  </tbody>\n",
              "</table>\n",
              "</div>"
            ],
            "text/plain": [
              "          Variance     Skewness     Curtosis      Entropy        Class\n",
              "count  1372.000000  1372.000000  1372.000000  1372.000000  1372.000000\n",
              "mean      0.433735     1.922353     1.397627    -1.191657     0.444606\n",
              "std       2.842763     5.869047     4.310030     2.101013     0.497103\n",
              "min      -7.042100   -13.773100    -5.286100    -8.548200     0.000000\n",
              "25%      -1.773000    -1.708200    -1.574975    -2.413450     0.000000\n",
              "50%       0.496180     2.319650     0.616630    -0.586650     0.000000\n",
              "75%       2.821475     6.814625     3.179250     0.394810     1.000000\n",
              "max       6.824800    12.951600    17.927400     2.449500     1.000000"
            ]
          },
          "metadata": {
            "tags": []
          },
          "execution_count": 7
        }
      ]
    },
    {
      "cell_type": "code",
      "metadata": {
        "id": "PpmJ5vueFg1U",
        "colab": {
          "base_uri": "https://localhost:8080/",
          "height": 217
        },
        "outputId": "4df728c4-f21d-4ee7-9a27-5e72ab08b1df"
      },
      "source": [
        "### view basic feature correlations ###\n",
        "print('--- feature correlations ---')\n",
        "df.corr()"
      ],
      "execution_count": null,
      "outputs": [
        {
          "output_type": "stream",
          "text": [
            "--- feature correlations ---\n"
          ],
          "name": "stdout"
        },
        {
          "output_type": "execute_result",
          "data": {
            "text/html": [
              "<div>\n",
              "<style scoped>\n",
              "    .dataframe tbody tr th:only-of-type {\n",
              "        vertical-align: middle;\n",
              "    }\n",
              "\n",
              "    .dataframe tbody tr th {\n",
              "        vertical-align: top;\n",
              "    }\n",
              "\n",
              "    .dataframe thead th {\n",
              "        text-align: right;\n",
              "    }\n",
              "</style>\n",
              "<table border=\"1\" class=\"dataframe\">\n",
              "  <thead>\n",
              "    <tr style=\"text-align: right;\">\n",
              "      <th></th>\n",
              "      <th>Variance</th>\n",
              "      <th>Skewness</th>\n",
              "      <th>Curtosis</th>\n",
              "      <th>Entropy</th>\n",
              "      <th>Class</th>\n",
              "    </tr>\n",
              "  </thead>\n",
              "  <tbody>\n",
              "    <tr>\n",
              "      <th>Variance</th>\n",
              "      <td>1.000000</td>\n",
              "      <td>0.264026</td>\n",
              "      <td>-0.380850</td>\n",
              "      <td>0.276817</td>\n",
              "      <td>-0.724843</td>\n",
              "    </tr>\n",
              "    <tr>\n",
              "      <th>Skewness</th>\n",
              "      <td>0.264026</td>\n",
              "      <td>1.000000</td>\n",
              "      <td>-0.786895</td>\n",
              "      <td>-0.526321</td>\n",
              "      <td>-0.444688</td>\n",
              "    </tr>\n",
              "    <tr>\n",
              "      <th>Curtosis</th>\n",
              "      <td>-0.380850</td>\n",
              "      <td>-0.786895</td>\n",
              "      <td>1.000000</td>\n",
              "      <td>0.318841</td>\n",
              "      <td>0.155883</td>\n",
              "    </tr>\n",
              "    <tr>\n",
              "      <th>Entropy</th>\n",
              "      <td>0.276817</td>\n",
              "      <td>-0.526321</td>\n",
              "      <td>0.318841</td>\n",
              "      <td>1.000000</td>\n",
              "      <td>-0.023424</td>\n",
              "    </tr>\n",
              "    <tr>\n",
              "      <th>Class</th>\n",
              "      <td>-0.724843</td>\n",
              "      <td>-0.444688</td>\n",
              "      <td>0.155883</td>\n",
              "      <td>-0.023424</td>\n",
              "      <td>1.000000</td>\n",
              "    </tr>\n",
              "  </tbody>\n",
              "</table>\n",
              "</div>"
            ],
            "text/plain": [
              "          Variance  Skewness  Curtosis   Entropy     Class\n",
              "Variance  1.000000  0.264026 -0.380850  0.276817 -0.724843\n",
              "Skewness  0.264026  1.000000 -0.786895 -0.526321 -0.444688\n",
              "Curtosis -0.380850 -0.786895  1.000000  0.318841  0.155883\n",
              "Entropy   0.276817 -0.526321  0.318841  1.000000 -0.023424\n",
              "Class    -0.724843 -0.444688  0.155883 -0.023424  1.000000"
            ]
          },
          "metadata": {
            "tags": []
          },
          "execution_count": 8
        }
      ]
    },
    {
      "cell_type": "code",
      "metadata": {
        "id": "C9bW02dtFn-d",
        "colab": {
          "base_uri": "https://localhost:8080/",
          "height": 463
        },
        "outputId": "8e2e5d23-02a6-4730-caa8-1a8adea4f3ef"
      },
      "source": [
        "### view basic feature correlations in a heatmap ###\n",
        "import seaborn as sns \n",
        "import matplotlib.pyplot as plt \n",
        "f, ax = plt.subplots(1, 1, figsize = (10, 7))\n",
        "print('--- feature correlations heatmap ---')\n",
        "sns.heatmap(df.corr() , cmap = 'Wistia' , annot = True)"
      ],
      "execution_count": null,
      "outputs": [
        {
          "output_type": "stream",
          "text": [
            "--- feature correlations heatmap ---\n"
          ],
          "name": "stdout"
        },
        {
          "output_type": "execute_result",
          "data": {
            "text/plain": [
              "<matplotlib.axes._subplots.AxesSubplot at 0x7fb8758e70f0>"
            ]
          },
          "metadata": {
            "tags": []
          },
          "execution_count": 10
        },
        {
          "output_type": "display_data",
          "data": {
            "image/png": "[encoded data removed]",
            "text/plain": [
              "<Figure size 720x504 with 2 Axes>"
            ]
          },
          "metadata": {
            "tags": [],
            "needs_background": "light"
          }
        }
      ]
    },
    {
      "cell_type": "code",
      "metadata": {
        "id": "nrg4SlMfFsAS",
        "colab": {
          "base_uri": "https://localhost:8080/",
          "height": 1000
        },
        "outputId": "d4148e47-5c1c-4b74-e3b5-ded2a16e395b"
      },
      "source": [
        "### view scatter plots for each feature vs. target ###\n",
        "import matplotlib.pyplot as plt \n",
        "target_ = 'Class' # set the target\n",
        "features_ = df.iloc[:, 0:4] # set the features\n",
        "print('--- bar plots ---')\n",
        "for feature in features_:\n",
        "    figure = plt.figure\n",
        "    f, ax = plt.subplots(1, 1, figsize = (10, 7))\n",
        "    ax = plt.gca()\n",
        "    ax.bar(df[target_], df[feature])\n",
        "    ax.set_xlabel(target_)\n",
        "    ax.set_ylabel(feature)\n",
        "    ax.set_title(f'''{target_} vs {feature}''')\n",
        "    plt.show()"
      ],
      "execution_count": null,
      "outputs": [
        {
          "output_type": "stream",
          "text": [
            "--- bar plots ---\n"
          ],
          "name": "stdout"
        },
        {
          "output_type": "display_data",
          "data": {
            "image/png": "[encoded data removed]",
            "text/plain": [
              "<Figure size 720x504 with 1 Axes>"
            ]
          },
          "metadata": {
            "tags": [],
            "needs_background": "light"
          }
        },
        {
          "output_type": "display_data",
          "data": {
            "image/png": "[encoded data removed]",
            "text/plain": [
              "<Figure size 720x504 with 1 Axes>"
            ]
          },
          "metadata": {
            "tags": [],
            "needs_background": "light"
          }
        },
        {
          "output_type": "display_data",
          "data": {
            "image/png": "[encoded data removed]",
            "text/plain": [
              "<Figure size 720x504 with 1 Axes>"
            ]
          },
          "metadata": {
            "tags": [],
            "needs_background": "light"
          }
        },
        {
          "output_type": "display_data",
          "data": {
            "image/png": "[encoded data removed]",
            "text/plain": [
              "<Figure size 720x504 with 1 Axes>"
            ]
          },
          "metadata": {
            "tags": [],
            "needs_background": "light"
          }
        }
      ]
    },
    {
      "cell_type": "markdown",
      "metadata": {
        "id": "lDphJ8RoFzqA"
      },
      "source": [
        "##### Encode + Clean + Organize\n",
        "\n",
        "\n"
      ]
    },
    {
      "cell_type": "code",
      "metadata": {
        "id": "w9hRxBUxyK3y"
      },
      "source": [
        "### encoding not necessary with this example, all are numericals ###"
      ],
      "execution_count": null,
      "outputs": []
    },
    {
      "cell_type": "code",
      "metadata": {
        "id": "oOHvjqS3FsRc",
        "colab": {
          "base_uri": "https://localhost:8080/",
          "height": 1000
        },
        "outputId": "4eb141d9-83f3-47c0-c293-5a9032f6513c"
      },
      "source": [
        "### check for outliers in the data ### \n",
        "import matplotlib.pyplot as plt\n",
        "# view each feature in a boxplot \n",
        "for column in df:\n",
        "    plt.figure() # plot figure \n",
        "    f, ax = plt.subplots(1, 1, figsize = (10, 7))\n",
        "    df.boxplot([column]) # set data"
      ],
      "execution_count": null,
      "outputs": [
        {
          "output_type": "display_data",
          "data": {
            "text/plain": [
              "<Figure size 432x288 with 0 Axes>"
            ]
          },
          "metadata": {
            "tags": []
          }
        },
        {
          "output_type": "display_data",
          "data": {
            "image/png": "[encoded data removed]",
            "text/plain": [
              "<Figure size 720x504 with 1 Axes>"
            ]
          },
          "metadata": {
            "tags": [],
            "needs_background": "light"
          }
        },
        {
          "output_type": "display_data",
          "data": {
            "text/plain": [
              "<Figure size 432x288 with 0 Axes>"
            ]
          },
          "metadata": {
            "tags": []
          }
        },
        {
          "output_type": "display_data",
          "data": {
            "image/png": "[encoded data removed]",
            "text/plain": [
              "<Figure size 720x504 with 1 Axes>"
            ]
          },
          "metadata": {
            "tags": [],
            "needs_background": "light"
          }
        },
        {
          "output_type": "display_data",
          "data": {
            "text/plain": [
              "<Figure size 432x288 with 0 Axes>"
            ]
          },
          "metadata": {
            "tags": []
          }
        },
        {
          "output_type": "display_data",
          "data": {
            "image/png": "[encoded data removed]",
            "text/plain": [
              "<Figure size 720x504 with 1 Axes>"
            ]
          },
          "metadata": {
            "tags": [],
            "needs_background": "light"
          }
        },
        {
          "output_type": "display_data",
          "data": {
            "text/plain": [
              "<Figure size 432x288 with 0 Axes>"
            ]
          },
          "metadata": {
            "tags": []
          }
        },
        {
          "output_type": "display_data",
          "data": {
            "image/png": "[encoded data removed]",
            "text/plain": [
              "<Figure size 720x504 with 1 Axes>"
            ]
          },
          "metadata": {
            "tags": [],
            "needs_background": "light"
          }
        },
        {
          "output_type": "display_data",
          "data": {
            "text/plain": [
              "<Figure size 432x288 with 0 Axes>"
            ]
          },
          "metadata": {
            "tags": []
          }
        },
        {
          "output_type": "display_data",
          "data": {
            "image/png": "[encoded data removed]",
            "text/plain": [
              "<Figure size 720x504 with 1 Axes>"
            ]
          },
          "metadata": {
            "tags": [],
            "needs_background": "light"
          }
        }
      ]
    },
    {
      "cell_type": "code",
      "metadata": {
        "id": "bIqQuKD4FseH"
      },
      "source": [
        "### function to find outliers in the data ###\n",
        "def outlier_zscore(data):\n",
        "    global outliers,zscore\n",
        "    outliers = [] \n",
        "    zscore = [] \n",
        "    threshold = 3.5 # set threshold \n",
        "    mean = np.mean(data)\n",
        "    std = np.std(data)\n",
        "    for i in data:\n",
        "        z_score = (i - mean)/std # calculate the z_score\n",
        "        zscore.append(z_score) # append the score to the zscore\n",
        "        if np.abs(z_score) > threshold: \n",
        "            outliers.append(i) # append z_score the outliers\n",
        "    print(outliers)\n",
        "    return len(outliers), outliers"
      ],
      "execution_count": null,
      "outputs": []
    },
    {
      "cell_type": "code",
      "metadata": {
        "id": "Xgriwok5Fsj1",
        "colab": {
          "base_uri": "https://localhost:8080/"
        },
        "outputId": "54535e28-1a89-4e3c-8135-3c6ade84e170"
      },
      "source": [
        "### run each feature 'wanted' through the function ### \n",
        "print('--- possible outliers --- ')\n",
        "Variance_outliers_number, Variance_outliers = outlier_zscore(df.Variance)\n",
        "Skewness_outliers_number, Skewness_outliers = outlier_zscore(df.Skewness)\n",
        "Curtosis_outliers_number, Curtosis_outliers = outlier_zscore(df.Curtosis)\n",
        "Entropy_outliers_number, Entropy_outliers = outlier_zscore(df.Entropy)\n",
        "Class_outliers_number, Class_outliers = outlier_zscore(df.Class)"
      ],
      "execution_count": null,
      "outputs": [
        {
          "output_type": "stream",
          "text": [
            "--- possible outliers --- \n",
            "[]\n",
            "[]\n",
            "[]\n",
            "[]\n",
            "[]\n"
          ],
          "name": "stdout"
        }
      ]
    },
    {
      "cell_type": "code",
      "metadata": {
        "id": "46dVIiEkF9y5",
        "colab": {
          "base_uri": "https://localhost:8080/"
        },
        "outputId": "2077ba6f-ae0c-48f3-935b-9bd293509b80"
      },
      "source": [
        "### removal of outliers per feature ###\n",
        "for num, i in enumerate(df['Curtosis']): # removing the outliers of 'bmi' \n",
        "    if i in Curtosis_outliers:\n",
        "        df['Curtosis'][num] = 13.5 # 3.5 under the lowest outlier\n",
        "for num, i in enumerate(df['Entropy']): # removing the outliers of 'charges'\n",
        "    if i in Entropy_outliers:\n",
        "        df['Entropy'][num] = -5.5 # 3.5 under the lowest outlier"
      ],
      "execution_count": null,
      "outputs": [
        {
          "output_type": "stream",
          "text": [
            "/usr/local/lib/python3.6/dist-packages/ipykernel_launcher.py:4: SettingWithCopyWarning: \n",
            "A value is trying to be set on a copy of a slice from a DataFrame\n",
            "\n",
            "See the caveats in the documentation: https://pandas.pydata.org/pandas-docs/stable/user_guide/indexing.html#returning-a-view-versus-a-copy\n",
            "  after removing the cwd from sys.path.\n",
            "/usr/local/lib/python3.6/dist-packages/ipykernel_launcher.py:7: SettingWithCopyWarning: \n",
            "A value is trying to be set on a copy of a slice from a DataFrame\n",
            "\n",
            "See the caveats in the documentation: https://pandas.pydata.org/pandas-docs/stable/user_guide/indexing.html#returning-a-view-versus-a-copy\n",
            "  import sys\n"
          ],
          "name": "stderr"
        }
      ]
    },
    {
      "cell_type": "markdown",
      "metadata": {
        "id": "aOT1Nh5RkS9-"
      },
      "source": [
        "#### Random Forest Classification\n",
        " - GridSearch CV\n",
        " - RandomSearch CV"
      ]
    },
    {
      "cell_type": "code",
      "metadata": {
        "id": "CwIIXoqyKO_c"
      },
      "source": [
        "### copy the data frame ### \n",
        "df1 = df.copy()"
      ],
      "execution_count": null,
      "outputs": []
    },
    {
      "cell_type": "code",
      "metadata": {
        "id": "zkLcjkiDGVTx",
        "colab": {
          "base_uri": "https://localhost:8080/"
        },
        "outputId": "6b8c32aa-9fad-4962-e972-4169222501bc"
      },
      "source": [
        "### split the data into features & target sets ###\n",
        "X = df1.iloc[:, 0:4].values # set the features\n",
        "y = df1.iloc[:, 4].values # set the target \n",
        "print('--- data shapes --- ')\n",
        "print('X shape:', X.shape) \n",
        "print('y shape:', y.shape) "
      ],
      "execution_count": null,
      "outputs": [
        {
          "output_type": "stream",
          "text": [
            "--- data shapes --- \n",
            "X shape: (1372, 4)\n",
            "y shape: (1372,)\n"
          ],
          "name": "stdout"
        }
      ]
    },
    {
      "cell_type": "code",
      "metadata": {
        "id": "c0G4cj3Bk1-7"
      },
      "source": [
        "### set the train test split parameters ###\n",
        "from sklearn.model_selection import train_test_split\n",
        "X_train, X_test, y_train, y_test = train_test_split(X, y, test_size=0.2, random_state=0) # split 80/20 "
      ],
      "execution_count": null,
      "outputs": []
    },
    {
      "cell_type": "code",
      "metadata": {
        "id": "v01A9wtDMutL"
      },
      "source": [
        "### feature scaling ### \n",
        "from sklearn.preprocessing import StandardScaler\n",
        "sc = StandardScaler() # initiate the scalar   \n",
        "X_train = sc.fit_transform(X_train) # fit transform the data with scalar\n",
        "X_test = sc.transform(X_test) # fit transform the data with scalar"
      ],
      "execution_count": null,
      "outputs": []
    },
    {
      "cell_type": "code",
      "metadata": {
        "id": "gRpVTW_oQYj0",
        "colab": {
          "base_uri": "https://localhost:8080/"
        },
        "outputId": "bcadf02a-6e6b-41db-84bb-d82c33083ae2"
      },
      "source": [
        "### random forest classifier ###\n",
        "from sklearn.ensemble import RandomForestClassifier\n",
        "from sklearn import metrics\n",
        "model = RandomForestClassifier()\n",
        "model.fit(X_train, y_train)\n",
        "y_pred = model.predict(X_test) \n",
        "#### create data frame of predictions and results ### \n",
        "y_pred_df = pd.DataFrame(y_pred, columns=[\"Predicted_Values\" ])\n",
        "y_test_df = pd.DataFrame(np.array(y_test), columns=[\"Real_Values\"])\n",
        "df_final = pd.concat([y_test_df , y_pred_df] , axis=1)\n",
        "print('--- real values vs predicted values ---')\n",
        "print(df_final.head())\n",
        "### get the model metrics ###\n",
        "print('--- model metrics ---')\n",
        "print('mean absolute error:', metrics.mean_absolute_error(y_test, y_pred)) # mae \n",
        "print('mean squared error:', metrics.mean_squared_error(y_test, y_pred)) # mse \n",
        "print('root mean squared error:', np.sqrt(metrics.mean_squared_error(y_test, y_pred))) # rmse\n",
        "score = metrics.r2_score(y_test , y_pred) # get the r2 score \n",
        "print(\"r2 score = {}\".format(score)) # show the r2 score\n",
        "print('model score=', model.score(X_train, y_train)) # show the model score \n",
        "print(\"model accuracy= {}%\".format(score * 100)) # show the model accuracy\n",
        "print('--- confusion matrix ---')\n",
        "print(metrics.confusion_matrix(y_test,y_pred)) # confusion matrix\n",
        "print('--- classification report ---') \n",
        "print(metrics.classification_report(y_test,y_pred)) # classificatin report\n",
        "print('model accuracy score=', metrics.accuracy_score(y_test, y_pred)) # model accuracy"
      ],
      "execution_count": null,
      "outputs": [
        {
          "output_type": "stream",
          "text": [
            "--- real values vs predicted values ---\n",
            "   Real_Values  Predicted_Values\n",
            "0            1                 1\n",
            "1            0                 0\n",
            "2            1                 1\n",
            "3            0                 0\n",
            "4            0                 0\n",
            "--- model metrics ---\n",
            "mean absolute error: 0.014545454545454545\n",
            "mean squared error: 0.014545454545454545\n",
            "root mean squared error: 0.12060453783110545\n",
            "r2 score = 0.9406239879088848\n",
            "model score= 1.0\n",
            "model accuracy= 94.06239879088848%\n",
            "--- confusion matrix ---\n",
            "[[155   2]\n",
            " [  2 116]]\n",
            "--- classification report ---\n",
            "              precision    recall  f1-score   support\n",
            "\n",
            "           0       0.99      0.99      0.99       157\n",
            "           1       0.98      0.98      0.98       118\n",
            "\n",
            "    accuracy                           0.99       275\n",
            "   macro avg       0.99      0.99      0.99       275\n",
            "weighted avg       0.99      0.99      0.99       275\n",
            "\n",
            "model accuracy score= 0.9854545454545455\n"
          ],
          "name": "stdout"
        }
      ]
    },
    {
      "cell_type": "code",
      "metadata": {
        "colab": {
          "base_uri": "https://localhost:8080/",
          "height": 560
        },
        "id": "d-oyZqh7LiQB",
        "outputId": "8bccb00c-883a-4207-abfd-ce6adc1fe091"
      },
      "source": [
        "### visualize the model prediction accuracy ###\n",
        "import seaborn as sns\n",
        "import matplotlib.pyplot as plt\n",
        "### configure the plot ###\n",
        "print('--- distplot accuracy --- ')\n",
        "f, ax = plt.subplots(1, 1, figsize = (10, 7))\n",
        "ax1 = sns.distplot(y_test, hist=False, color=\"b\", label=\"Actual Values\")\n",
        "sns.distplot(y_pred, hist=False, color=\"r\", label=\"Predicted Values\" , axlabel='Charges', ax=ax1)\n",
        "plt.legend()"
      ],
      "execution_count": null,
      "outputs": [
        {
          "output_type": "stream",
          "text": [
            "--- distplot accuracy --- \n"
          ],
          "name": "stdout"
        },
        {
          "output_type": "stream",
          "text": [
            "/usr/local/lib/python3.6/dist-packages/seaborn/distributions.py:2557: FutureWarning: `distplot` is a deprecated function and will be removed in a future version. Please adapt your code to use either `displot` (a figure-level function with similar flexibility) or `kdeplot` (an axes-level function for kernel density plots).\n",
            "  warnings.warn(msg, FutureWarning)\n",
            "/usr/local/lib/python3.6/dist-packages/seaborn/distributions.py:2557: FutureWarning: `distplot` is a deprecated function and will be removed in a future version. Please adapt your code to use either `displot` (a figure-level function with similar flexibility) or `kdeplot` (an axes-level function for kernel density plots).\n",
            "  warnings.warn(msg, FutureWarning)\n"
          ],
          "name": "stderr"
        },
        {
          "output_type": "execute_result",
          "data": {
            "text/plain": [
              "<matplotlib.legend.Legend at 0x7fb86b53b5c0>"
            ]
          },
          "metadata": {
            "tags": []
          },
          "execution_count": 23
        },
        {
          "output_type": "display_data",
          "data": {
            "image/png": "[encoded data removed]",
            "text/plain": [
              "<Figure size 720x504 with 1 Axes>"
            ]
          },
          "metadata": {
            "tags": [],
            "needs_background": "light"
          }
        }
      ]
    },
    {
      "cell_type": "markdown",
      "metadata": {
        "id": "-0I1U2VGQtSR"
      },
      "source": [
        "###### GridSearch CV"
      ]
    },
    {
      "cell_type": "code",
      "metadata": {
        "id": "oeVJgt_-LySf"
      },
      "source": [
        "### copy the data frame ###\n",
        "df2 = df.copy()"
      ],
      "execution_count": null,
      "outputs": []
    },
    {
      "cell_type": "code",
      "metadata": {
        "colab": {
          "base_uri": "https://localhost:8080/"
        },
        "id": "MJaIPEjmLydT",
        "outputId": "55ff25a4-e180-42de-e13f-12d10d64df41"
      },
      "source": [
        "### split the data into features & target sets ###\n",
        "# for single regression select 1 feature\n",
        "X = df2.iloc[:, 0:4].values # set the features\n",
        "y = df2.iloc[:, 4].values # set the target \n",
        "print('--- data shapes --- ')\n",
        "print('X shape:', X.shape) \n",
        "print('y shape:', y.shape) "
      ],
      "execution_count": null,
      "outputs": [
        {
          "output_type": "stream",
          "text": [
            "--- data shapes --- \n",
            "X shape: (1372, 4)\n",
            "y shape: (1372,)\n"
          ],
          "name": "stdout"
        }
      ]
    },
    {
      "cell_type": "code",
      "metadata": {
        "id": "J1-KnEOnLymV"
      },
      "source": [
        "### set the train test split parameters ###\n",
        "from sklearn.model_selection import train_test_split\n",
        "X_train, X_test, y_train, y_test = train_test_split(X, y, test_size=0.2, random_state=0) # split 80/20 "
      ],
      "execution_count": null,
      "outputs": []
    },
    {
      "cell_type": "code",
      "metadata": {
        "id": "axHXHqAjLyu9"
      },
      "source": [
        "### feature scaling ### \n",
        "from sklearn.preprocessing import StandardScaler\n",
        "sc = StandardScaler() # initiate the scalar   \n",
        "X_train = sc.fit_transform(X_train) # fit transform the data with scalar\n",
        "X_test = sc.transform(X_test) # fit transform the data with scalar"
      ],
      "execution_count": null,
      "outputs": []
    },
    {
      "cell_type": "code",
      "metadata": {
        "id": "Ev3_XbnvyPYe",
        "colab": {
          "base_uri": "https://localhost:8080/"
        },
        "outputId": "050ba3b3-914f-44aa-be9e-8d69b329eb33"
      },
      "source": [
        "### random forest classifier + gridsearch CV model ###\n",
        "from sklearn.ensemble import RandomForestClassifier\n",
        "from sklearn.model_selection import GridSearchCV\n",
        "model1 = RandomForestClassifier()\n",
        "param_grid = {  # create the param grid \n",
        "            'n_estimators': [20, 100, 200],\n",
        "            'max_features': ['auto', 'sqrt', 'log2'],\n",
        "            'max_leaf_nodes' : [2, 6, 10],\n",
        "            'max_depth' : [5, 15, 25],\n",
        "            'min_samples_split' : [2, 10, 15],\n",
        "            # 'bootstrap': [True, False],\n",
        "            # 'ccp_alpha': [0.0, 0.25, 0.50],\n",
        "            # 'criterion': 'mse',\n",
        "            # 'max_samples': [2, 10, 15],\n",
        "            # 'min_impurity_decrease': [0.0, 0.25, 0.50],\n",
        "            # 'min_impurity_split': [2, 10, 15],\n",
        "            # 'min_samples_leaf': [1, 5, 10],\n",
        "            # 'min_weight_fraction_leaf': [0.0, 0.25, 0.50],\n",
        "            # 'n_jobs': [1, 2, 5],\n",
        "            # 'oob_score': [True, False],\n",
        "            # 'random_state': [0, 2, 4],\n",
        "            # 'verbose': [1],\n",
        "            # 'warm_start': [True, False] \n",
        "              }\n",
        "CV_rfc = GridSearchCV(estimator=model1, param_grid=param_grid, cv=3) \n",
        "print('--- model runtime --- ')\n",
        "%time CV_rfc.fit(X_train, y_train)\n",
        "print('--- best params --- ')\n",
        "CV_rfc.best_params_"
      ],
      "execution_count": null,
      "outputs": [
        {
          "output_type": "stream",
          "text": [
            "--- model runtime --- \n",
            "CPU times: user 2min 10s, sys: 501 ms, total: 2min 11s\n",
            "Wall time: 2min 11s\n",
            "--- best params --- \n"
          ],
          "name": "stdout"
        },
        {
          "output_type": "execute_result",
          "data": {
            "text/plain": [
              "{'max_depth': 25,\n",
              " 'max_features': 'log2',\n",
              " 'max_leaf_nodes': 10,\n",
              " 'min_samples_split': 2,\n",
              " 'n_estimators': 20}"
            ]
          },
          "metadata": {
            "tags": []
          },
          "execution_count": 31
        }
      ]
    },
    {
      "cell_type": "code",
      "metadata": {
        "id": "_DI0w0YRLhE5"
      },
      "source": [
        ""
      ],
      "execution_count": null,
      "outputs": []
    },
    {
      "cell_type": "code",
      "metadata": {
        "id": "AUERwTFPNprK",
        "colab": {
          "base_uri": "https://localhost:8080/"
        },
        "outputId": "868077f6-2d7a-4bb9-9876-836df9a405f0"
      },
      "source": [
        "### random forest classifier + grid best params ###\n",
        "from sklearn.ensemble import RandomForestClassifier\n",
        "from sklearn import metrics\n",
        "model1 = RandomForestClassifier(\n",
        "                                max_depth= 25,\n",
        "                                max_features= 'log2',\n",
        "                                max_leaf_nodes= 10,\n",
        "                                min_samples_split= 2,\n",
        "                                n_estimators= 20\n",
        "                                )\n",
        "print('--- model runtime --- ')\n",
        "%time model1.fit(X_train, y_train)\n",
        "y_pred = model1.predict(X_test) \n",
        "#### create data frame of predictions and results ### \n",
        "y_pred_df = pd.DataFrame(y_pred, columns=[\"Predicted_Values\" ])\n",
        "y_test_df = pd.DataFrame(np.array(y_test), columns=[\"Real_Values\"])\n",
        "df_final = pd.concat([y_test_df , y_pred_df] , axis=1)\n",
        "print('--- real values vs predicted values ---')\n",
        "print(df_final.head())\n",
        "### get the model1 metrics ###\n",
        "print('--- model metrics ---')\n",
        "print('mean absolute error:', metrics.mean_absolute_error(y_test, y_pred)) # mae \n",
        "print('mean squared error:', metrics.mean_squared_error(y_test, y_pred)) # mse \n",
        "print('root mean squared error:', np.sqrt(metrics.mean_squared_error(y_test, y_pred))) # rmse\n",
        "score = metrics.r2_score(y_test , y_pred) # get the r2 score \n",
        "print(\"r2 score = {}\".format(score)) # show the r2 score\n",
        "print('model score=', model1.score(X_train, y_train)) # show the model score \n",
        "print(\"model accuracy= {}%\".format(score * 100)) # show the model accuracy\n",
        "print('--- confusion matrix ---')\n",
        "print(metrics.confusion_matrix(y_test,y_pred)) # confusion matrix\n",
        "print('--- classification report ---') \n",
        "print(metrics.classification_report(y_test,y_pred)) # classificatin report\n",
        "print('model1 accuracy score=', metrics.accuracy_score(y_test, y_pred)) # model accuracy"
      ],
      "execution_count": null,
      "outputs": [
        {
          "output_type": "stream",
          "text": [
            "--- real values vs predicted values ---\n",
            "   Real_Values  Predicted_Values\n",
            "0            1                 1\n",
            "1            0                 0\n",
            "2            1                 1\n",
            "3            0                 0\n",
            "4            0                 0\n",
            "--- model metrics ---\n",
            "mean absolute error: 0.03272727272727273\n",
            "mean squared error: 0.03272727272727273\n",
            "root mean squared error: 0.18090680674665818\n",
            "r2 score = 0.8664039727949908\n",
            "model score= 0.9790337283500455\n",
            "model accuracy= 86.64039727949908%\n",
            "--- confusion matrix ---\n",
            "[[150   7]\n",
            " [  2 116]]\n",
            "--- classification report ---\n",
            "              precision    recall  f1-score   support\n",
            "\n",
            "           0       0.99      0.96      0.97       157\n",
            "           1       0.94      0.98      0.96       118\n",
            "\n",
            "    accuracy                           0.97       275\n",
            "   macro avg       0.96      0.97      0.97       275\n",
            "weighted avg       0.97      0.97      0.97       275\n",
            "\n",
            "model1 accuracy score= 0.9672727272727273\n"
          ],
          "name": "stdout"
        }
      ]
    },
    {
      "cell_type": "code",
      "metadata": {
        "id": "JSa_CfZHQ7QN",
        "colab": {
          "base_uri": "https://localhost:8080/",
          "height": 560
        },
        "outputId": "3130bffa-ddcc-4835-d07c-7845ef549007"
      },
      "source": [
        "### visualize the model prediction accuracy ###\n",
        "import seaborn as sns\n",
        "import matplotlib.pyplot as plt\n",
        "### configure the plot ###\n",
        "print('--- distplot accuracy --- ')\n",
        "f, ax = plt.subplots(1, 1, figsize = (10, 7))\n",
        "ax1 = sns.distplot(y_test, hist=False, color=\"b\", label=\"Actual Values\")\n",
        "sns.distplot(y_pred, hist=False, color=\"r\", label=\"Predicted Values\" , axlabel='Charges', ax=ax1)\n",
        "plt.legend()"
      ],
      "execution_count": null,
      "outputs": [
        {
          "output_type": "stream",
          "text": [
            "--- distplot accuracy --- \n"
          ],
          "name": "stdout"
        },
        {
          "output_type": "stream",
          "text": [
            "/usr/local/lib/python3.6/dist-packages/seaborn/distributions.py:2557: FutureWarning: `distplot` is a deprecated function and will be removed in a future version. Please adapt your code to use either `displot` (a figure-level function with similar flexibility) or `kdeplot` (an axes-level function for kernel density plots).\n",
            "  warnings.warn(msg, FutureWarning)\n",
            "/usr/local/lib/python3.6/dist-packages/seaborn/distributions.py:2557: FutureWarning: `distplot` is a deprecated function and will be removed in a future version. Please adapt your code to use either `displot` (a figure-level function with similar flexibility) or `kdeplot` (an axes-level function for kernel density plots).\n",
            "  warnings.warn(msg, FutureWarning)\n"
          ],
          "name": "stderr"
        },
        {
          "output_type": "execute_result",
          "data": {
            "text/plain": [
              "<matplotlib.legend.Legend at 0x7fb86be0e7b8>"
            ]
          },
          "metadata": {
            "tags": []
          },
          "execution_count": 34
        },
        {
          "output_type": "display_data",
          "data": {
            "image/png": "[encoded data removed]",
            "text/plain": [
              "<Figure size 720x504 with 1 Axes>"
            ]
          },
          "metadata": {
            "tags": [],
            "needs_background": "light"
          }
        }
      ]
    },
    {
      "cell_type": "markdown",
      "metadata": {
        "id": "31Bb35w0Qkfi"
      },
      "source": [
        "###### RandomSearch CV"
      ]
    },
    {
      "cell_type": "code",
      "metadata": {
        "id": "OFt0Fhq9NIsH"
      },
      "source": [
        "### copy the data frame ###\n",
        "df3 = df.copy()"
      ],
      "execution_count": null,
      "outputs": []
    },
    {
      "cell_type": "code",
      "metadata": {
        "colab": {
          "base_uri": "https://localhost:8080/"
        },
        "id": "wRUJiaIaNI2J",
        "outputId": "c88b3bd0-0a95-428d-dc25-e8f4772176d6"
      },
      "source": [
        "### split the data into features & target sets ###\n",
        "# for single regression select the 1 feature\n",
        "X = df3.iloc[:, 0:4].values # set the features\n",
        "y = df3.iloc[:, 4].values # set the target \n",
        "print('--- data shapes --- ')\n",
        "print('X shape:', X.shape) # show the shape \n",
        "print('y shape:', y.shape) # show the shape "
      ],
      "execution_count": null,
      "outputs": [
        {
          "output_type": "stream",
          "text": [
            "--- data shapes --- \n",
            "X shape: (1372, 4)\n",
            "y shape: (1372,)\n"
          ],
          "name": "stdout"
        }
      ]
    },
    {
      "cell_type": "code",
      "metadata": {
        "id": "iP2Rq9IcNS2k"
      },
      "source": [
        "### set the train test split parameters ###\n",
        "from sklearn.model_selection import train_test_split\n",
        "X_train, X_test, y_train, y_test = train_test_split(X, y, test_size=0.2, random_state=0) # split 80/20"
      ],
      "execution_count": null,
      "outputs": []
    },
    {
      "cell_type": "code",
      "metadata": {
        "id": "ENr0hKNzNS97"
      },
      "source": [
        "### feature scaling ### \n",
        "from sklearn.preprocessing import StandardScaler\n",
        "sc = StandardScaler() # initiate the scalar   \n",
        "X_train = sc.fit_transform(X_train) # fit transform the data with scalar\n",
        "X_test = sc.transform(X_test) # fit transform the data with scalar"
      ],
      "execution_count": null,
      "outputs": []
    },
    {
      "cell_type": "code",
      "metadata": {
        "id": "OOKjlSi4Qi8X",
        "colab": {
          "base_uri": "https://localhost:8080/"
        },
        "outputId": "ac17e570-fcb4-4db9-d811-6d86f48f70ba"
      },
      "source": [
        "### random forest classifier + randomizedsearch CV model ###\n",
        "from sklearn.ensemble import RandomForestClassifier\n",
        "from sklearn.model_selection import RandomizedSearchCV\n",
        "model2 = RandomForestClassifier()\n",
        "param_grid = {  # create the param grid \n",
        "            'n_estimators': [20, 100, 200],\n",
        "            'max_features': ['auto', 'sqrt', 'log2'],\n",
        "            'max_leaf_nodes' : [2, 6, 10],\n",
        "            'max_depth' : [5, 15, 25],\n",
        "            'min_samples_split' : [2, 10, 15],\n",
        "            # 'bootstrap': [True, False],\n",
        "            # 'ccp_alpha': [0.0, 0.25, 0.50],\n",
        "            # 'criterion': 'mse',\n",
        "            # 'max_samples': [2, 10, 15],\n",
        "            # 'min_impurity_decrease': [0.0, 0.25, 0.50],\n",
        "            # 'min_impurity_split': [2, 10, 15],\n",
        "            # 'min_samples_leaf': [1, 5, 10],\n",
        "            # 'min_weight_fraction_leaf': [0.0, 0.25, 0.50],\n",
        "            # 'n_jobs': [1, 2, 5],\n",
        "            # 'oob_score': [True, False],\n",
        "            # 'random_state': [0, 2, 4],\n",
        "            # 'verbose': [1],\n",
        "            # 'warm_start': [True, False] \n",
        "              }\n",
        "CV_rfc = RandomizedSearchCV(model2, param_grid, cv=3) \n",
        "%time CV_rfc.fit(X_train, y_train)\n",
        "CV_rfc.best_params_"
      ],
      "execution_count": null,
      "outputs": [
        {
          "output_type": "stream",
          "text": [
            "CPU times: user 3.64 s, sys: 19 ms, total: 3.66 s\n",
            "Wall time: 3.67 s\n"
          ],
          "name": "stdout"
        },
        {
          "output_type": "execute_result",
          "data": {
            "text/plain": [
              "{'max_depth': 15,\n",
              " 'max_features': 'auto',\n",
              " 'max_leaf_nodes': 10,\n",
              " 'min_samples_split': 15,\n",
              " 'n_estimators': 20}"
            ]
          },
          "metadata": {
            "tags": []
          },
          "execution_count": 43
        }
      ]
    },
    {
      "cell_type": "code",
      "metadata": {
        "id": "UsLubQOmQ3yl",
        "colab": {
          "base_uri": "https://localhost:8080/"
        },
        "outputId": "f019626c-6e76-480c-81b9-46df2b12def3"
      },
      "source": [
        "### random forest classifier + random best params ###\n",
        "from sklearn.ensemble import RandomForestClassifier\n",
        "from sklearn import metrics\n",
        "model2 = RandomForestClassifier(\n",
        "                                max_depth= 15,\n",
        "                                max_features= 'auto',\n",
        "                                max_leaf_nodes= 10,\n",
        "                                min_samples_split= 15,\n",
        "                                n_estimators= 20\n",
        "                                )\n",
        "print('--- model runtime --- ')\n",
        "%time model2.fit(X_train, y_train)\n",
        "y_pred = model2.predict(X_test) \n",
        "#### create data frame of predictions and results ### \n",
        "y_pred_df = pd.DataFrame(y_pred, columns=[\"Predicted_Values\" ])\n",
        "y_test_df = pd.DataFrame(np.array(y_test), columns=[\"Real_Values\"])\n",
        "df_final = pd.concat([y_test_df , y_pred_df] , axis=1)\n",
        "print('--- real values vs predicted values ---')\n",
        "print(df_final.head())\n",
        "### get the model2 metrics ###\n",
        "print('--- model metrics ---')\n",
        "print('mean absolute error:', metrics.mean_absolute_error(y_test, y_pred)) # mae \n",
        "print('mean squared error:', metrics.mean_squared_error(y_test, y_pred)) # mse \n",
        "print('root mean squared error:', np.sqrt(metrics.mean_squared_error(y_test, y_pred))) # rmse\n",
        "score = metrics.r2_score(y_test , y_pred) # get the r2 score \n",
        "print(\"r2 score = {}\".format(score)) # show the r2 score\n",
        "print('model score=', model2.score(X_train, y_train)) # show the model score \n",
        "print(\"model accuracy= {}%\".format(score * 100)) # show the model accuracy\n",
        "print('--- confusion matrix ---')\n",
        "print(metrics.confusion_matrix(y_test,y_pred)) # confusion matrix\n",
        "print('--- classification report ---') \n",
        "print(metrics.classification_report(y_test,y_pred)) # classificatin report\n",
        "print('model2 accuracy score=', metrics.accuracy_score(y_test, y_pred)) # model accuracy"
      ],
      "execution_count": null,
      "outputs": [
        {
          "output_type": "stream",
          "text": [
            "--- model runtime --- \n",
            "CPU times: user 45.8 ms, sys: 998 µs, total: 46.8 ms\n",
            "Wall time: 48.1 ms\n",
            "--- real values vs predicted values ---\n",
            "   Real_Values  Predicted_Values\n",
            "0            1                 1\n",
            "1            0                 0\n",
            "2            1                 1\n",
            "3            0                 0\n",
            "4            0                 0\n",
            "--- model metrics ---\n",
            "mean absolute error: 0.03272727272727273\n",
            "mean squared error: 0.03272727272727273\n",
            "root mean squared error: 0.18090680674665818\n",
            "r2 score = 0.8664039727949908\n",
            "model score= 0.9781221513217867\n",
            "model accuracy= 86.64039727949908%\n",
            "--- confusion matrix ---\n",
            "[[150   7]\n",
            " [  2 116]]\n",
            "--- classification report ---\n",
            "              precision    recall  f1-score   support\n",
            "\n",
            "           0       0.99      0.96      0.97       157\n",
            "           1       0.94      0.98      0.96       118\n",
            "\n",
            "    accuracy                           0.97       275\n",
            "   macro avg       0.96      0.97      0.97       275\n",
            "weighted avg       0.97      0.97      0.97       275\n",
            "\n",
            "model2 accuracy score= 0.9672727272727273\n"
          ],
          "name": "stdout"
        }
      ]
    },
    {
      "cell_type": "code",
      "metadata": {
        "id": "NOMVuikON_o_",
        "colab": {
          "base_uri": "https://localhost:8080/",
          "height": 560
        },
        "outputId": "4271e52e-3fde-4d35-f8d7-4568116e296b"
      },
      "source": [
        "### visualize the model prediction accuracy ###\n",
        "import seaborn as sns\n",
        "import matplotlib.pyplot as plt\n",
        "### configure the plot ###\n",
        "print('--- distplot accuracy --- ')\n",
        "f, ax = plt.subplots(1, 1, figsize = (10, 7))\n",
        "ax1 = sns.distplot(y_test, hist=False, color=\"b\", label=\"Actual Values\")\n",
        "sns.distplot(y_pred, hist=False, color=\"r\", label=\"Predicted Values\" , axlabel='Charges', ax=ax1)\n",
        "plt.legend()"
      ],
      "execution_count": null,
      "outputs": [
        {
          "output_type": "stream",
          "text": [
            "--- distplot accuracy --- \n"
          ],
          "name": "stdout"
        },
        {
          "output_type": "stream",
          "text": [
            "/usr/local/lib/python3.6/dist-packages/seaborn/distributions.py:2557: FutureWarning: `distplot` is a deprecated function and will be removed in a future version. Please adapt your code to use either `displot` (a figure-level function with similar flexibility) or `kdeplot` (an axes-level function for kernel density plots).\n",
            "  warnings.warn(msg, FutureWarning)\n",
            "/usr/local/lib/python3.6/dist-packages/seaborn/distributions.py:2557: FutureWarning: `distplot` is a deprecated function and will be removed in a future version. Please adapt your code to use either `displot` (a figure-level function with similar flexibility) or `kdeplot` (an axes-level function for kernel density plots).\n",
            "  warnings.warn(msg, FutureWarning)\n"
          ],
          "name": "stderr"
        },
        {
          "output_type": "execute_result",
          "data": {
            "text/plain": [
              "<matplotlib.legend.Legend at 0x7fb86ac90ac8>"
            ]
          },
          "metadata": {
            "tags": []
          },
          "execution_count": 45
        },
        {
          "output_type": "display_data",
          "data": {
            "image/png": "[encoded data removed]",
            "text/plain": [
              "<Figure size 720x504 with 1 Axes>"
            ]
          },
          "metadata": {
            "tags": [],
            "needs_background": "light"
          }
        }
      ]
    }
  ]
}