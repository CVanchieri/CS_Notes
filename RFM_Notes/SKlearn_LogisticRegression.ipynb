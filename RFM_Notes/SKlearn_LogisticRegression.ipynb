{
  "nbformat": 4,
  "nbformat_minor": 0,
  "metadata": {
    "colab": {
      "name": "SKlearn_LogisticRegression.ipynb",
      "provenance": [],
      "collapsed_sections": []
    },
    "kernelspec": {
      "name": "python3",
      "display_name": "Python 3"
    }
  },
  "cells": [
    {
      "cell_type": "markdown",
      "metadata": {
        "id": "CFM5sl2ef0Cg"
      },
      "source": [
        "## Logistic Regression (classification)\n"
      ]
    },
    {
      "cell_type": "markdown",
      "metadata": {
        "id": "pHYXNoDvORIF"
      },
      "source": [
        "### Classification\n",
        "#### Logistic regression is used to calculate the probability of a binary event occurring, and to deal with issues of classification. For example, predicting if an incoming email is spam or not spam, or predicting if a credit card transaction is fraudulent or not fraudulent.\n",
        "\n",
        "#### Pros \n",
        " - very simple to work with \n",
        " - easy to interpret results\n",
        "\n",
        "#### Cons\n",
        " - numerical and categorical will work "
      ]
    },
    {
      "cell_type": "markdown",
      "metadata": {
        "id": "OhRHMqRaQfiG"
      },
      "source": [
        "### Model Set Up\n",
        "\n",
        "#### Steps\n",
        " - load the data\n",
        " - determine regression or classification target\n",
        " - inspect, clean, organize data\n",
        " - check for, handle outliers \n",
        " - encode data if necessary \n",
        " - set features and target \n",
        " - train, test split the data \n",
        " - scale the data if necessary \n",
        " - build the model, fit on the data, run the model\n",
        " - run metrics, analyze, view results, adjust parameters, repeat until satisfied... \n"
      ]
    },
    {
      "cell_type": "markdown",
      "metadata": {
        "id": "3hmqr8qAMLuE"
      },
      "source": [
        "### Classification Models"
      ]
    },
    {
      "cell_type": "markdown",
      "metadata": {
        "id": "a9Z_XK3rO7H6"
      },
      "source": [
        "#### Logistic Regression \n",
        " - \n",
        " -\n",
        " -\n"
      ]
    },
    {
      "cell_type": "markdown",
      "metadata": {
        "id": "EaGw20nIVO2A"
      },
      "source": [
        "#### Logistic Regression Models\n"
      ]
    },
    {
      "cell_type": "markdown",
      "metadata": {
        "id": "u-19r4wJoR43"
      },
      "source": [
        "##### Import + Inspect"
      ]
    },
    {
      "cell_type": "code",
      "metadata": {
        "id": "0dejnh_BFghq",
        "colab": {
          "base_uri": "https://localhost:8080/",
          "height": 217
        },
        "outputId": "a99ee1ad-afe8-4727-852a-4ff0d21487dd"
      },
      "source": [
        "### imports ###\n",
        "import pandas as pd\n",
        "import numpy as np\n",
        "import sklearn\n",
        "df = pd.read_csv('https://raw.githubusercontent.com/CVanchieri/CS_Notes/main/RFM_Notes/bill_authentication.csv') # read in the file \n",
        "print('data frame shape:', df.shape) # show the data frame shape \n",
        "df.head() # show the data frame "
      ],
      "execution_count": 1,
      "outputs": [
        {
          "output_type": "stream",
          "text": [
            "data frame shape: (1372, 5)\n"
          ],
          "name": "stdout"
        },
        {
          "output_type": "execute_result",
          "data": {
            "text/html": [
              "<div>\n",
              "<style scoped>\n",
              "    .dataframe tbody tr th:only-of-type {\n",
              "        vertical-align: middle;\n",
              "    }\n",
              "\n",
              "    .dataframe tbody tr th {\n",
              "        vertical-align: top;\n",
              "    }\n",
              "\n",
              "    .dataframe thead th {\n",
              "        text-align: right;\n",
              "    }\n",
              "</style>\n",
              "<table border=\"1\" class=\"dataframe\">\n",
              "  <thead>\n",
              "    <tr style=\"text-align: right;\">\n",
              "      <th></th>\n",
              "      <th>Variance</th>\n",
              "      <th>Skewness</th>\n",
              "      <th>Curtosis</th>\n",
              "      <th>Entropy</th>\n",
              "      <th>Class</th>\n",
              "    </tr>\n",
              "  </thead>\n",
              "  <tbody>\n",
              "    <tr>\n",
              "      <th>0</th>\n",
              "      <td>3.62160</td>\n",
              "      <td>8.6661</td>\n",
              "      <td>-2.8073</td>\n",
              "      <td>-0.44699</td>\n",
              "      <td>0</td>\n",
              "    </tr>\n",
              "    <tr>\n",
              "      <th>1</th>\n",
              "      <td>4.54590</td>\n",
              "      <td>8.1674</td>\n",
              "      <td>-2.4586</td>\n",
              "      <td>-1.46210</td>\n",
              "      <td>0</td>\n",
              "    </tr>\n",
              "    <tr>\n",
              "      <th>2</th>\n",
              "      <td>3.86600</td>\n",
              "      <td>-2.6383</td>\n",
              "      <td>1.9242</td>\n",
              "      <td>0.10645</td>\n",
              "      <td>0</td>\n",
              "    </tr>\n",
              "    <tr>\n",
              "      <th>3</th>\n",
              "      <td>3.45660</td>\n",
              "      <td>9.5228</td>\n",
              "      <td>-4.0112</td>\n",
              "      <td>-3.59440</td>\n",
              "      <td>0</td>\n",
              "    </tr>\n",
              "    <tr>\n",
              "      <th>4</th>\n",
              "      <td>0.32924</td>\n",
              "      <td>-4.4552</td>\n",
              "      <td>4.5718</td>\n",
              "      <td>-0.98880</td>\n",
              "      <td>0</td>\n",
              "    </tr>\n",
              "  </tbody>\n",
              "</table>\n",
              "</div>"
            ],
            "text/plain": [
              "   Variance  Skewness  Curtosis  Entropy  Class\n",
              "0   3.62160    8.6661   -2.8073 -0.44699      0\n",
              "1   4.54590    8.1674   -2.4586 -1.46210      0\n",
              "2   3.86600   -2.6383    1.9242  0.10645      0\n",
              "3   3.45660    9.5228   -4.0112 -3.59440      0\n",
              "4   0.32924   -4.4552    4.5718 -0.98880      0"
            ]
          },
          "metadata": {
            "tags": []
          },
          "execution_count": 1
        }
      ]
    },
    {
      "cell_type": "code",
      "metadata": {
        "id": "spnw3zV5Fgvi",
        "colab": {
          "base_uri": "https://localhost:8080/",
          "height": 588
        },
        "outputId": "6537f1a6-df59-4f41-fa62-3c77b2ed60be"
      },
      "source": [
        "### inspecting the data ###\n",
        "print('--- INSPECTING THE DATA --- ')\n",
        "print('--- columns --- ')\n",
        "print(df.columns) \n",
        "print('--- types --- ')\n",
        "print(df.dtypes) \n",
        "print('--- NA counts --- ')\n",
        "print(df.isna().sum()) \n",
        "# print('--- object descriptions --- ')\n",
        "# print(df.describe(include=object))\n",
        "print('--- numericals descriptions --- ')\n",
        "df.describe()"
      ],
      "execution_count": 2,
      "outputs": [
        {
          "output_type": "stream",
          "text": [
            "--- INSPECTING THE DATA --- \n",
            "--- columns --- \n",
            "Index(['Variance', 'Skewness', 'Curtosis', 'Entropy', 'Class'], dtype='object')\n",
            "--- types --- \n",
            "Variance    float64\n",
            "Skewness    float64\n",
            "Curtosis    float64\n",
            "Entropy     float64\n",
            "Class         int64\n",
            "dtype: object\n",
            "--- NA counts --- \n",
            "Variance    0\n",
            "Skewness    0\n",
            "Curtosis    0\n",
            "Entropy     0\n",
            "Class       0\n",
            "dtype: int64\n",
            "--- numericals descriptions --- \n"
          ],
          "name": "stdout"
        },
        {
          "output_type": "execute_result",
          "data": {
            "text/html": [
              "<div>\n",
              "<style scoped>\n",
              "    .dataframe tbody tr th:only-of-type {\n",
              "        vertical-align: middle;\n",
              "    }\n",
              "\n",
              "    .dataframe tbody tr th {\n",
              "        vertical-align: top;\n",
              "    }\n",
              "\n",
              "    .dataframe thead th {\n",
              "        text-align: right;\n",
              "    }\n",
              "</style>\n",
              "<table border=\"1\" class=\"dataframe\">\n",
              "  <thead>\n",
              "    <tr style=\"text-align: right;\">\n",
              "      <th></th>\n",
              "      <th>Variance</th>\n",
              "      <th>Skewness</th>\n",
              "      <th>Curtosis</th>\n",
              "      <th>Entropy</th>\n",
              "      <th>Class</th>\n",
              "    </tr>\n",
              "  </thead>\n",
              "  <tbody>\n",
              "    <tr>\n",
              "      <th>count</th>\n",
              "      <td>1372.000000</td>\n",
              "      <td>1372.000000</td>\n",
              "      <td>1372.000000</td>\n",
              "      <td>1372.000000</td>\n",
              "      <td>1372.000000</td>\n",
              "    </tr>\n",
              "    <tr>\n",
              "      <th>mean</th>\n",
              "      <td>0.433735</td>\n",
              "      <td>1.922353</td>\n",
              "      <td>1.397627</td>\n",
              "      <td>-1.191657</td>\n",
              "      <td>0.444606</td>\n",
              "    </tr>\n",
              "    <tr>\n",
              "      <th>std</th>\n",
              "      <td>2.842763</td>\n",
              "      <td>5.869047</td>\n",
              "      <td>4.310030</td>\n",
              "      <td>2.101013</td>\n",
              "      <td>0.497103</td>\n",
              "    </tr>\n",
              "    <tr>\n",
              "      <th>min</th>\n",
              "      <td>-7.042100</td>\n",
              "      <td>-13.773100</td>\n",
              "      <td>-5.286100</td>\n",
              "      <td>-8.548200</td>\n",
              "      <td>0.000000</td>\n",
              "    </tr>\n",
              "    <tr>\n",
              "      <th>25%</th>\n",
              "      <td>-1.773000</td>\n",
              "      <td>-1.708200</td>\n",
              "      <td>-1.574975</td>\n",
              "      <td>-2.413450</td>\n",
              "      <td>0.000000</td>\n",
              "    </tr>\n",
              "    <tr>\n",
              "      <th>50%</th>\n",
              "      <td>0.496180</td>\n",
              "      <td>2.319650</td>\n",
              "      <td>0.616630</td>\n",
              "      <td>-0.586650</td>\n",
              "      <td>0.000000</td>\n",
              "    </tr>\n",
              "    <tr>\n",
              "      <th>75%</th>\n",
              "      <td>2.821475</td>\n",
              "      <td>6.814625</td>\n",
              "      <td>3.179250</td>\n",
              "      <td>0.394810</td>\n",
              "      <td>1.000000</td>\n",
              "    </tr>\n",
              "    <tr>\n",
              "      <th>max</th>\n",
              "      <td>6.824800</td>\n",
              "      <td>12.951600</td>\n",
              "      <td>17.927400</td>\n",
              "      <td>2.449500</td>\n",
              "      <td>1.000000</td>\n",
              "    </tr>\n",
              "  </tbody>\n",
              "</table>\n",
              "</div>"
            ],
            "text/plain": [
              "          Variance     Skewness     Curtosis      Entropy        Class\n",
              "count  1372.000000  1372.000000  1372.000000  1372.000000  1372.000000\n",
              "mean      0.433735     1.922353     1.397627    -1.191657     0.444606\n",
              "std       2.842763     5.869047     4.310030     2.101013     0.497103\n",
              "min      -7.042100   -13.773100    -5.286100    -8.548200     0.000000\n",
              "25%      -1.773000    -1.708200    -1.574975    -2.413450     0.000000\n",
              "50%       0.496180     2.319650     0.616630    -0.586650     0.000000\n",
              "75%       2.821475     6.814625     3.179250     0.394810     1.000000\n",
              "max       6.824800    12.951600    17.927400     2.449500     1.000000"
            ]
          },
          "metadata": {
            "tags": []
          },
          "execution_count": 2
        }
      ]
    },
    {
      "cell_type": "code",
      "metadata": {
        "id": "PpmJ5vueFg1U",
        "colab": {
          "base_uri": "https://localhost:8080/",
          "height": 217
        },
        "outputId": "89e7fe35-715a-48c6-995d-5f428a7929d7"
      },
      "source": [
        "### view basic feature correlations ###\n",
        "print('--- feature correlations ---')\n",
        "df.corr()"
      ],
      "execution_count": 3,
      "outputs": [
        {
          "output_type": "stream",
          "text": [
            "--- feature correlations ---\n"
          ],
          "name": "stdout"
        },
        {
          "output_type": "execute_result",
          "data": {
            "text/html": [
              "<div>\n",
              "<style scoped>\n",
              "    .dataframe tbody tr th:only-of-type {\n",
              "        vertical-align: middle;\n",
              "    }\n",
              "\n",
              "    .dataframe tbody tr th {\n",
              "        vertical-align: top;\n",
              "    }\n",
              "\n",
              "    .dataframe thead th {\n",
              "        text-align: right;\n",
              "    }\n",
              "</style>\n",
              "<table border=\"1\" class=\"dataframe\">\n",
              "  <thead>\n",
              "    <tr style=\"text-align: right;\">\n",
              "      <th></th>\n",
              "      <th>Variance</th>\n",
              "      <th>Skewness</th>\n",
              "      <th>Curtosis</th>\n",
              "      <th>Entropy</th>\n",
              "      <th>Class</th>\n",
              "    </tr>\n",
              "  </thead>\n",
              "  <tbody>\n",
              "    <tr>\n",
              "      <th>Variance</th>\n",
              "      <td>1.000000</td>\n",
              "      <td>0.264026</td>\n",
              "      <td>-0.380850</td>\n",
              "      <td>0.276817</td>\n",
              "      <td>-0.724843</td>\n",
              "    </tr>\n",
              "    <tr>\n",
              "      <th>Skewness</th>\n",
              "      <td>0.264026</td>\n",
              "      <td>1.000000</td>\n",
              "      <td>-0.786895</td>\n",
              "      <td>-0.526321</td>\n",
              "      <td>-0.444688</td>\n",
              "    </tr>\n",
              "    <tr>\n",
              "      <th>Curtosis</th>\n",
              "      <td>-0.380850</td>\n",
              "      <td>-0.786895</td>\n",
              "      <td>1.000000</td>\n",
              "      <td>0.318841</td>\n",
              "      <td>0.155883</td>\n",
              "    </tr>\n",
              "    <tr>\n",
              "      <th>Entropy</th>\n",
              "      <td>0.276817</td>\n",
              "      <td>-0.526321</td>\n",
              "      <td>0.318841</td>\n",
              "      <td>1.000000</td>\n",
              "      <td>-0.023424</td>\n",
              "    </tr>\n",
              "    <tr>\n",
              "      <th>Class</th>\n",
              "      <td>-0.724843</td>\n",
              "      <td>-0.444688</td>\n",
              "      <td>0.155883</td>\n",
              "      <td>-0.023424</td>\n",
              "      <td>1.000000</td>\n",
              "    </tr>\n",
              "  </tbody>\n",
              "</table>\n",
              "</div>"
            ],
            "text/plain": [
              "          Variance  Skewness  Curtosis   Entropy     Class\n",
              "Variance  1.000000  0.264026 -0.380850  0.276817 -0.724843\n",
              "Skewness  0.264026  1.000000 -0.786895 -0.526321 -0.444688\n",
              "Curtosis -0.380850 -0.786895  1.000000  0.318841  0.155883\n",
              "Entropy   0.276817 -0.526321  0.318841  1.000000 -0.023424\n",
              "Class    -0.724843 -0.444688  0.155883 -0.023424  1.000000"
            ]
          },
          "metadata": {
            "tags": []
          },
          "execution_count": 3
        }
      ]
    },
    {
      "cell_type": "code",
      "metadata": {
        "id": "C9bW02dtFn-d",
        "colab": {
          "base_uri": "https://localhost:8080/",
          "height": 463
        },
        "outputId": "b23cc213-fb64-4ae2-a711-47ef07d8efff"
      },
      "source": [
        "### view basic feature correlations in a heatmap ###\n",
        "import seaborn as sns \n",
        "import matplotlib.pyplot as plt \n",
        "f, ax = plt.subplots(1, 1, figsize = (10, 7))\n",
        "print('--- feature correlations heatmap ---')\n",
        "sns.heatmap(df.corr() , cmap = 'Wistia' , annot = True)"
      ],
      "execution_count": 4,
      "outputs": [
        {
          "output_type": "stream",
          "text": [
            "--- feature correlations heatmap ---\n"
          ],
          "name": "stdout"
        },
        {
          "output_type": "execute_result",
          "data": {
            "text/plain": [
              "<matplotlib.axes._subplots.AxesSubplot at 0x7f5f7d9ca908>"
            ]
          },
          "metadata": {
            "tags": []
          },
          "execution_count": 4
        },
        {
          "output_type": "display_data",
          "data": {
            "image/png": "[encoded data removed]",
            "text/plain": [
              "<Figure size 720x504 with 2 Axes>"
            ]
          },
          "metadata": {
            "tags": [],
            "needs_background": "light"
          }
        }
      ]
    },
    {
      "cell_type": "code",
      "metadata": {
        "id": "nrg4SlMfFsAS",
        "colab": {
          "base_uri": "https://localhost:8080/",
          "height": 1000
        },
        "outputId": "694dd8a2-9f7a-4f1a-e581-2bfd2b0f95cd"
      },
      "source": [
        "### view scatter plots for each feature vs. target ###\n",
        "import matplotlib.pyplot as plt \n",
        "target_ = 'Class' # set the target\n",
        "features_ = df.iloc[:, 0:4] # set the features\n",
        "print('--- bar plots ---')\n",
        "for feature in features_:\n",
        "    figure = plt.figure\n",
        "    f, ax = plt.subplots(1, 1, figsize = (10, 7))\n",
        "    ax = plt.gca()\n",
        "    ax.bar(df[target_], df[feature])\n",
        "    ax.set_xlabel(target_)\n",
        "    ax.set_ylabel(feature)\n",
        "    ax.set_title(f'''{target_} vs {feature}''')\n",
        "    plt.show()"
      ],
      "execution_count": 5,
      "outputs": [
        {
          "output_type": "stream",
          "text": [
            "--- bar plots ---\n"
          ],
          "name": "stdout"
        },
        {
          "output_type": "display_data",
          "data": {
            "image/png": "[encoded data removed]",
            "text/plain": [
              "<Figure size 720x504 with 1 Axes>"
            ]
          },
          "metadata": {
            "tags": [],
            "needs_background": "light"
          }
        },
        {
          "output_type": "display_data",
          "data": {
            "image/png": "[encoded data removed]",
            "text/plain": [
              "<Figure size 720x504 with 1 Axes>"
            ]
          },
          "metadata": {
            "tags": [],
            "needs_background": "light"
          }
        },
        {
          "output_type": "display_data",
          "data": {
            "image/png": "[encoded data removed]",
            "text/plain": [
              "<Figure size 720x504 with 1 Axes>"
            ]
          },
          "metadata": {
            "tags": [],
            "needs_background": "light"
          }
        },
        {
          "output_type": "display_data",
          "data": {
            "image/png": "[encoded data removed]",
            "text/plain": [
              "<Figure size 720x504 with 1 Axes>"
            ]
          },
          "metadata": {
            "tags": [],
            "needs_background": "light"
          }
        }
      ]
    },
    {
      "cell_type": "markdown",
      "metadata": {
        "id": "lDphJ8RoFzqA"
      },
      "source": [
        "##### Encode + Clean + Organize\n",
        "\n",
        "\n"
      ]
    },
    {
      "cell_type": "code",
      "metadata": {
        "id": "w9hRxBUxyK3y"
      },
      "source": [
        "### encoding not necessary with this example, all are numericals ###"
      ],
      "execution_count": null,
      "outputs": []
    },
    {
      "cell_type": "code",
      "metadata": {
        "id": "oOHvjqS3FsRc",
        "colab": {
          "base_uri": "https://localhost:8080/",
          "height": 1000
        },
        "outputId": "492f9688-e560-4427-c4d1-67e936ce7d3d"
      },
      "source": [
        "### check for outliers in the data ### \n",
        "import matplotlib.pyplot as plt\n",
        "# view each feature in a boxplot \n",
        "for column in df:\n",
        "    plt.figure() # plot figure \n",
        "    f, ax = plt.subplots(1, 1, figsize = (10, 7))\n",
        "    df.boxplot([column]) # set data"
      ],
      "execution_count": 6,
      "outputs": [
        {
          "output_type": "display_data",
          "data": {
            "text/plain": [
              "<Figure size 432x288 with 0 Axes>"
            ]
          },
          "metadata": {
            "tags": []
          }
        },
        {
          "output_type": "display_data",
          "data": {
            "image/png": "[encoded data removed]",
            "text/plain": [
              "<Figure size 720x504 with 1 Axes>"
            ]
          },
          "metadata": {
            "tags": [],
            "needs_background": "light"
          }
        },
        {
          "output_type": "display_data",
          "data": {
            "text/plain": [
              "<Figure size 432x288 with 0 Axes>"
            ]
          },
          "metadata": {
            "tags": []
          }
        },
        {
          "output_type": "display_data",
          "data": {
            "image/png": "[encoded data removed]",
            "text/plain": [
              "<Figure size 720x504 with 1 Axes>"
            ]
          },
          "metadata": {
            "tags": [],
            "needs_background": "light"
          }
        },
        {
          "output_type": "display_data",
          "data": {
            "text/plain": [
              "<Figure size 432x288 with 0 Axes>"
            ]
          },
          "metadata": {
            "tags": []
          }
        },
        {
          "output_type": "display_data",
          "data": {
            "image/png": "[encoded data removed]",
            "text/plain": [
              "<Figure size 720x504 with 1 Axes>"
            ]
          },
          "metadata": {
            "tags": [],
            "needs_background": "light"
          }
        },
        {
          "output_type": "display_data",
          "data": {
            "text/plain": [
              "<Figure size 432x288 with 0 Axes>"
            ]
          },
          "metadata": {
            "tags": []
          }
        },
        {
          "output_type": "display_data",
          "data": {
            "image/png": "[encoded data removed]",
            "text/plain": [
              "<Figure size 720x504 with 1 Axes>"
            ]
          },
          "metadata": {
            "tags": [],
            "needs_background": "light"
          }
        },
        {
          "output_type": "display_data",
          "data": {
            "text/plain": [
              "<Figure size 432x288 with 0 Axes>"
            ]
          },
          "metadata": {
            "tags": []
          }
        },
        {
          "output_type": "display_data",
          "data": {
            "image/png": "[encoded data removed]",
            "text/plain": [
              "<Figure size 720x504 with 1 Axes>"
            ]
          },
          "metadata": {
            "tags": [],
            "needs_background": "light"
          }
        }
      ]
    },
    {
      "cell_type": "code",
      "metadata": {
        "id": "bIqQuKD4FseH"
      },
      "source": [
        "### function to find outliers in the data ###\n",
        "def outlier_zscore(data):\n",
        "    global outliers,zscore\n",
        "    outliers = [] \n",
        "    zscore = [] \n",
        "    threshold = 3.5 # set threshold \n",
        "    mean = np.mean(data)\n",
        "    std = np.std(data)\n",
        "    for i in data:\n",
        "        z_score = (i - mean)/std # calculate the z_score\n",
        "        zscore.append(z_score) # append the score to the zscore\n",
        "        if np.abs(z_score) > threshold: \n",
        "            outliers.append(i) # append z_score the outliers\n",
        "    print(outliers)\n",
        "    return len(outliers), outliers"
      ],
      "execution_count": 7,
      "outputs": []
    },
    {
      "cell_type": "code",
      "metadata": {
        "id": "Xgriwok5Fsj1",
        "colab": {
          "base_uri": "https://localhost:8080/"
        },
        "outputId": "9d827ce6-591b-4bd6-e87c-984752f1866b"
      },
      "source": [
        "### run each feature 'wanted' through the function ### \n",
        "print('--- possible outliers --- ')\n",
        "Variance_outliers_number, Variance_outliers = outlier_zscore(df.Variance)\n",
        "Skewness_outliers_number, Skewness_outliers = outlier_zscore(df.Skewness)\n",
        "Curtosis_outliers_number, Curtosis_outliers = outlier_zscore(df.Curtosis)\n",
        "Entropy_outliers_number, Entropy_outliers = outlier_zscore(df.Entropy)\n",
        "Class_outliers_number, Class_outliers = outlier_zscore(df.Class)"
      ],
      "execution_count": 8,
      "outputs": [
        {
          "output_type": "stream",
          "text": [
            "--- possible outliers --- \n",
            "[]\n",
            "[]\n",
            "[17.6772, 17.3087, 17.9274, 16.9583, 17.5795, 17.6052, 17.1116, 17.0834, 16.7166, 17.5932]\n",
            "[-8.5482]\n",
            "[]\n"
          ],
          "name": "stdout"
        }
      ]
    },
    {
      "cell_type": "code",
      "metadata": {
        "id": "46dVIiEkF9y5",
        "colab": {
          "base_uri": "https://localhost:8080/"
        },
        "outputId": "d4d800a9-0e0f-4e26-e43f-7ff5ad237d50"
      },
      "source": [
        "### removal of outliers per feature ###\n",
        "for num, i in enumerate(df['Curtosis']): # removing the outliers of 'bmi' \n",
        "    if i in Curtosis_outliers:\n",
        "        df['Curtosis'][num] = 13.5 # 3.5 under the lowest outlier\n",
        "for num, i in enumerate(df['Entropy']): # removing the outliers of 'charges'\n",
        "    if i in Entropy_outliers:\n",
        "        df['Entropy'][num] = -5.5 # 3.5 under the lowest outlier"
      ],
      "execution_count": 9,
      "outputs": [
        {
          "output_type": "stream",
          "text": [
            "/usr/local/lib/python3.6/dist-packages/ipykernel_launcher.py:4: SettingWithCopyWarning: \n",
            "A value is trying to be set on a copy of a slice from a DataFrame\n",
            "\n",
            "See the caveats in the documentation: https://pandas.pydata.org/pandas-docs/stable/user_guide/indexing.html#returning-a-view-versus-a-copy\n",
            "  after removing the cwd from sys.path.\n",
            "/usr/local/lib/python3.6/dist-packages/ipykernel_launcher.py:7: SettingWithCopyWarning: \n",
            "A value is trying to be set on a copy of a slice from a DataFrame\n",
            "\n",
            "See the caveats in the documentation: https://pandas.pydata.org/pandas-docs/stable/user_guide/indexing.html#returning-a-view-versus-a-copy\n",
            "  import sys\n"
          ],
          "name": "stderr"
        }
      ]
    },
    {
      "cell_type": "markdown",
      "metadata": {
        "id": "aOT1Nh5RkS9-"
      },
      "source": [
        "#### Random Forest Classification\n",
        " - GridSearch CV\n",
        " - RandomSearch CV"
      ]
    },
    {
      "cell_type": "code",
      "metadata": {
        "id": "CwIIXoqyKO_c"
      },
      "source": [
        "### copy the data frame ### \n",
        "df1 = df.copy()"
      ],
      "execution_count": 10,
      "outputs": []
    },
    {
      "cell_type": "code",
      "metadata": {
        "id": "zkLcjkiDGVTx",
        "colab": {
          "base_uri": "https://localhost:8080/"
        },
        "outputId": "3813156e-bf17-4bf1-ba2c-2dbcb4316cc3"
      },
      "source": [
        "### split the data into features & target sets ###\n",
        "X = df1.iloc[:, 0:4].values # set the features\n",
        "y = df1.iloc[:, 4].values # set the target \n",
        "print('--- data shapes --- ')\n",
        "print('X shape:', X.shape) \n",
        "print('y shape:', y.shape) "
      ],
      "execution_count": 11,
      "outputs": [
        {
          "output_type": "stream",
          "text": [
            "--- data shapes --- \n",
            "X shape: (1372, 4)\n",
            "y shape: (1372,)\n"
          ],
          "name": "stdout"
        }
      ]
    },
    {
      "cell_type": "code",
      "metadata": {
        "id": "c0G4cj3Bk1-7"
      },
      "source": [
        "### set the train test split parameters ###\n",
        "from sklearn.model_selection import train_test_split\n",
        "X_train, X_test, y_train, y_test = train_test_split(X, y, test_size=0.2, random_state=0) # split 80/20 "
      ],
      "execution_count": 12,
      "outputs": []
    },
    {
      "cell_type": "code",
      "metadata": {
        "id": "v01A9wtDMutL"
      },
      "source": [
        "### feature scaling ### \n",
        "from sklearn.preprocessing import StandardScaler\n",
        "sc = StandardScaler() # initiate the scalar   \n",
        "X_train = sc.fit_transform(X_train) # fit transform the data with scalar\n",
        "X_test = sc.transform(X_test) # fit transform the data with scalar"
      ],
      "execution_count": 14,
      "outputs": []
    },
    {
      "cell_type": "code",
      "metadata": {
        "colab": {
          "base_uri": "https://localhost:8080/"
        },
        "id": "Asq3aOLKc8rC",
        "outputId": "67ddac73-552a-4f44-c340-413d3a98de4c"
      },
      "source": [
        "model.get_params()"
      ],
      "execution_count": 16,
      "outputs": [
        {
          "output_type": "execute_result",
          "data": {
            "text/plain": [
              "{'C': 1.0,\n",
              " 'class_weight': None,\n",
              " 'dual': False,\n",
              " 'fit_intercept': True,\n",
              " 'intercept_scaling': 1,\n",
              " 'l1_ratio': None,\n",
              " 'max_iter': 100,\n",
              " 'multi_class': 'auto',\n",
              " 'n_jobs': None,\n",
              " 'penalty': 'l2',\n",
              " 'random_state': None,\n",
              " 'solver': 'lbfgs',\n",
              " 'tol': 0.0001,\n",
              " 'verbose': 0,\n",
              " 'warm_start': False}"
            ]
          },
          "metadata": {
            "tags": []
          },
          "execution_count": 16
        }
      ]
    },
    {
      "cell_type": "code",
      "metadata": {
        "id": "gRpVTW_oQYj0",
        "colab": {
          "base_uri": "https://localhost:8080/"
        },
        "outputId": "be0d064d-9f59-426f-ff8a-13a341347a64"
      },
      "source": [
        "### logistic regression ###\n",
        "from sklearn.linear_model import LogisticRegression\n",
        "from sklearn import metrics\n",
        "model = LogisticRegression()\n",
        "model.fit(X_train, y_train)\n",
        "y_pred = model.predict(X_test) \n",
        "#### create data frame of predictions and results ### \n",
        "y_pred_df = pd.DataFrame(y_pred, columns=[\"Predicted_Values\" ])\n",
        "y_test_df = pd.DataFrame(np.array(y_test), columns=[\"Real_Values\"])\n",
        "df_final = pd.concat([y_test_df , y_pred_df] , axis=1)\n",
        "print('--- real values vs predicted values ---')\n",
        "print(df_final.head())\n",
        "### get the model metrics ###\n",
        "print('--- model metrics ---')\n",
        "print('mean absolute error:', metrics.mean_absolute_error(y_test, y_pred)) # mae \n",
        "print('mean squared error:', metrics.mean_squared_error(y_test, y_pred)) # mse \n",
        "print('root mean squared error:', np.sqrt(metrics.mean_squared_error(y_test, y_pred))) # rmse\n",
        "score = metrics.r2_score(y_test , y_pred) # get the r2 score \n",
        "print(\"r2 score = {}\".format(score)) # show the r2 score\n",
        "print('model score=', model.score(X_train, y_train)) # show the model score \n",
        "print(\"model accuracy= {}%\".format(score * 100)) # show the model accuracy\n",
        "print('--- confusion matrix ---')\n",
        "print(metrics.confusion_matrix(y_test,y_pred)) # confusion matrix\n",
        "print('--- classification report ---') \n",
        "print(metrics.classification_report(y_test,y_pred)) # classificatin report\n",
        "print('model accuracy score=', metrics.accuracy_score(y_test, y_pred)) # model accuracy"
      ],
      "execution_count": 15,
      "outputs": [
        {
          "output_type": "stream",
          "text": [
            "--- real values vs predicted values ---\n",
            "   Real_Values  Predicted_Values\n",
            "0            1                 1\n",
            "1            0                 0\n",
            "2            1                 1\n",
            "3            0                 0\n",
            "4            0                 0\n",
            "--- model metrics ---\n",
            "mean absolute error: 0.01090909090909091\n",
            "mean squared error: 0.01090909090909091\n",
            "root mean squared error: 0.1044465935734187\n",
            "r2 score = 0.9554679909316636\n",
            "model score= 0.9799453053783045\n",
            "model accuracy= 95.54679909316636%\n",
            "--- confusion matrix ---\n",
            "[[154   3]\n",
            " [  0 118]]\n",
            "--- classification report ---\n",
            "              precision    recall  f1-score   support\n",
            "\n",
            "           0       1.00      0.98      0.99       157\n",
            "           1       0.98      1.00      0.99       118\n",
            "\n",
            "    accuracy                           0.99       275\n",
            "   macro avg       0.99      0.99      0.99       275\n",
            "weighted avg       0.99      0.99      0.99       275\n",
            "\n",
            "model accuracy score= 0.9890909090909091\n"
          ],
          "name": "stdout"
        }
      ]
    },
    {
      "cell_type": "code",
      "metadata": {
        "colab": {
          "base_uri": "https://localhost:8080/",
          "height": 560
        },
        "id": "d-oyZqh7LiQB",
        "outputId": "406646c1-061c-4e61-b8fa-6430f5662300"
      },
      "source": [
        "### visualize the model prediction accuracy ###\n",
        "import seaborn as sns\n",
        "import matplotlib.pyplot as plt\n",
        "### configure the plot ###\n",
        "print('--- distplot accuracy --- ')\n",
        "f, ax = plt.subplots(1, 1, figsize = (10, 7))\n",
        "ax1 = sns.distplot(y_test, hist=False, color=\"b\", label=\"Actual Values\")\n",
        "sns.distplot(y_pred, hist=False, color=\"r\", label=\"Predicted Values\" , axlabel='Charges', ax=ax1)\n",
        "plt.legend()"
      ],
      "execution_count": 17,
      "outputs": [
        {
          "output_type": "stream",
          "text": [
            "--- distplot accuracy --- \n"
          ],
          "name": "stdout"
        },
        {
          "output_type": "stream",
          "text": [
            "/usr/local/lib/python3.6/dist-packages/seaborn/distributions.py:2557: FutureWarning: `distplot` is a deprecated function and will be removed in a future version. Please adapt your code to use either `displot` (a figure-level function with similar flexibility) or `kdeplot` (an axes-level function for kernel density plots).\n",
            "  warnings.warn(msg, FutureWarning)\n",
            "/usr/local/lib/python3.6/dist-packages/seaborn/distributions.py:2557: FutureWarning: `distplot` is a deprecated function and will be removed in a future version. Please adapt your code to use either `displot` (a figure-level function with similar flexibility) or `kdeplot` (an axes-level function for kernel density plots).\n",
            "  warnings.warn(msg, FutureWarning)\n"
          ],
          "name": "stderr"
        },
        {
          "output_type": "execute_result",
          "data": {
            "text/plain": [
              "<matplotlib.legend.Legend at 0x7f5f74547748>"
            ]
          },
          "metadata": {
            "tags": []
          },
          "execution_count": 17
        },
        {
          "output_type": "display_data",
          "data": {
            "image/png": "[encoded data removed]",
            "text/plain": [
              "<Figure size 720x504 with 1 Axes>"
            ]
          },
          "metadata": {
            "tags": [],
            "needs_background": "light"
          }
        }
      ]
    },
    {
      "cell_type": "markdown",
      "metadata": {
        "id": "-0I1U2VGQtSR"
      },
      "source": [
        "###### GridSearch CV"
      ]
    },
    {
      "cell_type": "code",
      "metadata": {
        "id": "oeVJgt_-LySf"
      },
      "source": [
        "### copy the data frame ###\n",
        "df2 = df.copy()"
      ],
      "execution_count": 35,
      "outputs": []
    },
    {
      "cell_type": "code",
      "metadata": {
        "colab": {
          "base_uri": "https://localhost:8080/"
        },
        "id": "MJaIPEjmLydT",
        "outputId": "eb6ce441-b667-4cd7-e221-9f021b00d617"
      },
      "source": [
        "### split the data into features & target sets ###\n",
        "# for single regression select 1 feature\n",
        "X = df2.iloc[:, 0:4].values # set the features\n",
        "y = df2.iloc[:, 4].values # set the target \n",
        "print('--- data shapes --- ')\n",
        "print('X shape:', X.shape) \n",
        "print('y shape:', y.shape) "
      ],
      "execution_count": 54,
      "outputs": [
        {
          "output_type": "stream",
          "text": [
            "--- data shapes --- \n",
            "X shape: (1372, 4)\n",
            "y shape: (1372,)\n"
          ],
          "name": "stdout"
        }
      ]
    },
    {
      "cell_type": "code",
      "metadata": {
        "id": "J1-KnEOnLymV"
      },
      "source": [
        "### set the train test split parameters ###\n",
        "from sklearn.model_selection import train_test_split\n",
        "X_train, X_test, y_train, y_test = train_test_split(X, y, test_size=0.2, random_state=0) # split 80/20 "
      ],
      "execution_count": 55,
      "outputs": []
    },
    {
      "cell_type": "code",
      "metadata": {
        "id": "axHXHqAjLyu9"
      },
      "source": [
        "### feature scaling ### \n",
        "from sklearn.preprocessing import StandardScaler\n",
        "sc = StandardScaler() # initiate the scalar   \n",
        "X_train = sc.fit_transform(X_train) # fit transform the data with scalar\n",
        "X_test = sc.transform(X_test) # fit transform the data with scalar"
      ],
      "execution_count": 56,
      "outputs": []
    },
    {
      "cell_type": "code",
      "metadata": {
        "colab": {
          "base_uri": "https://localhost:8080/"
        },
        "id": "A0NGmSV3MCA7",
        "outputId": "92050d7c-6ade-4fce-9493-0e58fb865ae8"
      },
      "source": [
        "model.get_params()"
      ],
      "execution_count": 22,
      "outputs": [
        {
          "output_type": "execute_result",
          "data": {
            "text/plain": [
              "{'C': 1.0,\n",
              " 'class_weight': None,\n",
              " 'dual': False,\n",
              " 'fit_intercept': True,\n",
              " 'intercept_scaling': 1,\n",
              " 'l1_ratio': None,\n",
              " 'max_iter': 100,\n",
              " 'multi_class': 'auto',\n",
              " 'n_jobs': None,\n",
              " 'penalty': 'l2',\n",
              " 'random_state': None,\n",
              " 'solver': 'lbfgs',\n",
              " 'tol': 0.0001,\n",
              " 'verbose': 0,\n",
              " 'warm_start': False}"
            ]
          },
          "metadata": {
            "tags": []
          },
          "execution_count": 22
        }
      ]
    },
    {
      "cell_type": "code",
      "metadata": {
        "id": "Ev3_XbnvyPYe",
        "colab": {
          "base_uri": "https://localhost:8080/"
        },
        "outputId": "85152aca-6453-4e9a-b6cb-ced882f4dc0b"
      },
      "source": [
        "### logistic regression + gridsearch CV model ###\n",
        "from sklearn.linear_model import LogisticRegression\n",
        "from sklearn.model_selection import GridSearchCV\n",
        "model1 = LogisticRegression()\n",
        "param_grid ={ \n",
        "            'C': [0.001, 0.01, 0.1, 1, 10, 100, 1000],\n",
        "            # 'class_weight': None,\n",
        "            #'dual': [True, False],\n",
        "            # 'fit_intercept': True,\n",
        "            # 'intercept_scaling': 1,\n",
        "            # 'l1_ratio': None,\n",
        "            #'max_iter': [5, 100, 500, 1000],\n",
        "            # 'multi_class': 'auto',\n",
        "            # 'n_jobs': None,\n",
        "            #'penalty': ['l2'],\n",
        "            # 'random_state': None,\n",
        "            # 'solver': ['lbfgs', 'newton-cg', 'liblinear', 'sag', 'saga'],\n",
        "            # 'tol': 0.0001,\n",
        "            # 'verbose': [1],\n",
        "            # 'warm_start': [True, False]\n",
        "            }\n",
        "CV_rfc = GridSearchCV(estimator=model1, param_grid=param_grid, cv=3) \n",
        "print('--- model runtime --- ')\n",
        "%time CV_rfc.fit(X_train, y_train)\n",
        "print('--- best params --- ')\n",
        "CV_rfc.best_params_"
      ],
      "execution_count": 57,
      "outputs": [
        {
          "output_type": "stream",
          "text": [
            "--- model runtime --- \n",
            "CPU times: user 122 ms, sys: 2.97 ms, total: 125 ms\n",
            "Wall time: 132 ms\n",
            "--- best params --- \n"
          ],
          "name": "stdout"
        },
        {
          "output_type": "execute_result",
          "data": {
            "text/plain": [
              "{'C': 100}"
            ]
          },
          "metadata": {
            "tags": []
          },
          "execution_count": 57
        }
      ]
    },
    {
      "cell_type": "code",
      "metadata": {
        "id": "AUERwTFPNprK",
        "colab": {
          "base_uri": "https://localhost:8080/"
        },
        "outputId": "83d77ca1-008e-4b9a-bb26-a8d793b2b9ab"
      },
      "source": [
        "### logistic regression + grid best params ###\n",
        "from sklearn.linear_model import LogisticRegression\n",
        "from sklearn import metrics\n",
        "model1 = LogisticRegression(\n",
        "                            C= 100\n",
        "                            )\n",
        "print('--- model runtime --- ')\n",
        "%time model1.fit(X_train, y_train)\n",
        "y_pred = model1.predict(X_test) \n",
        "#### create data frame of predictions and results ### \n",
        "y_pred_df = pd.DataFrame(y_pred, columns=[\"Predicted_Values\" ])\n",
        "y_test_df = pd.DataFrame(np.array(y_test), columns=[\"Real_Values\"])\n",
        "df_final = pd.concat([y_test_df , y_pred_df] , axis=1)\n",
        "print('--- real values vs predicted values ---')\n",
        "print(df_final.head())\n",
        "### get the model1 metrics ###\n",
        "print('--- model metrics ---')\n",
        "print('mean absolute error:', metrics.mean_absolute_error(y_test, y_pred)) # mae \n",
        "print('mean squared error:', metrics.mean_squared_error(y_test, y_pred)) # mse \n",
        "print('root mean squared error:', np.sqrt(metrics.mean_squared_error(y_test, y_pred))) # rmse\n",
        "score = metrics.r2_score(y_test , y_pred) # get the r2 score \n",
        "print(\"r2 score = {}\".format(score)) # show the r2 score\n",
        "print('model score=', model1.score(X_train, y_train)) # show the model score \n",
        "print(\"model accuracy= {}%\".format(score * 100)) # show the model accuracy\n",
        "print('--- confusion matrix ---')\n",
        "print(metrics.confusion_matrix(y_test,y_pred)) # confusion matrix\n",
        "print('--- classification report ---') \n",
        "print(metrics.classification_report(y_test,y_pred)) # classificatin report\n",
        "print('model1 accuracy score=', metrics.accuracy_score(y_test, y_pred)) # model accuracy"
      ],
      "execution_count": 58,
      "outputs": [
        {
          "output_type": "stream",
          "text": [
            "--- model runtime --- \n",
            "CPU times: user 13.9 ms, sys: 1.02 ms, total: 14.9 ms\n",
            "Wall time: 15.4 ms\n",
            "--- real values vs predicted values ---\n",
            "   Real_Values  Predicted_Values\n",
            "0            1                 1\n",
            "1            0                 0\n",
            "2            1                 1\n",
            "3            0                 0\n",
            "4            0                 0\n",
            "--- model metrics ---\n",
            "mean absolute error: 0.0036363636363636364\n",
            "mean squared error: 0.0036363636363636364\n",
            "root mean squared error: 0.06030226891555272\n",
            "r2 score = 0.9851559969772212\n",
            "model score= 0.9927073837739289\n",
            "model accuracy= 98.51559969772212%\n",
            "--- confusion matrix ---\n",
            "[[156   1]\n",
            " [  0 118]]\n",
            "--- classification report ---\n",
            "              precision    recall  f1-score   support\n",
            "\n",
            "           0       1.00      0.99      1.00       157\n",
            "           1       0.99      1.00      1.00       118\n",
            "\n",
            "    accuracy                           1.00       275\n",
            "   macro avg       1.00      1.00      1.00       275\n",
            "weighted avg       1.00      1.00      1.00       275\n",
            "\n",
            "model1 accuracy score= 0.9963636363636363\n"
          ],
          "name": "stdout"
        }
      ]
    },
    {
      "cell_type": "code",
      "metadata": {
        "id": "JSa_CfZHQ7QN",
        "colab": {
          "base_uri": "https://localhost:8080/",
          "height": 560
        },
        "outputId": "81b097bf-3521-4966-ab04-3a0dccc140fd"
      },
      "source": [
        "### visualize the model prediction accuracy ###\n",
        "import seaborn as sns\n",
        "import matplotlib.pyplot as plt\n",
        "### configure the plot ###\n",
        "print('--- distplot accuracy --- ')\n",
        "f, ax = plt.subplots(1, 1, figsize = (10, 7))\n",
        "ax1 = sns.distplot(y_test, hist=False, color=\"b\", label=\"Actual Values\")\n",
        "sns.distplot(y_pred, hist=False, color=\"r\", label=\"Predicted Values\" , axlabel='Charges', ax=ax1)\n",
        "plt.legend()"
      ],
      "execution_count": 59,
      "outputs": [
        {
          "output_type": "stream",
          "text": [
            "--- distplot accuracy --- \n"
          ],
          "name": "stdout"
        },
        {
          "output_type": "stream",
          "text": [
            "/usr/local/lib/python3.6/dist-packages/seaborn/distributions.py:2557: FutureWarning: `distplot` is a deprecated function and will be removed in a future version. Please adapt your code to use either `displot` (a figure-level function with similar flexibility) or `kdeplot` (an axes-level function for kernel density plots).\n",
            "  warnings.warn(msg, FutureWarning)\n",
            "/usr/local/lib/python3.6/dist-packages/seaborn/distributions.py:2557: FutureWarning: `distplot` is a deprecated function and will be removed in a future version. Please adapt your code to use either `displot` (a figure-level function with similar flexibility) or `kdeplot` (an axes-level function for kernel density plots).\n",
            "  warnings.warn(msg, FutureWarning)\n"
          ],
          "name": "stderr"
        },
        {
          "output_type": "execute_result",
          "data": {
            "text/plain": [
              "<matplotlib.legend.Legend at 0x7f5f73ca80f0>"
            ]
          },
          "metadata": {
            "tags": []
          },
          "execution_count": 59
        },
        {
          "output_type": "display_data",
          "data": {
            "image/png": "[encoded data removed]",
            "text/plain": [
              "<Figure size 720x504 with 1 Axes>"
            ]
          },
          "metadata": {
            "tags": [],
            "needs_background": "light"
          }
        }
      ]
    },
    {
      "cell_type": "markdown",
      "metadata": {
        "id": "31Bb35w0Qkfi"
      },
      "source": [
        "###### RandomSearch CV"
      ]
    },
    {
      "cell_type": "code",
      "metadata": {
        "id": "OFt0Fhq9NIsH"
      },
      "source": [
        "### copy the data frame ###\n",
        "df3 = df.copy()"
      ],
      "execution_count": 65,
      "outputs": []
    },
    {
      "cell_type": "code",
      "metadata": {
        "colab": {
          "base_uri": "https://localhost:8080/"
        },
        "id": "wRUJiaIaNI2J",
        "outputId": "bf6d0483-1938-4994-dd69-033e43dd744c"
      },
      "source": [
        "### split the data into features & target sets ###\n",
        "# for single regression select the 1 feature\n",
        "X = df3.iloc[:, 0:4].values # set the features\n",
        "y = df3.iloc[:, 4].values # set the target \n",
        "print('--- data shapes --- ')\n",
        "print('X shape:', X.shape) # show the shape \n",
        "print('y shape:', y.shape) # show the shape "
      ],
      "execution_count": 66,
      "outputs": [
        {
          "output_type": "stream",
          "text": [
            "--- data shapes --- \n",
            "X shape: (1372, 4)\n",
            "y shape: (1372,)\n"
          ],
          "name": "stdout"
        }
      ]
    },
    {
      "cell_type": "code",
      "metadata": {
        "id": "iP2Rq9IcNS2k"
      },
      "source": [
        "### set the train test split parameters ###\n",
        "from sklearn.model_selection import train_test_split\n",
        "X_train, X_test, y_train, y_test = train_test_split(X, y, test_size=0.2, random_state=0) # split 80/20"
      ],
      "execution_count": 67,
      "outputs": []
    },
    {
      "cell_type": "code",
      "metadata": {
        "id": "ENr0hKNzNS97"
      },
      "source": [
        "### feature scaling ### \n",
        "from sklearn.preprocessing import StandardScaler\n",
        "sc = StandardScaler() # initiate the scalar   \n",
        "X_train = sc.fit_transform(X_train) # fit transform the data with scalar\n",
        "X_test = sc.transform(X_test) # fit transform the data with scalar"
      ],
      "execution_count": 68,
      "outputs": []
    },
    {
      "cell_type": "code",
      "metadata": {
        "id": "OOKjlSi4Qi8X",
        "colab": {
          "base_uri": "https://localhost:8080/"
        },
        "outputId": "fee562ca-0c32-4baa-9460-38fad08a833b"
      },
      "source": [
        "### logistic regression + randomizedsearch CV model ###\n",
        "from sklearn.linear_model import LogisticRegression\n",
        "from sklearn.model_selection import RandomizedSearchCV\n",
        "model2 = LogisticRegression()\n",
        "param_grid = { \n",
        "            'C': [0.01, 0.1, 1, 10, 100, 1000],\n",
        "            # 'class_weight': None,\n",
        "            #'dual': [True, False],\n",
        "            # 'fit_intercept': True,\n",
        "            # 'intercept_scaling': 1,\n",
        "            # 'l1_ratio': None,\n",
        "            #'max_iter': [5, 100, 500, 1000],\n",
        "            # 'multi_class': 'auto',\n",
        "            # 'n_jobs': None,\n",
        "            #'penalty': ['l2'],\n",
        "            # 'random_state': None,\n",
        "            # 'solver': ['lbfgs', 'newton-cg', 'liblinear', 'sag', 'saga'],\n",
        "            # 'tol': 0.0001,\n",
        "            # 'verbose': [1],\n",
        "            # 'warm_start': [True, False]\n",
        "            }\n",
        "CV_rfc = RandomizedSearchCV(model2, param_grid, cv=3) \n",
        "%time CV_rfc.fit(X_train, y_train)\n",
        "CV_rfc.best_params_"
      ],
      "execution_count": 72,
      "outputs": [
        {
          "output_type": "stream",
          "text": [
            "CPU times: user 112 ms, sys: 0 ns, total: 112 ms\n",
            "Wall time: 113 ms\n"
          ],
          "name": "stdout"
        },
        {
          "output_type": "stream",
          "text": [
            "/usr/local/lib/python3.6/dist-packages/sklearn/model_selection/_search.py:281: UserWarning: The total space of parameters 6 is smaller than n_iter=10. Running 6 iterations. For exhaustive searches, use GridSearchCV.\n",
            "  % (grid_size, self.n_iter, grid_size), UserWarning)\n"
          ],
          "name": "stderr"
        },
        {
          "output_type": "execute_result",
          "data": {
            "text/plain": [
              "{'C': 100}"
            ]
          },
          "metadata": {
            "tags": []
          },
          "execution_count": 72
        }
      ]
    },
    {
      "cell_type": "code",
      "metadata": {
        "id": "UsLubQOmQ3yl",
        "colab": {
          "base_uri": "https://localhost:8080/"
        },
        "outputId": "cd3af439-cd13-4b09-d967-4fc68e7b9b7f"
      },
      "source": [
        "### logistic regression + random best params ###\n",
        "from sklearn.linear_model import LogisticRegression\n",
        "from sklearn import metrics\n",
        "model2 = LogisticRegression(\n",
        "                                C= 100\n",
        "                                )\n",
        "print('--- model runtime --- ')\n",
        "%time model2.fit(X_train, y_train)\n",
        "y_pred = model2.predict(X_test) \n",
        "#### create data frame of predictions and results ### \n",
        "y_pred_df = pd.DataFrame(y_pred, columns=[\"Predicted_Values\" ])\n",
        "y_test_df = pd.DataFrame(np.array(y_test), columns=[\"Real_Values\"])\n",
        "df_final = pd.concat([y_test_df , y_pred_df] , axis=1)\n",
        "print('--- real values vs predicted values ---')\n",
        "print(df_final.head())\n",
        "### get the model2 metrics ###\n",
        "print('--- model metrics ---')\n",
        "print('mean absolute error:', metrics.mean_absolute_error(y_test, y_pred)) # mae \n",
        "print('mean squared error:', metrics.mean_squared_error(y_test, y_pred)) # mse \n",
        "print('root mean squared error:', np.sqrt(metrics.mean_squared_error(y_test, y_pred))) # rmse\n",
        "score = metrics.r2_score(y_test , y_pred) # get the r2 score \n",
        "print(\"r2 score = {}\".format(score)) # show the r2 score\n",
        "print('model score=', model2.score(X_train, y_train)) # show the model score \n",
        "print(\"model accuracy= {}%\".format(score * 100)) # show the model accuracy\n",
        "print('--- confusion matrix ---')\n",
        "print(metrics.confusion_matrix(y_test,y_pred)) # confusion matrix\n",
        "print('--- classification report ---') \n",
        "print(metrics.classification_report(y_test,y_pred)) # classificatin report\n",
        "print('model2 accuracy score=', metrics.accuracy_score(y_test, y_pred)) # model accuracy"
      ],
      "execution_count": 73,
      "outputs": [
        {
          "output_type": "stream",
          "text": [
            "--- model runtime --- \n",
            "CPU times: user 7.11 ms, sys: 1.01 ms, total: 8.12 ms\n",
            "Wall time: 7.92 ms\n",
            "--- real values vs predicted values ---\n",
            "   Real_Values  Predicted_Values\n",
            "0            1                 1\n",
            "1            0                 0\n",
            "2            1                 1\n",
            "3            0                 0\n",
            "4            0                 0\n",
            "--- model metrics ---\n",
            "mean absolute error: 0.0036363636363636364\n",
            "mean squared error: 0.0036363636363636364\n",
            "root mean squared error: 0.06030226891555272\n",
            "r2 score = 0.9851559969772212\n",
            "model score= 0.9927073837739289\n",
            "model accuracy= 98.51559969772212%\n",
            "--- confusion matrix ---\n",
            "[[156   1]\n",
            " [  0 118]]\n",
            "--- classification report ---\n",
            "              precision    recall  f1-score   support\n",
            "\n",
            "           0       1.00      0.99      1.00       157\n",
            "           1       0.99      1.00      1.00       118\n",
            "\n",
            "    accuracy                           1.00       275\n",
            "   macro avg       1.00      1.00      1.00       275\n",
            "weighted avg       1.00      1.00      1.00       275\n",
            "\n",
            "model2 accuracy score= 0.9963636363636363\n"
          ],
          "name": "stdout"
        }
      ]
    },
    {
      "cell_type": "code",
      "metadata": {
        "id": "NOMVuikON_o_",
        "colab": {
          "base_uri": "https://localhost:8080/",
          "height": 560
        },
        "outputId": "07f671ee-8c17-46f9-f79f-8cea7ceaab84"
      },
      "source": [
        "### visualize the model prediction accuracy ###\n",
        "import seaborn as sns\n",
        "import matplotlib.pyplot as plt\n",
        "### configure the plot ###\n",
        "print('--- distplot accuracy --- ')\n",
        "f, ax = plt.subplots(1, 1, figsize = (10, 7))\n",
        "ax1 = sns.distplot(y_test, hist=False, color=\"b\", label=\"Actual Values\")\n",
        "sns.distplot(y_pred, hist=False, color=\"r\", label=\"Predicted Values\" , axlabel='Charges', ax=ax1)\n",
        "plt.legend()"
      ],
      "execution_count": 74,
      "outputs": [
        {
          "output_type": "stream",
          "text": [
            "--- distplot accuracy --- \n"
          ],
          "name": "stdout"
        },
        {
          "output_type": "stream",
          "text": [
            "/usr/local/lib/python3.6/dist-packages/seaborn/distributions.py:2557: FutureWarning: `distplot` is a deprecated function and will be removed in a future version. Please adapt your code to use either `displot` (a figure-level function with similar flexibility) or `kdeplot` (an axes-level function for kernel density plots).\n",
            "  warnings.warn(msg, FutureWarning)\n",
            "/usr/local/lib/python3.6/dist-packages/seaborn/distributions.py:2557: FutureWarning: `distplot` is a deprecated function and will be removed in a future version. Please adapt your code to use either `displot` (a figure-level function with similar flexibility) or `kdeplot` (an axes-level function for kernel density plots).\n",
            "  warnings.warn(msg, FutureWarning)\n"
          ],
          "name": "stderr"
        },
        {
          "output_type": "execute_result",
          "data": {
            "text/plain": [
              "<matplotlib.legend.Legend at 0x7f5f747ed748>"
            ]
          },
          "metadata": {
            "tags": []
          },
          "execution_count": 74
        },
        {
          "output_type": "display_data",
          "data": {
            "image/png": "[encoded data removed]",
            "text/plain": [
              "<Figure size 720x504 with 1 Axes>"
            ]
          },
          "metadata": {
            "tags": [],
            "needs_background": "light"
          }
        }
      ]
    }
  ]
}