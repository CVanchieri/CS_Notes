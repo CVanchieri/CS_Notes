{
  "nbformat": 4,
  "nbformat_minor": 0,
  "metadata": {
    "colab": {
      "name": "RFMSklearnModels_Notes.ipynb",
      "provenance": [],
      "collapsed_sections": []
    },
    "kernelspec": {
      "name": "python3",
      "display_name": "Python 3"
    }
  },
  "cells": [
    {
      "cell_type": "markdown",
      "metadata": {
        "id": "CFM5sl2ef0Cg"
      },
      "source": [
        "## Scikit-Learn Random Forest Models\n"
      ]
    },
    {
      "cell_type": "markdown",
      "metadata": {
        "id": "pHYXNoDvORIF"
      },
      "source": [
        "### The fundamental idea behind a random forest is to combine many decision trees into a single model. Individually, predictions made by decision trees (or humans) may not be accurate, but combined together, the predictions will be closer to the mark on average. \n",
        "\n",
        "#### Pros \n",
        "- can handle large datasets \n",
        "- less influenced by outliers in the data\n",
        "- no assumptions about underlying distributions in the data\n",
        "- can implicitly handle collinearity in features, highly similar features \n",
        "- work well with heterogeneous features, categorical and numerical, mixing different range values \n",
        "\n",
        "#### Cons\n",
        "- robust algorithm makes it more complex tougher to analyze small details \n",
        "- not best to determine feature and target relationships/effects due to working with highly similar features"
      ]
    },
    {
      "cell_type": "markdown",
      "metadata": {
        "id": "OhRHMqRaQfiG"
      },
      "source": [
        "### Model Set Up\n",
        "\n",
        "#### Steps\n",
        " - load the data\n",
        " - determine regression or classification target\n",
        " - inspect, clean, organize data\n",
        " - check for, handle outliers \n",
        " - encode data if necessary \n",
        " - set features and target \n",
        " - train, test split the data \n",
        " - scale the data if necessary \n",
        " - build the model, fit on the data, run the model\n",
        " - run metrics, analyze, view results, adjust parameters, repeat until satisfied... \n"
      ]
    },
    {
      "cell_type": "markdown",
      "metadata": {
        "id": "3hmqr8qAMLuE"
      },
      "source": [
        "### Regression Models"
      ]
    },
    {
      "cell_type": "markdown",
      "metadata": {
        "id": "a9Z_XK3rO7H6"
      },
      "source": [
        "#### Single-linear Rergression\n",
        " - a straight-line fit to data\n",
        " - simple or single-variate linear regression is the simplest case of linear regression with a single independent variable, 𝐱 = 𝑥\n",
        " - y = ax+b, where a is commonly known as the slope, and b is commonly known as the intercept\n",
        "\n",
        "#### Multi-Linear Regression\n",
        " - a straight-line fit to data\n",
        " - multiple or multivariate linear regression icd s a case of linear regression with two or more independent variables\n",
        "\n",
        "#### Polynomial-Linear Regression\n",
        " - a curved-line fit to data\n",
        " - a generalized case of linear regression \n",
        " - assume the polynomial dependence between the output and inputs and, consequently, the polynomial estimated regression function\n",
        "\n",
        "#### Ridge Regression\n",
        " - \n",
        " - \n",
        " - \n",
        "\n",
        "#### Lasso Regression\n",
        " - \n",
        " - \n",
        " - \n",
        "\n",
        "#### ElasticNet Regression\n",
        " - \n",
        " - \n",
        " - \n",
        "\n"
      ]
    },
    {
      "cell_type": "markdown",
      "metadata": {
        "id": "VUXplGBBRmeD"
      },
      "source": [
        "#### RandomForest Regression Models "
      ]
    },
    {
      "cell_type": "markdown",
      "metadata": {
        "id": "MCbiZ7J-V55T"
      },
      "source": [
        "##### Import + Inspect"
      ]
    },
    {
      "cell_type": "code",
      "metadata": {
        "id": "ThIRPgzSjP1T",
        "colab": {
          "base_uri": "https://localhost:8080/",
          "height": 221
        },
        "outputId": "78b4dee6-e04d-4b66-9e10-d32a7df293c2"
      },
      "source": [
        "### imports ###\n",
        "import pandas as pd\n",
        "import numpy as np\n",
        "import sklearn\n",
        "df = pd.read_csv('https://raw.githubusercontent.com/CVanchieri/CS_Notes/main/RFM_Notes/petrol_consumption.csv') # read in the file \n",
        "print('data frame shape:', df.shape) # show the data frame shape \n",
        "df.head() # show the data frame "
      ],
      "execution_count": 1,
      "outputs": [
        {
          "output_type": "stream",
          "text": [
            "data frame shape: (48, 5)\n"
          ],
          "name": "stdout"
        },
        {
          "output_type": "execute_result",
          "data": {
            "text/html": [
              "<div>\n",
              "<style scoped>\n",
              "    .dataframe tbody tr th:only-of-type {\n",
              "        vertical-align: middle;\n",
              "    }\n",
              "\n",
              "    .dataframe tbody tr th {\n",
              "        vertical-align: top;\n",
              "    }\n",
              "\n",
              "    .dataframe thead th {\n",
              "        text-align: right;\n",
              "    }\n",
              "</style>\n",
              "<table border=\"1\" class=\"dataframe\">\n",
              "  <thead>\n",
              "    <tr style=\"text-align: right;\">\n",
              "      <th></th>\n",
              "      <th>Petrol_tax</th>\n",
              "      <th>Average_income</th>\n",
              "      <th>Paved_Highways</th>\n",
              "      <th>Population_Driver_licence(%)</th>\n",
              "      <th>Petrol_Consumption</th>\n",
              "    </tr>\n",
              "  </thead>\n",
              "  <tbody>\n",
              "    <tr>\n",
              "      <th>0</th>\n",
              "      <td>9.0</td>\n",
              "      <td>3571</td>\n",
              "      <td>1976</td>\n",
              "      <td>0.525</td>\n",
              "      <td>541</td>\n",
              "    </tr>\n",
              "    <tr>\n",
              "      <th>1</th>\n",
              "      <td>9.0</td>\n",
              "      <td>4092</td>\n",
              "      <td>1250</td>\n",
              "      <td>0.572</td>\n",
              "      <td>524</td>\n",
              "    </tr>\n",
              "    <tr>\n",
              "      <th>2</th>\n",
              "      <td>9.0</td>\n",
              "      <td>3865</td>\n",
              "      <td>1586</td>\n",
              "      <td>0.580</td>\n",
              "      <td>561</td>\n",
              "    </tr>\n",
              "    <tr>\n",
              "      <th>3</th>\n",
              "      <td>7.5</td>\n",
              "      <td>4870</td>\n",
              "      <td>2351</td>\n",
              "      <td>0.529</td>\n",
              "      <td>414</td>\n",
              "    </tr>\n",
              "    <tr>\n",
              "      <th>4</th>\n",
              "      <td>8.0</td>\n",
              "      <td>4399</td>\n",
              "      <td>431</td>\n",
              "      <td>0.544</td>\n",
              "      <td>410</td>\n",
              "    </tr>\n",
              "  </tbody>\n",
              "</table>\n",
              "</div>"
            ],
            "text/plain": [
              "   Petrol_tax  Average_income  ...  Population_Driver_licence(%)  Petrol_Consumption\n",
              "0         9.0            3571  ...                         0.525                 541\n",
              "1         9.0            4092  ...                         0.572                 524\n",
              "2         9.0            3865  ...                         0.580                 561\n",
              "3         7.5            4870  ...                         0.529                 414\n",
              "4         8.0            4399  ...                         0.544                 410\n",
              "\n",
              "[5 rows x 5 columns]"
            ]
          },
          "metadata": {
            "tags": []
          },
          "execution_count": 1
        }
      ]
    },
    {
      "cell_type": "code",
      "metadata": {
        "id": "2Z4k1D0uekFE",
        "colab": {
          "base_uri": "https://localhost:8080/",
          "height": 637
        },
        "outputId": "22b6390e-f5a2-4bd8-8988-cf04057e95b2"
      },
      "source": [
        "### inspecting the data ###\n",
        "print('--- INSPECTING THE DATA --- ')\n",
        "print('--- columns --- ')\n",
        "print(df.columns) # show the data columns \n",
        "print('--- types --- ')\n",
        "print(df.dtypes) # show the data types \n",
        "print('--- NA counts --- ')\n",
        "print(df.isna().sum()) # show any Nan's in the data\n",
        "print('--- numericals descriptions --- ')\n",
        "df.describe()"
      ],
      "execution_count": 2,
      "outputs": [
        {
          "output_type": "stream",
          "text": [
            "--- INSPECTING THE DATA --- \n",
            "--- columns --- \n",
            "Index(['Petrol_tax', 'Average_income', 'Paved_Highways',\n",
            "       'Population_Driver_licence(%)', 'Petrol_Consumption'],\n",
            "      dtype='object')\n",
            "--- types --- \n",
            "Petrol_tax                      float64\n",
            "Average_income                    int64\n",
            "Paved_Highways                    int64\n",
            "Population_Driver_licence(%)    float64\n",
            "Petrol_Consumption                int64\n",
            "dtype: object\n",
            "--- NA counts --- \n",
            "Petrol_tax                      0\n",
            "Average_income                  0\n",
            "Paved_Highways                  0\n",
            "Population_Driver_licence(%)    0\n",
            "Petrol_Consumption              0\n",
            "dtype: int64\n",
            "--- numericals descriptions --- \n"
          ],
          "name": "stdout"
        },
        {
          "output_type": "execute_result",
          "data": {
            "text/html": [
              "<div>\n",
              "<style scoped>\n",
              "    .dataframe tbody tr th:only-of-type {\n",
              "        vertical-align: middle;\n",
              "    }\n",
              "\n",
              "    .dataframe tbody tr th {\n",
              "        vertical-align: top;\n",
              "    }\n",
              "\n",
              "    .dataframe thead th {\n",
              "        text-align: right;\n",
              "    }\n",
              "</style>\n",
              "<table border=\"1\" class=\"dataframe\">\n",
              "  <thead>\n",
              "    <tr style=\"text-align: right;\">\n",
              "      <th></th>\n",
              "      <th>Petrol_tax</th>\n",
              "      <th>Average_income</th>\n",
              "      <th>Paved_Highways</th>\n",
              "      <th>Population_Driver_licence(%)</th>\n",
              "      <th>Petrol_Consumption</th>\n",
              "    </tr>\n",
              "  </thead>\n",
              "  <tbody>\n",
              "    <tr>\n",
              "      <th>count</th>\n",
              "      <td>48.000000</td>\n",
              "      <td>48.000000</td>\n",
              "      <td>48.000000</td>\n",
              "      <td>48.000000</td>\n",
              "      <td>48.000000</td>\n",
              "    </tr>\n",
              "    <tr>\n",
              "      <th>mean</th>\n",
              "      <td>7.668333</td>\n",
              "      <td>4241.833333</td>\n",
              "      <td>5565.416667</td>\n",
              "      <td>0.570333</td>\n",
              "      <td>576.770833</td>\n",
              "    </tr>\n",
              "    <tr>\n",
              "      <th>std</th>\n",
              "      <td>0.950770</td>\n",
              "      <td>573.623768</td>\n",
              "      <td>3491.507166</td>\n",
              "      <td>0.055470</td>\n",
              "      <td>111.885816</td>\n",
              "    </tr>\n",
              "    <tr>\n",
              "      <th>min</th>\n",
              "      <td>5.000000</td>\n",
              "      <td>3063.000000</td>\n",
              "      <td>431.000000</td>\n",
              "      <td>0.451000</td>\n",
              "      <td>344.000000</td>\n",
              "    </tr>\n",
              "    <tr>\n",
              "      <th>25%</th>\n",
              "      <td>7.000000</td>\n",
              "      <td>3739.000000</td>\n",
              "      <td>3110.250000</td>\n",
              "      <td>0.529750</td>\n",
              "      <td>509.500000</td>\n",
              "    </tr>\n",
              "    <tr>\n",
              "      <th>50%</th>\n",
              "      <td>7.500000</td>\n",
              "      <td>4298.000000</td>\n",
              "      <td>4735.500000</td>\n",
              "      <td>0.564500</td>\n",
              "      <td>568.500000</td>\n",
              "    </tr>\n",
              "    <tr>\n",
              "      <th>75%</th>\n",
              "      <td>8.125000</td>\n",
              "      <td>4578.750000</td>\n",
              "      <td>7156.000000</td>\n",
              "      <td>0.595250</td>\n",
              "      <td>632.750000</td>\n",
              "    </tr>\n",
              "    <tr>\n",
              "      <th>max</th>\n",
              "      <td>10.000000</td>\n",
              "      <td>5342.000000</td>\n",
              "      <td>17782.000000</td>\n",
              "      <td>0.724000</td>\n",
              "      <td>968.000000</td>\n",
              "    </tr>\n",
              "  </tbody>\n",
              "</table>\n",
              "</div>"
            ],
            "text/plain": [
              "       Petrol_tax  ...  Petrol_Consumption\n",
              "count   48.000000  ...           48.000000\n",
              "mean     7.668333  ...          576.770833\n",
              "std      0.950770  ...          111.885816\n",
              "min      5.000000  ...          344.000000\n",
              "25%      7.000000  ...          509.500000\n",
              "50%      7.500000  ...          568.500000\n",
              "75%      8.125000  ...          632.750000\n",
              "max     10.000000  ...          968.000000\n",
              "\n",
              "[8 rows x 5 columns]"
            ]
          },
          "metadata": {
            "tags": []
          },
          "execution_count": 2
        }
      ]
    },
    {
      "cell_type": "code",
      "metadata": {
        "id": "c_GOvh2rVjBm",
        "colab": {
          "base_uri": "https://localhost:8080/",
          "height": 241
        },
        "outputId": "f14d356d-76a3-4e3c-ddf2-c6a7853a8f87"
      },
      "source": [
        "### view basic feature correlations ###\n",
        "print('--- feature correlations ---')\n",
        "df.corr()"
      ],
      "execution_count": 3,
      "outputs": [
        {
          "output_type": "stream",
          "text": [
            "--- feature correlations ---\n"
          ],
          "name": "stdout"
        },
        {
          "output_type": "execute_result",
          "data": {
            "text/html": [
              "<div>\n",
              "<style scoped>\n",
              "    .dataframe tbody tr th:only-of-type {\n",
              "        vertical-align: middle;\n",
              "    }\n",
              "\n",
              "    .dataframe tbody tr th {\n",
              "        vertical-align: top;\n",
              "    }\n",
              "\n",
              "    .dataframe thead th {\n",
              "        text-align: right;\n",
              "    }\n",
              "</style>\n",
              "<table border=\"1\" class=\"dataframe\">\n",
              "  <thead>\n",
              "    <tr style=\"text-align: right;\">\n",
              "      <th></th>\n",
              "      <th>Petrol_tax</th>\n",
              "      <th>Average_income</th>\n",
              "      <th>Paved_Highways</th>\n",
              "      <th>Population_Driver_licence(%)</th>\n",
              "      <th>Petrol_Consumption</th>\n",
              "    </tr>\n",
              "  </thead>\n",
              "  <tbody>\n",
              "    <tr>\n",
              "      <th>Petrol_tax</th>\n",
              "      <td>1.000000</td>\n",
              "      <td>0.012665</td>\n",
              "      <td>-0.522130</td>\n",
              "      <td>-0.288037</td>\n",
              "      <td>-0.451280</td>\n",
              "    </tr>\n",
              "    <tr>\n",
              "      <th>Average_income</th>\n",
              "      <td>0.012665</td>\n",
              "      <td>1.000000</td>\n",
              "      <td>0.050163</td>\n",
              "      <td>0.157070</td>\n",
              "      <td>-0.244862</td>\n",
              "    </tr>\n",
              "    <tr>\n",
              "      <th>Paved_Highways</th>\n",
              "      <td>-0.522130</td>\n",
              "      <td>0.050163</td>\n",
              "      <td>1.000000</td>\n",
              "      <td>-0.064129</td>\n",
              "      <td>0.019042</td>\n",
              "    </tr>\n",
              "    <tr>\n",
              "      <th>Population_Driver_licence(%)</th>\n",
              "      <td>-0.288037</td>\n",
              "      <td>0.157070</td>\n",
              "      <td>-0.064129</td>\n",
              "      <td>1.000000</td>\n",
              "      <td>0.698965</td>\n",
              "    </tr>\n",
              "    <tr>\n",
              "      <th>Petrol_Consumption</th>\n",
              "      <td>-0.451280</td>\n",
              "      <td>-0.244862</td>\n",
              "      <td>0.019042</td>\n",
              "      <td>0.698965</td>\n",
              "      <td>1.000000</td>\n",
              "    </tr>\n",
              "  </tbody>\n",
              "</table>\n",
              "</div>"
            ],
            "text/plain": [
              "                              Petrol_tax  ...  Petrol_Consumption\n",
              "Petrol_tax                      1.000000  ...           -0.451280\n",
              "Average_income                  0.012665  ...           -0.244862\n",
              "Paved_Highways                 -0.522130  ...            0.019042\n",
              "Population_Driver_licence(%)   -0.288037  ...            0.698965\n",
              "Petrol_Consumption             -0.451280  ...            1.000000\n",
              "\n",
              "[5 rows x 5 columns]"
            ]
          },
          "metadata": {
            "tags": []
          },
          "execution_count": 3
        }
      ]
    },
    {
      "cell_type": "code",
      "metadata": {
        "id": "1RHqwUrdVjKI",
        "colab": {
          "base_uri": "https://localhost:8080/",
          "height": 439
        },
        "outputId": "d68bf5cb-27f2-48ac-ffbf-8b75f61e2de8"
      },
      "source": [
        "### view basic feature correlations in a heatmap ###\n",
        "import seaborn as sns \n",
        "print('--- feature correlations heatmap ---')\n",
        "sns.heatmap(df.corr() , cmap = 'Wistia' , annot = True)"
      ],
      "execution_count": 4,
      "outputs": [
        {
          "output_type": "stream",
          "text": [
            "--- feature correlations heatmap ---\n"
          ],
          "name": "stdout"
        },
        {
          "output_type": "execute_result",
          "data": {
            "text/plain": [
              "<matplotlib.axes._subplots.AxesSubplot at 0x7f3cddbd49e8>"
            ]
          },
          "metadata": {
            "tags": []
          },
          "execution_count": 4
        },
        {
          "output_type": "display_data",
          "data": {
            "image/png": "[encoded data removed]",
            "text/plain": [
              "<Figure size 432x288 with 2 Axes>"
            ]
          },
          "metadata": {
            "tags": [],
            "needs_background": "light"
          }
        }
      ]
    },
    {
      "cell_type": "code",
      "metadata": {
        "id": "u3zWlAMjVjYC",
        "colab": {
          "base_uri": "https://localhost:8080/",
          "height": 1000
        },
        "outputId": "b42f2d12-2dde-406e-bec2-11e8af168cc9"
      },
      "source": [
        "### view scatter plots for each feature vs. target ###\n",
        "import matplotlib.pyplot as plt \n",
        "target_ = 'Petrol_Consumption' # set the target\n",
        "features_ = df.iloc[:, 0:4] # set the features\n",
        "print('--- scatter plots ---')\n",
        "for feature in features_:\n",
        "    figure = plt.figure\n",
        "    ax = plt.gca()\n",
        "    ax.scatter(df[target_], df[feature])\n",
        "    ax.set_xlabel(target_)\n",
        "    ax.set_ylabel(feature)\n",
        "    ax.set_title(f'''{target_} vs {feature}''')\n",
        "    plt.show()"
      ],
      "execution_count": 5,
      "outputs": [
        {
          "output_type": "stream",
          "text": [
            "--- scatter plots ---\n"
          ],
          "name": "stdout"
        },
        {
          "output_type": "display_data",
          "data": {
            "image/png": "[encoded data removed]",
            "text/plain": [
              "<Figure size 432x288 with 1 Axes>"
            ]
          },
          "metadata": {
            "tags": [],
            "needs_background": "light"
          }
        },
        {
          "output_type": "display_data",
          "data": {
            "image/png": "[encoded data removed]",
            "text/plain": [
              "<Figure size 432x288 with 1 Axes>"
            ]
          },
          "metadata": {
            "tags": [],
            "needs_background": "light"
          }
        },
        {
          "output_type": "display_data",
          "data": {
            "image/png": "[encoded data removed]",
            "text/plain": [
              "<Figure size 432x288 with 1 Axes>"
            ]
          },
          "metadata": {
            "tags": [],
            "needs_background": "light"
          }
        },
        {
          "output_type": "display_data",
          "data": {
            "image/png": "[encoded data removed]",
            "text/plain": [
              "<Figure size 432x288 with 1 Axes>"
            ]
          },
          "metadata": {
            "tags": [],
            "needs_background": "light"
          }
        }
      ]
    },
    {
      "cell_type": "markdown",
      "metadata": {
        "id": "t6711cfuimwK"
      },
      "source": [
        "##### Encode + Clean + Organize\n"
      ]
    },
    {
      "cell_type": "code",
      "metadata": {
        "id": "-q4TXoROik9V"
      },
      "source": [
        "### encoding not necessary with this example, all are numericals ###"
      ],
      "execution_count": 6,
      "outputs": []
    },
    {
      "cell_type": "code",
      "metadata": {
        "id": "N7-C-WNio8b9",
        "colab": {
          "base_uri": "https://localhost:8080/",
          "height": 1000
        },
        "outputId": "66a3c1b8-b6b1-4d21-814b-623eb2b05d39"
      },
      "source": [
        "### check for outliers in the data ### \n",
        "import matplotlib.pyplot as plt\n",
        "# view each feature in a boxplot \n",
        "for column in df:\n",
        "    plt.figure() # plot figure \n",
        "    df.boxplot([column]) # set data"
      ],
      "execution_count": 6,
      "outputs": [
        {
          "output_type": "display_data",
          "data": {
            "image/png": "[encoded data removed]",
            "text/plain": [
              "<Figure size 432x288 with 1 Axes>"
            ]
          },
          "metadata": {
            "tags": [],
            "needs_background": "light"
          }
        },
        {
          "output_type": "display_data",
          "data": {
            "image/png": "[encoded data removed]",
            "text/plain": [
              "<Figure size 432x288 with 1 Axes>"
            ]
          },
          "metadata": {
            "tags": [],
            "needs_background": "light"
          }
        },
        {
          "output_type": "display_data",
          "data": {
            "image/png": "[encoded data removed]",
            "text/plain": [
              "<Figure size 432x288 with 1 Axes>"
            ]
          },
          "metadata": {
            "tags": [],
            "needs_background": "light"
          }
        },
        {
          "output_type": "display_data",
          "data": {
            "image/png": "[encoded data removed]",
            "text/plain": [
              "<Figure size 432x288 with 1 Axes>"
            ]
          },
          "metadata": {
            "tags": [],
            "needs_background": "light"
          }
        },
        {
          "output_type": "display_data",
          "data": {
            "image/png": "[encoded data removed]",
            "text/plain": [
              "<Figure size 432x288 with 1 Axes>"
            ]
          },
          "metadata": {
            "tags": [],
            "needs_background": "light"
          }
        }
      ]
    },
    {
      "cell_type": "code",
      "metadata": {
        "id": "1l_5nceolQS6"
      },
      "source": [
        "### function to find outliers in the data ###\n",
        "def outlier_zscore(data):\n",
        "    global outliers,zscore\n",
        "    outliers = [] # list for outliers \n",
        "    zscore = [] # list for scores \n",
        "    threshold = 3.5 # set threshold \n",
        "    mean = np.mean(data) # mean \n",
        "    std = np.std(data) # standard deviaton\n",
        "    for i in data:\n",
        "        z_score = (i - mean)/std # calculate the z_score\n",
        "        zscore.append(z_score) # append the score to the list\n",
        "        if np.abs(z_score) > threshold: # if the score is greater than the threshold\n",
        "            outliers.append(i) # append z_score the list \n",
        "    print(outliers) # show the outliers \n",
        "    return len(outliers), outliers"
      ],
      "execution_count": 7,
      "outputs": []
    },
    {
      "cell_type": "code",
      "metadata": {
        "id": "vO4qw9tXl4Km",
        "colab": {
          "base_uri": "https://localhost:8080/"
        },
        "outputId": "d823dc77-7d5b-42cc-f237-2a72be2258ad"
      },
      "source": [
        "### run each feature 'wanted' through the function ### \n",
        "Average_income_outliers_number, Average_income_outliers = outlier_zscore(df.Average_income)\n",
        "Paved_Highways_outliers_number, Paved_Highways_outliers = outlier_zscore(df.Paved_Highways)\n",
        "Population_Driver_licence_outliers_number, Population_Driver_licence_outliers = outlier_zscore(df['Population_Driver_licence(%)'])\n",
        "Petrol_Consumption_outliers_number, Petrol_Consumption_outliers = outlier_zscore(df.Petrol_Consumption)"
      ],
      "execution_count": 10,
      "outputs": [
        {
          "output_type": "stream",
          "text": [
            "[]\n",
            "[17782]\n",
            "[]\n",
            "[968]\n"
          ],
          "name": "stdout"
        }
      ]
    },
    {
      "cell_type": "code",
      "metadata": {
        "id": "u31ZFVCvnxTv",
        "colab": {
          "base_uri": "https://localhost:8080/"
        },
        "outputId": "4e04b257-d819-4be0-d882-ca729e581469"
      },
      "source": [
        "### removal of outliers per feature ###\n",
        "for num, i in enumerate(df['Paved_Highways']): # removing the outliers of 'bmi' \n",
        "    if i in Paved_Highways_outliers:\n",
        "        df['Paved_Highways'][num] = 14382 # 3.5 under the lowest outlier\n",
        "for num, i in enumerate(df['Petrol_Consumption']): # removing the outliers of 'charges'\n",
        "    if i in Petrol_Consumption_outliers:\n",
        "        df['Petrol_Consumption'][num] = 933 # 3.5 under the lowest outlier"
      ],
      "execution_count": 11,
      "outputs": [
        {
          "output_type": "stream",
          "text": [
            "/usr/local/lib/python3.6/dist-packages/ipykernel_launcher.py:4: SettingWithCopyWarning: \n",
            "A value is trying to be set on a copy of a slice from a DataFrame\n",
            "\n",
            "See the caveats in the documentation: https://pandas.pydata.org/pandas-docs/stable/user_guide/indexing.html#returning-a-view-versus-a-copy\n",
            "  after removing the cwd from sys.path.\n",
            "/usr/local/lib/python3.6/dist-packages/ipykernel_launcher.py:7: SettingWithCopyWarning: \n",
            "A value is trying to be set on a copy of a slice from a DataFrame\n",
            "\n",
            "See the caveats in the documentation: https://pandas.pydata.org/pandas-docs/stable/user_guide/indexing.html#returning-a-view-versus-a-copy\n",
            "  import sys\n"
          ],
          "name": "stderr"
        }
      ]
    },
    {
      "cell_type": "code",
      "metadata": {
        "id": "jgCwFpVm7vL2",
        "colab": {
          "base_uri": "https://localhost:8080/"
        },
        "outputId": "0176ab0c-7f2b-4082-dc21-4e219c7eec2a"
      },
      "source": [
        "### split the data into features & target sets ###\n",
        "X = df.iloc[:, 0:4].values # set the features\n",
        "y = df.iloc[:, 4].values # set the target \n",
        "print('X shape:', X.shape) # show the shape \n",
        "print('y shape:', y.shape) # show the shape "
      ],
      "execution_count": 12,
      "outputs": [
        {
          "output_type": "stream",
          "text": [
            "X shape: (48, 4)\n",
            "y shape: (48,)\n"
          ],
          "name": "stdout"
        }
      ]
    },
    {
      "cell_type": "code",
      "metadata": {
        "id": "Gumvm__d7vbU"
      },
      "source": [
        "### set the train test split parameters ###\n",
        "from sklearn.model_selection import train_test_split\n",
        "X_train, X_test, y_train, y_test = train_test_split(X, y, test_size=0.2, random_state=0) # split 80/20 train/test"
      ],
      "execution_count": 13,
      "outputs": []
    },
    {
      "cell_type": "markdown",
      "metadata": {
        "id": "_C0BbW7E7lmB"
      },
      "source": [
        "##### Random Forest Regression\n",
        " - GridSearch CV\n",
        " - RandomSearch CV"
      ]
    },
    {
      "cell_type": "code",
      "metadata": {
        "id": "Dyc25kdu_rIa"
      },
      "source": [
        "### feature scaling ### \n",
        "from sklearn.preprocessing import StandardScaler\n",
        "sc = StandardScaler() # initiate the scalar   \n",
        "X_train = sc.fit_transform(X_train) # fit transform the data with scalar\n",
        "X_test = sc.transform(X_test) # fit transform the data with scalar"
      ],
      "execution_count": 14,
      "outputs": []
    },
    {
      "cell_type": "code",
      "metadata": {
        "id": "lETj7_pP7vjc",
        "colab": {
          "base_uri": "https://localhost:8080/"
        },
        "outputId": "6473cc67-8001-4af3-c1ba-431da8c250c8"
      },
      "source": [
        "### random forest regression model ###\n",
        "from sklearn.ensemble import RandomForestRegressor\n",
        "from sklearn import metrics\n",
        "model1 = RandomForestRegressor(n_estimators=20, # 20 estimators for # of trees\n",
        "                              random_state=0)\n",
        "model1.fit(X_train, y_train) # fit the data on the model \n",
        "y_pred = model1.predict(X_test) # create the prediction from the poly data \n",
        "#### create data frame of predictions and results ### \n",
        "y_pred_df = pd.DataFrame(y_pred, columns=[\"Predicted_Values\" ]) # create the predicitons data frame \n",
        "y_test_df = pd.DataFrame(np.array(y_test), columns=[\"Real_Values\"]) # create the real values  data frame\n",
        "df_final = pd.concat([y_test_df , y_pred_df] , axis=1) # concat merge the data frames \n",
        "print('--- real values vs predicted values ---') # get the intercept\n",
        "print(df_final.head())\n",
        "### get the model metrics ###\n",
        "print('--- model metrics ---') # get the intercept\n",
        "from sklearn import metrics\n",
        "print('mean absolute error:', metrics.mean_absolute_error(y_test, y_pred))\n",
        "print('mean squared error:', metrics.mean_squared_error(y_test, y_pred))\n",
        "print('root mean squared error:', np.sqrt(metrics.mean_squared_error(y_test, y_pred)))\n",
        "score = metrics.r2_score(y_test , y_pred) # get the r2 score \n",
        "print(\"r2 score : {}\".format(score)) # show the r2 score\n",
        "print('model score:', model1.score(X_train, y_train)) # show the model score \n",
        "print(\"model accuracy: {}%\".format(score * 100)) # show the model accuracy"
      ],
      "execution_count": 15,
      "outputs": [
        {
          "output_type": "stream",
          "text": [
            "--- real values vs predicted values ---\n",
            "   Real_Values  Predicted_Values\n",
            "0          534            574.10\n",
            "1          410            512.85\n",
            "2          577            604.80\n",
            "3          571            589.75\n",
            "4          577            625.40\n",
            "--- model metrics ---\n",
            "mean absolute error: 51.795\n",
            "mean squared error: 4157.400749999999\n",
            "root mean squared error: 64.47790900765935\n",
            "r2 score : 0.29047814296246754\n",
            "model score: 0.9399474873209389\n",
            "model accuracy: 29.047814296246756%\n"
          ],
          "name": "stdout"
        }
      ]
    },
    {
      "cell_type": "code",
      "metadata": {
        "id": "BLcxwXjn7vr4",
        "colab": {
          "base_uri": "https://localhost:8080/",
          "height": 384
        },
        "outputId": "ee2eaa2b-32f1-4f48-d04e-a54ecc1d692d"
      },
      "source": [
        "### visualize the model prediction accuracy ###\n",
        "import seaborn as sns\n",
        "import matplotlib.pyplot as plt\n",
        "### configure the plot ###\n",
        "ax1 = sns.distplot(y_test, hist=False, color=\"b\", label=\"Actual Values\")\n",
        "sns.distplot(y_pred, hist=False, color=\"r\", label=\"Predicted Values\" , axlabel='Charges', ax=ax1)\n",
        "plt.legend()"
      ],
      "execution_count": 16,
      "outputs": [
        {
          "output_type": "stream",
          "text": [
            "/usr/local/lib/python3.6/dist-packages/seaborn/distributions.py:2557: FutureWarning: `distplot` is a deprecated function and will be removed in a future version. Please adapt your code to use either `displot` (a figure-level function with similar flexibility) or `kdeplot` (an axes-level function for kernel density plots).\n",
            "  warnings.warn(msg, FutureWarning)\n",
            "/usr/local/lib/python3.6/dist-packages/seaborn/distributions.py:2557: FutureWarning: `distplot` is a deprecated function and will be removed in a future version. Please adapt your code to use either `displot` (a figure-level function with similar flexibility) or `kdeplot` (an axes-level function for kernel density plots).\n",
            "  warnings.warn(msg, FutureWarning)\n"
          ],
          "name": "stderr"
        },
        {
          "output_type": "execute_result",
          "data": {
            "text/plain": [
              "<matplotlib.legend.Legend at 0x7f3cd05e9f60>"
            ]
          },
          "metadata": {
            "tags": []
          },
          "execution_count": 16
        },
        {
          "output_type": "display_data",
          "data": {
            "image/png": "[encoded data removed]",
            "text/plain": [
              "<Figure size 432x288 with 1 Axes>"
            ]
          },
          "metadata": {
            "tags": [],
            "needs_background": "light"
          }
        }
      ]
    },
    {
      "cell_type": "markdown",
      "metadata": {
        "id": "KyAP57Vuiq0W"
      },
      "source": [
        "###### GridSearch CV"
      ]
    },
    {
      "cell_type": "code",
      "metadata": {
        "id": "4bnWoIOTiwqz",
        "colab": {
          "base_uri": "https://localhost:8080/"
        },
        "outputId": "aa46e7cf-090d-4b2d-fba5-db0896aa8f39"
      },
      "source": [
        "### random forest regressor + gridsearch CV model ###\n",
        "from sklearn.ensemble import RandomForestRegressor\n",
        "from sklearn.model_selection import GridSearchCV\n",
        "model1 = RandomForestRegressor()\n",
        "param_grid = {  # create the param grid \n",
        "            'n_estimators': [20, 100, 200], # \n",
        "            'max_features': ['auto', 'sqrt', 'log2'], # \n",
        "            'max_leaf_nodes' : [2, 6, 10], # \n",
        "            'max_depth' : [5, 15, 25], # \n",
        "            'min_samples_split' : [2, 10, 15], # \n",
        "            'bootstrap': [True, False], # \n",
        "              }\n",
        "CV_rfc = GridSearchCV(estimator=model1, param_grid=param_grid, cv=3) \n",
        "%time CV_rfc.fit(X_train, y_train)\n",
        "CV_rfc.best_params_"
      ],
      "execution_count": 18,
      "outputs": [
        {
          "output_type": "stream",
          "text": [
            "CPU times: user 2min 26s, sys: 537 ms, total: 2min 26s\n",
            "Wall time: 2min 27s\n"
          ],
          "name": "stdout"
        },
        {
          "output_type": "execute_result",
          "data": {
            "text/plain": [
              "{'bootstrap': True,\n",
              " 'max_depth': 25,\n",
              " 'max_features': 'log2',\n",
              " 'max_leaf_nodes': 10,\n",
              " 'min_samples_split': 2,\n",
              " 'n_estimators': 200}"
            ]
          },
          "metadata": {
            "tags": []
          },
          "execution_count": 18
        }
      ]
    },
    {
      "cell_type": "code",
      "metadata": {
        "id": "iQNDA5X9Ett6",
        "colab": {
          "base_uri": "https://localhost:8080/"
        },
        "outputId": "cada8ecd-4182-4d46-f8eb-2b8d7d1a5bd2"
      },
      "source": [
        "### random forest regression model + grid best params ###\n",
        "from sklearn.ensemble import RandomForestRegressor\n",
        "from sklearn import metrics\n",
        "model1 = RandomForestRegressor(bootstrap= True,\n",
        "                                max_depth= 25,\n",
        "                                max_features= 'log2',\n",
        "                                max_leaf_nodes= 10,\n",
        "                                min_samples_split= 2,\n",
        "                                n_estimators= 200)\n",
        "model1.fit(X_train, y_train) # fit the data on the model \n",
        "y_pred = model1.predict(X_test) # create the prediction from the poly data \n",
        "#### create data frame of predictions and results ### \n",
        "y_pred_df = pd.DataFrame(y_pred, columns=[\"Predicted_Values\" ]) # create the predicitons data frame \n",
        "y_test_df = pd.DataFrame(np.array(y_test), columns=[\"Real_Values\"]) # create the real values  data frame\n",
        "df_final = pd.concat([y_test_df , y_pred_df] , axis=1) # concat merge the data frames \n",
        "print('--- real values vs predicted values ---') # get the intercept\n",
        "print(df_final.head())\n",
        "### get the model metrics ###\n",
        "print('--- model metrics ---') # get the intercept\n",
        "from sklearn import metrics\n",
        "print('mean absolute error:', metrics.mean_absolute_error(y_test, y_pred))\n",
        "print('mean squared error:', metrics.mean_squared_error(y_test, y_pred))\n",
        "print('root mean squared error:', np.sqrt(metrics.mean_squared_error(y_test, y_pred)))\n",
        "score = metrics.r2_score(y_test , y_pred) # get the r2 score \n",
        "print(\"r2 score : {}\".format(score)) # show the r2 score\n",
        "print('model score:', model1.score(X_train, y_train)) # show the model score \n",
        "print(\"model accuracy: {}%\".format(score * 100)) # show the model accuracy"
      ],
      "execution_count": 19,
      "outputs": [
        {
          "output_type": "stream",
          "text": [
            "--- real values vs predicted values ---\n",
            "   Real_Values  Predicted_Values\n",
            "0          534        559.236004\n",
            "1          410        506.724797\n",
            "2          577        596.647743\n",
            "3          571        590.859897\n",
            "4          577        602.738718\n",
            "--- model metrics ---\n",
            "mean absolute error: 45.03506731875159\n",
            "mean squared error: 3102.2458184382194\n",
            "root mean squared error: 55.69780802184427\n",
            "r2 score : 0.4705559202862015\n",
            "model score: 0.9209292770161892\n",
            "model accuracy: 47.055592028620154%\n"
          ],
          "name": "stdout"
        }
      ]
    },
    {
      "cell_type": "code",
      "metadata": {
        "id": "SuK8sga4S_Jo",
        "colab": {
          "base_uri": "https://localhost:8080/",
          "height": 384
        },
        "outputId": "116c2aaf-fa61-4d5c-82c6-8a361757fed7"
      },
      "source": [
        "### visualize the model prediction accuracy ###\n",
        "import seaborn as sns\n",
        "import matplotlib.pyplot as plt\n",
        "### configure the plot ###\n",
        "ax1 = sns.distplot(y_test, hist=False, color=\"b\", label=\"Actual Values\")\n",
        "sns.distplot(y_pred, hist=False, color=\"r\", label=\"Predicted Values\" , axlabel='Charges', ax=ax1)\n",
        "plt.legend()"
      ],
      "execution_count": 20,
      "outputs": [
        {
          "output_type": "stream",
          "text": [
            "/usr/local/lib/python3.6/dist-packages/seaborn/distributions.py:2557: FutureWarning: `distplot` is a deprecated function and will be removed in a future version. Please adapt your code to use either `displot` (a figure-level function with similar flexibility) or `kdeplot` (an axes-level function for kernel density plots).\n",
            "  warnings.warn(msg, FutureWarning)\n",
            "/usr/local/lib/python3.6/dist-packages/seaborn/distributions.py:2557: FutureWarning: `distplot` is a deprecated function and will be removed in a future version. Please adapt your code to use either `displot` (a figure-level function with similar flexibility) or `kdeplot` (an axes-level function for kernel density plots).\n",
            "  warnings.warn(msg, FutureWarning)\n"
          ],
          "name": "stderr"
        },
        {
          "output_type": "execute_result",
          "data": {
            "text/plain": [
              "<matplotlib.legend.Legend at 0x7f3cd4b57b00>"
            ]
          },
          "metadata": {
            "tags": []
          },
          "execution_count": 20
        },
        {
          "output_type": "display_data",
          "data": {
            "image/png": "[encoded data removed]",
            "text/plain": [
              "<Figure size 432x288 with 1 Axes>"
            ]
          },
          "metadata": {
            "tags": [],
            "needs_background": "light"
          }
        }
      ]
    },
    {
      "cell_type": "markdown",
      "metadata": {
        "id": "BBdG2HRVkAJp"
      },
      "source": [
        "###### RandomizedSearch CV"
      ]
    },
    {
      "cell_type": "code",
      "metadata": {
        "id": "qXtfHKgZj-nM",
        "colab": {
          "base_uri": "https://localhost:8080/"
        },
        "outputId": "4a08215b-0cdc-489d-f711-fd49635f1965"
      },
      "source": [
        "### random forest regressor + randomized search CV model ###\n",
        "from sklearn.ensemble import RandomForestRegressor\n",
        "from sklearn.model_selection import RandomizedSearchCV\n",
        "model2 = RandomForestRegressor()\n",
        "param_grid = {  # create the param grid \n",
        "            'n_estimators': [20, 100, 200], # \n",
        "            'max_features': ['auto', 'sqrt', 'log2'], # \n",
        "            'max_leaf_nodes' : [2, 6, 10], # \n",
        "            'max_depth' : [5, 15, 25], # \n",
        "            'min_samples_split' : [2, 10, 15], # \n",
        "            'bootstrap': [True, False], # \n",
        "              }\n",
        "CV_rfc = RandomizedSearchCV(model2, param_grid, cv=3) \n",
        "%time CV_rfc.fit(X_train, y_train)\n",
        "CV_rfc.best_params_"
      ],
      "execution_count": 21,
      "outputs": [
        {
          "output_type": "stream",
          "text": [
            "CPU times: user 3.46 s, sys: 17 ms, total: 3.48 s\n",
            "Wall time: 3.48 s\n"
          ],
          "name": "stdout"
        },
        {
          "output_type": "execute_result",
          "data": {
            "text/plain": [
              "{'bootstrap': False,\n",
              " 'max_depth': 25,\n",
              " 'max_features': 'sqrt',\n",
              " 'max_leaf_nodes': 10,\n",
              " 'min_samples_split': 10,\n",
              " 'n_estimators': 200}"
            ]
          },
          "metadata": {
            "tags": []
          },
          "execution_count": 21
        }
      ]
    },
    {
      "cell_type": "code",
      "metadata": {
        "id": "wl-GjSUjkFOk",
        "colab": {
          "base_uri": "https://localhost:8080/"
        },
        "outputId": "3e87d789-1f89-4f90-fe31-1e4004a521c7"
      },
      "source": [
        "### random forest regression model + randomized best params ###\n",
        "from sklearn.ensemble import RandomForestRegressor\n",
        "from sklearn import metrics\n",
        "model2 = RandomForestRegressor(bootstrap= False,\n",
        "                                max_depth= 25,\n",
        "                                max_features= 'sqrt',\n",
        "                                max_leaf_nodes= 10,\n",
        "                                min_samples_split= 10,\n",
        "                                n_estimators= 200)\n",
        "model2.fit(X_train, y_train) # fit the data on the model \n",
        "y_pred = model2.predict(X_test) # create the prediction from the poly data \n",
        "#### create data frame of predictions and results ### \n",
        "y_pred_df = pd.DataFrame(y_pred, columns=[\"Predicted_Values\" ]) # create the predicitons data frame \n",
        "y_test_df = pd.DataFrame(np.array(y_test), columns=[\"Real_Values\"]) # create the real values  data frame\n",
        "df_final = pd.concat([y_test_df , y_pred_df] , axis=1) # concat merge the data frames \n",
        "print('--- real values vs predicted values ---') # get the intercept\n",
        "print(df_final.head())\n",
        "### get the model metrics ###\n",
        "print('--- model metrics ---') # get the intercept\n",
        "from sklearn import metrics\n",
        "print('mean absolute error:', metrics.mean_absolute_error(y_test, y_pred))\n",
        "print('mean squared error:', metrics.mean_squared_error(y_test, y_pred))\n",
        "print('root mean squared error:', np.sqrt(metrics.mean_squared_error(y_test, y_pred)))\n",
        "score = metrics.r2_score(y_test , y_pred) # get the r2 score \n",
        "print(\"r2 score : {}\".format(score)) # show the r2 score\n",
        "print('model score:', model2.score(X_train, y_train)) # show the model score \n",
        "print(\"model accuracy: {}%\".format(score * 100)) # show the model accuracy"
      ],
      "execution_count": 22,
      "outputs": [
        {
          "output_type": "stream",
          "text": [
            "--- real values vs predicted values ---\n",
            "   Real_Values  Predicted_Values\n",
            "0          534        541.137974\n",
            "1          410        492.671421\n",
            "2          577        610.208488\n",
            "3          571        557.832542\n",
            "4          577        613.048115\n",
            "--- model metrics ---\n",
            "mean absolute error: 44.57007738095235\n",
            "mean squared error: 3098.9746399591363\n",
            "root mean squared error: 55.66843486177006\n",
            "r2 score : 0.4711141952201684\n",
            "model score: 0.8515362801164758\n",
            "model accuracy: 47.11141952201684%\n"
          ],
          "name": "stdout"
        }
      ]
    },
    {
      "cell_type": "code",
      "metadata": {
        "id": "3WgzVqN-kFfg",
        "colab": {
          "base_uri": "https://localhost:8080/",
          "height": 384
        },
        "outputId": "297d7f84-5831-4476-ebe5-08a494857fcd"
      },
      "source": [
        "### visualize the model prediction accuracy ###\n",
        "import seaborn as sns\n",
        "import matplotlib.pyplot as plt\n",
        "### configure the plot ###\n",
        "ax1 = sns.distplot(y_test, hist=False, color=\"b\", label=\"Actual Values\")\n",
        "sns.distplot(y_pred, hist=False, color=\"r\", label=\"Predicted Values\" , axlabel='Charges', ax=ax1)\n",
        "plt.legend()"
      ],
      "execution_count": 23,
      "outputs": [
        {
          "output_type": "stream",
          "text": [
            "/usr/local/lib/python3.6/dist-packages/seaborn/distributions.py:2557: FutureWarning: `distplot` is a deprecated function and will be removed in a future version. Please adapt your code to use either `displot` (a figure-level function with similar flexibility) or `kdeplot` (an axes-level function for kernel density plots).\n",
            "  warnings.warn(msg, FutureWarning)\n",
            "/usr/local/lib/python3.6/dist-packages/seaborn/distributions.py:2557: FutureWarning: `distplot` is a deprecated function and will be removed in a future version. Please adapt your code to use either `displot` (a figure-level function with similar flexibility) or `kdeplot` (an axes-level function for kernel density plots).\n",
            "  warnings.warn(msg, FutureWarning)\n"
          ],
          "name": "stderr"
        },
        {
          "output_type": "execute_result",
          "data": {
            "text/plain": [
              "<matplotlib.legend.Legend at 0x7f3cd4df7208>"
            ]
          },
          "metadata": {
            "tags": []
          },
          "execution_count": 23
        },
        {
          "output_type": "display_data",
          "data": {
            "image/png": "[encoded data removed]",
            "text/plain": [
              "<Figure size 432x288 with 1 Axes>"
            ]
          },
          "metadata": {
            "tags": [],
            "needs_background": "light"
          }
        }
      ]
    },
    {
      "cell_type": "markdown",
      "metadata": {
        "id": "EaGw20nIVO2A"
      },
      "source": [
        "#### Random Forest Classification Models\n"
      ]
    },
    {
      "cell_type": "markdown",
      "metadata": {
        "id": "u-19r4wJoR43"
      },
      "source": [
        "##### Import + Inspect the Data"
      ]
    },
    {
      "cell_type": "code",
      "metadata": {
        "id": "0dejnh_BFghq",
        "colab": {
          "base_uri": "https://localhost:8080/",
          "height": 221
        },
        "outputId": "51b72421-62a2-4795-b90f-c81dfadf3188"
      },
      "source": [
        "### imports ###\n",
        "import pandas as pd\n",
        "import numpy as np\n",
        "import sklearn\n",
        "df = pd.read_csv('https://raw.githubusercontent.com/CVanchieri/CS_Notes/main/RFM_Notes/bill_authentication.csv') # read in the file \n",
        "print('data frame shape:', df.shape) # show the data frame shape \n",
        "df.head() # show the data frame "
      ],
      "execution_count": 24,
      "outputs": [
        {
          "output_type": "stream",
          "text": [
            "data frame shape: (1372, 5)\n"
          ],
          "name": "stdout"
        },
        {
          "output_type": "execute_result",
          "data": {
            "text/html": [
              "<div>\n",
              "<style scoped>\n",
              "    .dataframe tbody tr th:only-of-type {\n",
              "        vertical-align: middle;\n",
              "    }\n",
              "\n",
              "    .dataframe tbody tr th {\n",
              "        vertical-align: top;\n",
              "    }\n",
              "\n",
              "    .dataframe thead th {\n",
              "        text-align: right;\n",
              "    }\n",
              "</style>\n",
              "<table border=\"1\" class=\"dataframe\">\n",
              "  <thead>\n",
              "    <tr style=\"text-align: right;\">\n",
              "      <th></th>\n",
              "      <th>Variance</th>\n",
              "      <th>Skewness</th>\n",
              "      <th>Curtosis</th>\n",
              "      <th>Entropy</th>\n",
              "      <th>Class</th>\n",
              "    </tr>\n",
              "  </thead>\n",
              "  <tbody>\n",
              "    <tr>\n",
              "      <th>0</th>\n",
              "      <td>3.62160</td>\n",
              "      <td>8.6661</td>\n",
              "      <td>-2.8073</td>\n",
              "      <td>-0.44699</td>\n",
              "      <td>0</td>\n",
              "    </tr>\n",
              "    <tr>\n",
              "      <th>1</th>\n",
              "      <td>4.54590</td>\n",
              "      <td>8.1674</td>\n",
              "      <td>-2.4586</td>\n",
              "      <td>-1.46210</td>\n",
              "      <td>0</td>\n",
              "    </tr>\n",
              "    <tr>\n",
              "      <th>2</th>\n",
              "      <td>3.86600</td>\n",
              "      <td>-2.6383</td>\n",
              "      <td>1.9242</td>\n",
              "      <td>0.10645</td>\n",
              "      <td>0</td>\n",
              "    </tr>\n",
              "    <tr>\n",
              "      <th>3</th>\n",
              "      <td>3.45660</td>\n",
              "      <td>9.5228</td>\n",
              "      <td>-4.0112</td>\n",
              "      <td>-3.59440</td>\n",
              "      <td>0</td>\n",
              "    </tr>\n",
              "    <tr>\n",
              "      <th>4</th>\n",
              "      <td>0.32924</td>\n",
              "      <td>-4.4552</td>\n",
              "      <td>4.5718</td>\n",
              "      <td>-0.98880</td>\n",
              "      <td>0</td>\n",
              "    </tr>\n",
              "  </tbody>\n",
              "</table>\n",
              "</div>"
            ],
            "text/plain": [
              "   Variance  Skewness  Curtosis  Entropy  Class\n",
              "0   3.62160    8.6661   -2.8073 -0.44699      0\n",
              "1   4.54590    8.1674   -2.4586 -1.46210      0\n",
              "2   3.86600   -2.6383    1.9242  0.10645      0\n",
              "3   3.45660    9.5228   -4.0112 -3.59440      0\n",
              "4   0.32924   -4.4552    4.5718 -0.98880      0"
            ]
          },
          "metadata": {
            "tags": []
          },
          "execution_count": 24
        }
      ]
    },
    {
      "cell_type": "code",
      "metadata": {
        "id": "spnw3zV5Fgvi",
        "colab": {
          "base_uri": "https://localhost:8080/",
          "height": 603
        },
        "outputId": "a55e16e0-b739-4fcc-b292-ad36f725ccb3"
      },
      "source": [
        "### inspecting the data ###\n",
        "print('--- INSPECTING THE DATA --- ')\n",
        "print('--- columns --- ')\n",
        "print(df.columns) # show the data columns \n",
        "print('--- types --- ')\n",
        "print(df.dtypes) # show the data types \n",
        "print('--- NA counts --- ')\n",
        "print(df.isna().sum()) # show any Nan's in the data\n",
        "print('--- numericals descriptions --- ')\n",
        "df.describe()"
      ],
      "execution_count": 25,
      "outputs": [
        {
          "output_type": "stream",
          "text": [
            "--- INSPECTING THE DATA --- \n",
            "--- columns --- \n",
            "Index(['Variance', 'Skewness', 'Curtosis', 'Entropy', 'Class'], dtype='object')\n",
            "--- types --- \n",
            "Variance    float64\n",
            "Skewness    float64\n",
            "Curtosis    float64\n",
            "Entropy     float64\n",
            "Class         int64\n",
            "dtype: object\n",
            "--- NA counts --- \n",
            "Variance    0\n",
            "Skewness    0\n",
            "Curtosis    0\n",
            "Entropy     0\n",
            "Class       0\n",
            "dtype: int64\n",
            "--- numericals descriptions --- \n"
          ],
          "name": "stdout"
        },
        {
          "output_type": "execute_result",
          "data": {
            "text/html": [
              "<div>\n",
              "<style scoped>\n",
              "    .dataframe tbody tr th:only-of-type {\n",
              "        vertical-align: middle;\n",
              "    }\n",
              "\n",
              "    .dataframe tbody tr th {\n",
              "        vertical-align: top;\n",
              "    }\n",
              "\n",
              "    .dataframe thead th {\n",
              "        text-align: right;\n",
              "    }\n",
              "</style>\n",
              "<table border=\"1\" class=\"dataframe\">\n",
              "  <thead>\n",
              "    <tr style=\"text-align: right;\">\n",
              "      <th></th>\n",
              "      <th>Variance</th>\n",
              "      <th>Skewness</th>\n",
              "      <th>Curtosis</th>\n",
              "      <th>Entropy</th>\n",
              "      <th>Class</th>\n",
              "    </tr>\n",
              "  </thead>\n",
              "  <tbody>\n",
              "    <tr>\n",
              "      <th>count</th>\n",
              "      <td>1372.000000</td>\n",
              "      <td>1372.000000</td>\n",
              "      <td>1372.000000</td>\n",
              "      <td>1372.000000</td>\n",
              "      <td>1372.000000</td>\n",
              "    </tr>\n",
              "    <tr>\n",
              "      <th>mean</th>\n",
              "      <td>0.433735</td>\n",
              "      <td>1.922353</td>\n",
              "      <td>1.397627</td>\n",
              "      <td>-1.191657</td>\n",
              "      <td>0.444606</td>\n",
              "    </tr>\n",
              "    <tr>\n",
              "      <th>std</th>\n",
              "      <td>2.842763</td>\n",
              "      <td>5.869047</td>\n",
              "      <td>4.310030</td>\n",
              "      <td>2.101013</td>\n",
              "      <td>0.497103</td>\n",
              "    </tr>\n",
              "    <tr>\n",
              "      <th>min</th>\n",
              "      <td>-7.042100</td>\n",
              "      <td>-13.773100</td>\n",
              "      <td>-5.286100</td>\n",
              "      <td>-8.548200</td>\n",
              "      <td>0.000000</td>\n",
              "    </tr>\n",
              "    <tr>\n",
              "      <th>25%</th>\n",
              "      <td>-1.773000</td>\n",
              "      <td>-1.708200</td>\n",
              "      <td>-1.574975</td>\n",
              "      <td>-2.413450</td>\n",
              "      <td>0.000000</td>\n",
              "    </tr>\n",
              "    <tr>\n",
              "      <th>50%</th>\n",
              "      <td>0.496180</td>\n",
              "      <td>2.319650</td>\n",
              "      <td>0.616630</td>\n",
              "      <td>-0.586650</td>\n",
              "      <td>0.000000</td>\n",
              "    </tr>\n",
              "    <tr>\n",
              "      <th>75%</th>\n",
              "      <td>2.821475</td>\n",
              "      <td>6.814625</td>\n",
              "      <td>3.179250</td>\n",
              "      <td>0.394810</td>\n",
              "      <td>1.000000</td>\n",
              "    </tr>\n",
              "    <tr>\n",
              "      <th>max</th>\n",
              "      <td>6.824800</td>\n",
              "      <td>12.951600</td>\n",
              "      <td>17.927400</td>\n",
              "      <td>2.449500</td>\n",
              "      <td>1.000000</td>\n",
              "    </tr>\n",
              "  </tbody>\n",
              "</table>\n",
              "</div>"
            ],
            "text/plain": [
              "          Variance     Skewness     Curtosis      Entropy        Class\n",
              "count  1372.000000  1372.000000  1372.000000  1372.000000  1372.000000\n",
              "mean      0.433735     1.922353     1.397627    -1.191657     0.444606\n",
              "std       2.842763     5.869047     4.310030     2.101013     0.497103\n",
              "min      -7.042100   -13.773100    -5.286100    -8.548200     0.000000\n",
              "25%      -1.773000    -1.708200    -1.574975    -2.413450     0.000000\n",
              "50%       0.496180     2.319650     0.616630    -0.586650     0.000000\n",
              "75%       2.821475     6.814625     3.179250     0.394810     1.000000\n",
              "max       6.824800    12.951600    17.927400     2.449500     1.000000"
            ]
          },
          "metadata": {
            "tags": []
          },
          "execution_count": 25
        }
      ]
    },
    {
      "cell_type": "code",
      "metadata": {
        "id": "PpmJ5vueFg1U",
        "colab": {
          "base_uri": "https://localhost:8080/",
          "height": 221
        },
        "outputId": "58bd12e9-a158-4362-86c1-e5fb735a6af9"
      },
      "source": [
        "### view basic feature correlations ###\n",
        "print('--- feature correlations ---')\n",
        "df.corr()"
      ],
      "execution_count": 26,
      "outputs": [
        {
          "output_type": "stream",
          "text": [
            "--- feature correlations ---\n"
          ],
          "name": "stdout"
        },
        {
          "output_type": "execute_result",
          "data": {
            "text/html": [
              "<div>\n",
              "<style scoped>\n",
              "    .dataframe tbody tr th:only-of-type {\n",
              "        vertical-align: middle;\n",
              "    }\n",
              "\n",
              "    .dataframe tbody tr th {\n",
              "        vertical-align: top;\n",
              "    }\n",
              "\n",
              "    .dataframe thead th {\n",
              "        text-align: right;\n",
              "    }\n",
              "</style>\n",
              "<table border=\"1\" class=\"dataframe\">\n",
              "  <thead>\n",
              "    <tr style=\"text-align: right;\">\n",
              "      <th></th>\n",
              "      <th>Variance</th>\n",
              "      <th>Skewness</th>\n",
              "      <th>Curtosis</th>\n",
              "      <th>Entropy</th>\n",
              "      <th>Class</th>\n",
              "    </tr>\n",
              "  </thead>\n",
              "  <tbody>\n",
              "    <tr>\n",
              "      <th>Variance</th>\n",
              "      <td>1.000000</td>\n",
              "      <td>0.264026</td>\n",
              "      <td>-0.380850</td>\n",
              "      <td>0.276817</td>\n",
              "      <td>-0.724843</td>\n",
              "    </tr>\n",
              "    <tr>\n",
              "      <th>Skewness</th>\n",
              "      <td>0.264026</td>\n",
              "      <td>1.000000</td>\n",
              "      <td>-0.786895</td>\n",
              "      <td>-0.526321</td>\n",
              "      <td>-0.444688</td>\n",
              "    </tr>\n",
              "    <tr>\n",
              "      <th>Curtosis</th>\n",
              "      <td>-0.380850</td>\n",
              "      <td>-0.786895</td>\n",
              "      <td>1.000000</td>\n",
              "      <td>0.318841</td>\n",
              "      <td>0.155883</td>\n",
              "    </tr>\n",
              "    <tr>\n",
              "      <th>Entropy</th>\n",
              "      <td>0.276817</td>\n",
              "      <td>-0.526321</td>\n",
              "      <td>0.318841</td>\n",
              "      <td>1.000000</td>\n",
              "      <td>-0.023424</td>\n",
              "    </tr>\n",
              "    <tr>\n",
              "      <th>Class</th>\n",
              "      <td>-0.724843</td>\n",
              "      <td>-0.444688</td>\n",
              "      <td>0.155883</td>\n",
              "      <td>-0.023424</td>\n",
              "      <td>1.000000</td>\n",
              "    </tr>\n",
              "  </tbody>\n",
              "</table>\n",
              "</div>"
            ],
            "text/plain": [
              "          Variance  Skewness  Curtosis   Entropy     Class\n",
              "Variance  1.000000  0.264026 -0.380850  0.276817 -0.724843\n",
              "Skewness  0.264026  1.000000 -0.786895 -0.526321 -0.444688\n",
              "Curtosis -0.380850 -0.786895  1.000000  0.318841  0.155883\n",
              "Entropy   0.276817 -0.526321  0.318841  1.000000 -0.023424\n",
              "Class    -0.724843 -0.444688  0.155883 -0.023424  1.000000"
            ]
          },
          "metadata": {
            "tags": []
          },
          "execution_count": 26
        }
      ]
    },
    {
      "cell_type": "code",
      "metadata": {
        "id": "C9bW02dtFn-d",
        "colab": {
          "base_uri": "https://localhost:8080/",
          "height": 303
        },
        "outputId": "4643c8c5-1305-4ba8-bcf4-f10edc0a9800"
      },
      "source": [
        "### view basic feature correlations in a heatmap ###\n",
        "import seaborn as sns \n",
        "print('--- feature correlations heatmap ---')\n",
        "sns.heatmap(df.corr() , cmap = 'Wistia' , annot = True)"
      ],
      "execution_count": 27,
      "outputs": [
        {
          "output_type": "stream",
          "text": [
            "--- feature correlations heatmap ---\n"
          ],
          "name": "stdout"
        },
        {
          "output_type": "execute_result",
          "data": {
            "text/plain": [
              "<matplotlib.axes._subplots.AxesSubplot at 0x7f3cd4afdd68>"
            ]
          },
          "metadata": {
            "tags": []
          },
          "execution_count": 27
        },
        {
          "output_type": "display_data",
          "data": {
            "image/png": "[encoded data removed]",
            "text/plain": [
              "<Figure size 432x288 with 2 Axes>"
            ]
          },
          "metadata": {
            "tags": [],
            "needs_background": "light"
          }
        }
      ]
    },
    {
      "cell_type": "code",
      "metadata": {
        "id": "nrg4SlMfFsAS",
        "colab": {
          "base_uri": "https://localhost:8080/",
          "height": 1000
        },
        "outputId": "1b6c6ce4-c0fa-46dd-d0be-16f7fce64f95"
      },
      "source": [
        "### view scatter plots for each feature vs. target ###\n",
        "import matplotlib.pyplot as plt \n",
        "target_ = 'Class' # set the target\n",
        "features_ = df.iloc[:, 0:4] # set the features\n",
        "print('--- scatter plots ---')\n",
        "for feature in features_:\n",
        "    figure = plt.figure\n",
        "    ax = plt.gca()\n",
        "    ax.bar(df[target_], df[feature])\n",
        "    ax.set_xlabel(target_)\n",
        "    ax.set_ylabel(feature)\n",
        "    ax.set_title(f'''{target_} vs {feature}''')\n",
        "    plt.show()"
      ],
      "execution_count": 28,
      "outputs": [
        {
          "output_type": "stream",
          "text": [
            "--- scatter plots ---\n"
          ],
          "name": "stdout"
        },
        {
          "output_type": "display_data",
          "data": {
            "image/png": "[encoded data removed]",
            "text/plain": [
              "<Figure size 432x288 with 1 Axes>"
            ]
          },
          "metadata": {
            "tags": [],
            "needs_background": "light"
          }
        },
        {
          "output_type": "display_data",
          "data": {
            "image/png": "[encoded data removed]",
            "text/plain": [
              "<Figure size 432x288 with 1 Axes>"
            ]
          },
          "metadata": {
            "tags": [],
            "needs_background": "light"
          }
        },
        {
          "output_type": "display_data",
          "data": {
            "image/png": "[encoded data removed]",
            "text/plain": [
              "<Figure size 432x288 with 1 Axes>"
            ]
          },
          "metadata": {
            "tags": [],
            "needs_background": "light"
          }
        },
        {
          "output_type": "display_data",
          "data": {
            "image/png": "[encoded data removed]",
            "text/plain": [
              "<Figure size 432x288 with 1 Axes>"
            ]
          },
          "metadata": {
            "tags": [],
            "needs_background": "light"
          }
        }
      ]
    },
    {
      "cell_type": "markdown",
      "metadata": {
        "id": "lDphJ8RoFzqA"
      },
      "source": [
        "##### Encode + Clean + Organize\n",
        "\n",
        "\n"
      ]
    },
    {
      "cell_type": "code",
      "metadata": {
        "id": "w9hRxBUxyK3y"
      },
      "source": [
        "### encoding not necessary with this example, all are numericals ###"
      ],
      "execution_count": null,
      "outputs": []
    },
    {
      "cell_type": "code",
      "metadata": {
        "id": "oOHvjqS3FsRc",
        "colab": {
          "base_uri": "https://localhost:8080/",
          "height": 1000
        },
        "outputId": "f90f1089-ec84-4711-cd19-728640eb7bed"
      },
      "source": [
        "### check for outliers in the data ### \n",
        "import matplotlib.pyplot as plt\n",
        "# view each feature in a boxplot \n",
        "for column in df:\n",
        "    plt.figure() # plot figure \n",
        "    df.boxplot([column]) # set data"
      ],
      "execution_count": 29,
      "outputs": [
        {
          "output_type": "display_data",
          "data": {
            "image/png": "[encoded data removed]",
            "text/plain": [
              "<Figure size 432x288 with 1 Axes>"
            ]
          },
          "metadata": {
            "tags": [],
            "needs_background": "light"
          }
        },
        {
          "output_type": "display_data",
          "data": {
            "image/png": "[encoded data removed]",
            "text/plain": [
              "<Figure size 432x288 with 1 Axes>"
            ]
          },
          "metadata": {
            "tags": [],
            "needs_background": "light"
          }
        },
        {
          "output_type": "display_data",
          "data": {
            "image/png": "[encoded data removed]",
            "text/plain": [
              "<Figure size 432x288 with 1 Axes>"
            ]
          },
          "metadata": {
            "tags": [],
            "needs_background": "light"
          }
        },
        {
          "output_type": "display_data",
          "data": {
            "image/png": "[encoded data removed]",
            "text/plain": [
              "<Figure size 432x288 with 1 Axes>"
            ]
          },
          "metadata": {
            "tags": [],
            "needs_background": "light"
          }
        },
        {
          "output_type": "display_data",
          "data": {
            "image/png": "[encoded data removed]",
            "text/plain": [
              "<Figure size 432x288 with 1 Axes>"
            ]
          },
          "metadata": {
            "tags": [],
            "needs_background": "light"
          }
        }
      ]
    },
    {
      "cell_type": "code",
      "metadata": {
        "id": "bIqQuKD4FseH"
      },
      "source": [
        "### function to find outliers in the data ###\n",
        "def outlier_zscore(data):\n",
        "    global outliers,zscore\n",
        "    outliers = [] # list for outliers \n",
        "    zscore = [] # list for scores \n",
        "    threshold = 3.5 # set threshold \n",
        "    mean = np.mean(data) # mean \n",
        "    std = np.std(data) # standard deviaton\n",
        "    for i in data:\n",
        "        z_score = (i - mean)/std # calculate the z_score\n",
        "        zscore.append(z_score) # append the score to the list\n",
        "        if np.abs(z_score) > threshold: # if the score is greater than the threshold\n",
        "            outliers.append(i) # append z_score the list \n",
        "    print(outliers) # show the outliers \n",
        "    return len(outliers), outliers"
      ],
      "execution_count": 30,
      "outputs": []
    },
    {
      "cell_type": "code",
      "metadata": {
        "id": "Xgriwok5Fsj1",
        "colab": {
          "base_uri": "https://localhost:8080/"
        },
        "outputId": "c7e5e204-3571-4457-9e1e-2177b7562b33"
      },
      "source": [
        "### run each feature 'wanted' through the function ### \n",
        "Variance_outliers_number, Variance_outliers = outlier_zscore(df.Variance)\n",
        "Skewness_outliers_number, Skewness_outliers = outlier_zscore(df.Skewness)\n",
        "Curtosis_outliers_number, Curtosis_outliers = outlier_zscore(df.Curtosis)\n",
        "Entropy_outliers_number, Entropy_outliers = outlier_zscore(df.Entropy)\n",
        "Class_outliers_number, Class_outliers = outlier_zscore(df.Class)"
      ],
      "execution_count": 31,
      "outputs": [
        {
          "output_type": "stream",
          "text": [
            "[]\n",
            "[]\n",
            "[17.6772, 17.3087, 17.9274, 16.9583, 17.5795, 17.6052, 17.1116, 17.0834, 16.7166, 17.5932]\n",
            "[-8.5482]\n",
            "[]\n"
          ],
          "name": "stdout"
        }
      ]
    },
    {
      "cell_type": "code",
      "metadata": {
        "id": "46dVIiEkF9y5",
        "colab": {
          "base_uri": "https://localhost:8080/"
        },
        "outputId": "81158220-08e9-469d-e8c9-a1d8723677ac"
      },
      "source": [
        "### removal of outliers per feature ###\n",
        "for num, i in enumerate(df['Curtosis']): # removing the outliers of 'bmi' \n",
        "    if i in Curtosis_outliers:\n",
        "        df['Curtosis'][num] = 13.3 # 3.5 under the lowest outlier\n",
        "for num, i in enumerate(df['Entropy']): # removing the outliers of 'charges'\n",
        "    if i in Entropy_outliers:\n",
        "        df['Entropy'][num] = -5.2 # 3.5 under the lowest outlier"
      ],
      "execution_count": 32,
      "outputs": [
        {
          "output_type": "stream",
          "text": [
            "/usr/local/lib/python3.6/dist-packages/ipykernel_launcher.py:4: SettingWithCopyWarning: \n",
            "A value is trying to be set on a copy of a slice from a DataFrame\n",
            "\n",
            "See the caveats in the documentation: https://pandas.pydata.org/pandas-docs/stable/user_guide/indexing.html#returning-a-view-versus-a-copy\n",
            "  after removing the cwd from sys.path.\n",
            "/usr/local/lib/python3.6/dist-packages/ipykernel_launcher.py:7: SettingWithCopyWarning: \n",
            "A value is trying to be set on a copy of a slice from a DataFrame\n",
            "\n",
            "See the caveats in the documentation: https://pandas.pydata.org/pandas-docs/stable/user_guide/indexing.html#returning-a-view-versus-a-copy\n",
            "  import sys\n"
          ],
          "name": "stderr"
        }
      ]
    },
    {
      "cell_type": "code",
      "metadata": {
        "id": "zkLcjkiDGVTx",
        "colab": {
          "base_uri": "https://localhost:8080/"
        },
        "outputId": "0b798184-83b9-4da8-fecd-1837771db585"
      },
      "source": [
        "### split the data into features & target sets ###\n",
        "X = df.iloc[:, 0:4].values\n",
        "y = df.iloc[:, 4].values\n",
        "print('X shape:', X.shape) # show the shape \n",
        "print('y shape:', y.shape) # show the shape "
      ],
      "execution_count": 33,
      "outputs": [
        {
          "output_type": "stream",
          "text": [
            "X shape: (1372, 4)\n",
            "y shape: (1372,)\n"
          ],
          "name": "stdout"
        }
      ]
    },
    {
      "cell_type": "code",
      "metadata": {
        "id": "c0G4cj3Bk1-7"
      },
      "source": [
        "### set the train test split parameters ###\n",
        "from sklearn.model_selection import train_test_split\n",
        "X_train, X_test, y_train, y_test = train_test_split(X, y, test_size=0.2, random_state=0) # split 80/20 train/test"
      ],
      "execution_count": 34,
      "outputs": []
    },
    {
      "cell_type": "code",
      "metadata": {
        "id": "v01A9wtDMutL"
      },
      "source": [
        "### feature scaling ### \n",
        "from sklearn.preprocessing import StandardScaler\n",
        "sc = StandardScaler() # initiate the scalar   \n",
        "X_train = sc.fit_transform(X_train) # fit transform the data with scalar\n",
        "X_test = sc.transform(X_test) # fit transform the data with scalar"
      ],
      "execution_count": 35,
      "outputs": []
    },
    {
      "cell_type": "markdown",
      "metadata": {
        "id": "aOT1Nh5RkS9-"
      },
      "source": [
        "#### Random Forest Classification\n",
        " - GridSearch CV\n",
        " - RandomSearch CV"
      ]
    },
    {
      "cell_type": "code",
      "metadata": {
        "id": "gRpVTW_oQYj0",
        "colab": {
          "base_uri": "https://localhost:8080/"
        },
        "outputId": "fd12ce43-77e9-46e9-f03d-391305b53102"
      },
      "source": [
        "### random forest classifier ###\n",
        "from sklearn.ensemble import RandomForestClassifier\n",
        "from sklearn import metrics\n",
        "model3 = RandomForestClassifier()\n",
        "model3.fit(X_train, y_train) # fit the data on the model \n",
        "y_pred = model3.predict(X_test) # create the prediction from the poly data \n",
        "#### create data frame of predictions and results ### \n",
        "y_pred_df = pd.DataFrame(y_pred, columns=[\"Predicted_Values\" ]) # create the predicitons data frame \n",
        "y_test_df = pd.DataFrame(np.array(y_test), columns=[\"Real_Values\"]) # create the real values  data frame\n",
        "df_final = pd.concat([y_test_df , y_pred_df] , axis=1) # concat merge the data frames \n",
        "print('--- real values vs predicted values ---') # get the intercept\n",
        "print(df_final.head())\n",
        "### get the model metrics ###\n",
        "print('--- model metrics ---') # get the intercept\n",
        "score = metrics.r2_score(y_test , y_pred) # get the r2 score \n",
        "print(\"r2 score = {}\".format(score)) # show the r2 score\n",
        "print('model score=', model3.score(X_train, y_train)) # show the model score \n",
        "print(\"model accuracy= {}%\".format(score * 100)) # show the model accuracy\n",
        "print('--- confusion matrix ---')\n",
        "print(metrics.confusion_matrix(y_test,y_pred))\n",
        "print('--- classification report ---') \n",
        "print(metrics.classification_report(y_test,y_pred))\n",
        "print('model accuracy score=', metrics.accuracy_score(y_test, y_pred))"
      ],
      "execution_count": 36,
      "outputs": [
        {
          "output_type": "stream",
          "text": [
            "--- real values vs predicted values ---\n",
            "   Real_Values  Predicted_Values\n",
            "0            1                 1\n",
            "1            0                 0\n",
            "2            1                 1\n",
            "3            0                 0\n",
            "4            0                 0\n",
            "--- model metrics ---\n",
            "r2 score = 0.9406239879088848\n",
            "model score= 1.0\n",
            "model accuracy= 94.06239879088848%\n",
            "--- confusion matrix ---\n",
            "[[155   2]\n",
            " [  2 116]]\n",
            "--- classification report ---\n",
            "              precision    recall  f1-score   support\n",
            "\n",
            "           0       0.99      0.99      0.99       157\n",
            "           1       0.98      0.98      0.98       118\n",
            "\n",
            "    accuracy                           0.99       275\n",
            "   macro avg       0.99      0.99      0.99       275\n",
            "weighted avg       0.99      0.99      0.99       275\n",
            "\n",
            "model accuracy score= 0.9854545454545455\n"
          ],
          "name": "stdout"
        }
      ]
    },
    {
      "cell_type": "markdown",
      "metadata": {
        "id": "-0I1U2VGQtSR"
      },
      "source": [
        "###### GridSearch CV"
      ]
    },
    {
      "cell_type": "code",
      "metadata": {
        "id": "Ev3_XbnvyPYe",
        "colab": {
          "base_uri": "https://localhost:8080/"
        },
        "outputId": "323c0bff-c5c5-4ad6-d896-edf8f8b213a9"
      },
      "source": [
        "### random forest classifier + gridsearch CV model ###\n",
        "from sklearn.ensemble import RandomForestClassifier\n",
        "from sklearn.model_selection import GridSearchCV\n",
        "model3 = RandomForestClassifier()\n",
        "param_grid = {  # create the param grid \n",
        "    'n_estimators': [20, 100, 200], # \n",
        "    'max_features': ['auto', 'sqrt', 'log2'], # \n",
        "    'max_leaf_nodes' : [2, 6, 10], # \n",
        "    'max_depth' : [5, 15, 25], # \n",
        "    'min_samples_split' : [2, 10, 15], # \n",
        "    'bootstrap': [True, False], # \n",
        "    'criterion' :['gini', 'entropy'] # \n",
        "    }\n",
        "CV_rfc = GridSearchCV(estimator=model3, param_grid=param_grid, cv=3) \n",
        "%time CV_rfc.fit(X_train, y_train)\n",
        "CV_rfc.best_params_"
      ],
      "execution_count": 37,
      "outputs": [
        {
          "output_type": "stream",
          "text": [
            "CPU times: user 9min 12s, sys: 1.47 s, total: 9min 14s\n",
            "Wall time: 9min 15s\n"
          ],
          "name": "stdout"
        },
        {
          "output_type": "execute_result",
          "data": {
            "text/plain": [
              "{'bootstrap': True,\n",
              " 'criterion': 'entropy',\n",
              " 'max_depth': 15,\n",
              " 'max_features': 'auto',\n",
              " 'max_leaf_nodes': 10,\n",
              " 'min_samples_split': 15,\n",
              " 'n_estimators': 200}"
            ]
          },
          "metadata": {
            "tags": []
          },
          "execution_count": 37
        }
      ]
    },
    {
      "cell_type": "code",
      "metadata": {
        "id": "AUERwTFPNprK",
        "colab": {
          "base_uri": "https://localhost:8080/"
        },
        "outputId": "a627c0e7-acf3-4b51-dd04-a41a3f35d2e5"
      },
      "source": [
        "### random forest classifier + grid best params ###\n",
        "from sklearn.ensemble import RandomForestClassifier\n",
        "from sklearn import metrics\n",
        "model3 = RandomForestClassifier(bootstrap= True,\n",
        "                                criterion= 'entropy',\n",
        "                                max_depth= 15,\n",
        "                                max_features= 'auto',\n",
        "                                max_leaf_nodes= 10,\n",
        "                                min_samples_split= 15,\n",
        "                                n_estimators= 200)\n",
        "model3.fit(X_train, y_train) # fit the data on the model \n",
        "y_pred = model3.predict(X_test) # create the prediction from the poly data \n",
        "#### create data frame of predictions and results ### \n",
        "y_pred_df = pd.DataFrame(y_pred, columns=[\"Predicted_Values\" ]) # create the predicitons data frame \n",
        "y_test_df = pd.DataFrame(np.array(y_test), columns=[\"Real_Values\"]) # create the real values  data frame\n",
        "df_final = pd.concat([y_test_df , y_pred_df] , axis=1) # concat merge the data frames \n",
        "print('--- real values vs predicted values ---') # get the intercept\n",
        "print(df_final.head())\n",
        "### get the model metrics ###\n",
        "print('--- model metrics ---') # get the intercept\n",
        "score = metrics.r2_score(y_test , y_pred) # get the r2 score \n",
        "print(\"r2 score = {}\".format(score)) # show the r2 score\n",
        "print('model score=', model3.score(X_train, y_train)) # show the model score \n",
        "print(\"model accuracy= {}%\".format(score * 100)) # show the model accuracy\n",
        "print('--- confusion matrix ---')\n",
        "print(metrics.confusion_matrix(y_test,y_pred))\n",
        "print('--- classification report ---') \n",
        "print(metrics.classification_report(y_test,y_pred))\n",
        "print('model accuracy score=', metrics.accuracy_score(y_test, y_pred))"
      ],
      "execution_count": 38,
      "outputs": [
        {
          "output_type": "stream",
          "text": [
            "--- real values vs predicted values ---\n",
            "   Real_Values  Predicted_Values\n",
            "0            1                 1\n",
            "1            0                 0\n",
            "2            1                 1\n",
            "3            0                 0\n",
            "4            0                 0\n",
            "--- model metrics ---\n",
            "r2 score = 0.8664039727949908\n",
            "model score= 0.9872379216043756\n",
            "model accuracy= 86.64039727949908%\n",
            "--- confusion matrix ---\n",
            "[[150   7]\n",
            " [  2 116]]\n",
            "--- classification report ---\n",
            "              precision    recall  f1-score   support\n",
            "\n",
            "           0       0.99      0.96      0.97       157\n",
            "           1       0.94      0.98      0.96       118\n",
            "\n",
            "    accuracy                           0.97       275\n",
            "   macro avg       0.96      0.97      0.97       275\n",
            "weighted avg       0.97      0.97      0.97       275\n",
            "\n",
            "model accuracy score= 0.9672727272727273\n"
          ],
          "name": "stdout"
        }
      ]
    },
    {
      "cell_type": "code",
      "metadata": {
        "id": "JSa_CfZHQ7QN",
        "colab": {
          "base_uri": "https://localhost:8080/",
          "height": 384
        },
        "outputId": "9eff2945-9adf-4807-bbc0-25dabe1baf8c"
      },
      "source": [
        "### visualize the model prediction accuracy ###\n",
        "import seaborn as sns\n",
        "import matplotlib.pyplot as plt\n",
        "### configure the plot ###\n",
        "ax1 = sns.distplot(y_test, hist=False, color=\"b\", label=\"Actual Values\")\n",
        "sns.distplot(y_pred, hist=False, color=\"r\", label=\"Predicted Values\" , axlabel='Charges', ax=ax1)\n",
        "plt.legend()"
      ],
      "execution_count": 39,
      "outputs": [
        {
          "output_type": "stream",
          "text": [
            "/usr/local/lib/python3.6/dist-packages/seaborn/distributions.py:2557: FutureWarning: `distplot` is a deprecated function and will be removed in a future version. Please adapt your code to use either `displot` (a figure-level function with similar flexibility) or `kdeplot` (an axes-level function for kernel density plots).\n",
            "  warnings.warn(msg, FutureWarning)\n",
            "/usr/local/lib/python3.6/dist-packages/seaborn/distributions.py:2557: FutureWarning: `distplot` is a deprecated function and will be removed in a future version. Please adapt your code to use either `displot` (a figure-level function with similar flexibility) or `kdeplot` (an axes-level function for kernel density plots).\n",
            "  warnings.warn(msg, FutureWarning)\n"
          ],
          "name": "stderr"
        },
        {
          "output_type": "execute_result",
          "data": {
            "text/plain": [
              "<matplotlib.legend.Legend at 0x7f3ccf7694e0>"
            ]
          },
          "metadata": {
            "tags": []
          },
          "execution_count": 39
        },
        {
          "output_type": "display_data",
          "data": {
            "image/png": "[encoded data removed]",
            "text/plain": [
              "<Figure size 432x288 with 1 Axes>"
            ]
          },
          "metadata": {
            "tags": [],
            "needs_background": "light"
          }
        }
      ]
    },
    {
      "cell_type": "markdown",
      "metadata": {
        "id": "31Bb35w0Qkfi"
      },
      "source": [
        "###### RandomSearch CV"
      ]
    },
    {
      "cell_type": "code",
      "metadata": {
        "id": "OOKjlSi4Qi8X",
        "colab": {
          "base_uri": "https://localhost:8080/"
        },
        "outputId": "753af256-8064-475f-a6f9-d5863e1d9f25"
      },
      "source": [
        "### random forest classifier + randomizedsearch CV model ###\n",
        "from sklearn.ensemble import RandomForestClassifier\n",
        "from sklearn.model_selection import RandomizedSearchCV\n",
        "model3 = RandomForestClassifier()\n",
        "param_grid = {  # create the param grid \n",
        "    'n_estimators': [20, 100, 200], # \n",
        "    'max_features': ['auto', 'sqrt', 'log2'], # \n",
        "    'max_leaf_nodes' : [2, 6, 10], # \n",
        "    'max_depth' : [5, 15, 25], # \n",
        "    'min_samples_split' : [2, 10, 15], # \n",
        "    'bootstrap': [True, False], # \n",
        "    'criterion' :['gini', 'entropy'] # \n",
        "    }\n",
        "CV_rfc = RandomizedSearchCV(model3, param_grid, cv=3) \n",
        "%time CV_rfc.fit(X_train, y_train)\n",
        "CV_rfc.best_params_"
      ],
      "execution_count": 40,
      "outputs": [
        {
          "output_type": "stream",
          "text": [
            "CPU times: user 5.21 s, sys: 13 ms, total: 5.22 s\n",
            "Wall time: 5.23 s\n"
          ],
          "name": "stdout"
        },
        {
          "output_type": "execute_result",
          "data": {
            "text/plain": [
              "{'bootstrap': True,\n",
              " 'criterion': 'entropy',\n",
              " 'max_depth': 25,\n",
              " 'max_features': 'auto',\n",
              " 'max_leaf_nodes': 10,\n",
              " 'min_samples_split': 15,\n",
              " 'n_estimators': 100}"
            ]
          },
          "metadata": {
            "tags": []
          },
          "execution_count": 40
        }
      ]
    },
    {
      "cell_type": "code",
      "metadata": {
        "id": "UsLubQOmQ3yl",
        "colab": {
          "base_uri": "https://localhost:8080/"
        },
        "outputId": "f740631e-dfcd-42d9-be51-b463dd4d9a71"
      },
      "source": [
        "### random forest classifier + randomized best params model ###\n",
        "from sklearn.ensemble import RandomForestClassifier\n",
        "from sklearn import metrics\n",
        "model3 = RandomForestClassifier(bootstrap= False,\n",
        "                                criterion= 'entropy',\n",
        "                                max_depth= 25,\n",
        "                                max_features= 'auto',\n",
        "                                max_leaf_nodes= 10,\n",
        "                                min_samples_split= 15,\n",
        "                                n_estimators= 100)\n",
        "model3.fit(X_train, y_train) # fit the data on the model \n",
        "y_pred = model3.predict(X_test) # create the prediction from the poly data \n",
        "#### create data frame of predictions and results ### \n",
        "y_pred_df = pd.DataFrame(y_pred, columns=[\"Predicted_Values\" ]) # create the predicitons data frame \n",
        "y_test_df = pd.DataFrame(np.array(y_test), columns=[\"Real_Values\"]) # create the real values  data frame\n",
        "df_final = pd.concat([y_test_df , y_pred_df] , axis=1) # concat merge the data frames \n",
        "print('--- real values vs predicted values ---') # get the intercept\n",
        "print(df_final.head())\n",
        "### get the model metrics ###\n",
        "print('--- model metrics ---') # get the intercept\n",
        "score = metrics.r2_score(y_test , y_pred) # get the r2 score \n",
        "print(\"r2 score : {}\".format(score)) # show the r2 score\n",
        "print('model score:', model3.score(X_train, y_train)) # show the model score \n",
        "print(\"model accuracy: {}%\".format(score * 100)) # show the model accuracy\n",
        "print('--- confusion matrix ---')\n",
        "print(metrics.confusion_matrix(y_test,y_pred))\n",
        "print('--- classification report ---') \n",
        "print(metrics.classification_report(y_test,y_pred))\n",
        "print('model accuracy score:', metrics.accuracy_score(y_test, y_pred))"
      ],
      "execution_count": 41,
      "outputs": [
        {
          "output_type": "stream",
          "text": [
            "--- real values vs predicted values ---\n",
            "   Real_Values  Predicted_Values\n",
            "0            1                 1\n",
            "1            0                 0\n",
            "2            1                 1\n",
            "3            0                 0\n",
            "4            0                 0\n",
            "--- model metrics ---\n",
            "r2 score : 0.8960919788405485\n",
            "model score: 0.9927073837739289\n",
            "model accuracy: 89.60919788405485%\n",
            "--- confusion matrix ---\n",
            "[[152   5]\n",
            " [  2 116]]\n",
            "--- classification report ---\n",
            "              precision    recall  f1-score   support\n",
            "\n",
            "           0       0.99      0.97      0.98       157\n",
            "           1       0.96      0.98      0.97       118\n",
            "\n",
            "    accuracy                           0.97       275\n",
            "   macro avg       0.97      0.98      0.97       275\n",
            "weighted avg       0.97      0.97      0.97       275\n",
            "\n",
            "model accuracy score: 0.9745454545454545\n"
          ],
          "name": "stdout"
        }
      ]
    },
    {
      "cell_type": "code",
      "metadata": {
        "id": "NOMVuikON_o_",
        "colab": {
          "base_uri": "https://localhost:8080/",
          "height": 384
        },
        "outputId": "16971449-0bfe-44bd-cf2b-9fa57ebfdf84"
      },
      "source": [
        "### visualize the model prediction accuracy ###\n",
        "import seaborn as sns\n",
        "import matplotlib.pyplot as plt\n",
        "### configure the plot ###\n",
        "ax1 = sns.distplot(y_test, hist=False, color=\"b\", label=\"Actual Values\")\n",
        "sns.distplot(y_pred, hist=False, color=\"r\", label=\"Predicted Values\" , axlabel='Charges', ax=ax1)\n",
        "plt.legend()"
      ],
      "execution_count": 42,
      "outputs": [
        {
          "output_type": "stream",
          "text": [
            "/usr/local/lib/python3.6/dist-packages/seaborn/distributions.py:2557: FutureWarning: `distplot` is a deprecated function and will be removed in a future version. Please adapt your code to use either `displot` (a figure-level function with similar flexibility) or `kdeplot` (an axes-level function for kernel density plots).\n",
            "  warnings.warn(msg, FutureWarning)\n",
            "/usr/local/lib/python3.6/dist-packages/seaborn/distributions.py:2557: FutureWarning: `distplot` is a deprecated function and will be removed in a future version. Please adapt your code to use either `displot` (a figure-level function with similar flexibility) or `kdeplot` (an axes-level function for kernel density plots).\n",
            "  warnings.warn(msg, FutureWarning)\n"
          ],
          "name": "stderr"
        },
        {
          "output_type": "execute_result",
          "data": {
            "text/plain": [
              "<matplotlib.legend.Legend at 0x7f3cd4ddc6d8>"
            ]
          },
          "metadata": {
            "tags": []
          },
          "execution_count": 42
        },
        {
          "output_type": "display_data",
          "data": {
            "image/png": "[encoded data removed]",
            "text/plain": [
              "<Figure size 432x288 with 1 Axes>"
            ]
          },
          "metadata": {
            "tags": [],
            "needs_background": "light"
          }
        }
      ]
    }
  ]
}